{
 "cells": [
  {
   "cell_type": "code",
   "execution_count": 1,
   "id": "ef5da553",
   "metadata": {},
   "outputs": [],
   "source": [
    "import numpy as np\n",
    "from mastermind import mastermind\n",
    "from q_agent import q_agent"
   ]
  },
  {
   "cell_type": "code",
   "execution_count": 2,
   "id": "32ea337e",
   "metadata": {},
   "outputs": [
    {
     "name": "stdout",
     "output_type": "stream",
     "text": [
      "[['0' ' ' ' ' ' ' ' ' '0']\n",
      " ['0' ' ' ' ' ' ' ' ' '0']\n",
      " ['0' ' ' ' ' ' ' ' ' '0']\n",
      " ['0' ' ' ' ' ' ' ' ' '0']\n",
      " ['0' ' ' ' ' ' ' ' ' '0']\n",
      " ['0' ' ' ' ' ' ' ' ' '0']\n",
      " ['0' ' ' ' ' ' ' ' ' '0']\n",
      " ['0' ' ' ' ' ' ' ' ' '0']\n",
      " ['0' ' ' ' ' ' ' ' ' '0']\n",
      " ['0' ' ' ' ' ' ' ' ' '0']\n",
      " ['0' ' ' ' ' ' ' ' ' '0']\n",
      " ['0' ' ' ' ' ' ' ' ' '0']]\n"
     ]
    }
   ],
   "source": [
    "env = mastermind('guess')\n",
    "env.reset()\n",
    "env.render()"
   ]
  },
  {
   "cell_type": "code",
   "execution_count": 6,
   "id": "919bc53a",
   "metadata": {
    "scrolled": true
   },
   "outputs": [
    {
     "name": "stdout",
     "output_type": "stream",
     "text": [
      "['W' 'G' 'B' 'P']\n",
      "\n",
      "[['0' ' ' ' ' ' ' ' ' '0']\n",
      " ['0' ' ' ' ' ' ' ' ' '0']\n",
      " ['0' ' ' ' ' ' ' ' ' '0']\n",
      " ['0' ' ' ' ' ' ' ' ' '0']\n",
      " ['0' ' ' ' ' ' ' ' ' '0']\n",
      " ['0' ' ' ' ' ' ' ' ' '0']\n",
      " ['0' ' ' ' ' ' ' ' ' '0']\n",
      " ['0' ' ' ' ' ' ' ' ' '0']\n",
      " ['0' ' ' ' ' ' ' ' ' '0']\n",
      " ['1' 'R' 'W' 'W' 'P' '1']\n",
      " ['2' 'B' 'P' 'R' 'R' '0']\n",
      " ['0' 'R' 'R' 'R' 'R' '0']]\n",
      "\n"
     ]
    }
   ],
   "source": [
    "print(env.goal_render)\n",
    "print()\n",
    "\n",
    "guess = np.random.randint(0, 8, 4)\n",
    "\n",
    "env.step(800)\n",
    "\n",
    "# for i in guess:\n",
    "\n",
    "#     env.step(i)\n",
    "    \n",
    "env.render()\n",
    "print()"
   ]
  },
  {
   "cell_type": "code",
   "execution_count": null,
   "id": "1a88defe",
   "metadata": {},
   "outputs": [],
   "source": []
  },
  {
   "cell_type": "code",
   "execution_count": null,
   "id": "efda1416",
   "metadata": {},
   "outputs": [],
   "source": [
    "# State : Board\n",
    "# Action : Play a guess \n",
    "# Reward : ??\n",
    "# Transition dynamics : Normal stuff\n"
   ]
  },
  {
   "cell_type": "markdown",
   "id": "0a0baf2e",
   "metadata": {},
   "source": [
    "# Training"
   ]
  },
  {
   "cell_type": "code",
   "execution_count": 3,
   "id": "6cbf4467",
   "metadata": {},
   "outputs": [
    {
     "name": "stderr",
     "output_type": "stream",
     "text": [
      "  0%|                                                                                     | 0/10000000 [00:00<?, ?it/s]C:\\Users\\djeb20\\Anaconda3\\lib\\site-packages\\numpy\\core\\_methods.py:230: RuntimeWarning: invalid value encountered in subtract\n",
      "  x = asanyarray(arr - arrmean)\n",
      "  0%|                                                                        | 50/10000000 [00:00<11:23:57, 243.68it/s]"
     ]
    },
    {
     "name": "stdout",
     "output_type": "stream",
     "text": [
      "\n",
      "Average td error: 1.0000, STD of STD: nan, Average ret: -48.00, Average steps: 12.00, Num_states: 48\n"
     ]
    },
    {
     "name": "stderr",
     "output_type": "stream",
     "text": [
      "  0%|                                                                      | 1039/10000000 [00:04<12:18:24, 225.69it/s]"
     ]
    },
    {
     "name": "stdout",
     "output_type": "stream",
     "text": [
      "\n",
      "Average td error: 0.9577, STD of STD: 0.00024120240173078068, Average ret: -47.88, Average steps: 11.99, Num_states: 44600\n"
     ]
    },
    {
     "name": "stderr",
     "output_type": "stream",
     "text": [
      "  0%|                                                                      | 2030/10000000 [00:08<11:48:17, 235.26it/s]"
     ]
    },
    {
     "name": "stdout",
     "output_type": "stream",
     "text": [
      "\n",
      "Average td error: 0.9510, STD of STD: 9.622111294534126e-05, Average ret: -47.88, Average steps: 11.98, Num_states: 88524\n"
     ]
    },
    {
     "name": "stderr",
     "output_type": "stream",
     "text": [
      "  0%|                                                                      | 3049/10000000 [00:12<11:23:13, 243.87it/s]"
     ]
    },
    {
     "name": "stdout",
     "output_type": "stream",
     "text": [
      "\n",
      "Average td error: 0.9469, STD of STD: 8.96646956772374e-05, Average ret: -47.78, Average steps: 11.98, Num_states: 132437\n"
     ]
    },
    {
     "name": "stderr",
     "output_type": "stream",
     "text": [
      "  0%|                                                                      | 4036/10000000 [00:16<12:27:08, 222.98it/s]"
     ]
    },
    {
     "name": "stdout",
     "output_type": "stream",
     "text": [
      "\n",
      "Average td error: 0.9446, STD of STD: 7.734067073014088e-05, Average ret: -47.76, Average steps: 11.98, Num_states: 176316\n"
     ]
    },
    {
     "name": "stderr",
     "output_type": "stream",
     "text": [
      "  0%|                                                                      | 5030/10000000 [00:20<10:42:29, 259.27it/s]"
     ]
    },
    {
     "name": "stdout",
     "output_type": "stream",
     "text": [
      "\n",
      "Average td error: 0.9426, STD of STD: 6.34625798281603e-05, Average ret: -47.84, Average steps: 11.98, Num_states: 219694\n"
     ]
    },
    {
     "name": "stderr",
     "output_type": "stream",
     "text": [
      "  0%|                                                                      | 6040/10000000 [00:25<14:27:08, 192.09it/s]"
     ]
    },
    {
     "name": "stdout",
     "output_type": "stream",
     "text": [
      "\n",
      "Average td error: 0.9401, STD of STD: 4.086088202936058e-05, Average ret: -48.00, Average steps: 12.00, Num_states: 263047\n"
     ]
    },
    {
     "name": "stderr",
     "output_type": "stream",
     "text": [
      "  0%|                                                                      | 7039/10000000 [00:29<12:28:31, 222.51it/s]"
     ]
    },
    {
     "name": "stdout",
     "output_type": "stream",
     "text": [
      "\n",
      "Average td error: 0.9388, STD of STD: 3.012282234718154e-05, Average ret: -47.93, Average steps: 11.99, Num_states: 306358\n"
     ]
    },
    {
     "name": "stderr",
     "output_type": "stream",
     "text": [
      "  0%|                                                                      | 8039/10000000 [00:34<12:33:53, 220.90it/s]"
     ]
    },
    {
     "name": "stdout",
     "output_type": "stream",
     "text": [
      "\n",
      "Average td error: 0.9377, STD of STD: 2.509009032041916e-05, Average ret: -47.90, Average steps: 11.99, Num_states: 349650\n"
     ]
    },
    {
     "name": "stderr",
     "output_type": "stream",
     "text": [
      "  0%|                                                                      | 9033/10000000 [00:38<11:56:11, 232.50it/s]"
     ]
    },
    {
     "name": "stdout",
     "output_type": "stream",
     "text": [
      "\n",
      "Average td error: 0.9370, STD of STD: 2.497607297107249e-05, Average ret: -47.86, Average steps: 11.99, Num_states: 392829\n"
     ]
    },
    {
     "name": "stderr",
     "output_type": "stream",
     "text": [
      "  0%|                                                                     | 10040/10000000 [00:42<12:02:23, 230.48it/s]"
     ]
    },
    {
     "name": "stdout",
     "output_type": "stream",
     "text": [
      "\n",
      "Average td error: 0.9355, STD of STD: 1.9866157394879044e-05, Average ret: -47.94, Average steps: 11.99, Num_states: 435952\n"
     ]
    },
    {
     "name": "stderr",
     "output_type": "stream",
     "text": [
      "  0%|                                                                     | 11030/10000000 [00:47<12:22:10, 224.32it/s]"
     ]
    },
    {
     "name": "stdout",
     "output_type": "stream",
     "text": [
      "\n",
      "Average td error: 0.9346, STD of STD: 1.802911297137378e-05, Average ret: -47.80, Average steps: 11.97, Num_states: 479016\n"
     ]
    },
    {
     "name": "stderr",
     "output_type": "stream",
     "text": [
      "  0%|                                                                      | 12078/10000000 [00:51<8:52:14, 312.76it/s]"
     ]
    },
    {
     "name": "stdout",
     "output_type": "stream",
     "text": [
      "\n",
      "Average td error: 0.9550, STD of STD: 8.090650185732699e-05, Average ret: -47.76, Average steps: 11.97, Num_states: 522083\n"
     ]
    },
    {
     "name": "stderr",
     "output_type": "stream",
     "text": [
      "  0%|                                                                      | 13039/10000000 [00:53<9:31:40, 291.16it/s]"
     ]
    },
    {
     "name": "stdout",
     "output_type": "stream",
     "text": [
      "\n",
      "Average td error: 1.5461, STD of STD: 0.0038200649143519385, Average ret: -16.32, Average steps: 7.30, Num_states: 545957\n"
     ]
    },
    {
     "name": "stderr",
     "output_type": "stream",
     "text": [
      "  0%|                                                                      | 14044/10000000 [00:56<7:04:58, 391.63it/s]"
     ]
    },
    {
     "name": "stdout",
     "output_type": "stream",
     "text": [
      "\n",
      "Average td error: 1.3522, STD of STD: 0.0029892834330434766, Average ret: -16.99, Average steps: 7.39, Num_states: 569769\n"
     ]
    },
    {
     "name": "stderr",
     "output_type": "stream",
     "text": [
      "  0%|                                                                      | 15075/10000000 [00:59<8:10:46, 339.09it/s]"
     ]
    },
    {
     "name": "stdout",
     "output_type": "stream",
     "text": [
      "\n",
      "Average td error: 1.4277, STD of STD: 0.002911426076563197, Average ret: -17.19, Average steps: 7.42, Num_states: 593614\n"
     ]
    },
    {
     "name": "stderr",
     "output_type": "stream",
     "text": [
      "  0%|                                                                      | 16038/10000000 [01:02<6:39:42, 416.30it/s]"
     ]
    },
    {
     "name": "stdout",
     "output_type": "stream",
     "text": [
      "\n",
      "Average td error: 1.5557, STD of STD: 0.0025899128688787, Average ret: -15.40, Average steps: 7.16, Num_states: 616406\n"
     ]
    },
    {
     "name": "stderr",
     "output_type": "stream",
     "text": [
      "  0%|                                                                     | 17049/10000000 [01:06<11:27:21, 242.06it/s]"
     ]
    },
    {
     "name": "stdout",
     "output_type": "stream",
     "text": [
      "\n",
      "Average td error: 0.9333, STD of STD: 0.0005007308972349858, Average ret: -44.60, Average steps: 11.50, Num_states: 657377\n"
     ]
    },
    {
     "name": "stderr",
     "output_type": "stream",
     "text": [
      "  0%|                                                                     | 18026/10000000 [01:10<11:31:55, 240.44it/s]"
     ]
    },
    {
     "name": "stdout",
     "output_type": "stream",
     "text": [
      "\n",
      "Average td error: 0.9321, STD of STD: 0.0004418301369487575, Average ret: -47.90, Average steps: 11.99, Num_states: 700411\n"
     ]
    },
    {
     "name": "stderr",
     "output_type": "stream",
     "text": [
      "  0%|▏                                                                    | 19022/10000000 [01:14<11:36:47, 238.74it/s]"
     ]
    },
    {
     "name": "stdout",
     "output_type": "stream",
     "text": [
      "\n",
      "Average td error: 0.9315, STD of STD: 0.0003937430734970686, Average ret: -47.80, Average steps: 11.98, Num_states: 743419\n"
     ]
    },
    {
     "name": "stderr",
     "output_type": "stream",
     "text": [
      "  0%|▏                                                                    | 20028/10000000 [01:18<10:56:01, 253.54it/s]"
     ]
    },
    {
     "name": "stdout",
     "output_type": "stream",
     "text": [
      "\n",
      "Average td error: 0.9310, STD of STD: 0.00035205085481704703, Average ret: -48.00, Average steps: 12.00, Num_states: 786490\n"
     ]
    },
    {
     "name": "stderr",
     "output_type": "stream",
     "text": [
      "  0%|▏                                                                    | 21025/10000000 [01:22<11:39:52, 237.63it/s]"
     ]
    },
    {
     "name": "stdout",
     "output_type": "stream",
     "text": [
      "\n",
      "Average td error: 0.9306, STD of STD: 0.00031823352751286397, Average ret: -47.75, Average steps: 11.97, Num_states: 829399\n"
     ]
    },
    {
     "name": "stderr",
     "output_type": "stream",
     "text": [
      "  0%|▏                                                                     | 22053/10000000 [01:26<8:01:35, 345.31it/s]"
     ]
    },
    {
     "name": "stdout",
     "output_type": "stream",
     "text": [
      "\n",
      "Average td error: 1.3873, STD of STD: 0.0017654730673492263, Average ret: -32.31, Average steps: 9.67, Num_states: 862896\n"
     ]
    },
    {
     "name": "stderr",
     "output_type": "stream",
     "text": [
      "  0%|▏                                                                     | 23053/10000000 [01:28<7:13:04, 383.96it/s]"
     ]
    },
    {
     "name": "stdout",
     "output_type": "stream",
     "text": [
      "\n",
      "Average td error: 1.3802, STD of STD: 0.0015247983642243234, Average ret: -17.12, Average steps: 7.41, Num_states: 886967\n"
     ]
    },
    {
     "name": "stderr",
     "output_type": "stream",
     "text": [
      "  0%|▏                                                                    | 24035/10000000 [01:32<11:44:30, 236.00it/s]"
     ]
    },
    {
     "name": "stdout",
     "output_type": "stream",
     "text": [
      "\n",
      "Average td error: 0.9296, STD of STD: 0.00036472151077858537, Average ret: -37.15, Average steps: 10.39, Num_states: 923202\n"
     ]
    },
    {
     "name": "stderr",
     "output_type": "stream",
     "text": [
      "  0%|▏                                                                    | 25019/10000000 [01:36<13:41:06, 202.47it/s]"
     ]
    },
    {
     "name": "stdout",
     "output_type": "stream",
     "text": [
      "\n",
      "Average td error: 0.9291, STD of STD: 0.00033385780487404535, Average ret: -47.81, Average steps: 11.97, Num_states: 966136\n"
     ]
    },
    {
     "name": "stderr",
     "output_type": "stream",
     "text": [
      "  0%|▏                                                                    | 26035/10000000 [01:41<13:53:48, 199.37it/s]"
     ]
    },
    {
     "name": "stdout",
     "output_type": "stream",
     "text": [
      "\n",
      "Average td error: 0.9287, STD of STD: 0.0003069730265792161, Average ret: -47.85, Average steps: 11.98, Num_states: 1009092\n"
     ]
    },
    {
     "name": "stderr",
     "output_type": "stream",
     "text": [
      "  0%|▏                                                                    | 27025/10000000 [01:46<12:35:46, 219.93it/s]"
     ]
    },
    {
     "name": "stdout",
     "output_type": "stream",
     "text": [
      "\n",
      "Average td error: 0.9281, STD of STD: 0.0002833213703054623, Average ret: -47.80, Average steps: 11.98, Num_states: 1052021\n"
     ]
    },
    {
     "name": "stderr",
     "output_type": "stream",
     "text": [
      "  0%|▏                                                                    | 28027/10000000 [01:50<12:29:35, 221.72it/s]"
     ]
    },
    {
     "name": "stdout",
     "output_type": "stream",
     "text": [
      "\n",
      "Average td error: 0.9277, STD of STD: 0.00026200969396798605, Average ret: -47.88, Average steps: 11.99, Num_states: 1094980\n"
     ]
    },
    {
     "name": "stderr",
     "output_type": "stream",
     "text": [
      "  0%|▏                                                                    | 29020/10000000 [01:55<14:36:39, 189.56it/s]"
     ]
    },
    {
     "name": "stdout",
     "output_type": "stream",
     "text": [
      "\n",
      "Average td error: 0.9273, STD of STD: 0.0002429672125863086, Average ret: -47.89, Average steps: 11.99, Num_states: 1137928\n"
     ]
    },
    {
     "name": "stderr",
     "output_type": "stream",
     "text": [
      "  0%|▏                                                                    | 30024/10000000 [02:00<15:40:51, 176.61it/s]"
     ]
    },
    {
     "name": "stdout",
     "output_type": "stream",
     "text": [
      "\n",
      "Average td error: 0.9270, STD of STD: 0.0002260909963773015, Average ret: -47.92, Average steps: 11.99, Num_states: 1180906\n"
     ]
    },
    {
     "name": "stderr",
     "output_type": "stream",
     "text": [
      "  0%|▏                                                                    | 31031/10000000 [02:06<13:42:22, 202.04it/s]"
     ]
    },
    {
     "name": "stdout",
     "output_type": "stream",
     "text": [
      "\n",
      "Average td error: 0.9264, STD of STD: 0.00021081287154900668, Average ret: -47.92, Average steps: 11.99, Num_states: 1223866\n"
     ]
    },
    {
     "name": "stderr",
     "output_type": "stream",
     "text": [
      "  0%|▏                                                                    | 32027/10000000 [02:10<11:24:38, 242.66it/s]"
     ]
    },
    {
     "name": "stdout",
     "output_type": "stream",
     "text": [
      "\n",
      "Average td error: 0.9261, STD of STD: 0.00019709002338980252, Average ret: -47.83, Average steps: 11.98, Num_states: 1266776\n"
     ]
    },
    {
     "name": "stderr",
     "output_type": "stream",
     "text": [
      "  0%|▏                                                                    | 33023/10000000 [02:14<12:27:36, 222.20it/s]"
     ]
    },
    {
     "name": "stdout",
     "output_type": "stream",
     "text": [
      "\n",
      "Average td error: 0.9258, STD of STD: 0.0001844935681577934, Average ret: -47.97, Average steps: 12.00, Num_states: 1309763\n"
     ]
    },
    {
     "name": "stderr",
     "output_type": "stream",
     "text": [
      "  0%|▏                                                                    | 34030/10000000 [02:19<13:08:03, 210.77it/s]"
     ]
    },
    {
     "name": "stdout",
     "output_type": "stream",
     "text": [
      "\n",
      "Average td error: 0.9256, STD of STD: 0.00017304978590766497, Average ret: -48.00, Average steps: 12.00, Num_states: 1352744\n"
     ]
    },
    {
     "name": "stderr",
     "output_type": "stream",
     "text": [
      "  0%|▏                                                                    | 35024/10000000 [02:24<13:01:33, 212.50it/s]"
     ]
    },
    {
     "name": "stdout",
     "output_type": "stream",
     "text": [
      "\n",
      "Average td error: 0.9253, STD of STD: 0.00016275940581112714, Average ret: -47.95, Average steps: 11.99, Num_states: 1395698\n"
     ]
    },
    {
     "name": "stderr",
     "output_type": "stream",
     "text": [
      "  0%|▏                                                                    | 36034/10000000 [02:29<12:23:56, 223.22it/s]"
     ]
    },
    {
     "name": "stdout",
     "output_type": "stream",
     "text": [
      "\n",
      "Average td error: 0.9247, STD of STD: 0.0001535015809289525, Average ret: -47.76, Average steps: 11.97, Num_states: 1438551\n"
     ]
    },
    {
     "name": "stderr",
     "output_type": "stream",
     "text": [
      "  0%|▎                                                                    | 37035/10000000 [02:34<11:50:53, 233.58it/s]"
     ]
    },
    {
     "name": "stdout",
     "output_type": "stream",
     "text": [
      "\n",
      "Average td error: 0.9244, STD of STD: 0.00014484872857118778, Average ret: -47.91, Average steps: 11.99, Num_states: 1481498\n"
     ]
    },
    {
     "name": "stderr",
     "output_type": "stream",
     "text": [
      "  0%|▎                                                                    | 38044/10000000 [02:38<12:29:36, 221.49it/s]"
     ]
    },
    {
     "name": "stdout",
     "output_type": "stream",
     "text": [
      "\n",
      "Average td error: 0.9243, STD of STD: 0.00013697571115782494, Average ret: -47.97, Average steps: 12.00, Num_states: 1524441\n"
     ]
    },
    {
     "name": "stderr",
     "output_type": "stream",
     "text": [
      "  0%|▎                                                                    | 39041/10000000 [02:42<10:55:36, 253.23it/s]"
     ]
    },
    {
     "name": "stdout",
     "output_type": "stream",
     "text": [
      "\n",
      "Average td error: 0.9243, STD of STD: 0.00012981899532581325, Average ret: -47.93, Average steps: 12.00, Num_states: 1567177\n"
     ]
    },
    {
     "name": "stderr",
     "output_type": "stream",
     "text": [
      "  0%|▎                                                                    | 40036/10000000 [02:46<13:40:37, 202.28it/s]"
     ]
    },
    {
     "name": "stdout",
     "output_type": "stream",
     "text": [
      "\n",
      "Average td error: 0.9238, STD of STD: 0.0001233246690915013, Average ret: -47.95, Average steps: 11.99, Num_states: 1609900\n"
     ]
    },
    {
     "name": "stderr",
     "output_type": "stream",
     "text": [
      "  0%|▎                                                                    | 41021/10000000 [02:51<12:07:50, 228.05it/s]"
     ]
    },
    {
     "name": "stdout",
     "output_type": "stream",
     "text": [
      "\n",
      "Average td error: 0.9235, STD of STD: 0.00011688971684378018, Average ret: -47.82, Average steps: 11.99, Num_states: 1652554\n"
     ]
    },
    {
     "name": "stderr",
     "output_type": "stream",
     "text": [
      "  0%|▎                                                                    | 42053/10000000 [02:55<11:28:46, 240.96it/s]"
     ]
    },
    {
     "name": "stdout",
     "output_type": "stream",
     "text": [
      "\n",
      "Average td error: 0.9236, STD of STD: 0.0001114589980570924, Average ret: -47.82, Average steps: 11.99, Num_states: 1695219\n"
     ]
    },
    {
     "name": "stderr",
     "output_type": "stream",
     "text": [
      "  0%|▎                                                                    | 43041/10000000 [03:00<11:50:22, 233.61it/s]"
     ]
    },
    {
     "name": "stdout",
     "output_type": "stream",
     "text": [
      "\n",
      "Average td error: 0.9233, STD of STD: 0.00010600046413004049, Average ret: -47.92, Average steps: 11.99, Num_states: 1738047\n"
     ]
    },
    {
     "name": "stderr",
     "output_type": "stream",
     "text": [
      "  0%|▎                                                                    | 44023/10000000 [03:04<11:47:23, 234.57it/s]"
     ]
    },
    {
     "name": "stdout",
     "output_type": "stream",
     "text": [
      "\n",
      "Average td error: 0.9230, STD of STD: 0.00010111417459178887, Average ret: -47.86, Average steps: 11.99, Num_states: 1780855\n"
     ]
    },
    {
     "name": "stderr",
     "output_type": "stream",
     "text": [
      "  0%|▎                                                                    | 45042/10000000 [03:08<11:42:20, 236.23it/s]"
     ]
    },
    {
     "name": "stdout",
     "output_type": "stream",
     "text": [
      "\n",
      "Average td error: 0.9226, STD of STD: 9.655039792783931e-05, Average ret: -47.83, Average steps: 11.98, Num_states: 1823677\n"
     ]
    },
    {
     "name": "stderr",
     "output_type": "stream",
     "text": [
      "  0%|▎                                                                    | 46027/10000000 [03:13<11:39:28, 237.18it/s]"
     ]
    },
    {
     "name": "stdout",
     "output_type": "stream",
     "text": [
      "\n",
      "Average td error: 0.9469, STD of STD: 0.000105379255497213, Average ret: -47.96, Average steps: 12.00, Num_states: 1866534\n"
     ]
    },
    {
     "name": "stderr",
     "output_type": "stream",
     "text": [
      "  0%|▎                                                                    | 47044/10000000 [03:17<12:11:54, 226.64it/s]"
     ]
    },
    {
     "name": "stdout",
     "output_type": "stream",
     "text": [
      "\n",
      "Average td error: 0.9226, STD of STD: 8.851585798139219e-05, Average ret: -47.85, Average steps: 11.99, Num_states: 1909177\n"
     ]
    },
    {
     "name": "stderr",
     "output_type": "stream",
     "text": [
      "  0%|▎                                                                    | 48040/10000000 [03:22<11:50:01, 233.61it/s]"
     ]
    },
    {
     "name": "stdout",
     "output_type": "stream",
     "text": [
      "\n",
      "Average td error: 0.9222, STD of STD: 8.446248125199533e-05, Average ret: -48.00, Average steps: 12.00, Num_states: 1951875\n"
     ]
    },
    {
     "name": "stderr",
     "output_type": "stream",
     "text": [
      "  0%|▎                                                                    | 49045/10000000 [03:26<11:17:49, 244.68it/s]"
     ]
    },
    {
     "name": "stdout",
     "output_type": "stream",
     "text": [
      "\n",
      "Average td error: 0.9223, STD of STD: 8.089269511207274e-05, Average ret: -48.00, Average steps: 12.00, Num_states: 1994566\n"
     ]
    },
    {
     "name": "stderr",
     "output_type": "stream",
     "text": [
      "  1%|▎                                                                    | 50041/10000000 [03:30<11:47:09, 234.51it/s]"
     ]
    },
    {
     "name": "stdout",
     "output_type": "stream",
     "text": [
      "\n",
      "Average td error: 0.9220, STD of STD: 7.762754718486858e-05, Average ret: -47.90, Average steps: 11.99, Num_states: 2037269\n"
     ]
    },
    {
     "name": "stderr",
     "output_type": "stream",
     "text": [
      "  1%|▎                                                                    | 51032/10000000 [03:35<15:42:40, 175.90it/s]"
     ]
    },
    {
     "name": "stdout",
     "output_type": "stream",
     "text": [
      "\n",
      "Average td error: 0.9218, STD of STD: 7.442945555238556e-05, Average ret: -47.90, Average steps: 11.99, Num_states: 2080091\n"
     ]
    },
    {
     "name": "stderr",
     "output_type": "stream",
     "text": [
      "  1%|▎                                                                    | 52037/10000000 [03:40<11:58:16, 230.83it/s]"
     ]
    },
    {
     "name": "stdout",
     "output_type": "stream",
     "text": [
      "\n",
      "Average td error: 0.9217, STD of STD: 7.173813824841697e-05, Average ret: -47.71, Average steps: 11.98, Num_states: 2122864\n"
     ]
    },
    {
     "name": "stderr",
     "output_type": "stream",
     "text": [
      "  1%|▎                                                                    | 53030/10000000 [03:44<11:47:42, 234.25it/s]"
     ]
    },
    {
     "name": "stdout",
     "output_type": "stream",
     "text": [
      "\n",
      "Average td error: 0.9215, STD of STD: 6.91773391864468e-05, Average ret: -47.77, Average steps: 11.98, Num_states: 2165565\n"
     ]
    },
    {
     "name": "stderr",
     "output_type": "stream",
     "text": [
      "  1%|▎                                                                    | 54024/10000000 [03:49<12:30:19, 220.93it/s]"
     ]
    },
    {
     "name": "stdout",
     "output_type": "stream",
     "text": [
      "\n",
      "Average td error: 0.9216, STD of STD: 6.650978593058061e-05, Average ret: -47.93, Average steps: 11.99, Num_states: 2208292\n"
     ]
    },
    {
     "name": "stderr",
     "output_type": "stream",
     "text": [
      "  1%|▍                                                                    | 55039/10000000 [03:53<12:18:46, 224.36it/s]"
     ]
    },
    {
     "name": "stdout",
     "output_type": "stream",
     "text": [
      "\n",
      "Average td error: 0.9215, STD of STD: 6.415167312577181e-05, Average ret: -47.83, Average steps: 11.98, Num_states: 2250983\n"
     ]
    },
    {
     "name": "stderr",
     "output_type": "stream",
     "text": [
      "  1%|▍                                                                    | 56029/10000000 [03:58<12:18:52, 224.30it/s]"
     ]
    },
    {
     "name": "stdout",
     "output_type": "stream",
     "text": [
      "\n",
      "Average td error: 0.9214, STD of STD: 6.191492757507646e-05, Average ret: -47.81, Average steps: 11.98, Num_states: 2293650\n"
     ]
    },
    {
     "name": "stderr",
     "output_type": "stream",
     "text": [
      "  1%|▍                                                                    | 57030/10000000 [04:02<12:54:26, 213.98it/s]"
     ]
    },
    {
     "name": "stdout",
     "output_type": "stream",
     "text": [
      "\n",
      "Average td error: 0.9213, STD of STD: 5.982091493528429e-05, Average ret: -47.90, Average steps: 11.99, Num_states: 2336275\n"
     ]
    },
    {
     "name": "stderr",
     "output_type": "stream",
     "text": [
      "  1%|▍                                                                    | 58035/10000000 [04:07<12:19:03, 224.20it/s]"
     ]
    },
    {
     "name": "stdout",
     "output_type": "stream",
     "text": [
      "\n",
      "Average td error: 0.9210, STD of STD: 5.796281166030282e-05, Average ret: -47.77, Average steps: 11.97, Num_states: 2378787\n"
     ]
    },
    {
     "name": "stderr",
     "output_type": "stream",
     "text": [
      "  1%|▍                                                                    | 59037/10000000 [04:12<12:20:21, 223.79it/s]"
     ]
    },
    {
     "name": "stdout",
     "output_type": "stream",
     "text": [
      "\n",
      "Average td error: 0.9211, STD of STD: 5.603234897984129e-05, Average ret: -47.82, Average steps: 11.98, Num_states: 2421221\n"
     ]
    },
    {
     "name": "stderr",
     "output_type": "stream",
     "text": [
      "  1%|▍                                                                    | 60032/10000000 [04:16<11:10:44, 246.99it/s]"
     ]
    },
    {
     "name": "stdout",
     "output_type": "stream",
     "text": [
      "\n",
      "Average td error: 0.9208, STD of STD: 5.4273327020260155e-05, Average ret: -47.94, Average steps: 11.99, Num_states: 2463685\n"
     ]
    },
    {
     "name": "stderr",
     "output_type": "stream",
     "text": [
      "  1%|▍                                                                    | 61048/10000000 [04:21<11:10:27, 247.07it/s]"
     ]
    },
    {
     "name": "stdout",
     "output_type": "stream",
     "text": [
      "\n",
      "Average td error: 0.9209, STD of STD: 5.236749504518978e-05, Average ret: -47.91, Average steps: 11.99, Num_states: 2506084\n"
     ]
    },
    {
     "name": "stderr",
     "output_type": "stream",
     "text": [
      "  1%|▍                                                                    | 62023/10000000 [04:26<17:45:43, 155.42it/s]"
     ]
    },
    {
     "name": "stdout",
     "output_type": "stream",
     "text": [
      "\n",
      "Average td error: 0.9204, STD of STD: 5.0732709657822715e-05, Average ret: -47.91, Average steps: 11.99, Num_states: 2548461\n"
     ]
    },
    {
     "name": "stderr",
     "output_type": "stream",
     "text": [
      "  1%|▍                                                                    | 63020/10000000 [04:32<15:56:49, 173.09it/s]"
     ]
    },
    {
     "name": "stdout",
     "output_type": "stream",
     "text": [
      "\n",
      "Average td error: 0.9207, STD of STD: 4.9284409028720844e-05, Average ret: -47.76, Average steps: 11.98, Num_states: 2590677\n"
     ]
    },
    {
     "name": "stderr",
     "output_type": "stream",
     "text": [
      "  1%|▍                                                                    | 64019/10000000 [04:37<15:26:40, 178.70it/s]"
     ]
    },
    {
     "name": "stdout",
     "output_type": "stream",
     "text": [
      "\n",
      "Average td error: 0.9202, STD of STD: 4.782632675873287e-05, Average ret: -47.69, Average steps: 11.97, Num_states: 2632903\n"
     ]
    },
    {
     "name": "stderr",
     "output_type": "stream",
     "text": [
      "  1%|▍                                                                    | 65044/10000000 [04:42<11:11:43, 246.50it/s]"
     ]
    },
    {
     "name": "stdout",
     "output_type": "stream",
     "text": [
      "\n",
      "Average td error: 0.9204, STD of STD: 4.627029663723192e-05, Average ret: -48.00, Average steps: 12.00, Num_states: 2675230\n"
     ]
    },
    {
     "name": "stderr",
     "output_type": "stream",
     "text": [
      "  1%|▍                                                                    | 66025/10000000 [04:47<12:59:46, 212.32it/s]"
     ]
    },
    {
     "name": "stdout",
     "output_type": "stream",
     "text": [
      "\n",
      "Average td error: 0.9202, STD of STD: 4.4944958061170743e-05, Average ret: -47.95, Average steps: 11.99, Num_states: 2717459\n"
     ]
    },
    {
     "name": "stderr",
     "output_type": "stream",
     "text": [
      "  1%|▍                                                                    | 67022/10000000 [04:51<10:56:02, 252.34it/s]"
     ]
    },
    {
     "name": "stdout",
     "output_type": "stream",
     "text": [
      "\n",
      "Average td error: 0.9197, STD of STD: 4.358355682640229e-05, Average ret: -47.83, Average steps: 11.98, Num_states: 2759623\n"
     ]
    },
    {
     "name": "stderr",
     "output_type": "stream",
     "text": [
      "  1%|▍                                                                    | 68020/10000000 [04:55<13:36:35, 202.71it/s]"
     ]
    },
    {
     "name": "stdout",
     "output_type": "stream",
     "text": [
      "\n",
      "Average td error: 0.9201, STD of STD: 4.234452859218744e-05, Average ret: -47.82, Average steps: 11.98, Num_states: 2801797\n"
     ]
    },
    {
     "name": "stderr",
     "output_type": "stream",
     "text": [
      "  1%|▍                                                                    | 68590/10000000 [05:10<12:30:24, 220.58it/s]\n"
     ]
    },
    {
     "ename": "KeyboardInterrupt",
     "evalue": "",
     "output_type": "error",
     "traceback": [
      "\u001b[1;31m---------------------------------------------------------------------------\u001b[0m",
      "\u001b[1;31mKeyboardInterrupt\u001b[0m                         Traceback (most recent call last)",
      "Input \u001b[1;32mIn [3]\u001b[0m, in \u001b[0;36m<cell line: 2>\u001b[1;34m()\u001b[0m\n\u001b[0;32m      1\u001b[0m agent \u001b[38;5;241m=\u001b[39m q_agent(env, env\u001b[38;5;241m.\u001b[39mstate_dim, env\u001b[38;5;241m.\u001b[39maction_dim, epsilon\u001b[38;5;241m=\u001b[39m\u001b[38;5;241m0.05\u001b[39m, gamma\u001b[38;5;241m=\u001b[39m\u001b[38;5;241m1\u001b[39m, alpha\u001b[38;5;241m=\u001b[39m\u001b[38;5;241m0.2\u001b[39m, tol\u001b[38;5;241m=\u001b[39m\u001b[38;5;241m1e-5\u001b[39m)\n\u001b[1;32m----> 2\u001b[0m q \u001b[38;5;241m=\u001b[39m \u001b[43magent\u001b[49m\u001b[38;5;241;43m.\u001b[39;49m\u001b[43mtrain\u001b[49m\u001b[43m(\u001b[49m\u001b[38;5;28;43mint\u001b[39;49m\u001b[43m(\u001b[49m\u001b[38;5;241;43m1e7\u001b[39;49m\u001b[43m)\u001b[49m\u001b[43m)\u001b[49m\n",
      "File \u001b[1;32m~\\OneDrive\\Documents\\PhD\\Year 1\\Research\\matermind\\q_agent.py:110\u001b[0m, in \u001b[0;36mq_agent.train\u001b[1;34m(self, num_episodes, scale)\u001b[0m\n\u001b[0;32m    102\u001b[0m         \u001b[38;5;28mprint\u001b[39m(\u001b[38;5;124m'\u001b[39m\u001b[38;5;124mAverage td error: \u001b[39m\u001b[38;5;132;01m{:0.04f}\u001b[39;00m\u001b[38;5;124m, STD of STD: \u001b[39m\u001b[38;5;132;01m{}\u001b[39;00m\u001b[38;5;124m, Average ret: \u001b[39m\u001b[38;5;132;01m{:0.02f}\u001b[39;00m\u001b[38;5;124m, Average steps: \u001b[39m\u001b[38;5;132;01m{:0.02f}\u001b[39;00m\u001b[38;5;124m, Num_states: \u001b[39m\u001b[38;5;132;01m{}\u001b[39;00m\u001b[38;5;124m'\u001b[39m\u001b[38;5;241m.\u001b[39mformat(\n\u001b[0;32m    103\u001b[0m             np\u001b[38;5;241m.\u001b[39mmean(errors[\u001b[38;5;241m0\u001b[39m][\u001b[38;5;241m-\u001b[39mscale:]),\n\u001b[0;32m    104\u001b[0m             np\u001b[38;5;241m.\u001b[39mstd(stds[\u001b[38;5;241m-\u001b[39mscale:]),\n\u001b[0;32m    105\u001b[0m             np\u001b[38;5;241m.\u001b[39mmean(returns[\u001b[38;5;241m-\u001b[39mscale:]),\n\u001b[0;32m    106\u001b[0m             np\u001b[38;5;241m.\u001b[39mmean(steps[\u001b[38;5;241m-\u001b[39mscale:]),\n\u001b[0;32m    107\u001b[0m             \u001b[38;5;28mlen\u001b[39m(\u001b[38;5;28mself\u001b[39m\u001b[38;5;241m.\u001b[39mQ_table)))\n\u001b[0;32m    109\u001b[0m     \u001b[38;5;66;03m# Learning converges according to tolerance\u001b[39;00m\n\u001b[1;32m--> 110\u001b[0m     \u001b[38;5;28;01mif\u001b[39;00m \u001b[43mnp\u001b[49m\u001b[38;5;241;43m.\u001b[39;49m\u001b[43mstd\u001b[49m\u001b[43m(\u001b[49m\u001b[43mstds\u001b[49m\u001b[43m[\u001b[49m\u001b[38;5;241;43m-\u001b[39;49m\u001b[43mscale\u001b[49m\u001b[43m:\u001b[49m\u001b[43m]\u001b[49m\u001b[43m)\u001b[49m \u001b[38;5;241m<\u001b[39m \u001b[38;5;28mself\u001b[39m\u001b[38;5;241m.\u001b[39mtol: \u001b[38;5;28;01mbreak\u001b[39;00m\n\u001b[0;32m    112\u001b[0m \u001b[38;5;28mprint\u001b[39m()\n\u001b[0;32m    113\u001b[0m \u001b[38;5;28mprint\u001b[39m(\u001b[38;5;124m'\u001b[39m\u001b[38;5;124mAverage td error: \u001b[39m\u001b[38;5;132;01m{:0.04f}\u001b[39;00m\u001b[38;5;124m, STD of STD: \u001b[39m\u001b[38;5;132;01m{}\u001b[39;00m\u001b[38;5;124m, Average ret: \u001b[39m\u001b[38;5;132;01m{:0.02f}\u001b[39;00m\u001b[38;5;124m, Average steps: \u001b[39m\u001b[38;5;132;01m{:0.02f}\u001b[39;00m\u001b[38;5;124m'\u001b[39m\u001b[38;5;241m.\u001b[39mformat(\n\u001b[0;32m    114\u001b[0m             np\u001b[38;5;241m.\u001b[39mmean(errors[\u001b[38;5;241m0\u001b[39m][\u001b[38;5;241m-\u001b[39mscale:]),\n\u001b[0;32m    115\u001b[0m             np\u001b[38;5;241m.\u001b[39mstd(stds[\u001b[38;5;241m-\u001b[39mscale:]),\n\u001b[0;32m    116\u001b[0m             np\u001b[38;5;241m.\u001b[39mmean(returns[\u001b[38;5;241m-\u001b[39mscale:]),\n\u001b[0;32m    117\u001b[0m             np\u001b[38;5;241m.\u001b[39mmean(steps[\u001b[38;5;241m-\u001b[39mscale:])))\n",
      "File \u001b[1;32m<__array_function__ internals>:5\u001b[0m, in \u001b[0;36mstd\u001b[1;34m(*args, **kwargs)\u001b[0m\n",
      "File \u001b[1;32m~\\Anaconda3\\lib\\site-packages\\numpy\\core\\fromnumeric.py:3581\u001b[0m, in \u001b[0;36mstd\u001b[1;34m(a, axis, dtype, out, ddof, keepdims, where)\u001b[0m\n\u001b[0;32m   3578\u001b[0m     \u001b[38;5;28;01melse\u001b[39;00m:\n\u001b[0;32m   3579\u001b[0m         \u001b[38;5;28;01mreturn\u001b[39;00m std(axis\u001b[38;5;241m=\u001b[39maxis, dtype\u001b[38;5;241m=\u001b[39mdtype, out\u001b[38;5;241m=\u001b[39mout, ddof\u001b[38;5;241m=\u001b[39mddof, \u001b[38;5;241m*\u001b[39m\u001b[38;5;241m*\u001b[39mkwargs)\n\u001b[1;32m-> 3581\u001b[0m \u001b[38;5;28;01mreturn\u001b[39;00m _methods\u001b[38;5;241m.\u001b[39m_std(a, axis\u001b[38;5;241m=\u001b[39maxis, dtype\u001b[38;5;241m=\u001b[39mdtype, out\u001b[38;5;241m=\u001b[39mout, ddof\u001b[38;5;241m=\u001b[39mddof,\n\u001b[0;32m   3582\u001b[0m                      \u001b[38;5;241m*\u001b[39m\u001b[38;5;241m*\u001b[39mkwargs)\n",
      "File \u001b[1;32m~\\Anaconda3\\lib\\site-packages\\numpy\\core\\_methods.py:262\u001b[0m, in \u001b[0;36m_std\u001b[1;34m(a, axis, dtype, out, ddof, keepdims, where)\u001b[0m\n\u001b[0;32m    260\u001b[0m \u001b[38;5;28;01mdef\u001b[39;00m \u001b[38;5;21m_std\u001b[39m(a, axis\u001b[38;5;241m=\u001b[39m\u001b[38;5;28;01mNone\u001b[39;00m, dtype\u001b[38;5;241m=\u001b[39m\u001b[38;5;28;01mNone\u001b[39;00m, out\u001b[38;5;241m=\u001b[39m\u001b[38;5;28;01mNone\u001b[39;00m, ddof\u001b[38;5;241m=\u001b[39m\u001b[38;5;241m0\u001b[39m, keepdims\u001b[38;5;241m=\u001b[39m\u001b[38;5;28;01mFalse\u001b[39;00m, \u001b[38;5;241m*\u001b[39m,\n\u001b[0;32m    261\u001b[0m          where\u001b[38;5;241m=\u001b[39m\u001b[38;5;28;01mTrue\u001b[39;00m):\n\u001b[1;32m--> 262\u001b[0m     ret \u001b[38;5;241m=\u001b[39m \u001b[43m_var\u001b[49m\u001b[43m(\u001b[49m\u001b[43ma\u001b[49m\u001b[43m,\u001b[49m\u001b[43m \u001b[49m\u001b[43maxis\u001b[49m\u001b[38;5;241;43m=\u001b[39;49m\u001b[43maxis\u001b[49m\u001b[43m,\u001b[49m\u001b[43m \u001b[49m\u001b[43mdtype\u001b[49m\u001b[38;5;241;43m=\u001b[39;49m\u001b[43mdtype\u001b[49m\u001b[43m,\u001b[49m\u001b[43m \u001b[49m\u001b[43mout\u001b[49m\u001b[38;5;241;43m=\u001b[39;49m\u001b[43mout\u001b[49m\u001b[43m,\u001b[49m\u001b[43m \u001b[49m\u001b[43mddof\u001b[49m\u001b[38;5;241;43m=\u001b[39;49m\u001b[43mddof\u001b[49m\u001b[43m,\u001b[49m\n\u001b[0;32m    263\u001b[0m \u001b[43m               \u001b[49m\u001b[43mkeepdims\u001b[49m\u001b[38;5;241;43m=\u001b[39;49m\u001b[43mkeepdims\u001b[49m\u001b[43m,\u001b[49m\u001b[43m \u001b[49m\u001b[43mwhere\u001b[49m\u001b[38;5;241;43m=\u001b[39;49m\u001b[43mwhere\u001b[49m\u001b[43m)\u001b[49m\n\u001b[0;32m    265\u001b[0m     \u001b[38;5;28;01mif\u001b[39;00m \u001b[38;5;28misinstance\u001b[39m(ret, mu\u001b[38;5;241m.\u001b[39mndarray):\n\u001b[0;32m    266\u001b[0m         ret \u001b[38;5;241m=\u001b[39m um\u001b[38;5;241m.\u001b[39msqrt(ret, out\u001b[38;5;241m=\u001b[39mret)\n",
      "File \u001b[1;32m~\\Anaconda3\\lib\\site-packages\\numpy\\core\\_methods.py:244\u001b[0m, in \u001b[0;36m_var\u001b[1;34m(a, axis, dtype, out, ddof, keepdims, where)\u001b[0m\n\u001b[0;32m    239\u001b[0m \u001b[38;5;66;03m# Most general case; includes handling object arrays containing imaginary\u001b[39;00m\n\u001b[0;32m    240\u001b[0m \u001b[38;5;66;03m# numbers and complex types with non-native byteorder\u001b[39;00m\n\u001b[0;32m    241\u001b[0m \u001b[38;5;28;01melse\u001b[39;00m:\n\u001b[0;32m    242\u001b[0m     x \u001b[38;5;241m=\u001b[39m um\u001b[38;5;241m.\u001b[39mmultiply(x, um\u001b[38;5;241m.\u001b[39mconjugate(x), out\u001b[38;5;241m=\u001b[39mx)\u001b[38;5;241m.\u001b[39mreal\n\u001b[1;32m--> 244\u001b[0m ret \u001b[38;5;241m=\u001b[39m \u001b[43mumr_sum\u001b[49m\u001b[43m(\u001b[49m\u001b[43mx\u001b[49m\u001b[43m,\u001b[49m\u001b[43m \u001b[49m\u001b[43maxis\u001b[49m\u001b[43m,\u001b[49m\u001b[43m \u001b[49m\u001b[43mdtype\u001b[49m\u001b[43m,\u001b[49m\u001b[43m \u001b[49m\u001b[43mout\u001b[49m\u001b[43m,\u001b[49m\u001b[43m \u001b[49m\u001b[43mkeepdims\u001b[49m\u001b[38;5;241;43m=\u001b[39;49m\u001b[43mkeepdims\u001b[49m\u001b[43m,\u001b[49m\u001b[43m \u001b[49m\u001b[43mwhere\u001b[49m\u001b[38;5;241;43m=\u001b[39;49m\u001b[43mwhere\u001b[49m\u001b[43m)\u001b[49m\n\u001b[0;32m    246\u001b[0m \u001b[38;5;66;03m# Compute degrees of freedom and make sure it is not negative.\u001b[39;00m\n\u001b[0;32m    247\u001b[0m rcount \u001b[38;5;241m=\u001b[39m um\u001b[38;5;241m.\u001b[39mmaximum(rcount \u001b[38;5;241m-\u001b[39m ddof, \u001b[38;5;241m0\u001b[39m)\n",
      "\u001b[1;31mKeyboardInterrupt\u001b[0m: "
     ]
    }
   ],
   "source": [
    "agent = q_agent(env, env.state_dim, env.action_dim, epsilon=0.05, gamma=1, alpha=0.2, tol=1e-5)\n",
    "q = agent.train(int(1e7))"
   ]
  },
  {
   "cell_type": "code",
   "execution_count": 4,
   "id": "54fbf686",
   "metadata": {},
   "outputs": [
    {
     "data": {
      "text/plain": [
       "array(['R', 'W', 'P', 'W'], dtype='<U1')"
      ]
     },
     "execution_count": 4,
     "metadata": {},
     "output_type": "execute_result"
    }
   ],
   "source": [
    "env.goal_render"
   ]
  },
  {
   "cell_type": "markdown",
   "id": "f42b6cff",
   "metadata": {},
   "source": [
    "# Test episode"
   ]
  },
  {
   "cell_type": "code",
   "execution_count": 5,
   "id": "b66d23eb",
   "metadata": {},
   "outputs": [
    {
     "name": "stdout",
     "output_type": "stream",
     "text": [
      "[['1' 'Y' 'P' 'P' 'O' '0']\n",
      " ['2' 'G' 'W' 'O' 'R' '0']\n",
      " ['1' 'B' 'G' 'W' 'B' '0']\n",
      " ['0' 'P' 'O' 'K' 'G' '0']\n",
      " ['1' 'O' 'G' 'W' 'K' '0']\n",
      " ['0' 'P' 'Y' 'G' 'B' '1']\n",
      " ['1' 'K' 'R' 'K' 'R' '0']\n",
      " ['0' 'R' 'W' 'Y' 'W' '3']\n",
      " ['1' 'Y' 'Y' 'G' 'B' '1']\n",
      " ['0' 'K' 'B' 'O' 'O' '0']\n",
      " ['1' 'K' 'B' 'R' 'R' '0']\n",
      " ['0' 'O' 'K' 'Y' 'B' '1']]\n"
     ]
    }
   ],
   "source": [
    "state = env.reset()\n",
    "step = 0\n",
    "\n",
    "agent.epsilon = 0\n",
    "\n",
    "while True:\n",
    "    \n",
    "    state, _, done, _ = env.step(agent.choose_action(tuple(state)))\n",
    "    step += 1\n",
    "    \n",
    "    if done: break\n",
    "        \n",
    "env.render()"
   ]
  }
 ],
 "metadata": {
  "kernelspec": {
   "display_name": "Python 3 (ipykernel)",
   "language": "python",
   "name": "python3"
  },
  "language_info": {
   "codemirror_mode": {
    "name": "ipython",
    "version": 3
   },
   "file_extension": ".py",
   "mimetype": "text/x-python",
   "name": "python",
   "nbconvert_exporter": "python",
   "pygments_lexer": "ipython3",
   "version": "3.9.12"
  }
 },
 "nbformat": 4,
 "nbformat_minor": 5
}
