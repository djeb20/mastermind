{
 "cells": [
  {
   "cell_type": "code",
   "execution_count": 1,
   "id": "ef5da553",
   "metadata": {},
   "outputs": [],
   "source": [
    "import numpy as np\n",
    "from mastermind import mastermind\n",
    "from q_agent import q_agent\n",
    "from dqn import Agent\n",
    "\n",
    "env = mastermind(action_type='guess', reward_struc='basic', num_goals=20)"
   ]
  },
  {
   "cell_type": "markdown",
   "id": "f08228c6",
   "metadata": {},
   "source": [
    "# DQN"
   ]
  },
  {
   "cell_type": "code",
   "execution_count": 2,
   "id": "dd0da336",
   "metadata": {},
   "outputs": [],
   "source": [
    "agent = Agent(env, state_dim=env.state_dim, num_actions=env.action_dim,\n",
    "                 critic_arch=[128, 64], buffer_size=1e6, batch_size=64, decay=0.999,\n",
    "                 gamma=0.99, step_size=1e-4, \n",
    "                 tau=0.001, epsilon_start=1, epsilon_min=0.05)\n",
    "agent.fill_buffer(exp=True, multi=False, prop=1)"
   ]
  },
  {
   "cell_type": "code",
   "execution_count": 5,
   "id": "9143616f",
   "metadata": {
    "scrolled": true
   },
   "outputs": [
    {
     "name": "stdout",
     "output_type": "stream",
     "text": [
      "Episode number: 3880, Epsilon: 0.05, Average Return: -4.80\n",
      "Episode number: 3890, Epsilon: 0.05, Average Return: 10.20\n",
      "Episode number: 3900, Epsilon: 0.05, Average Return: -4.70\n",
      "Episode number: 3910, Epsilon: 0.05, Average Return: 2.50\n",
      "Episode number: 3920, Epsilon: 0.05, Average Return: 18.50\n",
      "Episode number: 3930, Epsilon: 0.05, Average Return: -0.90\n",
      "Episode number: 3940, Epsilon: 0.05, Average Return: 5.70\n",
      "Episode number: 3950, Epsilon: 0.05, Average Return: -4.60\n",
      "Episode number: 3960, Epsilon: 0.05, Average Return: 6.30\n",
      "Episode number: 3970, Epsilon: 0.05, Average Return: 5.10\n",
      "Episode number: 3980, Epsilon: 0.05, Average Return: -1.90\n",
      "Episode number: 3990, Epsilon: 0.05, Average Return: 5.80\n",
      "Episode number: 4000, Epsilon: 0.05, Average Return: 2.50\n",
      "Episode number: 4010, Epsilon: 0.05, Average Return: 11.10\n",
      "Episode number: 4020, Epsilon: 0.05, Average Return: 9.30\n",
      "Episode number: 4030, Epsilon: 0.05, Average Return: 6.50\n",
      "Episode number: 4040, Epsilon: 0.05, Average Return: -4.80\n",
      "Episode number: 4050, Epsilon: 0.05, Average Return: 6.50\n",
      "Episode number: 4060, Epsilon: 0.05, Average Return: 5.50\n",
      "Episode number: 4070, Epsilon: 0.05, Average Return: 12.60\n",
      "Episode number: 4080, Epsilon: 0.05, Average Return: 16.00\n",
      "Episode number: 4090, Epsilon: 0.05, Average Return: 19.50\n",
      "Episode number: 4100, Epsilon: 0.05, Average Return: 18.10\n",
      "Episode number: 4110, Epsilon: 0.05, Average Return: 15.60\n",
      "Episode number: 4120, Epsilon: 0.05, Average Return: 13.70\n",
      "Episode number: 4130, Epsilon: 0.05, Average Return: 13.90\n",
      "Episode number: 4140, Epsilon: 0.05, Average Return: -0.60\n",
      "Episode number: 4150, Epsilon: 0.05, Average Return: 3.20\n",
      "Episode number: 4160, Epsilon: 0.05, Average Return: -0.70\n",
      "Episode number: 4170, Epsilon: 0.05, Average Return: 6.40\n",
      "Episode number: 4180, Epsilon: 0.05, Average Return: 14.00\n",
      "Episode number: 4190, Epsilon: 0.05, Average Return: 10.20\n",
      "Episode number: 4200, Epsilon: 0.05, Average Return: 18.60\n",
      "Episode number: 4210, Epsilon: 0.05, Average Return: 15.20\n"
     ]
    },
    {
     "ename": "KeyboardInterrupt",
     "evalue": "",
     "output_type": "error",
     "traceback": [
      "\u001b[1;31m---------------------------------------------------------------------------\u001b[0m",
      "\u001b[1;31mKeyboardInterrupt\u001b[0m                         Traceback (most recent call last)",
      "\u001b[1;32m~\\AppData\\Local\\Temp\\ipykernel_10904\\895234923.py\u001b[0m in \u001b[0;36m<module>\u001b[1;34m\u001b[0m\n\u001b[1;32m----> 1\u001b[1;33m \u001b[0magent\u001b[0m\u001b[1;33m.\u001b[0m\u001b[0mtrain\u001b[0m\u001b[1;33m(\u001b[0m\u001b[1;36m1e7\u001b[0m\u001b[1;33m)\u001b[0m\u001b[1;33m\u001b[0m\u001b[1;33m\u001b[0m\u001b[0m\n\u001b[0m",
      "\u001b[1;32m~\\OneDrive\\Documents\\PhD\\Year 1\\Research\\matermind_wordle\\dqn.py\u001b[0m in \u001b[0;36mtrain\u001b[1;34m(self, reward_tol, num_episodes)\u001b[0m\n\u001b[0;32m    283\u001b[0m                 \u001b[0mdone\u001b[0m \u001b[1;33m=\u001b[0m \u001b[0mterminated\u001b[0m \u001b[1;32mor\u001b[0m \u001b[0mtruncated\u001b[0m\u001b[1;33m\u001b[0m\u001b[1;33m\u001b[0m\u001b[0m\n\u001b[0;32m    284\u001b[0m                 \u001b[0mself\u001b[0m\u001b[1;33m.\u001b[0m\u001b[0mstore\u001b[0m\u001b[1;33m(\u001b[0m\u001b[1;33m(\u001b[0m\u001b[0mstate\u001b[0m\u001b[1;33m,\u001b[0m \u001b[0maction\u001b[0m\u001b[1;33m,\u001b[0m \u001b[0mreward\u001b[0m\u001b[1;33m,\u001b[0m \u001b[0mn_state\u001b[0m\u001b[1;33m,\u001b[0m \u001b[0mdone\u001b[0m\u001b[1;33m)\u001b[0m\u001b[1;33m)\u001b[0m\u001b[1;33m\u001b[0m\u001b[1;33m\u001b[0m\u001b[0m\n\u001b[1;32m--> 285\u001b[1;33m                 \u001b[0mself\u001b[0m\u001b[1;33m.\u001b[0m\u001b[0mupdate\u001b[0m\u001b[1;33m(\u001b[0m\u001b[1;33m)\u001b[0m\u001b[1;33m\u001b[0m\u001b[1;33m\u001b[0m\u001b[0m\n\u001b[0m\u001b[0;32m    286\u001b[0m \u001b[1;33m\u001b[0m\u001b[0m\n\u001b[0;32m    287\u001b[0m                 \u001b[0mret\u001b[0m \u001b[1;33m+=\u001b[0m \u001b[0mreward\u001b[0m\u001b[1;33m\u001b[0m\u001b[1;33m\u001b[0m\u001b[0m\n",
      "\u001b[1;32m~\\OneDrive\\Documents\\PhD\\Year 1\\Research\\matermind_wordle\\dqn.py\u001b[0m in \u001b[0;36mupdate\u001b[1;34m(self)\u001b[0m\n\u001b[0;32m    135\u001b[0m \u001b[1;33m\u001b[0m\u001b[0m\n\u001b[0;32m    136\u001b[0m         \u001b[1;31m# Select a batch and update\u001b[0m\u001b[1;33m\u001b[0m\u001b[1;33m\u001b[0m\u001b[0m\n\u001b[1;32m--> 137\u001b[1;33m         \u001b[0mself\u001b[0m\u001b[1;33m.\u001b[0m\u001b[0mupdate_critic\u001b[0m\u001b[1;33m(\u001b[0m\u001b[1;33m*\u001b[0m\u001b[0mself\u001b[0m\u001b[1;33m.\u001b[0m\u001b[0mget_batch\u001b[0m\u001b[1;33m(\u001b[0m\u001b[1;33m)\u001b[0m\u001b[1;33m)\u001b[0m\u001b[1;33m\u001b[0m\u001b[1;33m\u001b[0m\u001b[0m\n\u001b[0m\u001b[0;32m    138\u001b[0m         \u001b[0mself\u001b[0m\u001b[1;33m.\u001b[0m\u001b[0mupdate_target\u001b[0m\u001b[1;33m(\u001b[0m\u001b[1;33m)\u001b[0m\u001b[1;33m\u001b[0m\u001b[1;33m\u001b[0m\u001b[0m\n\u001b[0;32m    139\u001b[0m \u001b[1;33m\u001b[0m\u001b[0m\n",
      "\u001b[1;32m~\\anaconda3\\envs\\tf_env\\lib\\site-packages\\tensorflow\\python\\util\\traceback_utils.py\u001b[0m in \u001b[0;36merror_handler\u001b[1;34m(*args, **kwargs)\u001b[0m\n\u001b[0;32m    148\u001b[0m     \u001b[0mfiltered_tb\u001b[0m \u001b[1;33m=\u001b[0m \u001b[1;32mNone\u001b[0m\u001b[1;33m\u001b[0m\u001b[1;33m\u001b[0m\u001b[0m\n\u001b[0;32m    149\u001b[0m     \u001b[1;32mtry\u001b[0m\u001b[1;33m:\u001b[0m\u001b[1;33m\u001b[0m\u001b[1;33m\u001b[0m\u001b[0m\n\u001b[1;32m--> 150\u001b[1;33m       \u001b[1;32mreturn\u001b[0m \u001b[0mfn\u001b[0m\u001b[1;33m(\u001b[0m\u001b[1;33m*\u001b[0m\u001b[0margs\u001b[0m\u001b[1;33m,\u001b[0m \u001b[1;33m**\u001b[0m\u001b[0mkwargs\u001b[0m\u001b[1;33m)\u001b[0m\u001b[1;33m\u001b[0m\u001b[1;33m\u001b[0m\u001b[0m\n\u001b[0m\u001b[0;32m    151\u001b[0m     \u001b[1;32mexcept\u001b[0m \u001b[0mException\u001b[0m \u001b[1;32mas\u001b[0m \u001b[0me\u001b[0m\u001b[1;33m:\u001b[0m\u001b[1;33m\u001b[0m\u001b[1;33m\u001b[0m\u001b[0m\n\u001b[0;32m    152\u001b[0m       \u001b[0mfiltered_tb\u001b[0m \u001b[1;33m=\u001b[0m \u001b[0m_process_traceback_frames\u001b[0m\u001b[1;33m(\u001b[0m\u001b[0me\u001b[0m\u001b[1;33m.\u001b[0m\u001b[0m__traceback__\u001b[0m\u001b[1;33m)\u001b[0m\u001b[1;33m\u001b[0m\u001b[1;33m\u001b[0m\u001b[0m\n",
      "\u001b[1;32m~\\anaconda3\\envs\\tf_env\\lib\\site-packages\\tensorflow\\python\\eager\\def_function.py\u001b[0m in \u001b[0;36m__call__\u001b[1;34m(self, *args, **kwds)\u001b[0m\n\u001b[0;32m    913\u001b[0m \u001b[1;33m\u001b[0m\u001b[0m\n\u001b[0;32m    914\u001b[0m       \u001b[1;32mwith\u001b[0m \u001b[0mOptionalXlaContext\u001b[0m\u001b[1;33m(\u001b[0m\u001b[0mself\u001b[0m\u001b[1;33m.\u001b[0m\u001b[0m_jit_compile\u001b[0m\u001b[1;33m)\u001b[0m\u001b[1;33m:\u001b[0m\u001b[1;33m\u001b[0m\u001b[1;33m\u001b[0m\u001b[0m\n\u001b[1;32m--> 915\u001b[1;33m         \u001b[0mresult\u001b[0m \u001b[1;33m=\u001b[0m \u001b[0mself\u001b[0m\u001b[1;33m.\u001b[0m\u001b[0m_call\u001b[0m\u001b[1;33m(\u001b[0m\u001b[1;33m*\u001b[0m\u001b[0margs\u001b[0m\u001b[1;33m,\u001b[0m \u001b[1;33m**\u001b[0m\u001b[0mkwds\u001b[0m\u001b[1;33m)\u001b[0m\u001b[1;33m\u001b[0m\u001b[1;33m\u001b[0m\u001b[0m\n\u001b[0m\u001b[0;32m    916\u001b[0m \u001b[1;33m\u001b[0m\u001b[0m\n\u001b[0;32m    917\u001b[0m       \u001b[0mnew_tracing_count\u001b[0m \u001b[1;33m=\u001b[0m \u001b[0mself\u001b[0m\u001b[1;33m.\u001b[0m\u001b[0mexperimental_get_tracing_count\u001b[0m\u001b[1;33m(\u001b[0m\u001b[1;33m)\u001b[0m\u001b[1;33m\u001b[0m\u001b[1;33m\u001b[0m\u001b[0m\n",
      "\u001b[1;32m~\\anaconda3\\envs\\tf_env\\lib\\site-packages\\tensorflow\\python\\eager\\def_function.py\u001b[0m in \u001b[0;36m_call\u001b[1;34m(self, *args, **kwds)\u001b[0m\n\u001b[0;32m    945\u001b[0m       \u001b[1;31m# In this case we have created variables on the first call, so we run the\u001b[0m\u001b[1;33m\u001b[0m\u001b[1;33m\u001b[0m\u001b[0m\n\u001b[0;32m    946\u001b[0m       \u001b[1;31m# defunned version which is guaranteed to never create variables.\u001b[0m\u001b[1;33m\u001b[0m\u001b[1;33m\u001b[0m\u001b[0m\n\u001b[1;32m--> 947\u001b[1;33m       \u001b[1;32mreturn\u001b[0m \u001b[0mself\u001b[0m\u001b[1;33m.\u001b[0m\u001b[0m_stateless_fn\u001b[0m\u001b[1;33m(\u001b[0m\u001b[1;33m*\u001b[0m\u001b[0margs\u001b[0m\u001b[1;33m,\u001b[0m \u001b[1;33m**\u001b[0m\u001b[0mkwds\u001b[0m\u001b[1;33m)\u001b[0m  \u001b[1;31m# pylint: disable=not-callable\u001b[0m\u001b[1;33m\u001b[0m\u001b[1;33m\u001b[0m\u001b[0m\n\u001b[0m\u001b[0;32m    948\u001b[0m     \u001b[1;32melif\u001b[0m \u001b[0mself\u001b[0m\u001b[1;33m.\u001b[0m\u001b[0m_stateful_fn\u001b[0m \u001b[1;32mis\u001b[0m \u001b[1;32mnot\u001b[0m \u001b[1;32mNone\u001b[0m\u001b[1;33m:\u001b[0m\u001b[1;33m\u001b[0m\u001b[1;33m\u001b[0m\u001b[0m\n\u001b[0;32m    949\u001b[0m       \u001b[1;31m# Release the lock early so that multiple threads can perform the call\u001b[0m\u001b[1;33m\u001b[0m\u001b[1;33m\u001b[0m\u001b[0m\n",
      "\u001b[1;32m~\\anaconda3\\envs\\tf_env\\lib\\site-packages\\tensorflow\\python\\eager\\function.py\u001b[0m in \u001b[0;36m__call__\u001b[1;34m(self, *args, **kwargs)\u001b[0m\n\u001b[0;32m   2451\u001b[0m       (graph_function,\n\u001b[0;32m   2452\u001b[0m        filtered_flat_args) = self._maybe_define_function(args, kwargs)\n\u001b[1;32m-> 2453\u001b[1;33m     return graph_function._call_flat(\n\u001b[0m\u001b[0;32m   2454\u001b[0m         filtered_flat_args, captured_inputs=graph_function.captured_inputs)  # pylint: disable=protected-access\n\u001b[0;32m   2455\u001b[0m \u001b[1;33m\u001b[0m\u001b[0m\n",
      "\u001b[1;32m~\\anaconda3\\envs\\tf_env\\lib\\site-packages\\tensorflow\\python\\eager\\function.py\u001b[0m in \u001b[0;36m_call_flat\u001b[1;34m(self, args, captured_inputs, cancellation_manager)\u001b[0m\n\u001b[0;32m   1858\u001b[0m         and executing_eagerly):\n\u001b[0;32m   1859\u001b[0m       \u001b[1;31m# No tape is watching; skip to running the function.\u001b[0m\u001b[1;33m\u001b[0m\u001b[1;33m\u001b[0m\u001b[0m\n\u001b[1;32m-> 1860\u001b[1;33m       return self._build_call_outputs(self._inference_function.call(\n\u001b[0m\u001b[0;32m   1861\u001b[0m           ctx, args, cancellation_manager=cancellation_manager))\n\u001b[0;32m   1862\u001b[0m     forward_backward = self._select_forward_and_backward_functions(\n",
      "\u001b[1;32m~\\anaconda3\\envs\\tf_env\\lib\\site-packages\\tensorflow\\python\\eager\\function.py\u001b[0m in \u001b[0;36mcall\u001b[1;34m(self, ctx, args, cancellation_manager)\u001b[0m\n\u001b[0;32m    495\u001b[0m       \u001b[1;32mwith\u001b[0m \u001b[0m_InterpolateFunctionError\u001b[0m\u001b[1;33m(\u001b[0m\u001b[0mself\u001b[0m\u001b[1;33m)\u001b[0m\u001b[1;33m:\u001b[0m\u001b[1;33m\u001b[0m\u001b[1;33m\u001b[0m\u001b[0m\n\u001b[0;32m    496\u001b[0m         \u001b[1;32mif\u001b[0m \u001b[0mcancellation_manager\u001b[0m \u001b[1;32mis\u001b[0m \u001b[1;32mNone\u001b[0m\u001b[1;33m:\u001b[0m\u001b[1;33m\u001b[0m\u001b[1;33m\u001b[0m\u001b[0m\n\u001b[1;32m--> 497\u001b[1;33m           outputs = execute.execute(\n\u001b[0m\u001b[0;32m    498\u001b[0m               \u001b[0mstr\u001b[0m\u001b[1;33m(\u001b[0m\u001b[0mself\u001b[0m\u001b[1;33m.\u001b[0m\u001b[0msignature\u001b[0m\u001b[1;33m.\u001b[0m\u001b[0mname\u001b[0m\u001b[1;33m)\u001b[0m\u001b[1;33m,\u001b[0m\u001b[1;33m\u001b[0m\u001b[1;33m\u001b[0m\u001b[0m\n\u001b[0;32m    499\u001b[0m               \u001b[0mnum_outputs\u001b[0m\u001b[1;33m=\u001b[0m\u001b[0mself\u001b[0m\u001b[1;33m.\u001b[0m\u001b[0m_num_outputs\u001b[0m\u001b[1;33m,\u001b[0m\u001b[1;33m\u001b[0m\u001b[1;33m\u001b[0m\u001b[0m\n",
      "\u001b[1;32m~\\anaconda3\\envs\\tf_env\\lib\\site-packages\\tensorflow\\python\\eager\\execute.py\u001b[0m in \u001b[0;36mquick_execute\u001b[1;34m(op_name, num_outputs, inputs, attrs, ctx, name)\u001b[0m\n\u001b[0;32m     52\u001b[0m   \u001b[1;32mtry\u001b[0m\u001b[1;33m:\u001b[0m\u001b[1;33m\u001b[0m\u001b[1;33m\u001b[0m\u001b[0m\n\u001b[0;32m     53\u001b[0m     \u001b[0mctx\u001b[0m\u001b[1;33m.\u001b[0m\u001b[0mensure_initialized\u001b[0m\u001b[1;33m(\u001b[0m\u001b[1;33m)\u001b[0m\u001b[1;33m\u001b[0m\u001b[1;33m\u001b[0m\u001b[0m\n\u001b[1;32m---> 54\u001b[1;33m     tensors = pywrap_tfe.TFE_Py_Execute(ctx._handle, device_name, op_name,\n\u001b[0m\u001b[0;32m     55\u001b[0m                                         inputs, attrs, num_outputs)\n\u001b[0;32m     56\u001b[0m   \u001b[1;32mexcept\u001b[0m \u001b[0mcore\u001b[0m\u001b[1;33m.\u001b[0m\u001b[0m_NotOkStatusException\u001b[0m \u001b[1;32mas\u001b[0m \u001b[0me\u001b[0m\u001b[1;33m:\u001b[0m\u001b[1;33m\u001b[0m\u001b[1;33m\u001b[0m\u001b[0m\n",
      "\u001b[1;31mKeyboardInterrupt\u001b[0m: "
     ]
    }
   ],
   "source": [
    "agent.train(1e7)"
   ]
  },
  {
   "cell_type": "markdown",
   "id": "0a0baf2e",
   "metadata": {},
   "source": [
    "# Q Learning"
   ]
  },
  {
   "cell_type": "code",
   "execution_count": null,
   "id": "6cbf4467",
   "metadata": {
    "scrolled": true
   },
   "outputs": [
    {
     "name": "stdout",
     "output_type": "stream",
     "text": [
      "[['0' ' ' ' ' ' ' ' ' '0']\n",
      " ['0' ' ' ' ' ' ' ' ' '0']\n",
      " ['0' ' ' ' ' ' ' ' ' '0']\n",
      " ['0' ' ' ' ' ' ' ' ' '0']\n",
      " ['0' ' ' ' ' ' ' ' ' '0']\n",
      " ['0' ' ' ' ' ' ' ' ' '0']\n",
      " ['0' ' ' ' ' ' ' ' ' '0']\n",
      " ['0' ' ' ' ' ' ' ' ' '0']\n",
      " ['0' ' ' ' ' ' ' ' ' '0']\n",
      " ['0' ' ' ' ' ' ' ' ' '0']\n",
      " ['0' ' ' ' ' ' ' ' ' '0']\n",
      " ['0' ' ' ' ' ' ' ' ' '0']]\n"
     ]
    },
    {
     "name": "stderr",
     "output_type": "stream",
     "text": [
      "  0%|                                                                                     | 0/10000000 [00:00<?, ?it/s]C:\\Users\\danbe\\anaconda3\\envs\\tf_env\\lib\\site-packages\\numpy\\core\\_methods.py:230: RuntimeWarning: invalid value encountered in subtract\n",
      "  x = asanyarray(arr - arrmean)\n",
      "  0%|                                                                         | 34/10000000 [00:00<9:14:21, 300.65it/s]"
     ]
    },
    {
     "name": "stdout",
     "output_type": "stream",
     "text": [
      "\n",
      "Average td error: 1.0000, STD of STD: nan, Average ret: -12.00, Average steps: 12.00, Num_states: 12\n"
     ]
    },
    {
     "name": "stderr",
     "output_type": "stream",
     "text": [
      "  0%|                                                                       | 1120/10000000 [00:02<4:34:28, 607.16it/s]"
     ]
    },
    {
     "name": "stdout",
     "output_type": "stream",
     "text": [
      "\n",
      "Average td error: 0.9994, STD of STD: 0.006849962434372433, Average ret: -11.87, Average steps: 11.98, Num_states: 10996\n"
     ]
    },
    {
     "name": "stderr",
     "output_type": "stream",
     "text": [
      "  0%|                                                                       | 2060/10000000 [00:03<4:38:07, 599.14it/s]"
     ]
    },
    {
     "name": "stdout",
     "output_type": "stream",
     "text": [
      "\n",
      "Average td error: 0.9994, STD of STD: 0.0020501221551068563, Average ret: -11.96, Average steps: 11.99, Num_states: 21984\n"
     ]
    },
    {
     "name": "stderr",
     "output_type": "stream",
     "text": [
      "  0%|                                                                       | 3093/10000000 [00:05<4:35:46, 604.17it/s]"
     ]
    },
    {
     "name": "stdout",
     "output_type": "stream",
     "text": [
      "\n",
      "Average td error: 0.9998, STD of STD: 0.0016186916052197504, Average ret: -11.86, Average steps: 11.98, Num_states: 32960\n"
     ]
    },
    {
     "name": "stderr",
     "output_type": "stream",
     "text": [
      "  0%|                                                                       | 4113/10000000 [00:07<4:30:04, 616.85it/s]"
     ]
    },
    {
     "name": "stdout",
     "output_type": "stream",
     "text": [
      "\n",
      "Average td error: 0.9990, STD of STD: 0.0013040908721497202, Average ret: -11.87, Average steps: 11.99, Num_states: 43946\n"
     ]
    },
    {
     "name": "stderr",
     "output_type": "stream",
     "text": [
      "  0%|                                                                       | 5061/10000000 [00:08<4:34:14, 607.42it/s]"
     ]
    },
    {
     "name": "stdout",
     "output_type": "stream",
     "text": [
      "\n",
      "Average td error: 0.9834, STD of STD: 0.0012142090544500863, Average ret: -11.77, Average steps: 11.95, Num_states: 54710\n"
     ]
    },
    {
     "name": "stderr",
     "output_type": "stream",
     "text": [
      "  0%|                                                                       | 6058/10000000 [00:10<4:36:21, 602.70it/s]"
     ]
    },
    {
     "name": "stdout",
     "output_type": "stream",
     "text": [
      "\n",
      "Average td error: 0.9831, STD of STD: 0.0009287651248198909, Average ret: -11.94, Average steps: 12.00, Num_states: 65498\n"
     ]
    },
    {
     "name": "stderr",
     "output_type": "stream",
     "text": [
      "  0%|                                                                       | 7079/10000000 [00:11<4:34:28, 606.80it/s]"
     ]
    },
    {
     "name": "stdout",
     "output_type": "stream",
     "text": [
      "\n",
      "Average td error: 0.9828, STD of STD: 0.0007820279176659514, Average ret: -11.88, Average steps: 11.97, Num_states: 76245\n"
     ]
    },
    {
     "name": "stderr",
     "output_type": "stream",
     "text": [
      "  0%|                                                                       | 8073/10000000 [00:13<4:45:55, 582.42it/s]"
     ]
    },
    {
     "name": "stdout",
     "output_type": "stream",
     "text": [
      "\n",
      "Average td error: 0.9829, STD of STD: 0.0007035303995091486, Average ret: -11.84, Average steps: 11.96, Num_states: 86976\n"
     ]
    },
    {
     "name": "stderr",
     "output_type": "stream",
     "text": [
      "  0%|                                                                       | 9049/10000000 [00:15<4:46:47, 580.63it/s]"
     ]
    },
    {
     "name": "stdout",
     "output_type": "stream",
     "text": [
      "\n",
      "Average td error: 0.9701, STD of STD: 0.0005566636434588336, Average ret: -11.97, Average steps: 12.00, Num_states: 97679\n"
     ]
    },
    {
     "name": "stderr",
     "output_type": "stream",
     "text": [
      "  0%|                                                                      | 10110/10000000 [00:17<4:44:38, 584.93it/s]"
     ]
    },
    {
     "name": "stdout",
     "output_type": "stream",
     "text": [
      "\n",
      "Average td error: 0.9699, STD of STD: 0.0004819850531675092, Average ret: -11.93, Average steps: 11.99, Num_states: 108310\n"
     ]
    },
    {
     "name": "stderr",
     "output_type": "stream",
     "text": [
      "  0%|                                                                      | 11081/10000000 [00:18<4:46:23, 581.32it/s]"
     ]
    },
    {
     "name": "stdout",
     "output_type": "stream",
     "text": [
      "\n",
      "Average td error: 0.9974, STD of STD: 0.0021297967533497916, Average ret: -11.89, Average steps: 11.98, Num_states: 118933\n"
     ]
    },
    {
     "name": "stderr",
     "output_type": "stream",
     "text": [
      "  0%|                                                                      | 12121/10000000 [00:20<4:52:25, 569.25it/s]"
     ]
    },
    {
     "name": "stdout",
     "output_type": "stream",
     "text": [
      "\n",
      "Average td error: 0.9694, STD of STD: 0.0004125207859009824, Average ret: -11.84, Average steps: 11.96, Num_states: 129511\n"
     ]
    },
    {
     "name": "stderr",
     "output_type": "stream",
     "text": [
      "  0%|                                                                      | 13095/10000000 [00:22<4:38:17, 598.09it/s]"
     ]
    },
    {
     "name": "stdout",
     "output_type": "stream",
     "text": [
      "\n",
      "Average td error: 0.9594, STD of STD: 0.0003457039271482963, Average ret: -11.96, Average steps: 11.99, Num_states: 140104\n"
     ]
    },
    {
     "name": "stderr",
     "output_type": "stream",
     "text": [
      "  0%|                                                                      | 14075/10000000 [00:23<4:51:20, 571.26it/s]"
     ]
    },
    {
     "name": "stdout",
     "output_type": "stream",
     "text": [
      "\n",
      "Average td error: 0.9593, STD of STD: 0.0003220329569986504, Average ret: -11.90, Average steps: 11.99, Num_states: 150612\n"
     ]
    },
    {
     "name": "stderr",
     "output_type": "stream",
     "text": [
      "  0%|                                                                      | 15092/10000000 [00:25<4:43:03, 587.90it/s]"
     ]
    },
    {
     "name": "stdout",
     "output_type": "stream",
     "text": [
      "\n",
      "Average td error: 0.9592, STD of STD: 0.0002944922730307704, Average ret: -11.93, Average steps: 11.99, Num_states: 161125\n"
     ]
    },
    {
     "name": "stderr",
     "output_type": "stream",
     "text": [
      "  0%|                                                                      | 16081/10000000 [00:27<4:44:51, 584.15it/s]"
     ]
    },
    {
     "name": "stdout",
     "output_type": "stream",
     "text": [
      "\n",
      "Average td error: 0.9591, STD of STD: 0.000278533422982603, Average ret: -11.88, Average steps: 11.97, Num_states: 171627\n"
     ]
    },
    {
     "name": "stderr",
     "output_type": "stream",
     "text": [
      "  0%|                                                                      | 17064/10000000 [00:29<4:39:48, 594.64it/s]"
     ]
    },
    {
     "name": "stdout",
     "output_type": "stream",
     "text": [
      "\n",
      "Average td error: 1.0064, STD of STD: 0.0028916040648466266, Average ret: -11.89, Average steps: 11.98, Num_states: 182075\n"
     ]
    },
    {
     "name": "stderr",
     "output_type": "stream",
     "text": [
      "  0%|▏                                                                     | 18051/10000000 [00:30<4:42:46, 588.35it/s]"
     ]
    },
    {
     "name": "stdout",
     "output_type": "stream",
     "text": [
      "\n",
      "Average td error: 0.9782, STD of STD: 0.0011587139226831745, Average ret: -11.82, Average steps: 11.97, Num_states: 192474\n"
     ]
    },
    {
     "name": "stderr",
     "output_type": "stream",
     "text": [
      "  0%|▏                                                                     | 19057/10000000 [00:32<4:41:38, 590.66it/s]"
     ]
    },
    {
     "name": "stdout",
     "output_type": "stream",
     "text": [
      "\n",
      "Average td error: 0.9508, STD of STD: 0.00024513485774574475, Average ret: -11.82, Average steps: 11.97, Num_states: 202867\n"
     ]
    },
    {
     "name": "stderr",
     "output_type": "stream",
     "text": [
      "  0%|▏                                                                     | 20088/10000000 [00:34<4:41:30, 590.85it/s]"
     ]
    },
    {
     "name": "stdout",
     "output_type": "stream",
     "text": [
      "\n",
      "Average td error: 0.9780, STD of STD: 0.000884834133742304, Average ret: -11.89, Average steps: 11.98, Num_states: 213288\n"
     ]
    },
    {
     "name": "stderr",
     "output_type": "stream",
     "text": [
      "  0%|▏                                                                     | 21108/10000000 [00:35<4:50:48, 571.92it/s]"
     ]
    },
    {
     "name": "stdout",
     "output_type": "stream",
     "text": [
      "\n",
      "Average td error: 0.9722, STD of STD: 0.0003753032177827763, Average ret: -11.86, Average steps: 11.98, Num_states: 223677\n"
     ]
    },
    {
     "name": "stderr",
     "output_type": "stream",
     "text": [
      "  0%|▏                                                                     | 22061/10000000 [00:37<6:05:08, 455.44it/s]"
     ]
    },
    {
     "name": "stdout",
     "output_type": "stream",
     "text": [
      "\n",
      "Average td error: 0.9442, STD of STD: 0.00021154454001915123, Average ret: -11.85, Average steps: 11.96, Num_states: 233974\n"
     ]
    },
    {
     "name": "stderr",
     "output_type": "stream",
     "text": [
      "  0%|▏                                                                     | 23090/10000000 [00:39<5:01:04, 552.31it/s]"
     ]
    },
    {
     "name": "stdout",
     "output_type": "stream",
     "text": [
      "\n",
      "Average td error: 0.9721, STD of STD: 0.0005712932024175899, Average ret: -11.86, Average steps: 11.98, Num_states: 244330\n"
     ]
    },
    {
     "name": "stderr",
     "output_type": "stream",
     "text": [
      "  0%|▏                                                                     | 24093/10000000 [00:41<4:41:53, 589.81it/s]"
     ]
    },
    {
     "name": "stdout",
     "output_type": "stream",
     "text": [
      "\n",
      "Average td error: 0.9713, STD of STD: 0.0011798766116616342, Average ret: -11.73, Average steps: 11.94, Num_states: 254621\n"
     ]
    },
    {
     "name": "stderr",
     "output_type": "stream",
     "text": [
      "  0%|▏                                                                     | 25072/10000000 [00:43<5:42:01, 486.07it/s]"
     ]
    },
    {
     "name": "stdout",
     "output_type": "stream",
     "text": [
      "\n",
      "Average td error: 1.0582, STD of STD: 0.0010468198937235126, Average ret: -11.70, Average steps: 11.94, Num_states: 264891\n"
     ]
    },
    {
     "name": "stderr",
     "output_type": "stream",
     "text": [
      "  0%|▏                                                                     | 26038/10000000 [00:44<5:07:50, 540.00it/s]"
     ]
    },
    {
     "name": "stdout",
     "output_type": "stream",
     "text": [
      "\n",
      "Average td error: 0.9660, STD of STD: 0.0009490533005322957, Average ret: -11.93, Average steps: 11.99, Num_states: 275176\n"
     ]
    },
    {
     "name": "stderr",
     "output_type": "stream",
     "text": [
      "  0%|▏                                                                     | 27055/10000000 [00:47<5:07:03, 541.32it/s]"
     ]
    },
    {
     "name": "stdout",
     "output_type": "stream",
     "text": [
      "\n",
      "Average td error: 1.1480, STD of STD: 0.0041016006491216665, Average ret: -11.70, Average steps: 11.94, Num_states: 285416\n"
     ]
    },
    {
     "name": "stderr",
     "output_type": "stream",
     "text": [
      "  0%|▏                                                                     | 28082/10000000 [00:48<4:54:51, 563.66it/s]"
     ]
    },
    {
     "name": "stdout",
     "output_type": "stream",
     "text": [
      "\n",
      "Average td error: 0.9947, STD of STD: 0.0012208205453755853, Average ret: -11.84, Average steps: 11.99, Num_states: 295691\n"
     ]
    },
    {
     "name": "stderr",
     "output_type": "stream",
     "text": [
      "  0%|▏                                                                     | 29057/10000000 [00:50<5:39:33, 489.40it/s]"
     ]
    },
    {
     "name": "stdout",
     "output_type": "stream",
     "text": [
      "\n",
      "Average td error: 0.9385, STD of STD: 0.00018543445352340676, Average ret: -11.93, Average steps: 11.99, Num_states: 305973\n"
     ]
    },
    {
     "name": "stderr",
     "output_type": "stream",
     "text": [
      "  0%|▏                                                                     | 30063/10000000 [00:52<5:03:18, 547.84it/s]"
     ]
    },
    {
     "name": "stdout",
     "output_type": "stream",
     "text": [
      "\n",
      "Average td error: 0.9342, STD of STD: 0.0001738657663307327, Average ret: -11.89, Average steps: 11.98, Num_states: 316207\n"
     ]
    },
    {
     "name": "stderr",
     "output_type": "stream",
     "text": [
      "  0%|▏                                                                     | 31061/10000000 [00:54<5:45:01, 481.55it/s]"
     ]
    },
    {
     "name": "stdout",
     "output_type": "stream",
     "text": [
      "\n",
      "Average td error: 0.9342, STD of STD: 0.0001677505649932031, Average ret: -11.91, Average steps: 12.00, Num_states: 326488\n"
     ]
    },
    {
     "name": "stderr",
     "output_type": "stream",
     "text": [
      "  0%|▏                                                                     | 32041/10000000 [00:56<5:25:32, 510.32it/s]"
     ]
    },
    {
     "name": "stdout",
     "output_type": "stream",
     "text": [
      "\n",
      "Average td error: 0.9342, STD of STD: 0.00016214395816846946, Average ret: -11.90, Average steps: 11.99, Num_states: 336757\n"
     ]
    },
    {
     "name": "stderr",
     "output_type": "stream",
     "text": [
      "  0%|▏                                                                     | 32575/10000000 [00:58<6:29:27, 426.55it/s]"
     ]
    }
   ],
   "source": [
    "agent = q_agent(env, env.state_dim, env.action_dim, epsilon=0.05, gamma=1, alpha=0.2, tol=1e-7)\n",
    "q = agent.train(int(1e7))"
   ]
  },
  {
   "cell_type": "markdown",
   "id": "f42b6cff",
   "metadata": {},
   "source": [
    "# Test episode"
   ]
  },
  {
   "cell_type": "code",
   "execution_count": 6,
   "id": "b66d23eb",
   "metadata": {
    "scrolled": true
   },
   "outputs": [
    {
     "name": "stdout",
     "output_type": "stream",
     "text": [
      "['G' 'G' 'K' 'G'] \n",
      "\n",
      "[['0' ' ' ' ' ' ' ' ' '0']\n",
      " ['0' ' ' ' ' ' ' ' ' '0']\n",
      " ['0' ' ' ' ' ' ' ' ' '0']\n",
      " ['0' ' ' ' ' ' ' ' ' '0']\n",
      " ['0' ' ' ' ' ' ' ' ' '0']\n",
      " ['0' ' ' ' ' ' ' ' ' '0']\n",
      " ['0' ' ' ' ' ' ' ' ' '0']\n",
      " ['0' ' ' ' ' ' ' ' ' '0']\n",
      " ['0' ' ' ' ' ' ' ' ' '0']\n",
      " ['0' ' ' ' ' ' ' ' ' '0']\n",
      " ['0' 'G' 'G' 'K' 'G' '4']\n",
      " ['0' 'G' 'G' 'R' 'O' '2']]\n",
      "28\n",
      "\n",
      "\n",
      "\n",
      "['O' 'Y' 'G' 'G'] \n",
      "\n",
      "[['0' ' ' ' ' ' ' ' ' '0']\n",
      " ['0' ' ' ' ' ' ' ' ' '0']\n",
      " ['0' ' ' ' ' ' ' ' ' '0']\n",
      " ['0' ' ' ' ' ' ' ' ' '0']\n",
      " ['0' ' ' ' ' ' ' ' ' '0']\n",
      " ['0' 'O' 'Y' 'G' 'G' '4']\n",
      " ['0' 'B' 'K' 'B' 'G' '1']\n",
      " ['0' 'B' 'K' 'B' 'G' '1']\n",
      " ['0' 'B' 'K' 'B' 'G' '1']\n",
      " ['1' 'G' 'G' 'K' 'G' '1']\n",
      " ['1' 'P' 'B' 'Y' 'G' '1']\n",
      " ['3' 'G' 'G' 'R' 'O' '0']]\n",
      "23\n",
      "\n",
      "\n",
      "\n",
      "['P' 'B' 'Y' 'G'] \n",
      "\n",
      "[['0' 'B' 'B' 'Y' 'R' '2']\n",
      " ['1' 'R' 'R' 'P' 'R' '0']\n",
      " ['1' 'R' 'R' 'P' 'R' '0']\n",
      " ['1' 'R' 'R' 'P' 'R' '0']\n",
      " ['1' 'R' 'R' 'P' 'R' '0']\n",
      " ['1' 'O' 'Y' 'G' 'G' '1']\n",
      " ['1' 'B' 'K' 'B' 'G' '1']\n",
      " ['1' 'B' 'K' 'B' 'G' '1']\n",
      " ['1' 'B' 'K' 'B' 'G' '1']\n",
      " ['0' 'G' 'G' 'K' 'G' '1']\n",
      " ['0' 'G' 'G' 'K' 'G' '1']\n",
      " ['1' 'G' 'G' 'R' 'O' '0']]\n",
      "-12\n",
      "\n",
      "\n",
      "\n",
      "['B' 'B' 'Y' 'R'] \n",
      "\n",
      "[['0' 'B' 'B' 'Y' 'R' '4']\n",
      " ['0' 'R' 'R' 'P' 'R' '1']\n",
      " ['0' 'R' 'R' 'P' 'R' '1']\n",
      " ['0' 'R' 'R' 'P' 'R' '1']\n",
      " ['0' 'R' 'R' 'P' 'R' '1']\n",
      " ['1' 'O' 'Y' 'G' 'G' '0']\n",
      " ['1' 'B' 'K' 'B' 'G' '1']\n",
      " ['1' 'B' 'K' 'B' 'G' '1']\n",
      " ['1' 'B' 'K' 'B' 'G' '1']\n",
      " ['0' 'G' 'G' 'K' 'G' '0']\n",
      " ['0' 'G' 'G' 'K' 'G' '0']\n",
      " ['1' 'G' 'G' 'R' 'O' '0']]\n",
      "18\n",
      "\n",
      "\n",
      "\n",
      "['G' 'K' 'O' 'O'] \n",
      "\n",
      "[['0' 'B' 'B' 'Y' 'R' '0']\n",
      " ['0' 'R' 'R' 'P' 'R' '0']\n",
      " ['0' 'R' 'R' 'P' 'R' '0']\n",
      " ['0' 'R' 'R' 'P' 'R' '0']\n",
      " ['0' 'R' 'R' 'P' 'R' '0']\n",
      " ['2' 'O' 'Y' 'G' 'G' '0']\n",
      " ['1' 'B' 'K' 'B' 'G' '1']\n",
      " ['1' 'B' 'K' 'B' 'G' '1']\n",
      " ['1' 'B' 'K' 'B' 'G' '1']\n",
      " ['1' 'G' 'G' 'K' 'G' '1']\n",
      " ['1' 'G' 'G' 'K' 'G' '1']\n",
      " ['0' 'G' 'G' 'R' 'O' '2']]\n",
      "-12\n",
      "\n",
      "\n",
      "\n",
      "['G' 'G' 'R' 'O'] \n",
      "\n",
      "[['0' ' ' ' ' ' ' ' ' '0']\n",
      " ['0' ' ' ' ' ' ' ' ' '0']\n",
      " ['0' ' ' ' ' ' ' ' ' '0']\n",
      " ['0' ' ' ' ' ' ' ' ' '0']\n",
      " ['0' ' ' ' ' ' ' ' ' '0']\n",
      " ['0' ' ' ' ' ' ' ' ' '0']\n",
      " ['0' ' ' ' ' ' ' ' ' '0']\n",
      " ['0' ' ' ' ' ' ' ' ' '0']\n",
      " ['0' ' ' ' ' ' ' ' ' '0']\n",
      " ['0' ' ' ' ' ' ' ' ' '0']\n",
      " ['0' ' ' ' ' ' ' ' ' '0']\n",
      " ['0' 'G' 'G' 'R' 'O' '4']]\n",
      "29\n",
      "\n",
      "\n",
      "\n",
      "['P' 'B' 'O' 'B'] \n",
      "\n",
      "[['1' 'B' 'B' 'Y' 'R' '1']\n",
      " ['1' 'R' 'R' 'P' 'R' '0']\n",
      " ['1' 'R' 'R' 'P' 'R' '0']\n",
      " ['1' 'R' 'R' 'P' 'R' '0']\n",
      " ['1' 'R' 'R' 'P' 'R' '0']\n",
      " ['1' 'O' 'Y' 'G' 'G' '0']\n",
      " ['2' 'B' 'K' 'B' 'G' '0']\n",
      " ['2' 'B' 'K' 'B' 'G' '0']\n",
      " ['2' 'B' 'K' 'B' 'G' '0']\n",
      " ['0' 'G' 'G' 'K' 'G' '0']\n",
      " ['0' 'G' 'G' 'K' 'G' '0']\n",
      " ['1' 'G' 'G' 'R' 'O' '0']]\n",
      "-12\n",
      "\n",
      "\n",
      "\n",
      "['O' 'R' 'Y' 'B'] \n",
      "\n",
      "[['2' 'B' 'B' 'Y' 'R' '1']\n",
      " ['0' 'R' 'R' 'P' 'R' '1']\n",
      " ['0' 'R' 'R' 'P' 'R' '1']\n",
      " ['0' 'R' 'R' 'P' 'R' '1']\n",
      " ['0' 'R' 'R' 'P' 'R' '1']\n",
      " ['1' 'B' 'K' 'B' 'G' '0']\n",
      " ['2' 'B' 'B' 'Y' 'R' '1']\n",
      " ['1' 'B' 'K' 'B' 'G' '0']\n",
      " ['1' 'B' 'K' 'B' 'G' '0']\n",
      " ['0' 'G' 'G' 'K' 'G' '0']\n",
      " ['1' 'P' 'B' 'Y' 'G' '1']\n",
      " ['2' 'G' 'G' 'R' 'O' '0']]\n",
      "-12\n",
      "\n",
      "\n",
      "\n",
      "['B' 'K' 'B' 'G'] \n",
      "\n",
      "[['0' ' ' ' ' ' ' ' ' '0']\n",
      " ['0' ' ' ' ' ' ' ' ' '0']\n",
      " ['0' ' ' ' ' ' ' ' ' '0']\n",
      " ['0' ' ' ' ' ' ' ' ' '0']\n",
      " ['0' ' ' ' ' ' ' ' ' '0']\n",
      " ['0' ' ' ' ' ' ' ' ' '0']\n",
      " ['0' ' ' ' ' ' ' ' ' '0']\n",
      " ['0' ' ' ' ' ' ' ' ' '0']\n",
      " ['0' 'B' 'K' 'B' 'G' '4']\n",
      " ['1' 'G' 'G' 'K' 'G' '1']\n",
      " ['1' 'G' 'G' 'K' 'G' '1']\n",
      " ['1' 'G' 'G' 'R' 'O' '0']]\n",
      "26\n",
      "\n",
      "\n",
      "\n",
      "['R' 'R' 'P' 'R'] \n",
      "\n",
      "[['0' ' ' ' ' ' ' ' ' '0']\n",
      " ['0' ' ' ' ' ' ' ' ' '0']\n",
      " ['0' ' ' ' ' ' ' ' ' '0']\n",
      " ['0' ' ' ' ' ' ' ' ' '0']\n",
      " ['0' 'R' 'R' 'P' 'R' '4']\n",
      " ['0' 'O' 'Y' 'G' 'G' '0']\n",
      " ['0' 'B' 'K' 'B' 'G' '0']\n",
      " ['0' 'B' 'K' 'B' 'G' '0']\n",
      " ['0' 'B' 'K' 'B' 'G' '0']\n",
      " ['0' 'G' 'G' 'K' 'G' '0']\n",
      " ['0' 'G' 'G' 'K' 'G' '0']\n",
      " ['1' 'G' 'G' 'R' 'O' '0']]\n",
      "22\n",
      "\n",
      "\n",
      "\n"
     ]
    }
   ],
   "source": [
    "for g in range(10):\n",
    "\n",
    "    state, _ = env.reset()\n",
    "    env.goal = env.goals[g]\n",
    "    env.goal_render = np.array([env.colour_dict[i] for i in env.goal])\n",
    "    print(env.goal_render, '\\n')\n",
    "    step = 0\n",
    "    ret = 0\n",
    "\n",
    "    while True:\n",
    "\n",
    "        state, reward, done, _, _ = env.step(agent.choose_action(state, exp=False))\n",
    "        step += 1\n",
    "        ret += reward\n",
    "\n",
    "        if done: break\n",
    "\n",
    "    env.render()\n",
    "    print(ret)\n",
    "    print('\\n\\n')"
   ]
  },
  {
   "cell_type": "code",
   "execution_count": 137,
   "id": "ef324c38",
   "metadata": {},
   "outputs": [
    {
     "name": "stdout",
     "output_type": "stream",
     "text": [
      "['R' 'K' 'P' 'O']\n",
      "[['0' ' ' ' ' ' ' ' ' '0']\n",
      " ['0' ' ' ' ' ' ' ' ' '0']\n",
      " ['0' ' ' ' ' ' ' ' ' '0']\n",
      " ['0' ' ' ' ' ' ' ' ' '0']\n",
      " ['0' ' ' ' ' ' ' ' ' '0']\n",
      " ['0' ' ' ' ' ' ' ' ' '0']\n",
      " ['0' ' ' ' ' ' ' ' ' '0']\n",
      " ['0' ' ' ' ' ' ' ' ' '0']\n",
      " ['0' ' ' ' ' ' ' ' ' '0']\n",
      " ['0' 'R' 'K' 'P' 'O' '4']\n",
      " ['0' 'K' 'K' 'P' 'P' '2']\n",
      " ['1' 'G' 'Y' 'B' 'K' '0']]\n"
     ]
    }
   ],
   "source": [
    "state = env.reset()\n",
    "env.goal = env.goals[1]\n",
    "env.goal_render = np.array([env.colour_dict[i] for i in env.goal])\n",
    "print(env.goal_render)\n",
    "step = 0\n",
    "\n",
    "agent.epsilon = 0\n",
    "\n",
    "while True:\n",
    "    \n",
    "    state, _, done, _ = env.step(agent.choose_action(tuple(state)))\n",
    "    step += 1\n",
    "    \n",
    "    if done: break\n",
    "        \n",
    "env.render()"
   ]
  },
  {
   "cell_type": "code",
   "execution_count": 138,
   "id": "a0d77977",
   "metadata": {},
   "outputs": [
    {
     "name": "stdout",
     "output_type": "stream",
     "text": [
      "['K' 'K' 'P' 'P']\n",
      "[['0' ' ' ' ' ' ' ' ' '0']\n",
      " ['0' ' ' ' ' ' ' ' ' '0']\n",
      " ['0' ' ' ' ' ' ' ' ' '0']\n",
      " ['0' ' ' ' ' ' ' ' ' '0']\n",
      " ['0' ' ' ' ' ' ' ' ' '0']\n",
      " ['0' ' ' ' ' ' ' ' ' '0']\n",
      " ['0' ' ' ' ' ' ' ' ' '0']\n",
      " ['0' ' ' ' ' ' ' ' ' '0']\n",
      " ['0' ' ' ' ' ' ' ' ' '0']\n",
      " ['0' ' ' ' ' ' ' ' ' '0']\n",
      " ['0' 'K' 'K' 'P' 'P' '4']\n",
      " ['1' 'G' 'Y' 'B' 'K' '0']]\n"
     ]
    }
   ],
   "source": [
    "state = env.reset()\n",
    "env.goal = env.goals[2]\n",
    "env.goal_render = np.array([env.colour_dict[i] for i in env.goal])\n",
    "print(env.goal_render)\n",
    "step = 0\n",
    "\n",
    "agent.epsilon = 0\n",
    "\n",
    "while True:\n",
    "    \n",
    "    state, _, done, _ = env.step(agent.choose_action(tuple(state)))\n",
    "    step += 1\n",
    "    \n",
    "    if done: break\n",
    "        \n",
    "env.render()"
   ]
  },
  {
   "cell_type": "code",
   "execution_count": 134,
   "id": "dc653c7d",
   "metadata": {},
   "outputs": [
    {
     "ename": "IndexError",
     "evalue": "index 3 is out of bounds for axis 0 with size 3",
     "output_type": "error",
     "traceback": [
      "\u001b[1;31m---------------------------------------------------------------------------\u001b[0m",
      "\u001b[1;31mIndexError\u001b[0m                                Traceback (most recent call last)",
      "Cell \u001b[1;32mIn[134], line 2\u001b[0m\n\u001b[0;32m      1\u001b[0m state \u001b[38;5;241m=\u001b[39m env\u001b[38;5;241m.\u001b[39mreset()\n\u001b[1;32m----> 2\u001b[0m env\u001b[38;5;241m.\u001b[39mgoal \u001b[38;5;241m=\u001b[39m \u001b[43menv\u001b[49m\u001b[38;5;241;43m.\u001b[39;49m\u001b[43mgoals\u001b[49m\u001b[43m[\u001b[49m\u001b[38;5;241;43m3\u001b[39;49m\u001b[43m]\u001b[49m\n\u001b[0;32m      3\u001b[0m env\u001b[38;5;241m.\u001b[39mgoal_render \u001b[38;5;241m=\u001b[39m np\u001b[38;5;241m.\u001b[39marray([env\u001b[38;5;241m.\u001b[39mcolour_dict[i] \u001b[38;5;28;01mfor\u001b[39;00m i \u001b[38;5;129;01min\u001b[39;00m env\u001b[38;5;241m.\u001b[39mgoal])\n\u001b[0;32m      4\u001b[0m \u001b[38;5;28mprint\u001b[39m(env\u001b[38;5;241m.\u001b[39mgoal_render)\n",
      "\u001b[1;31mIndexError\u001b[0m: index 3 is out of bounds for axis 0 with size 3"
     ]
    }
   ],
   "source": [
    "state = env.reset()\n",
    "env.goal = env.goals[3]\n",
    "env.goal_render = np.array([env.colour_dict[i] for i in env.goal])\n",
    "print(env.goal_render)\n",
    "step = 0\n",
    "\n",
    "agent.epsilon = 0\n",
    "\n",
    "while True:\n",
    "    \n",
    "    state, _, done, _ = env.step(agent.choose_action(tuple(state)))\n",
    "    step += 1\n",
    "    \n",
    "    if done: break\n",
    "        \n",
    "env.render()"
   ]
  }
 ],
 "metadata": {
  "kernelspec": {
   "display_name": "Python 3 (ipykernel)",
   "language": "python",
   "name": "python3"
  },
  "language_info": {
   "codemirror_mode": {
    "name": "ipython",
    "version": 3
   },
   "file_extension": ".py",
   "mimetype": "text/x-python",
   "name": "python",
   "nbconvert_exporter": "python",
   "pygments_lexer": "ipython3",
   "version": "3.9.13"
  }
 },
 "nbformat": 4,
 "nbformat_minor": 5
}
