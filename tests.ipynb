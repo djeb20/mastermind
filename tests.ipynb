{
 "cells": [
  {
   "cell_type": "code",
   "execution_count": 1,
   "id": "ef5da553",
   "metadata": {},
   "outputs": [],
   "source": [
    "import numpy as np\n",
    "from mastermind import mastermind\n",
    "from q_agent import q_agent\n",
    "from dqn import Agent\n",
    "\n",
    "env = mastermind(action_type='guess', reward_struc='basic', num_goals=20)"
   ]
  },
  {
   "cell_type": "markdown",
   "id": "f08228c6",
   "metadata": {},
   "source": [
    "# DQN"
   ]
  },
  {
   "cell_type": "code",
   "execution_count": 2,
   "id": "dd0da336",
   "metadata": {},
   "outputs": [],
   "source": [
    "agent = Agent(env, state_dim=env.state_dim, num_actions=env.action_dim,\n",
    "                 critic_arch=[128, 64], buffer_size=1e6, batch_size=64, decay=0.999,\n",
    "                 gamma=0.99, step_size=1e-4, \n",
    "                 tau=0.001, epsilon_start=1, epsilon_min=0.05)\n",
    "agent.fill_buffer(exp=True, multi=False, prop=1)"
   ]
  },
  {
   "cell_type": "code",
   "execution_count": 5,
   "id": "9143616f",
   "metadata": {
    "scrolled": true
   },
   "outputs": [
    {
     "name": "stdout",
     "output_type": "stream",
     "text": [
      "Episode number: 3880, Epsilon: 0.05, Average Return: -4.80\n",
      "Episode number: 3890, Epsilon: 0.05, Average Return: 10.20\n",
      "Episode number: 3900, Epsilon: 0.05, Average Return: -4.70\n",
      "Episode number: 3910, Epsilon: 0.05, Average Return: 2.50\n",
      "Episode number: 3920, Epsilon: 0.05, Average Return: 18.50\n",
      "Episode number: 3930, Epsilon: 0.05, Average Return: -0.90\n",
      "Episode number: 3940, Epsilon: 0.05, Average Return: 5.70\n",
      "Episode number: 3950, Epsilon: 0.05, Average Return: -4.60\n",
      "Episode number: 3960, Epsilon: 0.05, Average Return: 6.30\n",
      "Episode number: 3970, Epsilon: 0.05, Average Return: 5.10\n",
      "Episode number: 3980, Epsilon: 0.05, Average Return: -1.90\n",
      "Episode number: 3990, Epsilon: 0.05, Average Return: 5.80\n",
      "Episode number: 4000, Epsilon: 0.05, Average Return: 2.50\n",
      "Episode number: 4010, Epsilon: 0.05, Average Return: 11.10\n",
      "Episode number: 4020, Epsilon: 0.05, Average Return: 9.30\n",
      "Episode number: 4030, Epsilon: 0.05, Average Return: 6.50\n",
      "Episode number: 4040, Epsilon: 0.05, Average Return: -4.80\n",
      "Episode number: 4050, Epsilon: 0.05, Average Return: 6.50\n",
      "Episode number: 4060, Epsilon: 0.05, Average Return: 5.50\n",
      "Episode number: 4070, Epsilon: 0.05, Average Return: 12.60\n",
      "Episode number: 4080, Epsilon: 0.05, Average Return: 16.00\n",
      "Episode number: 4090, Epsilon: 0.05, Average Return: 19.50\n",
      "Episode number: 4100, Epsilon: 0.05, Average Return: 18.10\n",
      "Episode number: 4110, Epsilon: 0.05, Average Return: 15.60\n",
      "Episode number: 4120, Epsilon: 0.05, Average Return: 13.70\n",
      "Episode number: 4130, Epsilon: 0.05, Average Return: 13.90\n",
      "Episode number: 4140, Epsilon: 0.05, Average Return: -0.60\n",
      "Episode number: 4150, Epsilon: 0.05, Average Return: 3.20\n",
      "Episode number: 4160, Epsilon: 0.05, Average Return: -0.70\n",
      "Episode number: 4170, Epsilon: 0.05, Average Return: 6.40\n",
      "Episode number: 4180, Epsilon: 0.05, Average Return: 14.00\n",
      "Episode number: 4190, Epsilon: 0.05, Average Return: 10.20\n",
      "Episode number: 4200, Epsilon: 0.05, Average Return: 18.60\n",
      "Episode number: 4210, Epsilon: 0.05, Average Return: 15.20\n"
     ]
    },
    {
     "ename": "KeyboardInterrupt",
     "evalue": "",
     "output_type": "error",
     "traceback": [
      "\u001b[1;31m---------------------------------------------------------------------------\u001b[0m",
      "\u001b[1;31mKeyboardInterrupt\u001b[0m                         Traceback (most recent call last)",
      "\u001b[1;32m~\\AppData\\Local\\Temp\\ipykernel_10904\\895234923.py\u001b[0m in \u001b[0;36m<module>\u001b[1;34m\u001b[0m\n\u001b[1;32m----> 1\u001b[1;33m \u001b[0magent\u001b[0m\u001b[1;33m.\u001b[0m\u001b[0mtrain\u001b[0m\u001b[1;33m(\u001b[0m\u001b[1;36m1e7\u001b[0m\u001b[1;33m)\u001b[0m\u001b[1;33m\u001b[0m\u001b[1;33m\u001b[0m\u001b[0m\n\u001b[0m",
      "\u001b[1;32m~\\OneDrive\\Documents\\PhD\\Year 1\\Research\\matermind_wordle\\dqn.py\u001b[0m in \u001b[0;36mtrain\u001b[1;34m(self, reward_tol, num_episodes)\u001b[0m\n\u001b[0;32m    283\u001b[0m                 \u001b[0mdone\u001b[0m \u001b[1;33m=\u001b[0m \u001b[0mterminated\u001b[0m \u001b[1;32mor\u001b[0m \u001b[0mtruncated\u001b[0m\u001b[1;33m\u001b[0m\u001b[1;33m\u001b[0m\u001b[0m\n\u001b[0;32m    284\u001b[0m                 \u001b[0mself\u001b[0m\u001b[1;33m.\u001b[0m\u001b[0mstore\u001b[0m\u001b[1;33m(\u001b[0m\u001b[1;33m(\u001b[0m\u001b[0mstate\u001b[0m\u001b[1;33m,\u001b[0m \u001b[0maction\u001b[0m\u001b[1;33m,\u001b[0m \u001b[0mreward\u001b[0m\u001b[1;33m,\u001b[0m \u001b[0mn_state\u001b[0m\u001b[1;33m,\u001b[0m \u001b[0mdone\u001b[0m\u001b[1;33m)\u001b[0m\u001b[1;33m)\u001b[0m\u001b[1;33m\u001b[0m\u001b[1;33m\u001b[0m\u001b[0m\n\u001b[1;32m--> 285\u001b[1;33m                 \u001b[0mself\u001b[0m\u001b[1;33m.\u001b[0m\u001b[0mupdate\u001b[0m\u001b[1;33m(\u001b[0m\u001b[1;33m)\u001b[0m\u001b[1;33m\u001b[0m\u001b[1;33m\u001b[0m\u001b[0m\n\u001b[0m\u001b[0;32m    286\u001b[0m \u001b[1;33m\u001b[0m\u001b[0m\n\u001b[0;32m    287\u001b[0m                 \u001b[0mret\u001b[0m \u001b[1;33m+=\u001b[0m \u001b[0mreward\u001b[0m\u001b[1;33m\u001b[0m\u001b[1;33m\u001b[0m\u001b[0m\n",
      "\u001b[1;32m~\\OneDrive\\Documents\\PhD\\Year 1\\Research\\matermind_wordle\\dqn.py\u001b[0m in \u001b[0;36mupdate\u001b[1;34m(self)\u001b[0m\n\u001b[0;32m    135\u001b[0m \u001b[1;33m\u001b[0m\u001b[0m\n\u001b[0;32m    136\u001b[0m         \u001b[1;31m# Select a batch and update\u001b[0m\u001b[1;33m\u001b[0m\u001b[1;33m\u001b[0m\u001b[0m\n\u001b[1;32m--> 137\u001b[1;33m         \u001b[0mself\u001b[0m\u001b[1;33m.\u001b[0m\u001b[0mupdate_critic\u001b[0m\u001b[1;33m(\u001b[0m\u001b[1;33m*\u001b[0m\u001b[0mself\u001b[0m\u001b[1;33m.\u001b[0m\u001b[0mget_batch\u001b[0m\u001b[1;33m(\u001b[0m\u001b[1;33m)\u001b[0m\u001b[1;33m)\u001b[0m\u001b[1;33m\u001b[0m\u001b[1;33m\u001b[0m\u001b[0m\n\u001b[0m\u001b[0;32m    138\u001b[0m         \u001b[0mself\u001b[0m\u001b[1;33m.\u001b[0m\u001b[0mupdate_target\u001b[0m\u001b[1;33m(\u001b[0m\u001b[1;33m)\u001b[0m\u001b[1;33m\u001b[0m\u001b[1;33m\u001b[0m\u001b[0m\n\u001b[0;32m    139\u001b[0m \u001b[1;33m\u001b[0m\u001b[0m\n",
      "\u001b[1;32m~\\anaconda3\\envs\\tf_env\\lib\\site-packages\\tensorflow\\python\\util\\traceback_utils.py\u001b[0m in \u001b[0;36merror_handler\u001b[1;34m(*args, **kwargs)\u001b[0m\n\u001b[0;32m    148\u001b[0m     \u001b[0mfiltered_tb\u001b[0m \u001b[1;33m=\u001b[0m \u001b[1;32mNone\u001b[0m\u001b[1;33m\u001b[0m\u001b[1;33m\u001b[0m\u001b[0m\n\u001b[0;32m    149\u001b[0m     \u001b[1;32mtry\u001b[0m\u001b[1;33m:\u001b[0m\u001b[1;33m\u001b[0m\u001b[1;33m\u001b[0m\u001b[0m\n\u001b[1;32m--> 150\u001b[1;33m       \u001b[1;32mreturn\u001b[0m \u001b[0mfn\u001b[0m\u001b[1;33m(\u001b[0m\u001b[1;33m*\u001b[0m\u001b[0margs\u001b[0m\u001b[1;33m,\u001b[0m \u001b[1;33m**\u001b[0m\u001b[0mkwargs\u001b[0m\u001b[1;33m)\u001b[0m\u001b[1;33m\u001b[0m\u001b[1;33m\u001b[0m\u001b[0m\n\u001b[0m\u001b[0;32m    151\u001b[0m     \u001b[1;32mexcept\u001b[0m \u001b[0mException\u001b[0m \u001b[1;32mas\u001b[0m \u001b[0me\u001b[0m\u001b[1;33m:\u001b[0m\u001b[1;33m\u001b[0m\u001b[1;33m\u001b[0m\u001b[0m\n\u001b[0;32m    152\u001b[0m       \u001b[0mfiltered_tb\u001b[0m \u001b[1;33m=\u001b[0m \u001b[0m_process_traceback_frames\u001b[0m\u001b[1;33m(\u001b[0m\u001b[0me\u001b[0m\u001b[1;33m.\u001b[0m\u001b[0m__traceback__\u001b[0m\u001b[1;33m)\u001b[0m\u001b[1;33m\u001b[0m\u001b[1;33m\u001b[0m\u001b[0m\n",
      "\u001b[1;32m~\\anaconda3\\envs\\tf_env\\lib\\site-packages\\tensorflow\\python\\eager\\def_function.py\u001b[0m in \u001b[0;36m__call__\u001b[1;34m(self, *args, **kwds)\u001b[0m\n\u001b[0;32m    913\u001b[0m \u001b[1;33m\u001b[0m\u001b[0m\n\u001b[0;32m    914\u001b[0m       \u001b[1;32mwith\u001b[0m \u001b[0mOptionalXlaContext\u001b[0m\u001b[1;33m(\u001b[0m\u001b[0mself\u001b[0m\u001b[1;33m.\u001b[0m\u001b[0m_jit_compile\u001b[0m\u001b[1;33m)\u001b[0m\u001b[1;33m:\u001b[0m\u001b[1;33m\u001b[0m\u001b[1;33m\u001b[0m\u001b[0m\n\u001b[1;32m--> 915\u001b[1;33m         \u001b[0mresult\u001b[0m \u001b[1;33m=\u001b[0m \u001b[0mself\u001b[0m\u001b[1;33m.\u001b[0m\u001b[0m_call\u001b[0m\u001b[1;33m(\u001b[0m\u001b[1;33m*\u001b[0m\u001b[0margs\u001b[0m\u001b[1;33m,\u001b[0m \u001b[1;33m**\u001b[0m\u001b[0mkwds\u001b[0m\u001b[1;33m)\u001b[0m\u001b[1;33m\u001b[0m\u001b[1;33m\u001b[0m\u001b[0m\n\u001b[0m\u001b[0;32m    916\u001b[0m \u001b[1;33m\u001b[0m\u001b[0m\n\u001b[0;32m    917\u001b[0m       \u001b[0mnew_tracing_count\u001b[0m \u001b[1;33m=\u001b[0m \u001b[0mself\u001b[0m\u001b[1;33m.\u001b[0m\u001b[0mexperimental_get_tracing_count\u001b[0m\u001b[1;33m(\u001b[0m\u001b[1;33m)\u001b[0m\u001b[1;33m\u001b[0m\u001b[1;33m\u001b[0m\u001b[0m\n",
      "\u001b[1;32m~\\anaconda3\\envs\\tf_env\\lib\\site-packages\\tensorflow\\python\\eager\\def_function.py\u001b[0m in \u001b[0;36m_call\u001b[1;34m(self, *args, **kwds)\u001b[0m\n\u001b[0;32m    945\u001b[0m       \u001b[1;31m# In this case we have created variables on the first call, so we run the\u001b[0m\u001b[1;33m\u001b[0m\u001b[1;33m\u001b[0m\u001b[0m\n\u001b[0;32m    946\u001b[0m       \u001b[1;31m# defunned version which is guaranteed to never create variables.\u001b[0m\u001b[1;33m\u001b[0m\u001b[1;33m\u001b[0m\u001b[0m\n\u001b[1;32m--> 947\u001b[1;33m       \u001b[1;32mreturn\u001b[0m \u001b[0mself\u001b[0m\u001b[1;33m.\u001b[0m\u001b[0m_stateless_fn\u001b[0m\u001b[1;33m(\u001b[0m\u001b[1;33m*\u001b[0m\u001b[0margs\u001b[0m\u001b[1;33m,\u001b[0m \u001b[1;33m**\u001b[0m\u001b[0mkwds\u001b[0m\u001b[1;33m)\u001b[0m  \u001b[1;31m# pylint: disable=not-callable\u001b[0m\u001b[1;33m\u001b[0m\u001b[1;33m\u001b[0m\u001b[0m\n\u001b[0m\u001b[0;32m    948\u001b[0m     \u001b[1;32melif\u001b[0m \u001b[0mself\u001b[0m\u001b[1;33m.\u001b[0m\u001b[0m_stateful_fn\u001b[0m \u001b[1;32mis\u001b[0m \u001b[1;32mnot\u001b[0m \u001b[1;32mNone\u001b[0m\u001b[1;33m:\u001b[0m\u001b[1;33m\u001b[0m\u001b[1;33m\u001b[0m\u001b[0m\n\u001b[0;32m    949\u001b[0m       \u001b[1;31m# Release the lock early so that multiple threads can perform the call\u001b[0m\u001b[1;33m\u001b[0m\u001b[1;33m\u001b[0m\u001b[0m\n",
      "\u001b[1;32m~\\anaconda3\\envs\\tf_env\\lib\\site-packages\\tensorflow\\python\\eager\\function.py\u001b[0m in \u001b[0;36m__call__\u001b[1;34m(self, *args, **kwargs)\u001b[0m\n\u001b[0;32m   2451\u001b[0m       (graph_function,\n\u001b[0;32m   2452\u001b[0m        filtered_flat_args) = self._maybe_define_function(args, kwargs)\n\u001b[1;32m-> 2453\u001b[1;33m     return graph_function._call_flat(\n\u001b[0m\u001b[0;32m   2454\u001b[0m         filtered_flat_args, captured_inputs=graph_function.captured_inputs)  # pylint: disable=protected-access\n\u001b[0;32m   2455\u001b[0m \u001b[1;33m\u001b[0m\u001b[0m\n",
      "\u001b[1;32m~\\anaconda3\\envs\\tf_env\\lib\\site-packages\\tensorflow\\python\\eager\\function.py\u001b[0m in \u001b[0;36m_call_flat\u001b[1;34m(self, args, captured_inputs, cancellation_manager)\u001b[0m\n\u001b[0;32m   1858\u001b[0m         and executing_eagerly):\n\u001b[0;32m   1859\u001b[0m       \u001b[1;31m# No tape is watching; skip to running the function.\u001b[0m\u001b[1;33m\u001b[0m\u001b[1;33m\u001b[0m\u001b[0m\n\u001b[1;32m-> 1860\u001b[1;33m       return self._build_call_outputs(self._inference_function.call(\n\u001b[0m\u001b[0;32m   1861\u001b[0m           ctx, args, cancellation_manager=cancellation_manager))\n\u001b[0;32m   1862\u001b[0m     forward_backward = self._select_forward_and_backward_functions(\n",
      "\u001b[1;32m~\\anaconda3\\envs\\tf_env\\lib\\site-packages\\tensorflow\\python\\eager\\function.py\u001b[0m in \u001b[0;36mcall\u001b[1;34m(self, ctx, args, cancellation_manager)\u001b[0m\n\u001b[0;32m    495\u001b[0m       \u001b[1;32mwith\u001b[0m \u001b[0m_InterpolateFunctionError\u001b[0m\u001b[1;33m(\u001b[0m\u001b[0mself\u001b[0m\u001b[1;33m)\u001b[0m\u001b[1;33m:\u001b[0m\u001b[1;33m\u001b[0m\u001b[1;33m\u001b[0m\u001b[0m\n\u001b[0;32m    496\u001b[0m         \u001b[1;32mif\u001b[0m \u001b[0mcancellation_manager\u001b[0m \u001b[1;32mis\u001b[0m \u001b[1;32mNone\u001b[0m\u001b[1;33m:\u001b[0m\u001b[1;33m\u001b[0m\u001b[1;33m\u001b[0m\u001b[0m\n\u001b[1;32m--> 497\u001b[1;33m           outputs = execute.execute(\n\u001b[0m\u001b[0;32m    498\u001b[0m               \u001b[0mstr\u001b[0m\u001b[1;33m(\u001b[0m\u001b[0mself\u001b[0m\u001b[1;33m.\u001b[0m\u001b[0msignature\u001b[0m\u001b[1;33m.\u001b[0m\u001b[0mname\u001b[0m\u001b[1;33m)\u001b[0m\u001b[1;33m,\u001b[0m\u001b[1;33m\u001b[0m\u001b[1;33m\u001b[0m\u001b[0m\n\u001b[0;32m    499\u001b[0m               \u001b[0mnum_outputs\u001b[0m\u001b[1;33m=\u001b[0m\u001b[0mself\u001b[0m\u001b[1;33m.\u001b[0m\u001b[0m_num_outputs\u001b[0m\u001b[1;33m,\u001b[0m\u001b[1;33m\u001b[0m\u001b[1;33m\u001b[0m\u001b[0m\n",
      "\u001b[1;32m~\\anaconda3\\envs\\tf_env\\lib\\site-packages\\tensorflow\\python\\eager\\execute.py\u001b[0m in \u001b[0;36mquick_execute\u001b[1;34m(op_name, num_outputs, inputs, attrs, ctx, name)\u001b[0m\n\u001b[0;32m     52\u001b[0m   \u001b[1;32mtry\u001b[0m\u001b[1;33m:\u001b[0m\u001b[1;33m\u001b[0m\u001b[1;33m\u001b[0m\u001b[0m\n\u001b[0;32m     53\u001b[0m     \u001b[0mctx\u001b[0m\u001b[1;33m.\u001b[0m\u001b[0mensure_initialized\u001b[0m\u001b[1;33m(\u001b[0m\u001b[1;33m)\u001b[0m\u001b[1;33m\u001b[0m\u001b[1;33m\u001b[0m\u001b[0m\n\u001b[1;32m---> 54\u001b[1;33m     tensors = pywrap_tfe.TFE_Py_Execute(ctx._handle, device_name, op_name,\n\u001b[0m\u001b[0;32m     55\u001b[0m                                         inputs, attrs, num_outputs)\n\u001b[0;32m     56\u001b[0m   \u001b[1;32mexcept\u001b[0m \u001b[0mcore\u001b[0m\u001b[1;33m.\u001b[0m\u001b[0m_NotOkStatusException\u001b[0m \u001b[1;32mas\u001b[0m \u001b[0me\u001b[0m\u001b[1;33m:\u001b[0m\u001b[1;33m\u001b[0m\u001b[1;33m\u001b[0m\u001b[0m\n",
      "\u001b[1;31mKeyboardInterrupt\u001b[0m: "
     ]
    }
   ],
   "source": [
    "agent.train(1e7)"
   ]
  },
  {
   "cell_type": "markdown",
   "id": "0a0baf2e",
   "metadata": {},
   "source": [
    "# Q Learning"
   ]
  },
  {
   "cell_type": "code",
   "execution_count": null,
   "id": "6cbf4467",
   "metadata": {
    "scrolled": true
   },
   "outputs": [
    {
     "name": "stdout",
     "output_type": "stream",
     "text": [
      "[['0' ' ' ' ' ' ' ' ' '0']\n",
      " ['0' ' ' ' ' ' ' ' ' '0']\n",
      " ['0' ' ' ' ' ' ' ' ' '0']\n",
      " ['0' ' ' ' ' ' ' ' ' '0']\n",
      " ['0' ' ' ' ' ' ' ' ' '0']\n",
      " ['0' ' ' ' ' ' ' ' ' '0']\n",
      " ['0' ' ' ' ' ' ' ' ' '0']\n",
      " ['0' ' ' ' ' ' ' ' ' '0']\n",
      " ['0' ' ' ' ' ' ' ' ' '0']\n",
      " ['0' ' ' ' ' ' ' ' ' '0']\n",
      " ['0' ' ' ' ' ' ' ' ' '0']\n",
      " ['0' ' ' ' ' ' ' ' ' '0']]\n"
     ]
    },
    {
     "name": "stderr",
     "output_type": "stream",
     "text": [
      "  0%|                                                                                     | 0/10000000 [00:00<?, ?it/s]C:\\Users\\danbe\\anaconda3\\envs\\tf_env\\lib\\site-packages\\numpy\\core\\_methods.py:230: RuntimeWarning: invalid value encountered in subtract\n",
      "  x = asanyarray(arr - arrmean)\n",
      "  0%|                                                                         | 34/10000000 [00:00<9:14:21, 300.65it/s]"
     ]
    },
    {
     "name": "stdout",
     "output_type": "stream",
     "text": [
      "\n",
      "Average td error: 1.0000, STD of STD: nan, Average ret: -12.00, Average steps: 12.00, Num_states: 12\n"
     ]
    },
    {
     "name": "stderr",
     "output_type": "stream",
     "text": [
      "  0%|                                                                       | 1120/10000000 [00:02<4:34:28, 607.16it/s]"
     ]
    },
    {
     "name": "stdout",
     "output_type": "stream",
     "text": [
      "\n",
      "Average td error: 0.9994, STD of STD: 0.006849962434372433, Average ret: -11.87, Average steps: 11.98, Num_states: 10996\n"
     ]
    },
    {
     "name": "stderr",
     "output_type": "stream",
     "text": [
      "  0%|                                                                       | 2060/10000000 [00:03<4:38:07, 599.14it/s]"
     ]
    },
    {
     "name": "stdout",
     "output_type": "stream",
     "text": [
      "\n",
      "Average td error: 0.9994, STD of STD: 0.0020501221551068563, Average ret: -11.96, Average steps: 11.99, Num_states: 21984\n"
     ]
    },
    {
     "name": "stderr",
     "output_type": "stream",
     "text": [
      "  0%|                                                                       | 3093/10000000 [00:05<4:35:46, 604.17it/s]"
     ]
    },
    {
     "name": "stdout",
     "output_type": "stream",
     "text": [
      "\n",
      "Average td error: 0.9998, STD of STD: 0.0016186916052197504, Average ret: -11.86, Average steps: 11.98, Num_states: 32960\n"
     ]
    },
    {
     "name": "stderr",
     "output_type": "stream",
     "text": [
      "  0%|                                                                       | 4113/10000000 [00:07<4:30:04, 616.85it/s]"
     ]
    },
    {
     "name": "stdout",
     "output_type": "stream",
     "text": [
      "\n",
      "Average td error: 0.9990, STD of STD: 0.0013040908721497202, Average ret: -11.87, Average steps: 11.99, Num_states: 43946\n"
     ]
    },
    {
     "name": "stderr",
     "output_type": "stream",
     "text": [
      "  0%|                                                                       | 5061/10000000 [00:08<4:34:14, 607.42it/s]"
     ]
    },
    {
     "name": "stdout",
     "output_type": "stream",
     "text": [
      "\n",
      "Average td error: 0.9834, STD of STD: 0.0012142090544500863, Average ret: -11.77, Average steps: 11.95, Num_states: 54710\n"
     ]
    },
    {
     "name": "stderr",
     "output_type": "stream",
     "text": [
      "  0%|                                                                       | 6058/10000000 [00:10<4:36:21, 602.70it/s]"
     ]
    },
    {
     "name": "stdout",
     "output_type": "stream",
     "text": [
      "\n",
      "Average td error: 0.9831, STD of STD: 0.0009287651248198909, Average ret: -11.94, Average steps: 12.00, Num_states: 65498\n"
     ]
    },
    {
     "name": "stderr",
     "output_type": "stream",
     "text": [
      "  0%|                                                                       | 7079/10000000 [00:11<4:34:28, 606.80it/s]"
     ]
    },
    {
     "name": "stdout",
     "output_type": "stream",
     "text": [
      "\n",
      "Average td error: 0.9828, STD of STD: 0.0007820279176659514, Average ret: -11.88, Average steps: 11.97, Num_states: 76245\n"
     ]
    },
    {
     "name": "stderr",
     "output_type": "stream",
     "text": [
      "  0%|                                                                       | 8073/10000000 [00:13<4:45:55, 582.42it/s]"
     ]
    },
    {
     "name": "stdout",
     "output_type": "stream",
     "text": [
      "\n",
      "Average td error: 0.9829, STD of STD: 0.0007035303995091486, Average ret: -11.84, Average steps: 11.96, Num_states: 86976\n"
     ]
    },
    {
     "name": "stderr",
     "output_type": "stream",
     "text": [
      "  0%|                                                                       | 9049/10000000 [00:15<4:46:47, 580.63it/s]"
     ]
    },
    {
     "name": "stdout",
     "output_type": "stream",
     "text": [
      "\n",
      "Average td error: 0.9701, STD of STD: 0.0005566636434588336, Average ret: -11.97, Average steps: 12.00, Num_states: 97679\n"
     ]
    },
    {
     "name": "stderr",
     "output_type": "stream",
     "text": [
      "  0%|                                                                      | 10110/10000000 [00:17<4:44:38, 584.93it/s]"
     ]
    },
    {
     "name": "stdout",
     "output_type": "stream",
     "text": [
      "\n",
      "Average td error: 0.9699, STD of STD: 0.0004819850531675092, Average ret: -11.93, Average steps: 11.99, Num_states: 108310\n"
     ]
    },
    {
     "name": "stderr",
     "output_type": "stream",
     "text": [
      "  0%|                                                                      | 11081/10000000 [00:18<4:46:23, 581.32it/s]"
     ]
    },
    {
     "name": "stdout",
     "output_type": "stream",
     "text": [
      "\n",
      "Average td error: 0.9974, STD of STD: 0.0021297967533497916, Average ret: -11.89, Average steps: 11.98, Num_states: 118933\n"
     ]
    },
    {
     "name": "stderr",
     "output_type": "stream",
     "text": [
      "  0%|                                                                      | 12121/10000000 [00:20<4:52:25, 569.25it/s]"
     ]
    },
    {
     "name": "stdout",
     "output_type": "stream",
     "text": [
      "\n",
      "Average td error: 0.9694, STD of STD: 0.0004125207859009824, Average ret: -11.84, Average steps: 11.96, Num_states: 129511\n"
     ]
    },
    {
     "name": "stderr",
     "output_type": "stream",
     "text": [
      "  0%|                                                                      | 13095/10000000 [00:22<4:38:17, 598.09it/s]"
     ]
    },
    {
     "name": "stdout",
     "output_type": "stream",
     "text": [
      "\n",
      "Average td error: 0.9594, STD of STD: 0.0003457039271482963, Average ret: -11.96, Average steps: 11.99, Num_states: 140104\n"
     ]
    },
    {
     "name": "stderr",
     "output_type": "stream",
     "text": [
      "  0%|                                                                      | 14075/10000000 [00:23<4:51:20, 571.26it/s]"
     ]
    },
    {
     "name": "stdout",
     "output_type": "stream",
     "text": [
      "\n",
      "Average td error: 0.9593, STD of STD: 0.0003220329569986504, Average ret: -11.90, Average steps: 11.99, Num_states: 150612\n"
     ]
    },
    {
     "name": "stderr",
     "output_type": "stream",
     "text": [
      "  0%|                                                                      | 15092/10000000 [00:25<4:43:03, 587.90it/s]"
     ]
    },
    {
     "name": "stdout",
     "output_type": "stream",
     "text": [
      "\n",
      "Average td error: 0.9592, STD of STD: 0.0002944922730307704, Average ret: -11.93, Average steps: 11.99, Num_states: 161125\n"
     ]
    },
    {
     "name": "stderr",
     "output_type": "stream",
     "text": [
      "  0%|                                                                      | 16081/10000000 [00:27<4:44:51, 584.15it/s]"
     ]
    },
    {
     "name": "stdout",
     "output_type": "stream",
     "text": [
      "\n",
      "Average td error: 0.9591, STD of STD: 0.000278533422982603, Average ret: -11.88, Average steps: 11.97, Num_states: 171627\n"
     ]
    },
    {
     "name": "stderr",
     "output_type": "stream",
     "text": [
      "  0%|                                                                      | 17064/10000000 [00:29<4:39:48, 594.64it/s]"
     ]
    },
    {
     "name": "stdout",
     "output_type": "stream",
     "text": [
      "\n",
      "Average td error: 1.0064, STD of STD: 0.0028916040648466266, Average ret: -11.89, Average steps: 11.98, Num_states: 182075\n"
     ]
    },
    {
     "name": "stderr",
     "output_type": "stream",
     "text": [
      "  0%|▏                                                                     | 18051/10000000 [00:30<4:42:46, 588.35it/s]"
     ]
    },
    {
     "name": "stdout",
     "output_type": "stream",
     "text": [
      "\n",
      "Average td error: 0.9782, STD of STD: 0.0011587139226831745, Average ret: -11.82, Average steps: 11.97, Num_states: 192474\n"
     ]
    },
    {
     "name": "stderr",
     "output_type": "stream",
     "text": [
      "  0%|▏                                                                     | 19057/10000000 [00:32<4:41:38, 590.66it/s]"
     ]
    },
    {
     "name": "stdout",
     "output_type": "stream",
     "text": [
      "\n",
      "Average td error: 0.9508, STD of STD: 0.00024513485774574475, Average ret: -11.82, Average steps: 11.97, Num_states: 202867\n"
     ]
    },
    {
     "name": "stderr",
     "output_type": "stream",
     "text": [
      "  0%|▏                                                                     | 20088/10000000 [00:34<4:41:30, 590.85it/s]"
     ]
    },
    {
     "name": "stdout",
     "output_type": "stream",
     "text": [
      "\n",
      "Average td error: 0.9780, STD of STD: 0.000884834133742304, Average ret: -11.89, Average steps: 11.98, Num_states: 213288\n"
     ]
    },
    {
     "name": "stderr",
     "output_type": "stream",
     "text": [
      "  0%|▏                                                                     | 21108/10000000 [00:35<4:50:48, 571.92it/s]"
     ]
    },
    {
     "name": "stdout",
     "output_type": "stream",
     "text": [
      "\n",
      "Average td error: 0.9722, STD of STD: 0.0003753032177827763, Average ret: -11.86, Average steps: 11.98, Num_states: 223677\n"
     ]
    },
    {
     "name": "stderr",
     "output_type": "stream",
     "text": [
      "  0%|▏                                                                     | 22061/10000000 [00:37<6:05:08, 455.44it/s]"
     ]
    },
    {
     "name": "stdout",
     "output_type": "stream",
     "text": [
      "\n",
      "Average td error: 0.9442, STD of STD: 0.00021154454001915123, Average ret: -11.85, Average steps: 11.96, Num_states: 233974\n"
     ]
    },
    {
     "name": "stderr",
     "output_type": "stream",
     "text": [
      "  0%|▏                                                                     | 23090/10000000 [00:39<5:01:04, 552.31it/s]"
     ]
    },
    {
     "name": "stdout",
     "output_type": "stream",
     "text": [
      "\n",
      "Average td error: 0.9721, STD of STD: 0.0005712932024175899, Average ret: -11.86, Average steps: 11.98, Num_states: 244330\n"
     ]
    },
    {
     "name": "stderr",
     "output_type": "stream",
     "text": [
      "  0%|▏                                                                     | 24093/10000000 [00:41<4:41:53, 589.81it/s]"
     ]
    },
    {
     "name": "stdout",
     "output_type": "stream",
     "text": [
      "\n",
      "Average td error: 0.9713, STD of STD: 0.0011798766116616342, Average ret: -11.73, Average steps: 11.94, Num_states: 254621\n"
     ]
    },
    {
     "name": "stderr",
     "output_type": "stream",
     "text": [
      "  0%|▏                                                                     | 25072/10000000 [00:43<5:42:01, 486.07it/s]"
     ]
    },
    {
     "name": "stdout",
     "output_type": "stream",
     "text": [
      "\n",
      "Average td error: 1.0582, STD of STD: 0.0010468198937235126, Average ret: -11.70, Average steps: 11.94, Num_states: 264891\n"
     ]
    },
    {
     "name": "stderr",
     "output_type": "stream",
     "text": [
      "  0%|▏                                                                     | 26038/10000000 [00:44<5:07:50, 540.00it/s]"
     ]
    },
    {
     "name": "stdout",
     "output_type": "stream",
     "text": [
      "\n",
      "Average td error: 0.9660, STD of STD: 0.0009490533005322957, Average ret: -11.93, Average steps: 11.99, Num_states: 275176\n"
     ]
    },
    {
     "name": "stderr",
     "output_type": "stream",
     "text": [
      "  0%|▏                                                                     | 27055/10000000 [00:47<5:07:03, 541.32it/s]"
     ]
    },
    {
     "name": "stdout",
     "output_type": "stream",
     "text": [
      "\n",
      "Average td error: 1.1480, STD of STD: 0.0041016006491216665, Average ret: -11.70, Average steps: 11.94, Num_states: 285416\n"
     ]
    },
    {
     "name": "stderr",
     "output_type": "stream",
     "text": [
      "  0%|▏                                                                     | 28082/10000000 [00:48<4:54:51, 563.66it/s]"
     ]
    },
    {
     "name": "stdout",
     "output_type": "stream",
     "text": [
      "\n",
      "Average td error: 0.9947, STD of STD: 0.0012208205453755853, Average ret: -11.84, Average steps: 11.99, Num_states: 295691\n"
     ]
    },
    {
     "name": "stderr",
     "output_type": "stream",
     "text": [
      "  0%|▏                                                                     | 29057/10000000 [00:50<5:39:33, 489.40it/s]"
     ]
    },
    {
     "name": "stdout",
     "output_type": "stream",
     "text": [
      "\n",
      "Average td error: 0.9385, STD of STD: 0.00018543445352340676, Average ret: -11.93, Average steps: 11.99, Num_states: 305973\n"
     ]
    },
    {
     "name": "stderr",
     "output_type": "stream",
     "text": [
      "  0%|▏                                                                     | 30063/10000000 [00:52<5:03:18, 547.84it/s]"
     ]
    },
    {
     "name": "stdout",
     "output_type": "stream",
     "text": [
      "\n",
      "Average td error: 0.9342, STD of STD: 0.0001738657663307327, Average ret: -11.89, Average steps: 11.98, Num_states: 316207\n"
     ]
    },
    {
     "name": "stderr",
     "output_type": "stream",
     "text": [
      "  0%|▏                                                                     | 31061/10000000 [00:54<5:45:01, 481.55it/s]"
     ]
    },
    {
     "name": "stdout",
     "output_type": "stream",
     "text": [
      "\n",
      "Average td error: 0.9342, STD of STD: 0.0001677505649932031, Average ret: -11.91, Average steps: 12.00, Num_states: 326488\n"
     ]
    },
    {
     "name": "stderr",
     "output_type": "stream",
     "text": [
      "  0%|▏                                                                     | 32041/10000000 [00:56<5:25:32, 510.32it/s]"
     ]
    },
    {
     "name": "stdout",
     "output_type": "stream",
     "text": [
      "\n",
      "Average td error: 0.9342, STD of STD: 0.00016214395816846946, Average ret: -11.90, Average steps: 11.99, Num_states: 336757\n"
     ]
    },
    {
     "name": "stderr",
     "output_type": "stream",
     "text": [
      "  0%|▏                                                                     | 33067/10000000 [00:59<6:42:30, 412.71it/s]"
     ]
    },
    {
     "name": "stdout",
     "output_type": "stream",
     "text": [
      "\n",
      "Average td error: 0.9343, STD of STD: 0.00015540749439541188, Average ret: -11.93, Average steps: 11.99, Num_states: 346986\n"
     ]
    },
    {
     "name": "stderr",
     "output_type": "stream",
     "text": [
      "  0%|▏                                                                     | 34052/10000000 [01:01<6:16:25, 441.26it/s]"
     ]
    },
    {
     "name": "stdout",
     "output_type": "stream",
     "text": [
      "\n",
      "Average td error: 0.9309, STD of STD: 0.0001525135960906285, Average ret: -11.75, Average steps: 11.96, Num_states: 357161\n"
     ]
    },
    {
     "name": "stderr",
     "output_type": "stream",
     "text": [
      "  0%|▏                                                                     | 35089/10000000 [01:03<5:50:17, 474.12it/s]"
     ]
    },
    {
     "name": "stdout",
     "output_type": "stream",
     "text": [
      "\n",
      "Average td error: 0.9588, STD of STD: 0.0007858967503955187, Average ret: -11.58, Average steps: 11.91, Num_states: 367301\n"
     ]
    },
    {
     "name": "stderr",
     "output_type": "stream",
     "text": [
      "  0%|▎                                                                     | 36090/10000000 [01:05<5:27:41, 506.77it/s]"
     ]
    },
    {
     "name": "stdout",
     "output_type": "stream",
     "text": [
      "\n",
      "Average td error: 0.9309, STD of STD: 0.0001499330134622861, Average ret: -11.96, Average steps: 11.99, Num_states: 377527\n"
     ]
    },
    {
     "name": "stderr",
     "output_type": "stream",
     "text": [
      "  0%|▎                                                                     | 37046/10000000 [01:07<6:02:24, 458.19it/s]"
     ]
    },
    {
     "name": "stdout",
     "output_type": "stream",
     "text": [
      "\n",
      "Average td error: 0.9308, STD of STD: 0.0001453872041713599, Average ret: -11.89, Average steps: 11.98, Num_states: 387728\n"
     ]
    },
    {
     "name": "stderr",
     "output_type": "stream",
     "text": [
      "  0%|▎                                                                     | 38074/10000000 [01:09<6:59:17, 395.98it/s]"
     ]
    },
    {
     "name": "stdout",
     "output_type": "stream",
     "text": [
      "\n",
      "Average td error: 0.9281, STD of STD: 0.000137298374565462, Average ret: -11.93, Average steps: 11.99, Num_states: 397927\n"
     ]
    },
    {
     "name": "stderr",
     "output_type": "stream",
     "text": [
      "  0%|▎                                                                     | 39062/10000000 [01:12<6:52:00, 402.94it/s]"
     ]
    },
    {
     "name": "stdout",
     "output_type": "stream",
     "text": [
      "\n",
      "Average td error: 0.9281, STD of STD: 0.00013710365239042634, Average ret: -11.76, Average steps: 11.94, Num_states: 408042\n"
     ]
    },
    {
     "name": "stderr",
     "output_type": "stream",
     "text": [
      "  0%|▎                                                                     | 40060/10000000 [01:14<6:32:07, 423.34it/s]"
     ]
    },
    {
     "name": "stdout",
     "output_type": "stream",
     "text": [
      "\n",
      "Average td error: 0.9844, STD of STD: 0.0006641934288923102, Average ret: -11.96, Average steps: 11.99, Num_states: 418241\n"
     ]
    },
    {
     "name": "stderr",
     "output_type": "stream",
     "text": [
      "  0%|▎                                                                     | 41044/10000000 [01:16<6:01:00, 459.77it/s]"
     ]
    },
    {
     "name": "stdout",
     "output_type": "stream",
     "text": [
      "\n",
      "Average td error: 0.9281, STD of STD: 0.00012515704467889102, Average ret: -12.00, Average steps: 12.00, Num_states: 428432\n"
     ]
    },
    {
     "name": "stderr",
     "output_type": "stream",
     "text": [
      "  0%|▎                                                                     | 42061/10000000 [01:19<6:40:57, 413.92it/s]"
     ]
    },
    {
     "name": "stdout",
     "output_type": "stream",
     "text": [
      "\n",
      "Average td error: 0.9259, STD of STD: 0.0001209496009706134, Average ret: -11.85, Average steps: 11.97, Num_states: 438609\n"
     ]
    },
    {
     "name": "stderr",
     "output_type": "stream",
     "text": [
      "  0%|▎                                                                     | 43100/10000000 [01:21<6:13:36, 444.18it/s]"
     ]
    },
    {
     "name": "stdout",
     "output_type": "stream",
     "text": [
      "\n",
      "Average td error: 0.9258, STD of STD: 0.00011792709449086427, Average ret: -11.89, Average steps: 11.98, Num_states: 448771\n"
     ]
    },
    {
     "name": "stderr",
     "output_type": "stream",
     "text": [
      "  0%|▎                                                                     | 44056/10000000 [01:24<6:54:09, 400.65it/s]"
     ]
    },
    {
     "name": "stdout",
     "output_type": "stream",
     "text": [
      "\n",
      "Average td error: 0.9809, STD of STD: 0.0008726768002799113, Average ret: -11.86, Average steps: 11.97, Num_states: 458932\n"
     ]
    },
    {
     "name": "stderr",
     "output_type": "stream",
     "text": [
      "  0%|▎                                                                     | 45052/10000000 [01:26<7:04:17, 391.05it/s]"
     ]
    },
    {
     "name": "stdout",
     "output_type": "stream",
     "text": [
      "\n",
      "Average td error: 0.9258, STD of STD: 0.00011158132858313432, Average ret: -11.97, Average steps: 12.00, Num_states: 469098\n"
     ]
    },
    {
     "name": "stderr",
     "output_type": "stream",
     "text": [
      "  0%|▎                                                                     | 46034/10000000 [01:29<6:50:03, 404.57it/s]"
     ]
    },
    {
     "name": "stdout",
     "output_type": "stream",
     "text": [
      "\n",
      "Average td error: 1.1923, STD of STD: 0.001613983644716144, Average ret: -11.04, Average steps: 11.76, Num_states: 478897\n"
     ]
    },
    {
     "name": "stderr",
     "output_type": "stream",
     "text": [
      "  0%|▎                                                                     | 47044/10000000 [01:31<6:31:10, 424.06it/s]"
     ]
    },
    {
     "name": "stdout",
     "output_type": "stream",
     "text": [
      "\n",
      "Average td error: 0.9241, STD of STD: 0.00012232356443550436, Average ret: -11.81, Average steps: 11.96, Num_states: 489014\n"
     ]
    },
    {
     "name": "stderr",
     "output_type": "stream",
     "text": [
      "  0%|▎                                                                     | 48035/10000000 [01:34<7:06:33, 388.85it/s]"
     ]
    },
    {
     "name": "stdout",
     "output_type": "stream",
     "text": [
      "\n",
      "Average td error: 0.9241, STD of STD: 0.00012903203623743353, Average ret: -11.33, Average steps: 11.84, Num_states: 498951\n"
     ]
    },
    {
     "name": "stderr",
     "output_type": "stream",
     "text": [
      "  0%|▎                                                                     | 49059/10000000 [01:36<6:16:55, 440.00it/s]"
     ]
    },
    {
     "name": "stdout",
     "output_type": "stream",
     "text": [
      "\n",
      "Average td error: 0.9241, STD of STD: 0.00012582277082850803, Average ret: -11.90, Average steps: 11.99, Num_states: 509081\n"
     ]
    },
    {
     "name": "stderr",
     "output_type": "stream",
     "text": [
      "  1%|▎                                                                     | 50055/10000000 [01:39<7:41:54, 359.02it/s]"
     ]
    },
    {
     "name": "stdout",
     "output_type": "stream",
     "text": [
      "\n",
      "Average td error: 0.9241, STD of STD: 0.00012084293749543596, Average ret: -12.00, Average steps: 12.00, Num_states: 519230\n"
     ]
    },
    {
     "name": "stderr",
     "output_type": "stream",
     "text": [
      "  1%|▎                                                                     | 51048/10000000 [01:41<6:54:04, 400.46it/s]"
     ]
    },
    {
     "name": "stdout",
     "output_type": "stream",
     "text": [
      "\n",
      "Average td error: 0.9227, STD of STD: 0.00011880745011450334, Average ret: -11.78, Average steps: 11.96, Num_states: 529321\n"
     ]
    },
    {
     "name": "stderr",
     "output_type": "stream",
     "text": [
      "  1%|▎                                                                     | 52043/10000000 [01:44<8:39:05, 319.40it/s]"
     ]
    },
    {
     "name": "stdout",
     "output_type": "stream",
     "text": [
      "\n",
      "Average td error: 0.9227, STD of STD: 0.00011603826248197313, Average ret: -11.90, Average steps: 11.99, Num_states: 539440\n"
     ]
    },
    {
     "name": "stderr",
     "output_type": "stream",
     "text": [
      "  1%|▎                                                                     | 53048/10000000 [01:46<7:04:44, 390.31it/s]"
     ]
    },
    {
     "name": "stdout",
     "output_type": "stream",
     "text": [
      "\n",
      "Average td error: 0.9226, STD of STD: 0.00011451618814787034, Average ret: -11.82, Average steps: 11.97, Num_states: 549531\n"
     ]
    },
    {
     "name": "stderr",
     "output_type": "stream",
     "text": [
      "  1%|▍                                                                     | 54061/10000000 [01:49<6:51:16, 403.05it/s]"
     ]
    },
    {
     "name": "stdout",
     "output_type": "stream",
     "text": [
      "\n",
      "Average td error: 0.9507, STD of STD: 0.00028735062138950085, Average ret: -11.78, Average steps: 11.96, Num_states: 559639\n"
     ]
    },
    {
     "name": "stderr",
     "output_type": "stream",
     "text": [
      "  1%|▍                                                                     | 55029/10000000 [01:52<7:48:52, 353.51it/s]"
     ]
    },
    {
     "name": "stdout",
     "output_type": "stream",
     "text": [
      "\n",
      "Average td error: 0.9486, STD of STD: 0.000365949158828025, Average ret: -11.79, Average steps: 11.97, Num_states: 569737\n"
     ]
    },
    {
     "name": "stderr",
     "output_type": "stream",
     "text": [
      "  1%|▍                                                                     | 56058/10000000 [01:54<6:23:19, 432.35it/s]"
     ]
    },
    {
     "name": "stdout",
     "output_type": "stream",
     "text": [
      "\n",
      "Average td error: 0.9215, STD of STD: 0.00010840557294098235, Average ret: -11.96, Average steps: 11.99, Num_states: 579852\n"
     ]
    },
    {
     "name": "stderr",
     "output_type": "stream",
     "text": [
      "  1%|▍                                                                     | 57040/10000000 [01:57<8:20:41, 330.98it/s]"
     ]
    },
    {
     "name": "stdout",
     "output_type": "stream",
     "text": [
      "\n",
      "Average td error: 0.9215, STD of STD: 0.00010658522074928761, Average ret: -11.87, Average steps: 11.99, Num_states: 589964\n"
     ]
    },
    {
     "name": "stderr",
     "output_type": "stream",
     "text": [
      "  1%|▍                                                                     | 58058/10000000 [01:59<5:25:29, 509.08it/s]"
     ]
    },
    {
     "name": "stdout",
     "output_type": "stream",
     "text": [
      "\n",
      "Average td error: 0.9216, STD of STD: 0.00010298822879749385, Average ret: -12.00, Average steps: 12.00, Num_states: 600095\n"
     ]
    },
    {
     "name": "stderr",
     "output_type": "stream",
     "text": [
      "  1%|▍                                                                     | 59026/10000000 [02:01<6:10:34, 447.10it/s]"
     ]
    },
    {
     "name": "stdout",
     "output_type": "stream",
     "text": [
      "\n",
      "Average td error: 0.9207, STD of STD: 9.976993922305515e-05, Average ret: -11.94, Average steps: 12.00, Num_states: 610196\n"
     ]
    },
    {
     "name": "stderr",
     "output_type": "stream",
     "text": [
      "  1%|▍                                                                     | 60080/10000000 [02:04<7:13:10, 382.44it/s]"
     ]
    },
    {
     "name": "stdout",
     "output_type": "stream",
     "text": [
      "\n",
      "Average td error: 0.9207, STD of STD: 0.00010355090970902424, Average ret: -11.40, Average steps: 11.86, Num_states: 620096\n"
     ]
    },
    {
     "name": "stderr",
     "output_type": "stream",
     "text": [
      "  1%|▍                                                                     | 61061/10000000 [02:07<7:25:26, 371.87it/s]"
     ]
    },
    {
     "name": "stdout",
     "output_type": "stream",
     "text": [
      "\n",
      "Average td error: 0.9486, STD of STD: 0.00043041357288817645, Average ret: -11.90, Average steps: 11.99, Num_states: 630200\n"
     ]
    },
    {
     "name": "stderr",
     "output_type": "stream",
     "text": [
      "  1%|▍                                                                     | 62036/10000000 [02:09<7:15:07, 380.65it/s]"
     ]
    },
    {
     "name": "stdout",
     "output_type": "stream",
     "text": [
      "\n",
      "Average td error: 0.9486, STD of STD: 0.0002126468307474007, Average ret: -11.86, Average steps: 11.98, Num_states: 640306\n"
     ]
    },
    {
     "name": "stderr",
     "output_type": "stream",
     "text": [
      "  1%|▍                                                                     | 63061/10000000 [02:12<7:28:30, 369.26it/s]"
     ]
    },
    {
     "name": "stdout",
     "output_type": "stream",
     "text": [
      "\n",
      "Average td error: 0.9205, STD of STD: 0.0001012385219219879, Average ret: -11.56, Average steps: 11.89, Num_states: 650306\n"
     ]
    },
    {
     "name": "stderr",
     "output_type": "stream",
     "text": [
      "  1%|▍                                                                     | 64047/10000000 [02:15<7:35:24, 363.63it/s]"
     ]
    },
    {
     "name": "stdout",
     "output_type": "stream",
     "text": [
      "\n",
      "Average td error: 0.9199, STD of STD: 9.887710586557314e-05, Average ret: -11.88, Average steps: 11.97, Num_states: 660381\n"
     ]
    },
    {
     "name": "stderr",
     "output_type": "stream",
     "text": [
      "  1%|▍                                                                     | 65034/10000000 [02:17<7:54:54, 348.67it/s]"
     ]
    },
    {
     "name": "stdout",
     "output_type": "stream",
     "text": [
      "\n",
      "Average td error: 0.9199, STD of STD: 9.6609430098966e-05, Average ret: -11.93, Average steps: 11.99, Num_states: 670480\n"
     ]
    },
    {
     "name": "stderr",
     "output_type": "stream",
     "text": [
      "  1%|▍                                                                     | 66034/10000000 [02:20<7:41:14, 358.96it/s]"
     ]
    },
    {
     "name": "stdout",
     "output_type": "stream",
     "text": [
      "\n",
      "Average td error: 0.9469, STD of STD: 0.00010767077098113919, Average ret: -11.53, Average steps: 11.89, Num_states: 680413\n"
     ]
    },
    {
     "name": "stderr",
     "output_type": "stream",
     "text": [
      "  1%|▍                                                                     | 67046/10000000 [02:24<9:02:38, 305.08it/s]"
     ]
    },
    {
     "name": "stdout",
     "output_type": "stream",
     "text": [
      "\n",
      "Average td error: 0.9270, STD of STD: 0.000101437474536829, Average ret: -11.40, Average steps: 11.86, Num_states: 690318\n"
     ]
    },
    {
     "name": "stderr",
     "output_type": "stream",
     "text": [
      "  1%|▍                                                                     | 68055/10000000 [02:27<8:23:14, 328.93it/s]"
     ]
    },
    {
     "name": "stdout",
     "output_type": "stream",
     "text": [
      "\n",
      "Average td error: 0.9193, STD of STD: 0.00010492510021196555, Average ret: -11.06, Average steps: 11.78, Num_states: 700114\n"
     ]
    },
    {
     "name": "stderr",
     "output_type": "stream",
     "text": [
      "  1%|▍                                                                     | 69037/10000000 [02:30<8:14:18, 334.85it/s]"
     ]
    },
    {
     "name": "stdout",
     "output_type": "stream",
     "text": [
      "\n",
      "Average td error: 0.9473, STD of STD: 0.00025830327218703933, Average ret: -11.86, Average steps: 11.98, Num_states: 710204\n"
     ]
    },
    {
     "name": "stderr",
     "output_type": "stream",
     "text": [
      "  1%|▍                                                                    | 70028/10000000 [02:34<10:36:25, 260.04it/s]"
     ]
    },
    {
     "name": "stdout",
     "output_type": "stream",
     "text": [
      "\n",
      "Average td error: 0.9193, STD of STD: 0.00010197965352610204, Average ret: -11.83, Average steps: 11.98, Num_states: 720277\n"
     ]
    },
    {
     "name": "stderr",
     "output_type": "stream",
     "text": [
      "  1%|▍                                                                     | 71047/10000000 [02:37<8:42:32, 316.69it/s]"
     ]
    },
    {
     "name": "stdout",
     "output_type": "stream",
     "text": [
      "\n",
      "Average td error: 0.9193, STD of STD: 9.913581954203405e-05, Average ret: -12.00, Average steps: 12.00, Num_states: 730377\n"
     ]
    },
    {
     "name": "stderr",
     "output_type": "stream",
     "text": [
      "  1%|▍                                                                    | 72047/10000000 [02:40<10:28:36, 263.23it/s]"
     ]
    },
    {
     "name": "stdout",
     "output_type": "stream",
     "text": [
      "\n",
      "Average td error: 0.9471, STD of STD: 0.0002902589692797865, Average ret: -11.94, Average steps: 12.00, Num_states: 740460\n"
     ]
    },
    {
     "name": "stderr",
     "output_type": "stream",
     "text": [
      "  1%|▌                                                                     | 73055/10000000 [02:43<9:11:11, 300.17it/s]"
     ]
    },
    {
     "name": "stdout",
     "output_type": "stream",
     "text": [
      "\n",
      "Average td error: 0.9469, STD of STD: 0.0003485051614974527, Average ret: -11.71, Average steps: 11.95, Num_states: 750494\n"
     ]
    },
    {
     "name": "stderr",
     "output_type": "stream",
     "text": [
      "  1%|▌                                                                     | 74054/10000000 [02:46<8:52:14, 310.82it/s]"
     ]
    },
    {
     "name": "stdout",
     "output_type": "stream",
     "text": [
      "\n",
      "Average td error: 0.9189, STD of STD: 9.476213235697523e-05, Average ret: -11.91, Average steps: 12.00, Num_states: 760570\n"
     ]
    },
    {
     "name": "stderr",
     "output_type": "stream",
     "text": [
      "  1%|▌                                                                     | 75037/10000000 [02:50<8:46:50, 313.98it/s]"
     ]
    },
    {
     "name": "stdout",
     "output_type": "stream",
     "text": [
      "\n",
      "Average td error: 0.9188, STD of STD: 9.496539940293025e-05, Average ret: -11.65, Average steps: 11.93, Num_states: 770518\n"
     ]
    },
    {
     "name": "stderr",
     "output_type": "stream",
     "text": [
      "  1%|▌                                                                     | 76055/10000000 [02:53<9:17:43, 296.56it/s]"
     ]
    },
    {
     "name": "stdout",
     "output_type": "stream",
     "text": [
      "\n",
      "Average td error: 0.9468, STD of STD: 0.00030272374502080196, Average ret: -11.89, Average steps: 11.98, Num_states: 780573\n"
     ]
    },
    {
     "name": "stderr",
     "output_type": "stream",
     "text": [
      "  1%|▌                                                                     | 77037/10000000 [02:56<8:43:31, 315.90it/s]"
     ]
    },
    {
     "name": "stdout",
     "output_type": "stream",
     "text": [
      "\n",
      "Average td error: 0.9185, STD of STD: 9.603559539369086e-05, Average ret: -11.25, Average steps: 11.82, Num_states: 790389\n"
     ]
    },
    {
     "name": "stderr",
     "output_type": "stream",
     "text": [
      "  1%|▌                                                                    | 78034/10000000 [03:00<10:42:11, 257.51it/s]"
     ]
    },
    {
     "name": "stdout",
     "output_type": "stream",
     "text": [
      "\n",
      "Average td error: 0.9185, STD of STD: 9.490045157504274e-05, Average ret: -11.81, Average steps: 11.96, Num_states: 800419\n"
     ]
    },
    {
     "name": "stderr",
     "output_type": "stream",
     "text": [
      "  1%|▌                                                                     | 79033/10000000 [03:03<8:20:11, 330.57it/s]"
     ]
    },
    {
     "name": "stdout",
     "output_type": "stream",
     "text": [
      "\n",
      "Average td error: 0.9465, STD of STD: 0.00015438414802565305, Average ret: -11.81, Average steps: 11.96, Num_states: 810448\n"
     ]
    },
    {
     "name": "stderr",
     "output_type": "stream",
     "text": [
      "  1%|▌                                                                    | 80045/10000000 [03:06<10:17:49, 267.61it/s]"
     ]
    },
    {
     "name": "stdout",
     "output_type": "stream",
     "text": [
      "\n",
      "Average td error: 0.9185, STD of STD: 9.3266614223177e-05, Average ret: -11.74, Average steps: 11.95, Num_states: 820489\n"
     ]
    },
    {
     "name": "stderr",
     "output_type": "stream",
     "text": [
      "  1%|▌                                                                     | 81025/10000000 [03:09<8:01:05, 343.63it/s]"
     ]
    },
    {
     "name": "stdout",
     "output_type": "stream",
     "text": [
      "\n",
      "Average td error: 0.9182, STD of STD: 9.232815139416356e-05, Average ret: -11.77, Average steps: 11.95, Num_states: 830512\n"
     ]
    },
    {
     "name": "stderr",
     "output_type": "stream",
     "text": [
      "  1%|▌                                                                     | 82059/10000000 [03:12<8:04:33, 341.14it/s]"
     ]
    },
    {
     "name": "stdout",
     "output_type": "stream",
     "text": [
      "\n",
      "Average td error: 0.9182, STD of STD: 9.104021042479132e-05, Average ret: -11.87, Average steps: 11.99, Num_states: 840583\n"
     ]
    },
    {
     "name": "stderr",
     "output_type": "stream",
     "text": [
      "  1%|▌                                                                     | 83080/10000000 [03:16<6:46:14, 406.86it/s]"
     ]
    },
    {
     "name": "stdout",
     "output_type": "stream",
     "text": [
      "\n",
      "Average td error: 0.9452, STD of STD: 0.0002711939003933501, Average ret: -11.89, Average steps: 11.98, Num_states: 850651\n"
     ]
    },
    {
     "name": "stderr",
     "output_type": "stream",
     "text": [
      "  1%|▌                                                                     | 84069/10000000 [03:18<8:05:21, 340.50it/s]"
     ]
    },
    {
     "name": "stdout",
     "output_type": "stream",
     "text": [
      "\n",
      "Average td error: 0.9462, STD of STD: 0.00028367640198251554, Average ret: -11.60, Average steps: 11.90, Num_states: 860613\n"
     ]
    },
    {
     "name": "stderr",
     "output_type": "stream",
     "text": [
      "  1%|▌                                                                     | 85069/10000000 [03:21<6:04:48, 452.98it/s]"
     ]
    },
    {
     "name": "stdout",
     "output_type": "stream",
     "text": [
      "\n",
      "Average td error: 1.2508, STD of STD: 0.0007597686667805686, Average ret: -11.36, Average steps: 11.87, Num_states: 870537\n"
     ]
    },
    {
     "name": "stderr",
     "output_type": "stream",
     "text": [
      "  1%|▌                                                                     | 86121/10000000 [03:23<4:31:54, 607.69it/s]"
     ]
    },
    {
     "name": "stdout",
     "output_type": "stream",
     "text": [
      "\n",
      "Average td error: 1.2784, STD of STD: 0.0011961301500704525, Average ret: -9.85, Average steps: 11.47, Num_states: 879907\n"
     ]
    },
    {
     "name": "stderr",
     "output_type": "stream",
     "text": [
      "  1%|▌                                                                     | 87086/10000000 [03:25<5:18:54, 518.05it/s]"
     ]
    },
    {
     "name": "stdout",
     "output_type": "stream",
     "text": [
      "\n",
      "Average td error: 1.5665, STD of STD: 0.001869016680952501, Average ret: -9.76, Average steps: 11.47, Num_states: 889276\n"
     ]
    },
    {
     "name": "stderr",
     "output_type": "stream",
     "text": [
      "  1%|▌                                                                     | 88094/10000000 [03:27<5:30:27, 499.90it/s]"
     ]
    },
    {
     "name": "stdout",
     "output_type": "stream",
     "text": [
      "\n",
      "Average td error: 0.9180, STD of STD: 0.00011529351289496178, Average ret: -10.44, Average steps: 11.61, Num_states: 898907\n"
     ]
    },
    {
     "name": "stderr",
     "output_type": "stream",
     "text": [
      "  1%|▌                                                                     | 89048/10000000 [03:29<4:53:47, 562.23it/s]"
     ]
    },
    {
     "name": "stdout",
     "output_type": "stream",
     "text": [
      "\n",
      "Average td error: 1.2566, STD of STD: 0.0007913893979452708, Average ret: -10.38, Average steps: 11.61, Num_states: 908465\n"
     ]
    },
    {
     "name": "stderr",
     "output_type": "stream",
     "text": [
      "  1%|▋                                                                     | 90062/10000000 [03:31<5:40:59, 484.37it/s]"
     ]
    },
    {
     "name": "stdout",
     "output_type": "stream",
     "text": [
      "\n",
      "Average td error: 0.9179, STD of STD: 0.00011933344580327101, Average ret: -11.85, Average steps: 11.97, Num_states: 918489\n"
     ]
    },
    {
     "name": "stderr",
     "output_type": "stream",
     "text": [
      "  1%|▋                                                                     | 91040/10000000 [03:34<8:38:13, 318.68it/s]"
     ]
    },
    {
     "name": "stdout",
     "output_type": "stream",
     "text": [
      "\n",
      "Average td error: 0.9180, STD of STD: 0.00011730746929248173, Average ret: -11.89, Average steps: 11.98, Num_states: 928522\n"
     ]
    },
    {
     "name": "stderr",
     "output_type": "stream",
     "text": [
      "  1%|▋                                                                     | 92085/10000000 [03:36<6:00:34, 457.98it/s]"
     ]
    },
    {
     "name": "stdout",
     "output_type": "stream",
     "text": [
      "\n",
      "Average td error: 0.9459, STD of STD: 0.00018769190656568038, Average ret: -11.94, Average steps: 12.00, Num_states: 938593\n"
     ]
    },
    {
     "name": "stderr",
     "output_type": "stream",
     "text": [
      "  1%|▋                                                                     | 93042/10000000 [03:42<7:21:30, 373.98it/s]"
     ]
    },
    {
     "name": "stdout",
     "output_type": "stream",
     "text": [
      "\n",
      "Average td error: 0.9458, STD of STD: 0.00021408960313187356, Average ret: -11.69, Average steps: 11.93, Num_states: 948570\n"
     ]
    },
    {
     "name": "stderr",
     "output_type": "stream",
     "text": [
      "  1%|▋                                                                    | 94020/10000000 [03:46<12:28:08, 220.68it/s]"
     ]
    },
    {
     "name": "stdout",
     "output_type": "stream",
     "text": [
      "\n",
      "Average td error: 0.9178, STD of STD: 0.00011168389832454807, Average ret: -12.00, Average steps: 12.00, Num_states: 958623\n"
     ]
    },
    {
     "name": "stderr",
     "output_type": "stream",
     "text": [
      "  1%|▋                                                                    | 95025/10000000 [03:50<10:55:14, 251.94it/s]"
     ]
    },
    {
     "name": "stdout",
     "output_type": "stream",
     "text": [
      "\n",
      "Average td error: 0.9448, STD of STD: 0.00025079082332075736, Average ret: -11.92, Average steps: 11.98, Num_states: 968665\n"
     ]
    },
    {
     "name": "stderr",
     "output_type": "stream",
     "text": [
      "  1%|▋                                                                     | 96039/10000000 [03:53<8:24:14, 327.36it/s]"
     ]
    },
    {
     "name": "stdout",
     "output_type": "stream",
     "text": [
      "\n",
      "Average td error: 0.9178, STD of STD: 0.00010794545225547909, Average ret: -11.89, Average steps: 11.98, Num_states: 978719\n"
     ]
    },
    {
     "name": "stderr",
     "output_type": "stream",
     "text": [
      "  1%|▋                                                                    | 97045/10000000 [03:57<10:26:09, 263.59it/s]"
     ]
    },
    {
     "name": "stdout",
     "output_type": "stream",
     "text": [
      "\n",
      "Average td error: 0.9176, STD of STD: 0.00010730718968087721, Average ret: -11.66, Average steps: 11.93, Num_states: 988700\n"
     ]
    },
    {
     "name": "stderr",
     "output_type": "stream",
     "text": [
      "  1%|▋                                                                     | 98034/10000000 [04:00<8:54:32, 308.74it/s]"
     ]
    },
    {
     "name": "stdout",
     "output_type": "stream",
     "text": [
      "\n",
      "Average td error: 0.9176, STD of STD: 0.00010529567250266394, Average ret: -11.96, Average steps: 11.99, Num_states: 998752\n"
     ]
    },
    {
     "name": "stderr",
     "output_type": "stream",
     "text": [
      "  1%|▋                                                                    | 99019/10000000 [04:04<11:52:49, 231.50it/s]"
     ]
    },
    {
     "name": "stdout",
     "output_type": "stream",
     "text": [
      "\n",
      "Average td error: 0.9176, STD of STD: 0.00010589988401467461, Average ret: -11.38, Average steps: 11.86, Num_states: 1008638\n"
     ]
    },
    {
     "name": "stderr",
     "output_type": "stream",
     "text": [
      "  1%|▋                                                                    | 100081/10000000 [04:09<7:40:55, 357.98it/s]"
     ]
    },
    {
     "name": "stdout",
     "output_type": "stream",
     "text": [
      "\n",
      "Average td error: 0.9176, STD of STD: 0.00010411279119988883, Average ret: -11.93, Average steps: 11.99, Num_states: 1018687\n"
     ]
    },
    {
     "name": "stderr",
     "output_type": "stream",
     "text": [
      "  1%|▋                                                                    | 101085/10000000 [04:12<6:11:53, 443.62it/s]"
     ]
    },
    {
     "name": "stdout",
     "output_type": "stream",
     "text": [
      "\n",
      "Average td error: 1.2738, STD of STD: 0.0010214064189380933, Average ret: -11.62, Average steps: 11.92, Num_states: 1028626\n"
     ]
    },
    {
     "name": "stderr",
     "output_type": "stream",
     "text": [
      "  1%|▋                                                                    | 102053/10000000 [04:15<6:59:49, 392.94it/s]"
     ]
    },
    {
     "name": "stdout",
     "output_type": "stream",
     "text": [
      "\n",
      "Average td error: 0.9995, STD of STD: 0.0005937871176737972, Average ret: -11.77, Average steps: 11.95, Num_states: 1038640\n"
     ]
    },
    {
     "name": "stderr",
     "output_type": "stream",
     "text": [
      "  1%|▋                                                                   | 103046/10000000 [04:19<12:02:16, 228.37it/s]"
     ]
    },
    {
     "name": "stdout",
     "output_type": "stream",
     "text": [
      "\n",
      "Average td error: 0.9188, STD of STD: 0.00010126045831772451, Average ret: -11.84, Average steps: 11.96, Num_states: 1048655\n"
     ]
    },
    {
     "name": "stderr",
     "output_type": "stream",
     "text": [
      "  1%|▋                                                                    | 104048/10000000 [04:23<9:01:43, 304.46it/s]"
     ]
    },
    {
     "name": "stdout",
     "output_type": "stream",
     "text": [
      "\n",
      "Average td error: 0.9175, STD of STD: 9.94870355551727e-05, Average ret: -11.94, Average steps: 11.99, Num_states: 1058703\n"
     ]
    },
    {
     "name": "stderr",
     "output_type": "stream",
     "text": [
      "  1%|▋                                                                    | 105035/10000000 [04:28<9:28:01, 290.33it/s]"
     ]
    },
    {
     "name": "stdout",
     "output_type": "stream",
     "text": [
      "\n",
      "Average td error: 0.9175, STD of STD: 9.774711815323447e-05, Average ret: -11.96, Average steps: 11.99, Num_states: 1068748\n"
     ]
    },
    {
     "name": "stderr",
     "output_type": "stream",
     "text": [
      "  1%|▋                                                                    | 106064/10000000 [04:32<8:18:40, 330.68it/s]"
     ]
    },
    {
     "name": "stdout",
     "output_type": "stream",
     "text": [
      "\n",
      "Average td error: 0.9174, STD of STD: 9.773664497004929e-05, Average ret: -11.51, Average steps: 11.87, Num_states: 1078663\n"
     ]
    },
    {
     "name": "stderr",
     "output_type": "stream",
     "text": [
      "  1%|▋                                                                    | 107020/10000000 [04:35<7:38:05, 359.93it/s]"
     ]
    },
    {
     "name": "stdout",
     "output_type": "stream",
     "text": [
      "\n",
      "Average td error: 0.9444, STD of STD: 0.0001450032813373521, Average ret: -11.82, Average steps: 11.97, Num_states: 1088677\n"
     ]
    },
    {
     "name": "stderr",
     "output_type": "stream",
     "text": [
      "  1%|▋                                                                    | 108044/10000000 [04:38<9:11:31, 298.93it/s]"
     ]
    },
    {
     "name": "stdout",
     "output_type": "stream",
     "text": [
      "\n",
      "Average td error: 0.9174, STD of STD: 9.55180723089334e-05, Average ret: -11.83, Average steps: 11.98, Num_states: 1098699\n"
     ]
    },
    {
     "name": "stderr",
     "output_type": "stream",
     "text": [
      "  1%|▊                                                                    | 109042/10000000 [04:42<8:24:41, 326.63it/s]"
     ]
    },
    {
     "name": "stdout",
     "output_type": "stream",
     "text": [
      "\n",
      "Average td error: 0.9174, STD of STD: 9.390740132827359e-05, Average ret: -11.97, Average steps: 12.00, Num_states: 1108762\n"
     ]
    },
    {
     "name": "stderr",
     "output_type": "stream",
     "text": [
      "  1%|▊                                                                    | 110059/10000000 [04:45<8:37:35, 318.46it/s]"
     ]
    },
    {
     "name": "stdout",
     "output_type": "stream",
     "text": [
      "\n",
      "Average td error: 0.9173, STD of STD: 9.670072322250871e-05, Average ret: -10.78, Average steps: 11.71, Num_states: 1118449\n"
     ]
    },
    {
     "name": "stderr",
     "output_type": "stream",
     "text": [
      "  1%|▊                                                                    | 111021/10000000 [04:49<9:17:04, 295.86it/s]"
     ]
    },
    {
     "name": "stdout",
     "output_type": "stream",
     "text": [
      "\n",
      "Average td error: 0.9173, STD of STD: 9.509544852252046e-05, Average ret: -11.97, Average steps: 12.00, Num_states: 1128490\n"
     ]
    },
    {
     "name": "stderr",
     "output_type": "stream",
     "text": [
      "  1%|▊                                                                   | 112047/10000000 [04:53<10:45:06, 255.46it/s]"
     ]
    },
    {
     "name": "stdout",
     "output_type": "stream",
     "text": [
      "\n",
      "Average td error: 0.9173, STD of STD: 9.353048387315596e-05, Average ret: -11.97, Average steps: 12.00, Num_states: 1138533\n"
     ]
    },
    {
     "name": "stderr",
     "output_type": "stream",
     "text": [
      "  1%|▊                                                                    | 113041/10000000 [04:57<9:53:48, 277.50it/s]"
     ]
    },
    {
     "name": "stdout",
     "output_type": "stream",
     "text": [
      "\n",
      "Average td error: 0.9453, STD of STD: 0.00016258357681472898, Average ret: -11.89, Average steps: 11.98, Num_states: 1148562\n"
     ]
    },
    {
     "name": "stderr",
     "output_type": "stream",
     "text": [
      "  1%|▊                                                                    | 114063/10000000 [05:01<9:20:49, 293.79it/s]"
     ]
    },
    {
     "name": "stdout",
     "output_type": "stream",
     "text": [
      "\n",
      "Average td error: 1.4397, STD of STD: 0.001277967049971062, Average ret: -11.53, Average steps: 11.89, Num_states: 1158486\n"
     ]
    },
    {
     "name": "stderr",
     "output_type": "stream",
     "text": [
      "  1%|▊                                                                    | 115054/10000000 [05:03<7:24:30, 370.63it/s]"
     ]
    },
    {
     "name": "stdout",
     "output_type": "stream",
     "text": [
      "\n",
      "Average td error: 1.3441, STD of STD: 0.0012491619751684839, Average ret: -9.82, Average steps: 11.44, Num_states: 1167903\n"
     ]
    },
    {
     "name": "stderr",
     "output_type": "stream",
     "text": [
      "  1%|▊                                                                   | 116020/10000000 [05:09<12:54:23, 212.73it/s]"
     ]
    },
    {
     "name": "stdout",
     "output_type": "stream",
     "text": [
      "\n",
      "Average td error: 0.9173, STD of STD: 9.603835641491999e-05, Average ret: -11.88, Average steps: 11.97, Num_states: 1177898\n"
     ]
    },
    {
     "name": "stderr",
     "output_type": "stream",
     "text": [
      "  1%|▊                                                                   | 117028/10000000 [05:13<11:39:40, 235.42it/s]"
     ]
    },
    {
     "name": "stdout",
     "output_type": "stream",
     "text": [
      "\n",
      "Average td error: 0.9172, STD of STD: 9.463583873675842e-05, Average ret: -11.93, Average steps: 11.99, Num_states: 1187933\n"
     ]
    },
    {
     "name": "stderr",
     "output_type": "stream",
     "text": [
      "  1%|▊                                                                    | 118057/10000000 [05:17<7:48:25, 351.60it/s]"
     ]
    },
    {
     "name": "stdout",
     "output_type": "stream",
     "text": [
      "\n",
      "Average td error: 0.9172, STD of STD: 9.31526244670778e-05, Average ret: -11.97, Average steps: 12.00, Num_states: 1197979\n"
     ]
    },
    {
     "name": "stderr",
     "output_type": "stream",
     "text": [
      "  1%|▊                                                                    | 119013/10000000 [05:20<9:31:54, 287.95it/s]"
     ]
    },
    {
     "name": "stdout",
     "output_type": "stream",
     "text": [
      "\n",
      "Average td error: 0.9172, STD of STD: 9.181931825893324e-05, Average ret: -11.93, Average steps: 11.99, Num_states: 1208016\n"
     ]
    },
    {
     "name": "stderr",
     "output_type": "stream",
     "text": [
      "  1%|▊                                                                    | 120019/10000000 [05:25<9:25:26, 291.22it/s]"
     ]
    },
    {
     "name": "stdout",
     "output_type": "stream",
     "text": [
      "\n",
      "Average td error: 0.9452, STD of STD: 0.0001998100169542279, Average ret: -11.69, Average steps: 11.93, Num_states: 1217985\n"
     ]
    },
    {
     "name": "stderr",
     "output_type": "stream",
     "text": [
      "  1%|▊                                                                   | 121044/10000000 [05:29<10:11:04, 269.45it/s]"
     ]
    },
    {
     "name": "stdout",
     "output_type": "stream",
     "text": [
      "\n",
      "Average td error: 0.9442, STD of STD: 9.997849986229417e-05, Average ret: -11.86, Average steps: 11.98, Num_states: 1228005\n"
     ]
    },
    {
     "name": "stderr",
     "output_type": "stream",
     "text": [
      "  1%|▊                                                                    | 122056/10000000 [05:32<7:00:06, 391.88it/s]"
     ]
    },
    {
     "name": "stdout",
     "output_type": "stream",
     "text": [
      "\n",
      "Average td error: 0.9172, STD of STD: 8.899393330617248e-05, Average ret: -11.89, Average steps: 11.98, Num_states: 1238022\n"
     ]
    },
    {
     "name": "stderr",
     "output_type": "stream",
     "text": [
      "  1%|▊                                                                    | 123044/10000000 [05:36<8:31:02, 322.12it/s]"
     ]
    },
    {
     "name": "stdout",
     "output_type": "stream",
     "text": [
      "\n",
      "Average td error: 0.9452, STD of STD: 0.00017231998298180114, Average ret: -11.90, Average steps: 11.99, Num_states: 1248044\n"
     ]
    },
    {
     "name": "stderr",
     "output_type": "stream",
     "text": [
      "  1%|▊                                                                    | 124001/10000000 [05:39<7:43:06, 355.43it/s]"
     ]
    },
    {
     "name": "stdout",
     "output_type": "stream",
     "text": [
      "\n",
      "Average td error: 1.1755, STD of STD: 0.0004241328178228238, Average ret: -11.01, Average steps: 11.76, Num_states: 1257750\n"
     ]
    },
    {
     "name": "stderr",
     "output_type": "stream",
     "text": [
      "  1%|▊                                                                   | 125043/10000000 [05:43<11:06:13, 247.04it/s]"
     ]
    },
    {
     "name": "stdout",
     "output_type": "stream",
     "text": [
      "\n",
      "Average td error: 0.9172, STD of STD: 8.954876320979555e-05, Average ret: -11.34, Average steps: 11.85, Num_states: 1267561\n"
     ]
    },
    {
     "name": "stderr",
     "output_type": "stream",
     "text": [
      "  1%|▊                                                                    | 126039/10000000 [05:47<9:06:41, 301.02it/s]"
     ]
    },
    {
     "name": "stdout",
     "output_type": "stream",
     "text": [
      "\n",
      "Average td error: 0.9452, STD of STD: 0.00017482547606772496, Average ret: -11.87, Average steps: 11.99, Num_states: 1277583\n"
     ]
    },
    {
     "name": "stderr",
     "output_type": "stream",
     "text": [
      "  1%|▊                                                                   | 127016/10000000 [05:51<12:57:15, 211.70it/s]"
     ]
    },
    {
     "name": "stdout",
     "output_type": "stream",
     "text": [
      "\n",
      "Average td error: 0.9172, STD of STD: 8.734272902709778e-05, Average ret: -11.93, Average steps: 11.99, Num_states: 1287613\n"
     ]
    },
    {
     "name": "stderr",
     "output_type": "stream",
     "text": [
      "  1%|▊                                                                   | 128060/10000000 [05:56<10:57:23, 250.28it/s]"
     ]
    },
    {
     "name": "stdout",
     "output_type": "stream",
     "text": [
      "\n",
      "Average td error: 0.9172, STD of STD: 8.61892388688464e-05, Average ret: -11.92, Average steps: 11.98, Num_states: 1297626\n"
     ]
    },
    {
     "name": "stderr",
     "output_type": "stream",
     "text": [
      "  1%|▉                                                                   | 129041/10000000 [06:00<10:03:50, 272.45it/s]"
     ]
    },
    {
     "name": "stdout",
     "output_type": "stream",
     "text": [
      "\n",
      "Average td error: 1.4556, STD of STD: 0.0010041087679190494, Average ret: -10.93, Average steps: 11.74, Num_states: 1307344\n"
     ]
    },
    {
     "name": "stderr",
     "output_type": "stream",
     "text": [
      "  1%|▉                                                                    | 130034/10000000 [06:04<9:57:38, 275.25it/s]"
     ]
    },
    {
     "name": "stdout",
     "output_type": "stream",
     "text": [
      "\n",
      "Average td error: 0.9171, STD of STD: 8.655963703228393e-05, Average ret: -11.80, Average steps: 11.95, Num_states: 1317325\n"
     ]
    },
    {
     "name": "stderr",
     "output_type": "stream",
     "text": [
      "  1%|▉                                                                    | 131056/10000000 [06:09<9:50:49, 278.40it/s]"
     ]
    },
    {
     "name": "stdout",
     "output_type": "stream",
     "text": [
      "\n",
      "Average td error: 0.9451, STD of STD: 0.00015058999020479567, Average ret: -11.87, Average steps: 11.99, Num_states: 1327355\n"
     ]
    },
    {
     "name": "stderr",
     "output_type": "stream",
     "text": [
      "  1%|▉                                                                   | 132052/10000000 [06:13<12:27:26, 220.04it/s]"
     ]
    },
    {
     "name": "stdout",
     "output_type": "stream",
     "text": [
      "\n",
      "Average td error: 0.9755, STD of STD: 6.382561411236948e-05, Average ret: -11.41, Average steps: 11.86, Num_states: 1337195\n"
     ]
    },
    {
     "name": "stderr",
     "output_type": "stream",
     "text": [
      "  1%|▉                                                                   | 133043/10000000 [06:18<10:34:48, 259.06it/s]"
     ]
    },
    {
     "name": "stdout",
     "output_type": "stream",
     "text": [
      "\n",
      "Average td error: 0.9171, STD of STD: 8.540121140091964e-05, Average ret: -11.57, Average steps: 11.90, Num_states: 1347084\n"
     ]
    },
    {
     "name": "stderr",
     "output_type": "stream",
     "text": [
      "  1%|▉                                                                    | 134061/10000000 [06:22<7:42:50, 355.26it/s]"
     ]
    },
    {
     "name": "stdout",
     "output_type": "stream",
     "text": [
      "\n",
      "Average td error: 0.9171, STD of STD: 8.485826162834599e-05, Average ret: -11.72, Average steps: 11.96, Num_states: 1357044\n"
     ]
    },
    {
     "name": "stderr",
     "output_type": "stream",
     "text": [
      "  1%|▉                                                                    | 135068/10000000 [06:26<8:14:16, 332.64it/s]"
     ]
    },
    {
     "name": "stdout",
     "output_type": "stream",
     "text": [
      "\n",
      "Average td error: 0.9171, STD of STD: 8.37806383670672e-05, Average ret: -11.93, Average steps: 11.99, Num_states: 1367057\n"
     ]
    },
    {
     "name": "stderr",
     "output_type": "stream",
     "text": [
      "  1%|▉                                                                   | 136013/10000000 [06:30<14:23:31, 190.38it/s]"
     ]
    },
    {
     "name": "stdout",
     "output_type": "stream",
     "text": [
      "\n",
      "Average td error: 0.9171, STD of STD: 8.281250867893398e-05, Average ret: -11.89, Average steps: 11.98, Num_states: 1377070\n"
     ]
    },
    {
     "name": "stderr",
     "output_type": "stream",
     "text": [
      "  1%|▉                                                                   | 137037/10000000 [06:37<10:44:28, 255.06it/s]"
     ]
    },
    {
     "name": "stdout",
     "output_type": "stream",
     "text": [
      "\n",
      "Average td error: 1.5110, STD of STD: 0.0008945022900370693, Average ret: -11.09, Average steps: 11.78, Num_states: 1386838\n"
     ]
    },
    {
     "name": "stderr",
     "output_type": "stream",
     "text": [
      "  1%|▉                                                                   | 138051/10000000 [06:41<11:16:12, 243.07it/s]"
     ]
    },
    {
     "name": "stdout",
     "output_type": "stream",
     "text": [
      "\n",
      "Average td error: 0.9171, STD of STD: 8.283878432876603e-05, Average ret: -11.82, Average steps: 11.97, Num_states: 1396818\n"
     ]
    },
    {
     "name": "stderr",
     "output_type": "stream",
     "text": [
      "  1%|▉                                                                   | 139015/10000000 [06:45<18:23:25, 148.95it/s]"
     ]
    },
    {
     "name": "stdout",
     "output_type": "stream",
     "text": [
      "\n",
      "Average td error: 0.9171, STD of STD: 8.245169754967931e-05, Average ret: -11.65, Average steps: 11.92, Num_states: 1406738\n"
     ]
    },
    {
     "name": "stderr",
     "output_type": "stream",
     "text": [
      "  1%|▉                                                                   | 140042/10000000 [06:50<12:12:17, 224.41it/s]"
     ]
    },
    {
     "name": "stdout",
     "output_type": "stream",
     "text": [
      "\n",
      "Average td error: 0.9171, STD of STD: 8.14399929793082e-05, Average ret: -11.94, Average steps: 11.99, Num_states: 1416764\n"
     ]
    },
    {
     "name": "stderr",
     "output_type": "stream",
     "text": [
      "  1%|▉                                                                    | 141081/10000000 [06:55<7:43:55, 354.19it/s]"
     ]
    },
    {
     "name": "stdout",
     "output_type": "stream",
     "text": [
      "\n",
      "Average td error: 0.9171, STD of STD: 8.052907966409367e-05, Average ret: -11.90, Average steps: 11.99, Num_states: 1426783\n"
     ]
    },
    {
     "name": "stderr",
     "output_type": "stream",
     "text": [
      "  1%|▉                                                                    | 142022/10000000 [07:00<8:04:48, 338.89it/s]"
     ]
    },
    {
     "name": "stdout",
     "output_type": "stream",
     "text": [
      "\n",
      "Average td error: 0.9171, STD of STD: 7.971590570101009e-05, Average ret: -11.85, Average steps: 11.97, Num_states: 1436785\n"
     ]
    },
    {
     "name": "stderr",
     "output_type": "stream",
     "text": [
      "  1%|▉                                                                    | 143010/10000000 [07:06<9:08:55, 299.28it/s]"
     ]
    },
    {
     "name": "stdout",
     "output_type": "stream",
     "text": [
      "\n",
      "Average td error: 1.4092, STD of STD: 0.0009521173745019805, Average ret: -11.53, Average steps: 11.89, Num_states: 1446685\n"
     ]
    },
    {
     "name": "stderr",
     "output_type": "stream",
     "text": [
      "  1%|▉                                                                    | 144053/10000000 [07:10<6:57:49, 393.14it/s]"
     ]
    },
    {
     "name": "stdout",
     "output_type": "stream",
     "text": [
      "\n",
      "Average td error: 1.6290, STD of STD: 0.0009642358148457208, Average ret: -8.78, Average steps: 11.24, Num_states: 1455724\n"
     ]
    },
    {
     "name": "stderr",
     "output_type": "stream",
     "text": [
      "  1%|▉                                                                   | 145035/10000000 [07:14<10:51:55, 251.95it/s]"
     ]
    },
    {
     "name": "stdout",
     "output_type": "stream",
     "text": [
      "\n",
      "Average td error: 1.7438, STD of STD: 0.0013382602778177746, Average ret: -8.46, Average steps: 11.16, Num_states: 1464723\n"
     ]
    },
    {
     "name": "stderr",
     "output_type": "stream",
     "text": [
      "  1%|█                                                                    | 146072/10000000 [07:18<8:09:21, 335.61it/s]"
     ]
    },
    {
     "name": "stdout",
     "output_type": "stream",
     "text": [
      "\n",
      "Average td error: 1.5037, STD of STD: 0.0009915960886252248, Average ret: -8.50, Average steps: 11.17, Num_states: 1473738\n"
     ]
    },
    {
     "name": "stderr",
     "output_type": "stream",
     "text": [
      "  1%|█                                                                    | 147008/10000000 [07:21<8:08:23, 336.24it/s]"
     ]
    },
    {
     "name": "stdout",
     "output_type": "stream",
     "text": [
      "\n",
      "Average td error: 1.5185, STD of STD: 0.0009963784875519895, Average ret: -8.70, Average steps: 11.21, Num_states: 1482763\n"
     ]
    },
    {
     "name": "stderr",
     "output_type": "stream",
     "text": [
      "  1%|█                                                                    | 148029/10000000 [07:25<8:50:17, 309.64it/s]"
     ]
    },
    {
     "name": "stdout",
     "output_type": "stream",
     "text": [
      "\n",
      "Average td error: 1.5241, STD of STD: 0.0007658962007671974, Average ret: -8.72, Average steps: 11.21, Num_states: 1491783\n"
     ]
    },
    {
     "name": "stderr",
     "output_type": "stream",
     "text": [
      "  1%|█                                                                    | 149045/10000000 [07:29<9:05:11, 301.15it/s]"
     ]
    },
    {
     "name": "stdout",
     "output_type": "stream",
     "text": [
      "\n",
      "Average td error: 1.8024, STD of STD: 0.0017407145622540224, Average ret: -8.15, Average steps: 11.09, Num_states: 1500716\n"
     ]
    },
    {
     "name": "stderr",
     "output_type": "stream",
     "text": [
      "  2%|█                                                                    | 150079/10000000 [07:33<7:15:12, 377.22it/s]"
     ]
    },
    {
     "name": "stdout",
     "output_type": "stream",
     "text": [
      "\n",
      "Average td error: 1.7483, STD of STD: 0.0013248168076065974, Average ret: -6.82, Average steps: 10.75, Num_states: 1509233\n"
     ]
    },
    {
     "name": "stderr",
     "output_type": "stream",
     "text": [
      "  2%|█                                                                    | 151034/10000000 [07:37<8:08:40, 335.91it/s]"
     ]
    },
    {
     "name": "stdout",
     "output_type": "stream",
     "text": [
      "\n",
      "Average td error: 1.7199, STD of STD: 0.001473128705801908, Average ret: -6.93, Average steps: 10.77, Num_states: 1517746\n"
     ]
    },
    {
     "name": "stderr",
     "output_type": "stream",
     "text": [
      "  2%|█                                                                    | 151169/10000000 [07:37<7:24:03, 369.66it/s]"
     ]
    }
   ],
   "source": [
    "agent = q_agent(env, env.state_dim, env.action_dim, epsilon=0.05, gamma=1, alpha=0.2, tol=1e-7)\n",
    "q = agent.train(int(1e7))"
   ]
  },
  {
   "cell_type": "markdown",
   "id": "f42b6cff",
   "metadata": {},
   "source": [
    "# Test episode"
   ]
  },
  {
   "cell_type": "code",
   "execution_count": 6,
   "id": "b66d23eb",
   "metadata": {
    "scrolled": true
   },
   "outputs": [
    {
     "name": "stdout",
     "output_type": "stream",
     "text": [
      "['G' 'G' 'K' 'G'] \n",
      "\n",
      "[['0' ' ' ' ' ' ' ' ' '0']\n",
      " ['0' ' ' ' ' ' ' ' ' '0']\n",
      " ['0' ' ' ' ' ' ' ' ' '0']\n",
      " ['0' ' ' ' ' ' ' ' ' '0']\n",
      " ['0' ' ' ' ' ' ' ' ' '0']\n",
      " ['0' ' ' ' ' ' ' ' ' '0']\n",
      " ['0' ' ' ' ' ' ' ' ' '0']\n",
      " ['0' ' ' ' ' ' ' ' ' '0']\n",
      " ['0' ' ' ' ' ' ' ' ' '0']\n",
      " ['0' ' ' ' ' ' ' ' ' '0']\n",
      " ['0' 'G' 'G' 'K' 'G' '4']\n",
      " ['0' 'G' 'G' 'R' 'O' '2']]\n",
      "28\n",
      "\n",
      "\n",
      "\n",
      "['O' 'Y' 'G' 'G'] \n",
      "\n",
      "[['0' ' ' ' ' ' ' ' ' '0']\n",
      " ['0' ' ' ' ' ' ' ' ' '0']\n",
      " ['0' ' ' ' ' ' ' ' ' '0']\n",
      " ['0' ' ' ' ' ' ' ' ' '0']\n",
      " ['0' ' ' ' ' ' ' ' ' '0']\n",
      " ['0' 'O' 'Y' 'G' 'G' '4']\n",
      " ['0' 'B' 'K' 'B' 'G' '1']\n",
      " ['0' 'B' 'K' 'B' 'G' '1']\n",
      " ['0' 'B' 'K' 'B' 'G' '1']\n",
      " ['1' 'G' 'G' 'K' 'G' '1']\n",
      " ['1' 'P' 'B' 'Y' 'G' '1']\n",
      " ['3' 'G' 'G' 'R' 'O' '0']]\n",
      "23\n",
      "\n",
      "\n",
      "\n",
      "['P' 'B' 'Y' 'G'] \n",
      "\n",
      "[['0' 'B' 'B' 'Y' 'R' '2']\n",
      " ['1' 'R' 'R' 'P' 'R' '0']\n",
      " ['1' 'R' 'R' 'P' 'R' '0']\n",
      " ['1' 'R' 'R' 'P' 'R' '0']\n",
      " ['1' 'R' 'R' 'P' 'R' '0']\n",
      " ['1' 'O' 'Y' 'G' 'G' '1']\n",
      " ['1' 'B' 'K' 'B' 'G' '1']\n",
      " ['1' 'B' 'K' 'B' 'G' '1']\n",
      " ['1' 'B' 'K' 'B' 'G' '1']\n",
      " ['0' 'G' 'G' 'K' 'G' '1']\n",
      " ['0' 'G' 'G' 'K' 'G' '1']\n",
      " ['1' 'G' 'G' 'R' 'O' '0']]\n",
      "-12\n",
      "\n",
      "\n",
      "\n",
      "['B' 'B' 'Y' 'R'] \n",
      "\n",
      "[['0' 'B' 'B' 'Y' 'R' '4']\n",
      " ['0' 'R' 'R' 'P' 'R' '1']\n",
      " ['0' 'R' 'R' 'P' 'R' '1']\n",
      " ['0' 'R' 'R' 'P' 'R' '1']\n",
      " ['0' 'R' 'R' 'P' 'R' '1']\n",
      " ['1' 'O' 'Y' 'G' 'G' '0']\n",
      " ['1' 'B' 'K' 'B' 'G' '1']\n",
      " ['1' 'B' 'K' 'B' 'G' '1']\n",
      " ['1' 'B' 'K' 'B' 'G' '1']\n",
      " ['0' 'G' 'G' 'K' 'G' '0']\n",
      " ['0' 'G' 'G' 'K' 'G' '0']\n",
      " ['1' 'G' 'G' 'R' 'O' '0']]\n",
      "18\n",
      "\n",
      "\n",
      "\n",
      "['G' 'K' 'O' 'O'] \n",
      "\n",
      "[['0' 'B' 'B' 'Y' 'R' '0']\n",
      " ['0' 'R' 'R' 'P' 'R' '0']\n",
      " ['0' 'R' 'R' 'P' 'R' '0']\n",
      " ['0' 'R' 'R' 'P' 'R' '0']\n",
      " ['0' 'R' 'R' 'P' 'R' '0']\n",
      " ['2' 'O' 'Y' 'G' 'G' '0']\n",
      " ['1' 'B' 'K' 'B' 'G' '1']\n",
      " ['1' 'B' 'K' 'B' 'G' '1']\n",
      " ['1' 'B' 'K' 'B' 'G' '1']\n",
      " ['1' 'G' 'G' 'K' 'G' '1']\n",
      " ['1' 'G' 'G' 'K' 'G' '1']\n",
      " ['0' 'G' 'G' 'R' 'O' '2']]\n",
      "-12\n",
      "\n",
      "\n",
      "\n",
      "['G' 'G' 'R' 'O'] \n",
      "\n",
      "[['0' ' ' ' ' ' ' ' ' '0']\n",
      " ['0' ' ' ' ' ' ' ' ' '0']\n",
      " ['0' ' ' ' ' ' ' ' ' '0']\n",
      " ['0' ' ' ' ' ' ' ' ' '0']\n",
      " ['0' ' ' ' ' ' ' ' ' '0']\n",
      " ['0' ' ' ' ' ' ' ' ' '0']\n",
      " ['0' ' ' ' ' ' ' ' ' '0']\n",
      " ['0' ' ' ' ' ' ' ' ' '0']\n",
      " ['0' ' ' ' ' ' ' ' ' '0']\n",
      " ['0' ' ' ' ' ' ' ' ' '0']\n",
      " ['0' ' ' ' ' ' ' ' ' '0']\n",
      " ['0' 'G' 'G' 'R' 'O' '4']]\n",
      "29\n",
      "\n",
      "\n",
      "\n",
      "['P' 'B' 'O' 'B'] \n",
      "\n",
      "[['1' 'B' 'B' 'Y' 'R' '1']\n",
      " ['1' 'R' 'R' 'P' 'R' '0']\n",
      " ['1' 'R' 'R' 'P' 'R' '0']\n",
      " ['1' 'R' 'R' 'P' 'R' '0']\n",
      " ['1' 'R' 'R' 'P' 'R' '0']\n",
      " ['1' 'O' 'Y' 'G' 'G' '0']\n",
      " ['2' 'B' 'K' 'B' 'G' '0']\n",
      " ['2' 'B' 'K' 'B' 'G' '0']\n",
      " ['2' 'B' 'K' 'B' 'G' '0']\n",
      " ['0' 'G' 'G' 'K' 'G' '0']\n",
      " ['0' 'G' 'G' 'K' 'G' '0']\n",
      " ['1' 'G' 'G' 'R' 'O' '0']]\n",
      "-12\n",
      "\n",
      "\n",
      "\n",
      "['O' 'R' 'Y' 'B'] \n",
      "\n",
      "[['2' 'B' 'B' 'Y' 'R' '1']\n",
      " ['0' 'R' 'R' 'P' 'R' '1']\n",
      " ['0' 'R' 'R' 'P' 'R' '1']\n",
      " ['0' 'R' 'R' 'P' 'R' '1']\n",
      " ['0' 'R' 'R' 'P' 'R' '1']\n",
      " ['1' 'B' 'K' 'B' 'G' '0']\n",
      " ['2' 'B' 'B' 'Y' 'R' '1']\n",
      " ['1' 'B' 'K' 'B' 'G' '0']\n",
      " ['1' 'B' 'K' 'B' 'G' '0']\n",
      " ['0' 'G' 'G' 'K' 'G' '0']\n",
      " ['1' 'P' 'B' 'Y' 'G' '1']\n",
      " ['2' 'G' 'G' 'R' 'O' '0']]\n",
      "-12\n",
      "\n",
      "\n",
      "\n",
      "['B' 'K' 'B' 'G'] \n",
      "\n",
      "[['0' ' ' ' ' ' ' ' ' '0']\n",
      " ['0' ' ' ' ' ' ' ' ' '0']\n",
      " ['0' ' ' ' ' ' ' ' ' '0']\n",
      " ['0' ' ' ' ' ' ' ' ' '0']\n",
      " ['0' ' ' ' ' ' ' ' ' '0']\n",
      " ['0' ' ' ' ' ' ' ' ' '0']\n",
      " ['0' ' ' ' ' ' ' ' ' '0']\n",
      " ['0' ' ' ' ' ' ' ' ' '0']\n",
      " ['0' 'B' 'K' 'B' 'G' '4']\n",
      " ['1' 'G' 'G' 'K' 'G' '1']\n",
      " ['1' 'G' 'G' 'K' 'G' '1']\n",
      " ['1' 'G' 'G' 'R' 'O' '0']]\n",
      "26\n",
      "\n",
      "\n",
      "\n",
      "['R' 'R' 'P' 'R'] \n",
      "\n",
      "[['0' ' ' ' ' ' ' ' ' '0']\n",
      " ['0' ' ' ' ' ' ' ' ' '0']\n",
      " ['0' ' ' ' ' ' ' ' ' '0']\n",
      " ['0' ' ' ' ' ' ' ' ' '0']\n",
      " ['0' 'R' 'R' 'P' 'R' '4']\n",
      " ['0' 'O' 'Y' 'G' 'G' '0']\n",
      " ['0' 'B' 'K' 'B' 'G' '0']\n",
      " ['0' 'B' 'K' 'B' 'G' '0']\n",
      " ['0' 'B' 'K' 'B' 'G' '0']\n",
      " ['0' 'G' 'G' 'K' 'G' '0']\n",
      " ['0' 'G' 'G' 'K' 'G' '0']\n",
      " ['1' 'G' 'G' 'R' 'O' '0']]\n",
      "22\n",
      "\n",
      "\n",
      "\n"
     ]
    }
   ],
   "source": [
    "for g in range(10):\n",
    "\n",
    "    state, _ = env.reset()\n",
    "    env.goal = env.goals[g]\n",
    "    env.goal_render = np.array([env.colour_dict[i] for i in env.goal])\n",
    "    print(env.goal_render, '\\n')\n",
    "    step = 0\n",
    "    ret = 0\n",
    "\n",
    "    while True:\n",
    "\n",
    "        state, reward, done, _, _ = env.step(agent.choose_action(state, exp=False))\n",
    "        step += 1\n",
    "        ret += reward\n",
    "\n",
    "        if done: break\n",
    "\n",
    "    env.render()\n",
    "    print(ret)\n",
    "    print('\\n\\n')"
   ]
  },
  {
   "cell_type": "code",
   "execution_count": 137,
   "id": "ef324c38",
   "metadata": {},
   "outputs": [
    {
     "name": "stdout",
     "output_type": "stream",
     "text": [
      "['R' 'K' 'P' 'O']\n",
      "[['0' ' ' ' ' ' ' ' ' '0']\n",
      " ['0' ' ' ' ' ' ' ' ' '0']\n",
      " ['0' ' ' ' ' ' ' ' ' '0']\n",
      " ['0' ' ' ' ' ' ' ' ' '0']\n",
      " ['0' ' ' ' ' ' ' ' ' '0']\n",
      " ['0' ' ' ' ' ' ' ' ' '0']\n",
      " ['0' ' ' ' ' ' ' ' ' '0']\n",
      " ['0' ' ' ' ' ' ' ' ' '0']\n",
      " ['0' ' ' ' ' ' ' ' ' '0']\n",
      " ['0' 'R' 'K' 'P' 'O' '4']\n",
      " ['0' 'K' 'K' 'P' 'P' '2']\n",
      " ['1' 'G' 'Y' 'B' 'K' '0']]\n"
     ]
    }
   ],
   "source": [
    "state = env.reset()\n",
    "env.goal = env.goals[1]\n",
    "env.goal_render = np.array([env.colour_dict[i] for i in env.goal])\n",
    "print(env.goal_render)\n",
    "step = 0\n",
    "\n",
    "agent.epsilon = 0\n",
    "\n",
    "while True:\n",
    "    \n",
    "    state, _, done, _ = env.step(agent.choose_action(tuple(state)))\n",
    "    step += 1\n",
    "    \n",
    "    if done: break\n",
    "        \n",
    "env.render()"
   ]
  },
  {
   "cell_type": "code",
   "execution_count": 138,
   "id": "a0d77977",
   "metadata": {},
   "outputs": [
    {
     "name": "stdout",
     "output_type": "stream",
     "text": [
      "['K' 'K' 'P' 'P']\n",
      "[['0' ' ' ' ' ' ' ' ' '0']\n",
      " ['0' ' ' ' ' ' ' ' ' '0']\n",
      " ['0' ' ' ' ' ' ' ' ' '0']\n",
      " ['0' ' ' ' ' ' ' ' ' '0']\n",
      " ['0' ' ' ' ' ' ' ' ' '0']\n",
      " ['0' ' ' ' ' ' ' ' ' '0']\n",
      " ['0' ' ' ' ' ' ' ' ' '0']\n",
      " ['0' ' ' ' ' ' ' ' ' '0']\n",
      " ['0' ' ' ' ' ' ' ' ' '0']\n",
      " ['0' ' ' ' ' ' ' ' ' '0']\n",
      " ['0' 'K' 'K' 'P' 'P' '4']\n",
      " ['1' 'G' 'Y' 'B' 'K' '0']]\n"
     ]
    }
   ],
   "source": [
    "state = env.reset()\n",
    "env.goal = env.goals[2]\n",
    "env.goal_render = np.array([env.colour_dict[i] for i in env.goal])\n",
    "print(env.goal_render)\n",
    "step = 0\n",
    "\n",
    "agent.epsilon = 0\n",
    "\n",
    "while True:\n",
    "    \n",
    "    state, _, done, _ = env.step(agent.choose_action(tuple(state)))\n",
    "    step += 1\n",
    "    \n",
    "    if done: break\n",
    "        \n",
    "env.render()"
   ]
  },
  {
   "cell_type": "code",
   "execution_count": 134,
   "id": "dc653c7d",
   "metadata": {},
   "outputs": [
    {
     "ename": "IndexError",
     "evalue": "index 3 is out of bounds for axis 0 with size 3",
     "output_type": "error",
     "traceback": [
      "\u001b[1;31m---------------------------------------------------------------------------\u001b[0m",
      "\u001b[1;31mIndexError\u001b[0m                                Traceback (most recent call last)",
      "Cell \u001b[1;32mIn[134], line 2\u001b[0m\n\u001b[0;32m      1\u001b[0m state \u001b[38;5;241m=\u001b[39m env\u001b[38;5;241m.\u001b[39mreset()\n\u001b[1;32m----> 2\u001b[0m env\u001b[38;5;241m.\u001b[39mgoal \u001b[38;5;241m=\u001b[39m \u001b[43menv\u001b[49m\u001b[38;5;241;43m.\u001b[39;49m\u001b[43mgoals\u001b[49m\u001b[43m[\u001b[49m\u001b[38;5;241;43m3\u001b[39;49m\u001b[43m]\u001b[49m\n\u001b[0;32m      3\u001b[0m env\u001b[38;5;241m.\u001b[39mgoal_render \u001b[38;5;241m=\u001b[39m np\u001b[38;5;241m.\u001b[39marray([env\u001b[38;5;241m.\u001b[39mcolour_dict[i] \u001b[38;5;28;01mfor\u001b[39;00m i \u001b[38;5;129;01min\u001b[39;00m env\u001b[38;5;241m.\u001b[39mgoal])\n\u001b[0;32m      4\u001b[0m \u001b[38;5;28mprint\u001b[39m(env\u001b[38;5;241m.\u001b[39mgoal_render)\n",
      "\u001b[1;31mIndexError\u001b[0m: index 3 is out of bounds for axis 0 with size 3"
     ]
    }
   ],
   "source": [
    "state = env.reset()\n",
    "env.goal = env.goals[3]\n",
    "env.goal_render = np.array([env.colour_dict[i] for i in env.goal])\n",
    "print(env.goal_render)\n",
    "step = 0\n",
    "\n",
    "agent.epsilon = 0\n",
    "\n",
    "while True:\n",
    "    \n",
    "    state, _, done, _ = env.step(agent.choose_action(tuple(state)))\n",
    "    step += 1\n",
    "    \n",
    "    if done: break\n",
    "        \n",
    "env.render()"
   ]
  }
 ],
 "metadata": {
  "kernelspec": {
   "display_name": "Python 3 (ipykernel)",
   "language": "python",
   "name": "python3"
  },
  "language_info": {
   "codemirror_mode": {
    "name": "ipython",
    "version": 3
   },
   "file_extension": ".py",
   "mimetype": "text/x-python",
   "name": "python",
   "nbconvert_exporter": "python",
   "pygments_lexer": "ipython3",
   "version": "3.9.13"
  }
 },
 "nbformat": 4,
 "nbformat_minor": 5
}
