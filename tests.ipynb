{
 "cells": [
  {
   "cell_type": "code",
   "execution_count": 1,
   "id": "ef5da553",
   "metadata": {},
   "outputs": [],
   "source": [
    "import numpy as np\n",
    "from mastermind import mastermind\n",
    "from q_agent import q_agent"
   ]
  },
  {
   "cell_type": "code",
   "execution_count": 2,
   "id": "32ea337e",
   "metadata": {},
   "outputs": [
    {
     "name": "stdout",
     "output_type": "stream",
     "text": [
      "[['0' ' ' ' ' ' ' ' ' '0']\n",
      " ['0' ' ' ' ' ' ' ' ' '0']\n",
      " ['0' ' ' ' ' ' ' ' ' '0']\n",
      " ['0' ' ' ' ' ' ' ' ' '0']\n",
      " ['0' ' ' ' ' ' ' ' ' '0']\n",
      " ['0' ' ' ' ' ' ' ' ' '0']\n",
      " ['0' ' ' ' ' ' ' ' ' '0']\n",
      " ['0' ' ' ' ' ' ' ' ' '0']\n",
      " ['0' ' ' ' ' ' ' ' ' '0']\n",
      " ['0' ' ' ' ' ' ' ' ' '0']\n",
      " ['0' ' ' ' ' ' ' ' ' '0']\n",
      " ['0' ' ' ' ' ' ' ' ' '0']]\n"
     ]
    }
   ],
   "source": [
    "env = mastermind('guess')\n",
    "env.reset()\n",
    "env.render()"
   ]
  },
  {
   "cell_type": "code",
   "execution_count": 3,
   "id": "919bc53a",
   "metadata": {
    "scrolled": true
   },
   "outputs": [
    {
     "name": "stdout",
     "output_type": "stream",
     "text": [
      "['W' 'Y' 'P' 'Y']\n",
      "\n",
      "[['0' ' ' ' ' ' ' ' ' '0']\n",
      " ['0' ' ' ' ' ' ' ' ' '0']\n",
      " ['0' ' ' ' ' ' ' ' ' '0']\n",
      " ['0' ' ' ' ' ' ' ' ' '0']\n",
      " ['0' ' ' ' ' ' ' ' ' '0']\n",
      " ['0' ' ' ' ' ' ' ' ' '0']\n",
      " ['0' ' ' ' ' ' ' ' ' '0']\n",
      " ['0' ' ' ' ' ' ' ' ' '0']\n",
      " ['0' ' ' ' ' ' ' ' ' '0']\n",
      " ['0' ' ' ' ' ' ' ' ' '0']\n",
      " ['0' ' ' ' ' ' ' ' ' '0']\n",
      " ['2' 'R' 'W' 'W' 'P' '0']]\n",
      "\n"
     ]
    }
   ],
   "source": [
    "print(env.goal_render)\n",
    "print()\n",
    "\n",
    "guess = np.random.randint(0, 8, 4)\n",
    "\n",
    "env.step(800)\n",
    "\n",
    "# for i in guess:\n",
    "\n",
    "#     env.step(i)\n",
    "    \n",
    "env.render()\n",
    "print()"
   ]
  },
  {
   "cell_type": "markdown",
   "id": "0a0baf2e",
   "metadata": {},
   "source": [
    "# Training"
   ]
  },
  {
   "cell_type": "code",
   "execution_count": 4,
   "id": "6cbf4467",
   "metadata": {},
   "outputs": [
    {
     "name": "stdout",
     "output_type": "stream",
     "text": [
      "[['0' ' ' ' ' ' ' ' ' '0']\n",
      " ['0' ' ' ' ' ' ' ' ' '0']\n",
      " ['0' ' ' ' ' ' ' ' ' '0']\n",
      " ['0' ' ' ' ' ' ' ' ' '0']\n",
      " ['0' ' ' ' ' ' ' ' ' '0']\n",
      " ['0' ' ' ' ' ' ' ' ' '0']\n",
      " ['0' ' ' ' ' ' ' ' ' '0']\n",
      " ['0' ' ' ' ' ' ' ' ' '0']\n",
      " ['0' ' ' ' ' ' ' ' ' '0']\n",
      " ['0' ' ' ' ' ' ' ' ' '0']\n",
      " ['0' ' ' ' ' ' ' ' ' '0']\n",
      " ['0' ' ' ' ' ' ' ' ' '0']]\n"
     ]
    },
    {
     "name": "stderr",
     "output_type": "stream",
     "text": [
      "  0%|                                                                                     | 0/10000000 [00:00<?, ?it/s]C:\\Users\\djeb20\\Anaconda3\\lib\\site-packages\\numpy\\core\\_methods.py:230: RuntimeWarning: invalid value encountered in subtract\n",
      "  x = asanyarray(arr - arrmean)\n",
      "  0%|                                                                         | 29/10000000 [00:00<9:38:01, 288.34it/s]"
     ]
    },
    {
     "name": "stdout",
     "output_type": "stream",
     "text": [
      "\n",
      "Average td error: 1.1250, STD of STD: nan, Average ret: -24.00, Average steps: 12.00, Num_states: 48\n"
     ]
    },
    {
     "name": "stderr",
     "output_type": "stream",
     "text": [
      "  0%|                                                                       | 1027/10000000 [00:03<8:59:25, 308.94it/s]"
     ]
    },
    {
     "name": "stdout",
     "output_type": "stream",
     "text": [
      "\n",
      "Average td error: 0.9412, STD of STD: 0.0003968893480577269, Average ret: -25.35, Average steps: 11.99, Num_states: 43798\n"
     ]
    },
    {
     "name": "stderr",
     "output_type": "stream",
     "text": [
      "  0%|                                                                       | 2046/10000000 [00:06<8:59:30, 308.86it/s]"
     ]
    },
    {
     "name": "stdout",
     "output_type": "stream",
     "text": [
      "\n",
      "Average td error: 0.9327, STD of STD: 9.284534106448954e-05, Average ret: -23.32, Average steps: 11.98, Num_states: 85305\n"
     ]
    },
    {
     "name": "stderr",
     "output_type": "stream",
     "text": [
      "  0%|                                                                       | 3067/10000000 [00:09<8:51:32, 313.46it/s]"
     ]
    },
    {
     "name": "stdout",
     "output_type": "stream",
     "text": [
      "\n",
      "Average td error: 0.9278, STD of STD: 0.0001405793215033816, Average ret: -22.25, Average steps: 11.98, Num_states: 126212\n"
     ]
    },
    {
     "name": "stderr",
     "output_type": "stream",
     "text": [
      "  0%|                                                                       | 4029/10000000 [00:13<8:53:44, 312.14it/s]"
     ]
    },
    {
     "name": "stdout",
     "output_type": "stream",
     "text": [
      "\n",
      "Average td error: 0.8793, STD of STD: 8.228170506214668e-05, Average ret: -19.03, Average steps: 11.99, Num_states: 164393\n"
     ]
    },
    {
     "name": "stderr",
     "output_type": "stream",
     "text": [
      "  0%|                                                                       | 5062/10000000 [00:16<8:45:36, 316.93it/s]"
     ]
    },
    {
     "name": "stdout",
     "output_type": "stream",
     "text": [
      "\n",
      "Average td error: 0.8921, STD of STD: 9.319280507573883e-05, Average ret: -19.27, Average steps: 11.99, Num_states: 202476\n"
     ]
    },
    {
     "name": "stderr",
     "output_type": "stream",
     "text": [
      "  0%|                                                                       | 6042/10000000 [00:19<8:36:36, 322.43it/s]"
     ]
    },
    {
     "name": "stdout",
     "output_type": "stream",
     "text": [
      "\n",
      "Average td error: 0.8139, STD of STD: 5.4650774101111425e-05, Average ret: -17.68, Average steps: 12.00, Num_states: 239062\n"
     ]
    },
    {
     "name": "stderr",
     "output_type": "stream",
     "text": [
      "  0%|                                                                       | 7048/10000000 [00:22<8:44:28, 317.55it/s]"
     ]
    },
    {
     "name": "stdout",
     "output_type": "stream",
     "text": [
      "\n",
      "Average td error: 0.8138, STD of STD: 0.0007549036586958326, Average ret: -16.83, Average steps: 11.99, Num_states: 274353\n"
     ]
    },
    {
     "name": "stderr",
     "output_type": "stream",
     "text": [
      "  0%|                                                                       | 8035/10000000 [00:25<8:39:28, 320.58it/s]"
     ]
    },
    {
     "name": "stdout",
     "output_type": "stream",
     "text": [
      "\n",
      "Average td error: 0.8066, STD of STD: 1.9269890593447982e-05, Average ret: -16.80, Average steps: 12.00, Num_states: 310028\n"
     ]
    },
    {
     "name": "stderr",
     "output_type": "stream",
     "text": [
      "  0%|                                                                       | 9054/10000000 [00:28<8:48:47, 314.90it/s]"
     ]
    },
    {
     "name": "stdout",
     "output_type": "stream",
     "text": [
      "\n",
      "Average td error: 0.7645, STD of STD: 2.9442497717457814e-05, Average ret: -15.86, Average steps: 11.99, Num_states: 344403\n"
     ]
    },
    {
     "name": "stderr",
     "output_type": "stream",
     "text": [
      "  0%|                                                                      | 10048/10000000 [00:31<8:36:36, 322.29it/s]"
     ]
    },
    {
     "name": "stdout",
     "output_type": "stream",
     "text": [
      "\n",
      "Average td error: 0.7417, STD of STD: 3.66969190412956e-05, Average ret: -14.17, Average steps: 11.99, Num_states: 377422\n"
     ]
    },
    {
     "name": "stderr",
     "output_type": "stream",
     "text": [
      "  0%|                                                                      | 10913/10000000 [00:34<8:39:40, 320.37it/s]"
     ]
    },
    {
     "name": "stdout",
     "output_type": "stream",
     "text": [
      "\n",
      "Average td error: 0.6629, STD of STD: 9.482003553695293e-06, Average ret: -0.37, Average steps: 10.15\n"
     ]
    },
    {
     "name": "stderr",
     "output_type": "stream",
     "text": [
      "\n"
     ]
    }
   ],
   "source": [
    "# action_type, 'guess': take an entire guess, 'peg': choose the colour of the next peg\n",
    "# goal_type, 'fixed': keep the same goal each episode, 'change': change the goal each episode\n",
    "# reward_struc, 'basic': -1 a step and +30 for finishing, 'clues': get rewarded for the clues\n",
    "\n",
    "env = mastermind(action_type='peg', goal_type='fixed', reward_struc='clues')\n",
    "env.reset()\n",
    "env.render()\n",
    "\n",
    "agent = q_agent(env, env.state_dim, env.action_dim, epsilon=0.05, gamma=1, alpha=0.2, tol=1e-5)\n",
    "q = agent.train(int(1e7))"
   ]
  },
  {
   "cell_type": "code",
   "execution_count": 5,
   "id": "54fbf686",
   "metadata": {},
   "outputs": [
    {
     "data": {
      "text/plain": [
       "array(['P', 'P', 'B', 'O'], dtype='<U1')"
      ]
     },
     "execution_count": 5,
     "metadata": {},
     "output_type": "execute_result"
    }
   ],
   "source": [
    "env.goal_render"
   ]
  },
  {
   "cell_type": "markdown",
   "id": "f42b6cff",
   "metadata": {},
   "source": [
    "# Test episode"
   ]
  },
  {
   "cell_type": "code",
   "execution_count": 6,
   "id": "b66d23eb",
   "metadata": {},
   "outputs": [
    {
     "name": "stdout",
     "output_type": "stream",
     "text": [
      "[['0' ' ' ' ' ' ' ' ' '0']\n",
      " ['0' ' ' ' ' ' ' ' ' '0']\n",
      " ['0' ' ' ' ' ' ' ' ' '0']\n",
      " ['0' ' ' ' ' ' ' ' ' '0']\n",
      " ['0' ' ' ' ' ' ' ' ' '0']\n",
      " ['0' ' ' ' ' ' ' ' ' '0']\n",
      " ['0' ' ' ' ' ' ' ' ' '0']\n",
      " ['0' 'P' 'P' 'B' 'O' '4']\n",
      " ['0' 'P' 'P' 'R' 'O' '3']\n",
      " ['0' 'P' 'O' 'B' 'O' '3']\n",
      " ['2' 'P' 'O' 'B' 'P' '2']\n",
      " ['2' 'P' 'B' 'P' 'O' '2']]\n"
     ]
    }
   ],
   "source": [
    "state = env.reset()\n",
    "step = 0\n",
    "\n",
    "agent.epsilon = 0\n",
    "\n",
    "while True:\n",
    "    \n",
    "    state, _, done, _ = env.step(agent.choose_action(tuple(state)))\n",
    "    step += 1\n",
    "    \n",
    "    if done: break\n",
    "        \n",
    "env.render()"
   ]
  },
  {
   "cell_type": "code",
   "execution_count": null,
   "id": "224761ae",
   "metadata": {},
   "outputs": [],
   "source": []
  }
 ],
 "metadata": {
  "kernelspec": {
   "display_name": "Python 3 (ipykernel)",
   "language": "python",
   "name": "python3"
  },
  "language_info": {
   "codemirror_mode": {
    "name": "ipython",
    "version": 3
   },
   "file_extension": ".py",
   "mimetype": "text/x-python",
   "name": "python",
   "nbconvert_exporter": "python",
   "pygments_lexer": "ipython3",
   "version": "3.9.12"
  }
 },
 "nbformat": 4,
 "nbformat_minor": 5
}
