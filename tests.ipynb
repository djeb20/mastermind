{
 "cells": [
  {
   "cell_type": "code",
   "execution_count": 1,
   "id": "ef5da553",
   "metadata": {},
   "outputs": [],
   "source": [
    "import numpy as np\n",
    "from mastermind import mastermind\n",
    "from q_agent import q_agent\n",
    "from dqn import Agent"
   ]
  },
  {
   "cell_type": "markdown",
   "id": "f08228c6",
   "metadata": {},
   "source": [
    "# DQN"
   ]
  },
  {
   "cell_type": "code",
   "execution_count": 2,
   "id": "dd0da336",
   "metadata": {},
   "outputs": [],
   "source": [
    "env = mastermind(action_type='guess', reward_struc='basic', num_goals=10)\n",
    "agent = Agent(env, state_dim=env.state_dim, num_actions=env.action_dim,\n",
    "                 critic_arch=[128, 64], buffer_size=1e6, batch_size=64, decay=0.999,\n",
    "                 gamma=0.99, step_size=1e-4, \n",
    "                 tau=0.001, epsilon_start=1, epsilon_min=0.05)"
   ]
  },
  {
   "cell_type": "code",
   "execution_count": 3,
   "id": "9143616f",
   "metadata": {
    "scrolled": true
   },
   "outputs": [
    {
     "name": "stderr",
     "output_type": "stream",
     "text": [
      "100%|█████████████████████████████████████████████████████████████████████| 1000000/1000000 [00:51<00:00, 19393.79it/s]\n"
     ]
    },
    {
     "name": "stdout",
     "output_type": "stream",
     "text": [
      "Episode number: 10, Epsilon: 0.99, Average Return: -12.00\n",
      "Episode number: 20, Epsilon: 0.98, Average Return: -12.00\n",
      "Episode number: 30, Epsilon: 0.97, Average Return: -12.00\n",
      "Episode number: 40, Epsilon: 0.96, Average Return: -12.00\n",
      "Episode number: 50, Epsilon: 0.95, Average Return: -12.00\n",
      "Episode number: 60, Epsilon: 0.94, Average Return: -12.00\n",
      "Episode number: 70, Epsilon: 0.93, Average Return: -12.00\n",
      "Episode number: 80, Epsilon: 0.92, Average Return: -12.00\n",
      "Episode number: 90, Epsilon: 0.91, Average Return: -4.10\n",
      "Episode number: 100, Epsilon: 0.90, Average Return: -4.50\n",
      "Episode number: 110, Epsilon: 0.90, Average Return: -12.00\n",
      "Episode number: 120, Epsilon: 0.89, Average Return: -12.00\n",
      "Episode number: 130, Epsilon: 0.88, Average Return: -12.00\n",
      "Episode number: 140, Epsilon: 0.87, Average Return: -12.00\n",
      "Episode number: 150, Epsilon: 0.86, Average Return: -12.00\n",
      "Episode number: 160, Epsilon: 0.85, Average Return: -7.90\n",
      "Episode number: 170, Epsilon: 0.84, Average Return: -8.40\n",
      "Episode number: 180, Epsilon: 0.84, Average Return: -12.00\n",
      "Episode number: 190, Epsilon: 0.83, Average Return: -8.10\n",
      "Episode number: 200, Epsilon: 0.82, Average Return: -4.70\n",
      "Episode number: 210, Epsilon: 0.81, Average Return: -0.90\n",
      "Episode number: 220, Epsilon: 0.80, Average Return: -2.00\n",
      "Episode number: 230, Epsilon: 0.79, Average Return: -4.90\n",
      "Episode number: 240, Epsilon: 0.79, Average Return: -12.00\n",
      "Episode number: 250, Epsilon: 0.78, Average Return: -7.90\n",
      "Episode number: 260, Epsilon: 0.77, Average Return: -12.00\n",
      "Episode number: 270, Epsilon: 0.76, Average Return: -8.60\n",
      "Episode number: 280, Epsilon: 0.76, Average Return: -8.30\n",
      "Episode number: 290, Epsilon: 0.75, Average Return: -12.00\n",
      "Episode number: 300, Epsilon: 0.74, Average Return: -8.20\n",
      "Episode number: 310, Epsilon: 0.73, Average Return: -2.00\n",
      "Episode number: 320, Epsilon: 0.73, Average Return: -4.10\n",
      "Episode number: 330, Epsilon: 0.72, Average Return: -8.10\n",
      "Episode number: 340, Epsilon: 0.71, Average Return: -0.30\n",
      "Episode number: 350, Epsilon: 0.70, Average Return: -4.40\n",
      "Episode number: 360, Epsilon: 0.70, Average Return: -12.00\n",
      "Episode number: 370, Epsilon: 0.69, Average Return: -12.00\n",
      "Episode number: 380, Epsilon: 0.68, Average Return: -12.00\n",
      "Episode number: 390, Epsilon: 0.68, Average Return: -5.00\n",
      "Episode number: 400, Epsilon: 0.67, Average Return: 0.10\n",
      "Episode number: 410, Epsilon: 0.66, Average Return: -1.30\n",
      "Episode number: 420, Epsilon: 0.66, Average Return: 2.90\n",
      "Episode number: 430, Epsilon: 0.65, Average Return: -4.60\n",
      "Episode number: 440, Epsilon: 0.64, Average Return: -8.70\n",
      "Episode number: 450, Epsilon: 0.64, Average Return: -12.00\n",
      "Episode number: 460, Epsilon: 0.63, Average Return: -8.40\n",
      "Episode number: 470, Epsilon: 0.62, Average Return: -8.10\n",
      "Episode number: 480, Epsilon: 0.62, Average Return: -4.50\n",
      "Episode number: 490, Epsilon: 0.61, Average Return: -7.90\n",
      "Episode number: 500, Epsilon: 0.61, Average Return: -8.90\n",
      "Episode number: 510, Epsilon: 0.60, Average Return: 0.20\n",
      "Episode number: 520, Epsilon: 0.59, Average Return: -8.60\n",
      "Episode number: 530, Epsilon: 0.59, Average Return: -8.30\n",
      "Episode number: 540, Epsilon: 0.58, Average Return: -5.30\n",
      "Episode number: 550, Epsilon: 0.58, Average Return: -4.90\n",
      "Episode number: 560, Epsilon: 0.57, Average Return: -5.10\n",
      "Episode number: 570, Epsilon: 0.57, Average Return: -4.90\n",
      "Episode number: 580, Epsilon: 0.56, Average Return: -8.80\n",
      "Episode number: 590, Epsilon: 0.55, Average Return: -4.00\n",
      "Episode number: 600, Epsilon: 0.55, Average Return: -8.60\n",
      "Episode number: 610, Epsilon: 0.54, Average Return: -4.10\n",
      "Episode number: 620, Epsilon: 0.54, Average Return: -8.20\n",
      "Episode number: 630, Epsilon: 0.53, Average Return: 3.40\n",
      "Episode number: 640, Epsilon: 0.53, Average Return: -8.90\n",
      "Episode number: 650, Epsilon: 0.52, Average Return: -7.90\n",
      "Episode number: 660, Epsilon: 0.52, Average Return: -7.90\n",
      "Episode number: 670, Epsilon: 0.51, Average Return: -7.90\n",
      "Episode number: 680, Epsilon: 0.51, Average Return: -12.00\n",
      "Episode number: 690, Epsilon: 0.50, Average Return: -8.30\n",
      "Episode number: 700, Epsilon: 0.50, Average Return: -8.00\n",
      "Episode number: 710, Epsilon: 0.49, Average Return: -8.00\n",
      "Episode number: 720, Epsilon: 0.49, Average Return: 2.20\n",
      "Episode number: 730, Epsilon: 0.48, Average Return: -12.00\n",
      "Episode number: 740, Epsilon: 0.48, Average Return: -8.40\n",
      "Episode number: 750, Epsilon: 0.47, Average Return: -8.00\n",
      "Episode number: 760, Epsilon: 0.47, Average Return: -5.40\n",
      "Episode number: 770, Epsilon: 0.46, Average Return: -0.20\n",
      "Episode number: 780, Epsilon: 0.46, Average Return: -4.80\n",
      "Episode number: 790, Epsilon: 0.45, Average Return: 4.10\n",
      "Episode number: 800, Epsilon: 0.45, Average Return: -0.10\n",
      "Episode number: 810, Epsilon: 0.44, Average Return: -0.80\n",
      "Episode number: 820, Epsilon: 0.44, Average Return: 3.40\n",
      "Episode number: 830, Epsilon: 0.44, Average Return: 2.50\n",
      "Episode number: 840, Epsilon: 0.43, Average Return: -4.10\n",
      "Episode number: 850, Epsilon: 0.43, Average Return: -4.30\n",
      "Episode number: 860, Epsilon: 0.42, Average Return: 2.40\n",
      "Episode number: 870, Epsilon: 0.42, Average Return: -0.90\n",
      "Episode number: 880, Epsilon: 0.41, Average Return: 0.20\n",
      "Episode number: 890, Epsilon: 0.41, Average Return: -8.30\n",
      "Episode number: 900, Epsilon: 0.41, Average Return: -12.00\n",
      "Episode number: 910, Epsilon: 0.40, Average Return: -4.70\n",
      "Episode number: 920, Epsilon: 0.40, Average Return: -12.00\n",
      "Episode number: 930, Epsilon: 0.39, Average Return: -8.00\n",
      "Episode number: 940, Epsilon: 0.39, Average Return: -7.90\n",
      "Episode number: 950, Epsilon: 0.39, Average Return: -8.90\n",
      "Episode number: 960, Epsilon: 0.38, Average Return: -7.90\n",
      "Episode number: 970, Epsilon: 0.38, Average Return: -4.80\n",
      "Episode number: 980, Epsilon: 0.38, Average Return: -8.20\n",
      "Episode number: 990, Epsilon: 0.37, Average Return: -12.00\n",
      "Episode number: 1000, Epsilon: 0.37, Average Return: -12.00\n",
      "Episode number: 1010, Epsilon: 0.36, Average Return: -0.80\n",
      "Episode number: 1020, Epsilon: 0.36, Average Return: -12.00\n",
      "Episode number: 1030, Epsilon: 0.36, Average Return: -4.20\n",
      "Episode number: 1040, Epsilon: 0.35, Average Return: -4.60\n",
      "Episode number: 1050, Epsilon: 0.35, Average Return: -0.50\n",
      "Episode number: 1060, Epsilon: 0.35, Average Return: -4.70\n",
      "Episode number: 1070, Epsilon: 0.34, Average Return: 3.20\n",
      "Episode number: 1080, Epsilon: 0.34, Average Return: -4.10\n",
      "Episode number: 1090, Epsilon: 0.34, Average Return: -8.30\n",
      "Episode number: 1100, Epsilon: 0.33, Average Return: -4.80\n",
      "Episode number: 1110, Epsilon: 0.33, Average Return: -12.00\n",
      "Episode number: 1120, Epsilon: 0.33, Average Return: -3.90\n",
      "Episode number: 1130, Epsilon: 0.32, Average Return: -3.80\n",
      "Episode number: 1140, Epsilon: 0.32, Average Return: -4.00\n",
      "Episode number: 1150, Epsilon: 0.32, Average Return: -4.70\n",
      "Episode number: 1160, Epsilon: 0.31, Average Return: -0.50\n",
      "Episode number: 1170, Epsilon: 0.31, Average Return: -1.40\n",
      "Episode number: 1180, Epsilon: 0.31, Average Return: -8.70\n",
      "Episode number: 1190, Epsilon: 0.30, Average Return: -12.00\n",
      "Episode number: 1200, Epsilon: 0.30, Average Return: -7.90\n",
      "Episode number: 1210, Epsilon: 0.30, Average Return: 2.70\n",
      "Episode number: 1220, Epsilon: 0.30, Average Return: -8.50\n",
      "Episode number: 1230, Epsilon: 0.29, Average Return: -4.50\n",
      "Episode number: 1240, Epsilon: 0.29, Average Return: -3.90\n",
      "Episode number: 1250, Epsilon: 0.29, Average Return: -8.00\n",
      "Episode number: 1260, Epsilon: 0.28, Average Return: 2.60\n",
      "Episode number: 1270, Epsilon: 0.28, Average Return: 8.40\n",
      "Episode number: 1280, Epsilon: 0.28, Average Return: -8.70\n",
      "Episode number: 1290, Epsilon: 0.28, Average Return: 10.80\n",
      "Episode number: 1300, Epsilon: 0.27, Average Return: 3.80\n",
      "Episode number: 1310, Epsilon: 0.27, Average Return: -0.80\n",
      "Episode number: 1320, Epsilon: 0.27, Average Return: -0.60\n",
      "Episode number: 1330, Epsilon: 0.26, Average Return: 3.50\n",
      "Episode number: 1340, Epsilon: 0.26, Average Return: -8.10\n",
      "Episode number: 1350, Epsilon: 0.26, Average Return: 11.20\n",
      "Episode number: 1360, Epsilon: 0.26, Average Return: -3.90\n",
      "Episode number: 1370, Epsilon: 0.25, Average Return: -12.00\n",
      "Episode number: 1380, Epsilon: 0.25, Average Return: 8.10\n",
      "Episode number: 1390, Epsilon: 0.25, Average Return: 2.10\n",
      "Episode number: 1400, Epsilon: 0.25, Average Return: -0.70\n",
      "Episode number: 1410, Epsilon: 0.24, Average Return: 7.00\n"
     ]
    },
    {
     "name": "stdout",
     "output_type": "stream",
     "text": [
      "Episode number: 1420, Epsilon: 0.24, Average Return: 2.90\n",
      "Episode number: 1430, Epsilon: 0.24, Average Return: -0.80\n",
      "Episode number: 1440, Epsilon: 0.24, Average Return: 6.10\n",
      "Episode number: 1450, Epsilon: 0.23, Average Return: 0.10\n",
      "Episode number: 1460, Epsilon: 0.23, Average Return: 0.20\n",
      "Episode number: 1470, Epsilon: 0.23, Average Return: 10.60\n",
      "Episode number: 1480, Epsilon: 0.23, Average Return: -0.20\n",
      "Episode number: 1490, Epsilon: 0.23, Average Return: -4.00\n",
      "Episode number: 1500, Epsilon: 0.22, Average Return: -3.90\n",
      "Episode number: 1510, Epsilon: 0.22, Average Return: -8.00\n",
      "Episode number: 1520, Epsilon: 0.22, Average Return: -12.00\n",
      "Episode number: 1530, Epsilon: 0.22, Average Return: 2.30\n",
      "Episode number: 1540, Epsilon: 0.21, Average Return: -3.80\n",
      "Episode number: 1550, Epsilon: 0.21, Average Return: -7.90\n",
      "Episode number: 1560, Epsilon: 0.21, Average Return: -0.50\n",
      "Episode number: 1570, Epsilon: 0.21, Average Return: -8.70\n",
      "Episode number: 1580, Epsilon: 0.21, Average Return: -4.90\n",
      "Episode number: 1590, Epsilon: 0.20, Average Return: 2.80\n",
      "Episode number: 1600, Epsilon: 0.20, Average Return: -6.00\n",
      "Episode number: 1610, Epsilon: 0.20, Average Return: -12.00\n",
      "Episode number: 1620, Epsilon: 0.20, Average Return: -12.00\n",
      "Episode number: 1630, Epsilon: 0.20, Average Return: 6.90\n",
      "Episode number: 1640, Epsilon: 0.19, Average Return: -0.90\n",
      "Episode number: 1650, Epsilon: 0.19, Average Return: 6.30\n",
      "Episode number: 1660, Epsilon: 0.19, Average Return: -4.40\n",
      "Episode number: 1670, Epsilon: 0.19, Average Return: -4.40\n",
      "Episode number: 1680, Epsilon: 0.19, Average Return: 2.90\n",
      "Episode number: 1690, Epsilon: 0.18, Average Return: 5.30\n",
      "Episode number: 1700, Epsilon: 0.18, Average Return: -1.70\n",
      "Episode number: 1710, Epsilon: 0.18, Average Return: 5.40\n",
      "Episode number: 1720, Epsilon: 0.18, Average Return: 4.70\n",
      "Episode number: 1730, Epsilon: 0.18, Average Return: 6.40\n",
      "Episode number: 1740, Epsilon: 0.18, Average Return: -4.60\n",
      "Episode number: 1750, Epsilon: 0.17, Average Return: -9.00\n",
      "Episode number: 1760, Epsilon: 0.17, Average Return: 3.70\n",
      "Episode number: 1770, Epsilon: 0.17, Average Return: 2.30\n",
      "Episode number: 1780, Epsilon: 0.17, Average Return: -5.00\n",
      "Episode number: 1790, Epsilon: 0.17, Average Return: -0.20\n",
      "Episode number: 1800, Epsilon: 0.17, Average Return: 8.20\n",
      "Episode number: 1810, Epsilon: 0.16, Average Return: 0.30\n",
      "Episode number: 1820, Epsilon: 0.16, Average Return: -4.40\n",
      "Episode number: 1830, Epsilon: 0.16, Average Return: 4.10\n",
      "Episode number: 1840, Epsilon: 0.16, Average Return: -12.00\n",
      "Episode number: 1850, Epsilon: 0.16, Average Return: 3.70\n",
      "Episode number: 1860, Epsilon: 0.16, Average Return: -7.90\n",
      "Episode number: 1870, Epsilon: 0.15, Average Return: 7.70\n",
      "Episode number: 1880, Epsilon: 0.15, Average Return: 7.50\n",
      "Episode number: 1890, Epsilon: 0.15, Average Return: 2.80\n",
      "Episode number: 1900, Epsilon: 0.15, Average Return: -8.00\n",
      "Episode number: 1910, Epsilon: 0.15, Average Return: 4.20\n",
      "Episode number: 1920, Epsilon: 0.15, Average Return: 11.50\n",
      "Episode number: 1930, Epsilon: 0.15, Average Return: 0.10\n",
      "Episode number: 1940, Epsilon: 0.14, Average Return: -3.90\n",
      "Episode number: 1950, Epsilon: 0.14, Average Return: 1.50\n",
      "Episode number: 1960, Epsilon: 0.14, Average Return: 11.20\n",
      "Episode number: 1970, Epsilon: 0.14, Average Return: -0.60\n",
      "Episode number: 1980, Epsilon: 0.14, Average Return: -0.90\n",
      "Episode number: 1990, Epsilon: 0.14, Average Return: 2.50\n",
      "Episode number: 2000, Epsilon: 0.14, Average Return: -1.40\n",
      "Episode number: 2010, Epsilon: 0.13, Average Return: 2.10\n",
      "Episode number: 2020, Epsilon: 0.13, Average Return: -3.80\n",
      "Episode number: 2030, Epsilon: 0.13, Average Return: 11.10\n",
      "Episode number: 2040, Epsilon: 0.13, Average Return: 6.50\n",
      "Episode number: 2050, Epsilon: 0.13, Average Return: -4.70\n",
      "Episode number: 2060, Epsilon: 0.13, Average Return: 9.70\n",
      "Episode number: 2070, Epsilon: 0.13, Average Return: -1.20\n",
      "Episode number: 2080, Epsilon: 0.12, Average Return: 6.60\n",
      "Episode number: 2090, Epsilon: 0.12, Average Return: -4.30\n",
      "Episode number: 2100, Epsilon: 0.12, Average Return: -4.20\n",
      "Episode number: 2110, Epsilon: 0.12, Average Return: 4.10\n",
      "Episode number: 2120, Epsilon: 0.12, Average Return: 2.20\n",
      "Episode number: 2130, Epsilon: 0.12, Average Return: 0.10\n",
      "Episode number: 2140, Epsilon: 0.12, Average Return: -1.30\n",
      "Episode number: 2150, Epsilon: 0.12, Average Return: 7.60\n",
      "Episode number: 2160, Epsilon: 0.12, Average Return: -8.10\n",
      "Episode number: 2170, Epsilon: 0.11, Average Return: 7.90\n",
      "Episode number: 2180, Epsilon: 0.11, Average Return: 18.60\n",
      "Episode number: 2190, Epsilon: 0.11, Average Return: 10.80\n",
      "Episode number: 2200, Epsilon: 0.11, Average Return: 3.30\n",
      "Episode number: 2210, Epsilon: 0.11, Average Return: -1.30\n",
      "Episode number: 2220, Epsilon: 0.11, Average Return: 7.40\n",
      "Episode number: 2230, Epsilon: 0.11, Average Return: 3.20\n",
      "Episode number: 2240, Epsilon: 0.11, Average Return: 2.10\n",
      "Episode number: 2250, Epsilon: 0.11, Average Return: 11.20\n",
      "Episode number: 2260, Epsilon: 0.10, Average Return: 2.90\n",
      "Episode number: 2270, Epsilon: 0.10, Average Return: -8.10\n",
      "Episode number: 2280, Epsilon: 0.10, Average Return: -0.30\n",
      "Episode number: 2290, Epsilon: 0.10, Average Return: 10.90\n",
      "Episode number: 2300, Epsilon: 0.10, Average Return: 5.70\n",
      "Episode number: 2310, Epsilon: 0.10, Average Return: 11.10\n",
      "Episode number: 2320, Epsilon: 0.10, Average Return: 13.40\n",
      "Episode number: 2330, Epsilon: 0.10, Average Return: 2.80\n",
      "Episode number: 2340, Epsilon: 0.10, Average Return: 3.50\n",
      "Episode number: 2350, Epsilon: 0.10, Average Return: 7.60\n",
      "Episode number: 2360, Epsilon: 0.09, Average Return: -0.20\n",
      "Episode number: 2370, Epsilon: 0.09, Average Return: 10.30\n",
      "Episode number: 2380, Epsilon: 0.09, Average Return: 8.20\n",
      "Episode number: 2390, Epsilon: 0.09, Average Return: -8.10\n",
      "Episode number: 2400, Epsilon: 0.09, Average Return: 14.30\n",
      "Episode number: 2410, Epsilon: 0.09, Average Return: -0.50\n",
      "Episode number: 2420, Epsilon: 0.09, Average Return: 10.40\n",
      "Episode number: 2430, Epsilon: 0.09, Average Return: -4.10\n",
      "Episode number: 2440, Epsilon: 0.09, Average Return: 3.10\n",
      "Episode number: 2450, Epsilon: 0.09, Average Return: -0.10\n",
      "Episode number: 2460, Epsilon: 0.09, Average Return: -8.20\n",
      "Episode number: 2470, Epsilon: 0.08, Average Return: 6.60\n",
      "Episode number: 2480, Epsilon: 0.08, Average Return: 3.50\n",
      "Episode number: 2490, Epsilon: 0.08, Average Return: 8.00\n",
      "Episode number: 2500, Epsilon: 0.08, Average Return: 7.60\n",
      "Episode number: 2510, Epsilon: 0.08, Average Return: 9.70\n",
      "Episode number: 2520, Epsilon: 0.08, Average Return: 7.40\n",
      "Episode number: 2530, Epsilon: 0.08, Average Return: -3.90\n",
      "Episode number: 2540, Epsilon: 0.08, Average Return: -3.80\n",
      "Episode number: 2550, Epsilon: 0.08, Average Return: 5.10\n",
      "Episode number: 2560, Epsilon: 0.08, Average Return: -1.20\n",
      "Episode number: 2570, Epsilon: 0.08, Average Return: 0.20\n",
      "Episode number: 2580, Epsilon: 0.08, Average Return: 6.40\n",
      "Episode number: 2590, Epsilon: 0.07, Average Return: 3.40\n",
      "Episode number: 2600, Epsilon: 0.07, Average Return: 7.60\n",
      "Episode number: 2610, Epsilon: 0.07, Average Return: 10.50\n",
      "Episode number: 2620, Epsilon: 0.07, Average Return: 16.80\n",
      "Episode number: 2630, Epsilon: 0.07, Average Return: 12.60\n",
      "Episode number: 2640, Epsilon: 0.07, Average Return: -4.70\n",
      "Episode number: 2650, Epsilon: 0.07, Average Return: 10.50\n",
      "Episode number: 2660, Epsilon: 0.07, Average Return: 14.10\n",
      "Episode number: 2670, Epsilon: 0.07, Average Return: -4.50\n",
      "Episode number: 2680, Epsilon: 0.07, Average Return: 1.60\n",
      "Episode number: 2690, Epsilon: 0.07, Average Return: 7.40\n",
      "Episode number: 2700, Epsilon: 0.07, Average Return: 0.10\n",
      "Episode number: 2710, Epsilon: 0.07, Average Return: -3.90\n",
      "Episode number: 2720, Epsilon: 0.07, Average Return: -1.30\n",
      "Episode number: 2730, Epsilon: 0.07, Average Return: 4.00\n",
      "Episode number: 2740, Epsilon: 0.06, Average Return: -0.90\n",
      "Episode number: 2750, Epsilon: 0.06, Average Return: 1.80\n",
      "Episode number: 2760, Epsilon: 0.06, Average Return: 9.60\n",
      "Episode number: 2770, Epsilon: 0.06, Average Return: 18.20\n",
      "Episode number: 2780, Epsilon: 0.06, Average Return: 6.90\n",
      "Episode number: 2790, Epsilon: 0.06, Average Return: -5.00\n",
      "Episode number: 2800, Epsilon: 0.06, Average Return: 7.70\n",
      "Episode number: 2810, Epsilon: 0.06, Average Return: 5.50\n"
     ]
    },
    {
     "name": "stdout",
     "output_type": "stream",
     "text": [
      "Episode number: 2820, Epsilon: 0.06, Average Return: 2.60\n",
      "Episode number: 2830, Epsilon: 0.06, Average Return: 6.20\n",
      "Episode number: 2840, Epsilon: 0.06, Average Return: 2.50\n",
      "Episode number: 2850, Epsilon: 0.06, Average Return: 5.20\n",
      "Episode number: 2860, Epsilon: 0.06, Average Return: 5.60\n",
      "Episode number: 2870, Epsilon: 0.06, Average Return: 10.10\n",
      "Episode number: 2880, Epsilon: 0.06, Average Return: -1.00\n",
      "Episode number: 2890, Epsilon: 0.06, Average Return: -2.40\n",
      "Episode number: 2900, Epsilon: 0.05, Average Return: 12.40\n",
      "Episode number: 2910, Epsilon: 0.05, Average Return: 5.50\n",
      "Episode number: 2920, Epsilon: 0.05, Average Return: 14.40\n",
      "Episode number: 2930, Epsilon: 0.05, Average Return: 9.80\n",
      "Episode number: 2940, Epsilon: 0.05, Average Return: 3.20\n",
      "Episode number: 2950, Epsilon: 0.05, Average Return: 3.60\n",
      "Episode number: 2960, Epsilon: 0.05, Average Return: 1.90\n",
      "Episode number: 2970, Epsilon: 0.05, Average Return: 7.00\n",
      "Episode number: 2980, Epsilon: 0.05, Average Return: 3.10\n",
      "Episode number: 2990, Epsilon: 0.05, Average Return: 11.20\n",
      "Episode number: 3000, Epsilon: 0.05, Average Return: 6.30\n",
      "Episode number: 3010, Epsilon: 0.05, Average Return: 6.90\n",
      "Episode number: 3020, Epsilon: 0.05, Average Return: 9.90\n",
      "Episode number: 3030, Epsilon: 0.05, Average Return: -8.70\n",
      "Episode number: 3040, Epsilon: 0.05, Average Return: 7.50\n",
      "Episode number: 3050, Epsilon: 0.05, Average Return: 11.40\n",
      "Episode number: 3060, Epsilon: 0.05, Average Return: 2.70\n",
      "Episode number: 3070, Epsilon: 0.05, Average Return: 11.60\n",
      "Episode number: 3080, Epsilon: 0.05, Average Return: -3.90\n",
      "Episode number: 3090, Epsilon: 0.05, Average Return: 7.30\n",
      "Episode number: 3100, Epsilon: 0.05, Average Return: 10.00\n",
      "Episode number: 3110, Epsilon: 0.05, Average Return: 3.40\n",
      "Episode number: 3120, Epsilon: 0.05, Average Return: 11.30\n",
      "Episode number: 3130, Epsilon: 0.05, Average Return: 6.20\n",
      "Episode number: 3140, Epsilon: 0.05, Average Return: 2.90\n",
      "Episode number: 3150, Epsilon: 0.05, Average Return: 5.10\n",
      "Episode number: 3160, Epsilon: 0.05, Average Return: 4.90\n",
      "Episode number: 3170, Epsilon: 0.05, Average Return: 3.30\n",
      "Episode number: 3180, Epsilon: 0.05, Average Return: 11.30\n",
      "Episode number: 3190, Epsilon: 0.05, Average Return: 8.50\n",
      "Episode number: 3200, Epsilon: 0.05, Average Return: -0.70\n",
      "Episode number: 3210, Epsilon: 0.05, Average Return: -4.40\n",
      "Episode number: 3220, Epsilon: 0.05, Average Return: 3.50\n",
      "Episode number: 3230, Epsilon: 0.05, Average Return: 11.00\n",
      "Episode number: 3240, Epsilon: 0.05, Average Return: 6.60\n",
      "Episode number: 3250, Epsilon: 0.05, Average Return: 10.20\n",
      "Episode number: 3260, Epsilon: 0.05, Average Return: 5.90\n",
      "Episode number: 3270, Epsilon: 0.05, Average Return: 7.10\n",
      "Episode number: 3280, Epsilon: 0.05, Average Return: 10.40\n",
      "Episode number: 3290, Epsilon: 0.05, Average Return: 11.00\n",
      "Episode number: 3300, Epsilon: 0.05, Average Return: 5.90\n",
      "Episode number: 3310, Epsilon: 0.05, Average Return: 11.40\n",
      "Episode number: 3320, Epsilon: 0.05, Average Return: 11.20\n",
      "Episode number: 3330, Epsilon: 0.05, Average Return: 14.40\n",
      "Episode number: 3340, Epsilon: 0.05, Average Return: 14.60\n",
      "Episode number: 3350, Epsilon: 0.05, Average Return: -0.70\n",
      "Episode number: 3360, Epsilon: 0.05, Average Return: 19.10\n",
      "Episode number: 3370, Epsilon: 0.05, Average Return: 14.50\n",
      "Episode number: 3380, Epsilon: 0.05, Average Return: 17.30\n",
      "Episode number: 3390, Epsilon: 0.05, Average Return: 18.10\n",
      "Episode number: 3400, Epsilon: 0.05, Average Return: 13.50\n",
      "Episode number: 3410, Epsilon: 0.05, Average Return: 18.10\n",
      "Episode number: 3420, Epsilon: 0.05, Average Return: 6.50\n",
      "Episode number: 3430, Epsilon: 0.05, Average Return: 9.90\n",
      "Episode number: 3440, Epsilon: 0.05, Average Return: -4.10\n",
      "Episode number: 3450, Epsilon: 0.05, Average Return: -1.20\n",
      "Episode number: 3460, Epsilon: 0.05, Average Return: 2.10\n",
      "Episode number: 3470, Epsilon: 0.05, Average Return: 3.40\n",
      "Episode number: 3480, Epsilon: 0.05, Average Return: 18.30\n",
      "Episode number: 3490, Epsilon: 0.05, Average Return: 10.30\n",
      "Episode number: 3500, Epsilon: 0.05, Average Return: 14.30\n",
      "Episode number: 3510, Epsilon: 0.05, Average Return: 14.50\n",
      "Episode number: 3520, Epsilon: 0.05, Average Return: 13.60\n",
      "Episode number: 3530, Epsilon: 0.05, Average Return: 2.10\n",
      "Episode number: 3540, Epsilon: 0.05, Average Return: 6.60\n",
      "Episode number: 3550, Epsilon: 0.05, Average Return: 6.50\n",
      "Episode number: 3560, Epsilon: 0.05, Average Return: 6.20\n",
      "Episode number: 3570, Epsilon: 0.05, Average Return: 17.80\n",
      "Episode number: 3580, Epsilon: 0.05, Average Return: 14.80\n",
      "Episode number: 3590, Epsilon: 0.05, Average Return: 7.20\n",
      "Episode number: 3600, Epsilon: 0.05, Average Return: -1.00\n",
      "Episode number: 3610, Epsilon: 0.05, Average Return: 3.00\n",
      "Episode number: 3620, Epsilon: 0.05, Average Return: 1.60\n",
      "Episode number: 3630, Epsilon: 0.05, Average Return: 26.40\n",
      "Episode number: 3640, Epsilon: 0.05, Average Return: 11.30\n",
      "Episode number: 3650, Epsilon: 0.05, Average Return: 22.10\n",
      "Episode number: 3660, Epsilon: 0.05, Average Return: 11.10\n",
      "Episode number: 3670, Epsilon: 0.05, Average Return: 2.80\n",
      "Episode number: 3680, Epsilon: 0.05, Average Return: 10.80\n",
      "Episode number: 3690, Epsilon: 0.05, Average Return: 7.10\n",
      "Episode number: 3700, Epsilon: 0.05, Average Return: -0.90\n",
      "Episode number: 3710, Epsilon: 0.05, Average Return: -0.70\n",
      "Episode number: 3720, Epsilon: 0.05, Average Return: -0.40\n",
      "Episode number: 3730, Epsilon: 0.05, Average Return: 6.90\n",
      "Episode number: 3740, Epsilon: 0.05, Average Return: -8.60\n",
      "Episode number: 3750, Epsilon: 0.05, Average Return: 6.40\n",
      "Episode number: 3760, Epsilon: 0.05, Average Return: -4.10\n",
      "Episode number: 3770, Epsilon: 0.05, Average Return: 9.90\n",
      "Episode number: 3780, Epsilon: 0.05, Average Return: 19.00\n",
      "Episode number: 3790, Epsilon: 0.05, Average Return: 14.60\n",
      "Episode number: 3800, Epsilon: 0.05, Average Return: 8.00\n",
      "Episode number: 3810, Epsilon: 0.05, Average Return: 7.10\n",
      "Episode number: 3820, Epsilon: 0.05, Average Return: 3.80\n",
      "Episode number: 3830, Epsilon: 0.05, Average Return: -3.80\n",
      "Episode number: 3840, Epsilon: 0.05, Average Return: 7.40\n",
      "Episode number: 3850, Epsilon: 0.05, Average Return: 8.20\n",
      "Episode number: 3860, Epsilon: 0.05, Average Return: 10.80\n",
      "Episode number: 3870, Epsilon: 0.05, Average Return: 15.30\n"
     ]
    },
    {
     "ename": "KeyboardInterrupt",
     "evalue": "",
     "output_type": "error",
     "traceback": [
      "\u001b[1;31m---------------------------------------------------------------------------\u001b[0m",
      "\u001b[1;31mKeyboardInterrupt\u001b[0m                         Traceback (most recent call last)",
      "\u001b[1;32m~\\AppData\\Local\\Temp\\ipykernel_10904\\2582112247.py\u001b[0m in \u001b[0;36m<module>\u001b[1;34m\u001b[0m\n\u001b[0;32m      1\u001b[0m \u001b[0magent\u001b[0m\u001b[1;33m.\u001b[0m\u001b[0mfill_buffer\u001b[0m\u001b[1;33m(\u001b[0m\u001b[0mexp\u001b[0m\u001b[1;33m=\u001b[0m\u001b[1;32mTrue\u001b[0m\u001b[1;33m,\u001b[0m \u001b[0mmulti\u001b[0m\u001b[1;33m=\u001b[0m\u001b[1;32mFalse\u001b[0m\u001b[1;33m,\u001b[0m \u001b[0mprop\u001b[0m\u001b[1;33m=\u001b[0m\u001b[1;36m1\u001b[0m\u001b[1;33m)\u001b[0m\u001b[1;33m\u001b[0m\u001b[1;33m\u001b[0m\u001b[0m\n\u001b[1;32m----> 2\u001b[1;33m \u001b[0magent\u001b[0m\u001b[1;33m.\u001b[0m\u001b[0mtrain\u001b[0m\u001b[1;33m(\u001b[0m\u001b[1;36m1e7\u001b[0m\u001b[1;33m)\u001b[0m\u001b[1;33m\u001b[0m\u001b[1;33m\u001b[0m\u001b[0m\n\u001b[0m",
      "\u001b[1;32m~\\OneDrive\\Documents\\PhD\\Year 1\\Research\\matermind_wordle\\dqn.py\u001b[0m in \u001b[0;36mtrain\u001b[1;34m(self, reward_tol, num_episodes)\u001b[0m\n\u001b[0;32m    283\u001b[0m                 \u001b[0mdone\u001b[0m \u001b[1;33m=\u001b[0m \u001b[0mterminated\u001b[0m \u001b[1;32mor\u001b[0m \u001b[0mtruncated\u001b[0m\u001b[1;33m\u001b[0m\u001b[1;33m\u001b[0m\u001b[0m\n\u001b[0;32m    284\u001b[0m                 \u001b[0mself\u001b[0m\u001b[1;33m.\u001b[0m\u001b[0mstore\u001b[0m\u001b[1;33m(\u001b[0m\u001b[1;33m(\u001b[0m\u001b[0mstate\u001b[0m\u001b[1;33m,\u001b[0m \u001b[0maction\u001b[0m\u001b[1;33m,\u001b[0m \u001b[0mreward\u001b[0m\u001b[1;33m,\u001b[0m \u001b[0mn_state\u001b[0m\u001b[1;33m,\u001b[0m \u001b[0mdone\u001b[0m\u001b[1;33m)\u001b[0m\u001b[1;33m)\u001b[0m\u001b[1;33m\u001b[0m\u001b[1;33m\u001b[0m\u001b[0m\n\u001b[1;32m--> 285\u001b[1;33m                 \u001b[0mself\u001b[0m\u001b[1;33m.\u001b[0m\u001b[0mupdate\u001b[0m\u001b[1;33m(\u001b[0m\u001b[1;33m)\u001b[0m\u001b[1;33m\u001b[0m\u001b[1;33m\u001b[0m\u001b[0m\n\u001b[0m\u001b[0;32m    286\u001b[0m \u001b[1;33m\u001b[0m\u001b[0m\n\u001b[0;32m    287\u001b[0m                 \u001b[0mret\u001b[0m \u001b[1;33m+=\u001b[0m \u001b[0mreward\u001b[0m\u001b[1;33m\u001b[0m\u001b[1;33m\u001b[0m\u001b[0m\n",
      "\u001b[1;32m~\\OneDrive\\Documents\\PhD\\Year 1\\Research\\matermind_wordle\\dqn.py\u001b[0m in \u001b[0;36mupdate\u001b[1;34m(self)\u001b[0m\n\u001b[0;32m    135\u001b[0m \u001b[1;33m\u001b[0m\u001b[0m\n\u001b[0;32m    136\u001b[0m         \u001b[1;31m# Select a batch and update\u001b[0m\u001b[1;33m\u001b[0m\u001b[1;33m\u001b[0m\u001b[0m\n\u001b[1;32m--> 137\u001b[1;33m         \u001b[0mself\u001b[0m\u001b[1;33m.\u001b[0m\u001b[0mupdate_critic\u001b[0m\u001b[1;33m(\u001b[0m\u001b[1;33m*\u001b[0m\u001b[0mself\u001b[0m\u001b[1;33m.\u001b[0m\u001b[0mget_batch\u001b[0m\u001b[1;33m(\u001b[0m\u001b[1;33m)\u001b[0m\u001b[1;33m)\u001b[0m\u001b[1;33m\u001b[0m\u001b[1;33m\u001b[0m\u001b[0m\n\u001b[0m\u001b[0;32m    138\u001b[0m         \u001b[0mself\u001b[0m\u001b[1;33m.\u001b[0m\u001b[0mupdate_target\u001b[0m\u001b[1;33m(\u001b[0m\u001b[1;33m)\u001b[0m\u001b[1;33m\u001b[0m\u001b[1;33m\u001b[0m\u001b[0m\n\u001b[0;32m    139\u001b[0m \u001b[1;33m\u001b[0m\u001b[0m\n",
      "\u001b[1;32m~\\anaconda3\\envs\\tf_env\\lib\\site-packages\\tensorflow\\python\\util\\traceback_utils.py\u001b[0m in \u001b[0;36merror_handler\u001b[1;34m(*args, **kwargs)\u001b[0m\n\u001b[0;32m    148\u001b[0m     \u001b[0mfiltered_tb\u001b[0m \u001b[1;33m=\u001b[0m \u001b[1;32mNone\u001b[0m\u001b[1;33m\u001b[0m\u001b[1;33m\u001b[0m\u001b[0m\n\u001b[0;32m    149\u001b[0m     \u001b[1;32mtry\u001b[0m\u001b[1;33m:\u001b[0m\u001b[1;33m\u001b[0m\u001b[1;33m\u001b[0m\u001b[0m\n\u001b[1;32m--> 150\u001b[1;33m       \u001b[1;32mreturn\u001b[0m \u001b[0mfn\u001b[0m\u001b[1;33m(\u001b[0m\u001b[1;33m*\u001b[0m\u001b[0margs\u001b[0m\u001b[1;33m,\u001b[0m \u001b[1;33m**\u001b[0m\u001b[0mkwargs\u001b[0m\u001b[1;33m)\u001b[0m\u001b[1;33m\u001b[0m\u001b[1;33m\u001b[0m\u001b[0m\n\u001b[0m\u001b[0;32m    151\u001b[0m     \u001b[1;32mexcept\u001b[0m \u001b[0mException\u001b[0m \u001b[1;32mas\u001b[0m \u001b[0me\u001b[0m\u001b[1;33m:\u001b[0m\u001b[1;33m\u001b[0m\u001b[1;33m\u001b[0m\u001b[0m\n\u001b[0;32m    152\u001b[0m       \u001b[0mfiltered_tb\u001b[0m \u001b[1;33m=\u001b[0m \u001b[0m_process_traceback_frames\u001b[0m\u001b[1;33m(\u001b[0m\u001b[0me\u001b[0m\u001b[1;33m.\u001b[0m\u001b[0m__traceback__\u001b[0m\u001b[1;33m)\u001b[0m\u001b[1;33m\u001b[0m\u001b[1;33m\u001b[0m\u001b[0m\n",
      "\u001b[1;32m~\\anaconda3\\envs\\tf_env\\lib\\site-packages\\tensorflow\\python\\eager\\def_function.py\u001b[0m in \u001b[0;36m__call__\u001b[1;34m(self, *args, **kwds)\u001b[0m\n\u001b[0;32m    913\u001b[0m \u001b[1;33m\u001b[0m\u001b[0m\n\u001b[0;32m    914\u001b[0m       \u001b[1;32mwith\u001b[0m \u001b[0mOptionalXlaContext\u001b[0m\u001b[1;33m(\u001b[0m\u001b[0mself\u001b[0m\u001b[1;33m.\u001b[0m\u001b[0m_jit_compile\u001b[0m\u001b[1;33m)\u001b[0m\u001b[1;33m:\u001b[0m\u001b[1;33m\u001b[0m\u001b[1;33m\u001b[0m\u001b[0m\n\u001b[1;32m--> 915\u001b[1;33m         \u001b[0mresult\u001b[0m \u001b[1;33m=\u001b[0m \u001b[0mself\u001b[0m\u001b[1;33m.\u001b[0m\u001b[0m_call\u001b[0m\u001b[1;33m(\u001b[0m\u001b[1;33m*\u001b[0m\u001b[0margs\u001b[0m\u001b[1;33m,\u001b[0m \u001b[1;33m**\u001b[0m\u001b[0mkwds\u001b[0m\u001b[1;33m)\u001b[0m\u001b[1;33m\u001b[0m\u001b[1;33m\u001b[0m\u001b[0m\n\u001b[0m\u001b[0;32m    916\u001b[0m \u001b[1;33m\u001b[0m\u001b[0m\n\u001b[0;32m    917\u001b[0m       \u001b[0mnew_tracing_count\u001b[0m \u001b[1;33m=\u001b[0m \u001b[0mself\u001b[0m\u001b[1;33m.\u001b[0m\u001b[0mexperimental_get_tracing_count\u001b[0m\u001b[1;33m(\u001b[0m\u001b[1;33m)\u001b[0m\u001b[1;33m\u001b[0m\u001b[1;33m\u001b[0m\u001b[0m\n",
      "\u001b[1;32m~\\anaconda3\\envs\\tf_env\\lib\\site-packages\\tensorflow\\python\\eager\\def_function.py\u001b[0m in \u001b[0;36m_call\u001b[1;34m(self, *args, **kwds)\u001b[0m\n\u001b[0;32m    945\u001b[0m       \u001b[1;31m# In this case we have created variables on the first call, so we run the\u001b[0m\u001b[1;33m\u001b[0m\u001b[1;33m\u001b[0m\u001b[0m\n\u001b[0;32m    946\u001b[0m       \u001b[1;31m# defunned version which is guaranteed to never create variables.\u001b[0m\u001b[1;33m\u001b[0m\u001b[1;33m\u001b[0m\u001b[0m\n\u001b[1;32m--> 947\u001b[1;33m       \u001b[1;32mreturn\u001b[0m \u001b[0mself\u001b[0m\u001b[1;33m.\u001b[0m\u001b[0m_stateless_fn\u001b[0m\u001b[1;33m(\u001b[0m\u001b[1;33m*\u001b[0m\u001b[0margs\u001b[0m\u001b[1;33m,\u001b[0m \u001b[1;33m**\u001b[0m\u001b[0mkwds\u001b[0m\u001b[1;33m)\u001b[0m  \u001b[1;31m# pylint: disable=not-callable\u001b[0m\u001b[1;33m\u001b[0m\u001b[1;33m\u001b[0m\u001b[0m\n\u001b[0m\u001b[0;32m    948\u001b[0m     \u001b[1;32melif\u001b[0m \u001b[0mself\u001b[0m\u001b[1;33m.\u001b[0m\u001b[0m_stateful_fn\u001b[0m \u001b[1;32mis\u001b[0m \u001b[1;32mnot\u001b[0m \u001b[1;32mNone\u001b[0m\u001b[1;33m:\u001b[0m\u001b[1;33m\u001b[0m\u001b[1;33m\u001b[0m\u001b[0m\n\u001b[0;32m    949\u001b[0m       \u001b[1;31m# Release the lock early so that multiple threads can perform the call\u001b[0m\u001b[1;33m\u001b[0m\u001b[1;33m\u001b[0m\u001b[0m\n",
      "\u001b[1;32m~\\anaconda3\\envs\\tf_env\\lib\\site-packages\\tensorflow\\python\\eager\\function.py\u001b[0m in \u001b[0;36m__call__\u001b[1;34m(self, *args, **kwargs)\u001b[0m\n\u001b[0;32m   2451\u001b[0m       (graph_function,\n\u001b[0;32m   2452\u001b[0m        filtered_flat_args) = self._maybe_define_function(args, kwargs)\n\u001b[1;32m-> 2453\u001b[1;33m     return graph_function._call_flat(\n\u001b[0m\u001b[0;32m   2454\u001b[0m         filtered_flat_args, captured_inputs=graph_function.captured_inputs)  # pylint: disable=protected-access\n\u001b[0;32m   2455\u001b[0m \u001b[1;33m\u001b[0m\u001b[0m\n",
      "\u001b[1;32m~\\anaconda3\\envs\\tf_env\\lib\\site-packages\\tensorflow\\python\\eager\\function.py\u001b[0m in \u001b[0;36m_call_flat\u001b[1;34m(self, args, captured_inputs, cancellation_manager)\u001b[0m\n\u001b[0;32m   1858\u001b[0m         and executing_eagerly):\n\u001b[0;32m   1859\u001b[0m       \u001b[1;31m# No tape is watching; skip to running the function.\u001b[0m\u001b[1;33m\u001b[0m\u001b[1;33m\u001b[0m\u001b[0m\n\u001b[1;32m-> 1860\u001b[1;33m       return self._build_call_outputs(self._inference_function.call(\n\u001b[0m\u001b[0;32m   1861\u001b[0m           ctx, args, cancellation_manager=cancellation_manager))\n\u001b[0;32m   1862\u001b[0m     forward_backward = self._select_forward_and_backward_functions(\n",
      "\u001b[1;32m~\\anaconda3\\envs\\tf_env\\lib\\site-packages\\tensorflow\\python\\eager\\function.py\u001b[0m in \u001b[0;36mcall\u001b[1;34m(self, ctx, args, cancellation_manager)\u001b[0m\n\u001b[0;32m    495\u001b[0m       \u001b[1;32mwith\u001b[0m \u001b[0m_InterpolateFunctionError\u001b[0m\u001b[1;33m(\u001b[0m\u001b[0mself\u001b[0m\u001b[1;33m)\u001b[0m\u001b[1;33m:\u001b[0m\u001b[1;33m\u001b[0m\u001b[1;33m\u001b[0m\u001b[0m\n\u001b[0;32m    496\u001b[0m         \u001b[1;32mif\u001b[0m \u001b[0mcancellation_manager\u001b[0m \u001b[1;32mis\u001b[0m \u001b[1;32mNone\u001b[0m\u001b[1;33m:\u001b[0m\u001b[1;33m\u001b[0m\u001b[1;33m\u001b[0m\u001b[0m\n\u001b[1;32m--> 497\u001b[1;33m           outputs = execute.execute(\n\u001b[0m\u001b[0;32m    498\u001b[0m               \u001b[0mstr\u001b[0m\u001b[1;33m(\u001b[0m\u001b[0mself\u001b[0m\u001b[1;33m.\u001b[0m\u001b[0msignature\u001b[0m\u001b[1;33m.\u001b[0m\u001b[0mname\u001b[0m\u001b[1;33m)\u001b[0m\u001b[1;33m,\u001b[0m\u001b[1;33m\u001b[0m\u001b[1;33m\u001b[0m\u001b[0m\n\u001b[0;32m    499\u001b[0m               \u001b[0mnum_outputs\u001b[0m\u001b[1;33m=\u001b[0m\u001b[0mself\u001b[0m\u001b[1;33m.\u001b[0m\u001b[0m_num_outputs\u001b[0m\u001b[1;33m,\u001b[0m\u001b[1;33m\u001b[0m\u001b[1;33m\u001b[0m\u001b[0m\n",
      "\u001b[1;32m~\\anaconda3\\envs\\tf_env\\lib\\site-packages\\tensorflow\\python\\eager\\execute.py\u001b[0m in \u001b[0;36mquick_execute\u001b[1;34m(op_name, num_outputs, inputs, attrs, ctx, name)\u001b[0m\n\u001b[0;32m     52\u001b[0m   \u001b[1;32mtry\u001b[0m\u001b[1;33m:\u001b[0m\u001b[1;33m\u001b[0m\u001b[1;33m\u001b[0m\u001b[0m\n\u001b[0;32m     53\u001b[0m     \u001b[0mctx\u001b[0m\u001b[1;33m.\u001b[0m\u001b[0mensure_initialized\u001b[0m\u001b[1;33m(\u001b[0m\u001b[1;33m)\u001b[0m\u001b[1;33m\u001b[0m\u001b[1;33m\u001b[0m\u001b[0m\n\u001b[1;32m---> 54\u001b[1;33m     tensors = pywrap_tfe.TFE_Py_Execute(ctx._handle, device_name, op_name,\n\u001b[0m\u001b[0;32m     55\u001b[0m                                         inputs, attrs, num_outputs)\n\u001b[0;32m     56\u001b[0m   \u001b[1;32mexcept\u001b[0m \u001b[0mcore\u001b[0m\u001b[1;33m.\u001b[0m\u001b[0m_NotOkStatusException\u001b[0m \u001b[1;32mas\u001b[0m \u001b[0me\u001b[0m\u001b[1;33m:\u001b[0m\u001b[1;33m\u001b[0m\u001b[1;33m\u001b[0m\u001b[0m\n",
      "\u001b[1;31mKeyboardInterrupt\u001b[0m: "
     ]
    }
   ],
   "source": [
    "agent.fill_buffer(exp=True, multi=False, prop=1)\n",
    "agent.train(1e7)"
   ]
  },
  {
   "cell_type": "markdown",
   "id": "0a0baf2e",
   "metadata": {},
   "source": [
    "# Q Learning"
   ]
  },
  {
   "cell_type": "code",
   "execution_count": 8,
   "id": "6cbf4467",
   "metadata": {
    "scrolled": true
   },
   "outputs": [
    {
     "name": "stdout",
     "output_type": "stream",
     "text": [
      "[['0' ' ' ' ' ' ' ' ' '0']\n",
      " ['0' ' ' ' ' ' ' ' ' '0']\n",
      " ['0' ' ' ' ' ' ' ' ' '0']\n",
      " ['0' ' ' ' ' ' ' ' ' '0']\n",
      " ['0' ' ' ' ' ' ' ' ' '0']\n",
      " ['0' ' ' ' ' ' ' ' ' '0']\n",
      " ['0' ' ' ' ' ' ' ' ' '0']\n",
      " ['0' ' ' ' ' ' ' ' ' '0']\n",
      " ['0' ' ' ' ' ' ' ' ' '0']\n",
      " ['0' ' ' ' ' ' ' ' ' '0']\n",
      " ['0' ' ' ' ' ' ' ' ' '0']\n",
      " ['0' ' ' ' ' ' ' ' ' '0']]\n"
     ]
    },
    {
     "name": "stderr",
     "output_type": "stream",
     "text": [
      "  0%|                                                                         | 73/10000000 [00:00<4:21:28, 637.39it/s]"
     ]
    },
    {
     "name": "stdout",
     "output_type": "stream",
     "text": [
      "\n",
      "Average td error: 1.0000, STD of STD: nan, Average ret: -12.00, Average steps: 12.00, Num_states: 12\n"
     ]
    },
    {
     "name": "stderr",
     "output_type": "stream",
     "text": [
      "  0%|                                                                       | 1135/10000000 [00:01<4:19:12, 642.92it/s]"
     ]
    },
    {
     "name": "stdout",
     "output_type": "stream",
     "text": [
      "\n",
      "Average td error: 0.9996, STD of STD: 0.001709349056032237, Average ret: -11.96, Average steps: 11.99, Num_states: 11006\n"
     ]
    },
    {
     "name": "stderr",
     "output_type": "stream",
     "text": [
      "  0%|                                                                       | 2055/10000000 [00:03<4:22:39, 634.39it/s]"
     ]
    },
    {
     "name": "stdout",
     "output_type": "stream",
     "text": [
      "\n",
      "Average td error: 1.0266, STD of STD: 0.010487222139202269, Average ret: -11.78, Average steps: 11.96, Num_states: 21963\n"
     ]
    },
    {
     "name": "stderr",
     "output_type": "stream",
     "text": [
      "  0%|                                                                       | 3083/10000000 [00:05<5:13:12, 531.96it/s]"
     ]
    },
    {
     "name": "stdout",
     "output_type": "stream",
     "text": [
      "\n",
      "Average td error: 0.9996, STD of STD: 0.0016546425504587398, Average ret: -11.92, Average steps: 11.98, Num_states: 32935\n"
     ]
    },
    {
     "name": "stderr",
     "output_type": "stream",
     "text": [
      "  0%|                                                                       | 4117/10000000 [00:06<4:33:19, 609.51it/s]"
     ]
    },
    {
     "name": "stdout",
     "output_type": "stream",
     "text": [
      "\n",
      "Average td error: 0.9990, STD of STD: 0.001124623102176897, Average ret: -11.93, Average steps: 11.99, Num_states: 43912\n"
     ]
    },
    {
     "name": "stderr",
     "output_type": "stream",
     "text": [
      "  0%|                                                                       | 5101/10000000 [00:08<4:27:40, 622.32it/s]"
     ]
    },
    {
     "name": "stdout",
     "output_type": "stream",
     "text": [
      "\n",
      "Average td error: 0.9834, STD of STD: 0.0007030584726243492, Average ret: -12.00, Average steps: 12.00, Num_states: 54715\n"
     ]
    },
    {
     "name": "stderr",
     "output_type": "stream",
     "text": [
      "  0%|                                                                       | 6085/10000000 [00:09<4:24:45, 629.14it/s]"
     ]
    },
    {
     "name": "stdout",
     "output_type": "stream",
     "text": [
      "\n",
      "Average td error: 0.9834, STD of STD: 0.0006645906881827839, Average ret: -11.87, Average steps: 11.99, Num_states: 65462\n"
     ]
    },
    {
     "name": "stderr",
     "output_type": "stream",
     "text": [
      "  0%|                                                                       | 7066/10000000 [00:11<4:20:46, 638.67it/s]"
     ]
    },
    {
     "name": "stdout",
     "output_type": "stream",
     "text": [
      "\n",
      "Average td error: 0.9834, STD of STD: 0.0007451266225347747, Average ret: -11.69, Average steps: 11.93, Num_states: 76142\n"
     ]
    },
    {
     "name": "stderr",
     "output_type": "stream",
     "text": [
      "  0%|                                                                       | 8074/10000000 [00:13<4:17:43, 646.18it/s]"
     ]
    },
    {
     "name": "stdout",
     "output_type": "stream",
     "text": [
      "\n",
      "Average td error: 0.9831, STD of STD: 0.0006986825399572391, Average ret: -11.79, Average steps: 11.95, Num_states: 86819\n"
     ]
    },
    {
     "name": "stderr",
     "output_type": "stream",
     "text": [
      "  0%|                                                                       | 9064/10000000 [00:14<4:19:44, 641.10it/s]"
     ]
    },
    {
     "name": "stdout",
     "output_type": "stream",
     "text": [
      "\n",
      "Average td error: 0.9980, STD of STD: 0.0023515978195319787, Average ret: -11.90, Average steps: 11.99, Num_states: 97462\n"
     ]
    },
    {
     "name": "stderr",
     "output_type": "stream",
     "text": [
      "  0%|                                                                      | 10077/10000000 [00:16<4:23:13, 632.55it/s]"
     ]
    },
    {
     "name": "stdout",
     "output_type": "stream",
     "text": [
      "\n",
      "Average td error: 0.9978, STD of STD: 0.00265740229328362, Average ret: -11.83, Average steps: 11.98, Num_states: 108048\n"
     ]
    },
    {
     "name": "stderr",
     "output_type": "stream",
     "text": [
      "  0%|                                                                      | 11089/10000000 [00:17<4:26:46, 624.06it/s]"
     ]
    },
    {
     "name": "stdout",
     "output_type": "stream",
     "text": [
      "\n",
      "Average td error: 0.9700, STD of STD: 0.000541459683616529, Average ret: -11.78, Average steps: 11.96, Num_states: 118598\n"
     ]
    },
    {
     "name": "stderr",
     "output_type": "stream",
     "text": [
      "  0%|                                                                      | 12108/10000000 [00:19<4:33:48, 607.97it/s]"
     ]
    },
    {
     "name": "stdout",
     "output_type": "stream",
     "text": [
      "\n",
      "Average td error: 0.9696, STD of STD: 0.0004652209875746635, Average ret: -11.97, Average steps: 12.00, Num_states: 129195\n"
     ]
    },
    {
     "name": "stderr",
     "output_type": "stream",
     "text": [
      "  0%|                                                                      | 13127/10000000 [00:21<4:30:09, 616.10it/s]"
     ]
    },
    {
     "name": "stdout",
     "output_type": "stream",
     "text": [
      "\n",
      "Average td error: 0.9594, STD of STD: 0.00041848080088306054, Average ret: -11.86, Average steps: 11.98, Num_states: 139703\n"
     ]
    },
    {
     "name": "stderr",
     "output_type": "stream",
     "text": [
      "  0%|                                                                      | 14075/10000000 [00:22<4:29:55, 616.60it/s]"
     ]
    },
    {
     "name": "stdout",
     "output_type": "stream",
     "text": [
      "\n",
      "Average td error: 0.9593, STD of STD: 0.0003769113626568485, Average ret: -11.93, Average steps: 11.99, Num_states: 150156\n"
     ]
    },
    {
     "name": "stderr",
     "output_type": "stream",
     "text": [
      "  0%|                                                                      | 15116/10000000 [00:24<4:30:35, 614.99it/s]"
     ]
    },
    {
     "name": "stdout",
     "output_type": "stream",
     "text": [
      "\n",
      "Average td error: 0.9592, STD of STD: 0.00032801110943819946, Average ret: -12.00, Average steps: 12.00, Num_states: 160634\n"
     ]
    },
    {
     "name": "stderr",
     "output_type": "stream",
     "text": [
      "  0%|                                                                      | 16071/10000000 [00:26<4:35:29, 604.01it/s]"
     ]
    },
    {
     "name": "stdout",
     "output_type": "stream",
     "text": [
      "\n",
      "Average td error: 0.9871, STD of STD: 0.001516756852083937, Average ret: -11.89, Average steps: 11.98, Num_states: 171073\n"
     ]
    },
    {
     "name": "stderr",
     "output_type": "stream",
     "text": [
      "  0%|                                                                      | 17106/10000000 [00:27<4:30:30, 615.08it/s]"
     ]
    },
    {
     "name": "stdout",
     "output_type": "stream",
     "text": [
      "\n",
      "Average td error: 0.9508, STD of STD: 0.0002815983481493231, Average ret: -11.86, Average steps: 11.98, Num_states: 181471\n"
     ]
    },
    {
     "name": "stderr",
     "output_type": "stream",
     "text": [
      "  0%|▏                                                                     | 18059/10000000 [00:29<4:47:23, 578.89it/s]"
     ]
    },
    {
     "name": "stdout",
     "output_type": "stream",
     "text": [
      "\n",
      "Average td error: 0.9509, STD of STD: 0.00034818201028837133, Average ret: -11.17, Average steps: 11.80, Num_states: 191568\n"
     ]
    },
    {
     "name": "stderr",
     "output_type": "stream",
     "text": [
      "  0%|▏                                                                     | 19131/10000000 [00:31<5:13:44, 530.19it/s]"
     ]
    },
    {
     "name": "stdout",
     "output_type": "stream",
     "text": [
      "\n",
      "Average td error: 0.9508, STD of STD: 0.00031213111622577856, Average ret: -12.00, Average steps: 12.00, Num_states: 201942\n"
     ]
    },
    {
     "name": "stderr",
     "output_type": "stream",
     "text": [
      "  0%|▏                                                                     | 20025/10000000 [00:33<6:10:16, 449.22it/s]"
     ]
    },
    {
     "name": "stdout",
     "output_type": "stream",
     "text": [
      "\n",
      "Average td error: 0.9505, STD of STD: 0.00029724245383608305, Average ret: -11.87, Average steps: 11.99, Num_states: 212290\n"
     ]
    },
    {
     "name": "stderr",
     "output_type": "stream",
     "text": [
      "  0%|▏                                                                     | 21110/10000000 [00:35<5:06:48, 542.09it/s]"
     ]
    },
    {
     "name": "stdout",
     "output_type": "stream",
     "text": [
      "\n",
      "Average td error: 1.0063, STD of STD: 0.0002693065124129466, Average ret: -11.25, Average steps: 11.82, Num_states: 222441\n"
     ]
    },
    {
     "name": "stderr",
     "output_type": "stream",
     "text": [
      "  0%|▏                                                                     | 22113/10000000 [00:37<4:38:45, 596.57it/s]"
     ]
    },
    {
     "name": "stdout",
     "output_type": "stream",
     "text": [
      "\n",
      "Average td error: 0.9994, STD of STD: 0.002414848007214122, Average ret: -11.60, Average steps: 11.90, Num_states: 232670\n"
     ]
    },
    {
     "name": "stderr",
     "output_type": "stream",
     "text": [
      "  0%|▏                                                                     | 23073/10000000 [00:39<5:34:09, 497.61it/s]"
     ]
    },
    {
     "name": "stdout",
     "output_type": "stream",
     "text": [
      "\n",
      "Average td error: 0.9721, STD of STD: 0.0011102204508342665, Average ret: -11.87, Average steps: 11.99, Num_states: 242968\n"
     ]
    },
    {
     "name": "stderr",
     "output_type": "stream",
     "text": [
      "  0%|▏                                                                     | 24061/10000000 [00:42<7:46:06, 356.71it/s]"
     ]
    },
    {
     "name": "stdout",
     "output_type": "stream",
     "text": [
      "\n",
      "Average td error: 0.9441, STD of STD: 0.00029546912810338936, Average ret: -11.89, Average steps: 11.98, Num_states: 253231\n"
     ]
    },
    {
     "name": "stderr",
     "output_type": "stream",
     "text": [
      "  0%|▏                                                                     | 25067/10000000 [00:44<5:36:54, 493.45it/s]"
     ]
    },
    {
     "name": "stdout",
     "output_type": "stream",
     "text": [
      "\n",
      "Average td error: 0.9440, STD of STD: 0.00027740453812412857, Average ret: -11.93, Average steps: 11.99, Num_states: 263507\n"
     ]
    },
    {
     "name": "stderr",
     "output_type": "stream",
     "text": [
      "  0%|▏                                                                     | 26060/10000000 [00:46<6:33:24, 422.55it/s]"
     ]
    },
    {
     "name": "stdout",
     "output_type": "stream",
     "text": [
      "\n",
      "Average td error: 0.9667, STD of STD: 0.0005871377997068704, Average ret: -11.76, Average steps: 11.96, Num_states: 273719\n"
     ]
    },
    {
     "name": "stderr",
     "output_type": "stream",
     "text": [
      "  0%|▏                                                                     | 27030/10000000 [00:49<7:46:10, 356.55it/s]"
     ]
    },
    {
     "name": "stdout",
     "output_type": "stream",
     "text": [
      "\n",
      "Average td error: 0.9386, STD of STD: 0.000248813244168567, Average ret: -11.97, Average steps: 12.00, Num_states: 283971\n"
     ]
    },
    {
     "name": "stderr",
     "output_type": "stream",
     "text": [
      "  0%|▏                                                                     | 28093/10000000 [00:51<5:25:39, 510.36it/s]"
     ]
    },
    {
     "name": "stdout",
     "output_type": "stream",
     "text": [
      "\n",
      "Average td error: 0.9666, STD of STD: 0.0008269357667196873, Average ret: -11.77, Average steps: 11.95, Num_states: 294161\n"
     ]
    },
    {
     "name": "stderr",
     "output_type": "stream",
     "text": [
      "  0%|▏                                                                     | 29054/10000000 [00:53<6:55:47, 399.67it/s]"
     ]
    },
    {
     "name": "stdout",
     "output_type": "stream",
     "text": [
      "\n",
      "Average td error: 0.9658, STD of STD: 0.000942278338352901, Average ret: -11.93, Average steps: 11.99, Num_states: 304418\n"
     ]
    },
    {
     "name": "stderr",
     "output_type": "stream",
     "text": [
      "  0%|▏                                                                     | 30054/10000000 [00:56<6:53:23, 401.97it/s]"
     ]
    },
    {
     "name": "stdout",
     "output_type": "stream",
     "text": [
      "\n",
      "Average td error: 0.9343, STD of STD: 0.0002173300799564029, Average ret: -11.84, Average steps: 11.96, Num_states: 314580\n"
     ]
    },
    {
     "name": "stderr",
     "output_type": "stream",
     "text": [
      "  0%|▏                                                                     | 31097/10000000 [00:58<5:44:12, 482.71it/s]"
     ]
    },
    {
     "name": "stdout",
     "output_type": "stream",
     "text": [
      "\n",
      "Average td error: 0.9344, STD of STD: 0.00020531839234496456, Average ret: -11.96, Average steps: 11.99, Num_states: 324796\n"
     ]
    },
    {
     "name": "stderr",
     "output_type": "stream",
     "text": [
      "  0%|▏                                                                     | 32038/10000000 [01:00<7:20:22, 377.25it/s]"
     ]
    },
    {
     "name": "stdout",
     "output_type": "stream",
     "text": [
      "\n",
      "Average td error: 0.9342, STD of STD: 0.00020024344383294423, Average ret: -11.84, Average steps: 11.99, Num_states: 334986\n"
     ]
    },
    {
     "name": "stderr",
     "output_type": "stream",
     "text": [
      "  0%|▏                                                                     | 33088/10000000 [01:03<6:09:55, 449.06it/s]"
     ]
    },
    {
     "name": "stdout",
     "output_type": "stream",
     "text": [
      "\n",
      "Average td error: 0.9342, STD of STD: 0.000195704010996627, Average ret: -11.84, Average steps: 11.99, Num_states: 345179\n"
     ]
    },
    {
     "name": "stderr",
     "output_type": "stream",
     "text": [
      "  0%|▏                                                                     | 34056/10000000 [01:06<7:56:26, 348.62it/s]"
     ]
    },
    {
     "name": "stdout",
     "output_type": "stream",
     "text": [
      "\n",
      "Average td error: 0.9581, STD of STD: 0.00035793190393823717, Average ret: -11.89, Average steps: 11.98, Num_states: 355363\n"
     ]
    },
    {
     "name": "stderr",
     "output_type": "stream",
     "text": [
      "  0%|▏                                                                     | 35057/10000000 [01:08<6:28:57, 426.99it/s]"
     ]
    },
    {
     "name": "stdout",
     "output_type": "stream",
     "text": [
      "\n",
      "Average td error: 0.9309, STD of STD: 0.00017899116343673795, Average ret: -11.80, Average steps: 11.95, Num_states: 365500\n"
     ]
    },
    {
     "name": "stderr",
     "output_type": "stream",
     "text": [
      "  0%|▎                                                                     | 36023/10000000 [01:11<7:14:59, 381.76it/s]"
     ]
    },
    {
     "name": "stdout",
     "output_type": "stream",
     "text": [
      "\n",
      "Average td error: 0.9309, STD of STD: 0.00017122069335687235, Average ret: -11.93, Average steps: 11.99, Num_states: 375680\n"
     ]
    },
    {
     "name": "stderr",
     "output_type": "stream",
     "text": [
      "  0%|▎                                                                     | 37027/10000000 [01:13<8:06:37, 341.23it/s]"
     ]
    },
    {
     "name": "stdout",
     "output_type": "stream",
     "text": [
      "\n",
      "Average td error: 0.9309, STD of STD: 0.0001679604399704629, Average ret: -11.81, Average steps: 11.96, Num_states: 385836\n"
     ]
    },
    {
     "name": "stderr",
     "output_type": "stream",
     "text": [
      "  0%|▎                                                                     | 38139/10000000 [01:16<4:38:38, 595.85it/s]"
     ]
    },
    {
     "name": "stdout",
     "output_type": "stream",
     "text": [
      "\n",
      "Average td error: 1.9090, STD of STD: 0.006714798995963671, Average ret: -8.81, Average steps: 11.21, Num_states: 395067\n"
     ]
    },
    {
     "name": "stderr",
     "output_type": "stream",
     "text": [
      "  0%|▎                                                                     | 39089/10000000 [01:18<4:42:20, 588.01it/s]"
     ]
    },
    {
     "name": "stdout",
     "output_type": "stream",
     "text": [
      "\n",
      "Average td error: 2.2392, STD of STD: 0.009188230130117233, Average ret: -4.52, Average steps: 10.13, Num_states: 403012\n"
     ]
    },
    {
     "name": "stderr",
     "output_type": "stream",
     "text": [
      "  0%|▎                                                                     | 40126/10000000 [01:20<4:51:25, 569.59it/s]"
     ]
    },
    {
     "name": "stdout",
     "output_type": "stream",
     "text": [
      "\n",
      "Average td error: 1.8858, STD of STD: 0.005377458662152602, Average ret: -4.25, Average steps: 10.07, Num_states: 410904\n"
     ]
    },
    {
     "name": "stderr",
     "output_type": "stream",
     "text": [
      "  0%|▎                                                                     | 41102/10000000 [01:22<5:45:36, 480.25it/s]"
     ]
    },
    {
     "name": "stdout",
     "output_type": "stream",
     "text": [
      "\n",
      "Average td error: 1.9736, STD of STD: 0.005802828543833229, Average ret: -2.16, Average steps: 9.54, Num_states: 418114\n"
     ]
    },
    {
     "name": "stderr",
     "output_type": "stream",
     "text": [
      "  0%|▎                                                                     | 42052/10000000 [01:24<4:56:44, 559.30it/s]"
     ]
    },
    {
     "name": "stdout",
     "output_type": "stream",
     "text": [
      "\n",
      "Average td error: 1.8628, STD of STD: 0.005773703950739616, Average ret: -5.48, Average steps: 10.37, Num_states: 426310\n"
     ]
    },
    {
     "name": "stderr",
     "output_type": "stream",
     "text": [
      "  0%|▎                                                                     | 43030/10000000 [01:26<7:33:49, 365.67it/s]"
     ]
    },
    {
     "name": "stdout",
     "output_type": "stream",
     "text": [
      "\n",
      "Average td error: 2.0956, STD of STD: 0.007019800502041079, Average ret: -4.84, Average steps: 10.21, Num_states: 434347\n"
     ]
    },
    {
     "name": "stderr",
     "output_type": "stream",
     "text": [
      "  0%|▎                                                                     | 44082/10000000 [01:29<6:25:03, 430.94it/s]"
     ]
    },
    {
     "name": "stdout",
     "output_type": "stream",
     "text": [
      "\n",
      "Average td error: 2.0169, STD of STD: 0.006022549328528629, Average ret: -5.33, Average steps: 10.34, Num_states: 442509\n"
     ]
    },
    {
     "name": "stderr",
     "output_type": "stream",
     "text": [
      "  0%|▎                                                                     | 45057/10000000 [01:31<5:12:41, 530.62it/s]"
     ]
    },
    {
     "name": "stdout",
     "output_type": "stream",
     "text": [
      "\n",
      "Average td error: 1.7881, STD of STD: 0.003921818753560061, Average ret: -4.97, Average steps: 10.25, Num_states: 450574\n"
     ]
    },
    {
     "name": "stderr",
     "output_type": "stream",
     "text": [
      "  0%|▎                                                                     | 46054/10000000 [01:34<6:58:41, 396.23it/s]"
     ]
    },
    {
     "name": "stdout",
     "output_type": "stream",
     "text": [
      "\n",
      "Average td error: 1.7801, STD of STD: 0.003789525692672187, Average ret: -5.33, Average steps: 10.34, Num_states: 458724\n"
     ]
    },
    {
     "name": "stderr",
     "output_type": "stream",
     "text": [
      "  0%|▎                                                                     | 47093/10000000 [01:36<6:00:39, 459.94it/s]"
     ]
    },
    {
     "name": "stdout",
     "output_type": "stream",
     "text": [
      "\n",
      "Average td error: 2.1970, STD of STD: 0.007982691704562965, Average ret: -1.68, Average steps: 9.48, Num_states: 466015\n"
     ]
    },
    {
     "name": "stderr",
     "output_type": "stream",
     "text": [
      "  0%|▎                                                                     | 48043/10000000 [01:38<6:19:22, 437.20it/s]"
     ]
    },
    {
     "name": "stdout",
     "output_type": "stream",
     "text": [
      "\n",
      "Average td error: 2.2108, STD of STD: 0.00797361362476849, Average ret: -1.14, Average steps: 9.36, Num_states: 473189\n"
     ]
    },
    {
     "name": "stderr",
     "output_type": "stream",
     "text": [
      "  0%|▎                                                                     | 49110/10000000 [01:40<5:00:25, 552.06it/s]"
     ]
    },
    {
     "name": "stdout",
     "output_type": "stream",
     "text": [
      "\n",
      "Average td error: 2.2316, STD of STD: 0.007635004238179924, Average ret: -0.59, Average steps: 9.23, Num_states: 480248\n"
     ]
    },
    {
     "name": "stderr",
     "output_type": "stream",
     "text": [
      "  1%|▎                                                                     | 50103/10000000 [01:42<4:49:31, 572.77it/s]"
     ]
    },
    {
     "name": "stdout",
     "output_type": "stream",
     "text": [
      "\n",
      "Average td error: 2.2217, STD of STD: 0.00633708140875044, Average ret: -1.99, Average steps: 9.58, Num_states: 487622\n"
     ]
    },
    {
     "name": "stderr",
     "output_type": "stream",
     "text": [
      "  1%|▎                                                                     | 51166/10000000 [01:44<4:20:33, 636.38it/s]"
     ]
    },
    {
     "name": "stdout",
     "output_type": "stream",
     "text": [
      "\n",
      "Average td error: 2.4033, STD of STD: 0.008138079053184628, Average ret: 1.24, Average steps: 8.81, Num_states: 494255\n"
     ]
    },
    {
     "name": "stderr",
     "output_type": "stream",
     "text": [
      "  1%|▎                                                                     | 52146/10000000 [01:46<4:33:24, 606.41it/s]"
     ]
    },
    {
     "name": "stdout",
     "output_type": "stream",
     "text": [
      "\n",
      "Average td error: 2.3196, STD of STD: 0.008005126663348744, Average ret: 1.63, Average steps: 8.72, Num_states: 500800\n"
     ]
    },
    {
     "name": "stderr",
     "output_type": "stream",
     "text": [
      "  1%|▎                                                                     | 53042/10000000 [01:48<6:16:27, 440.37it/s]"
     ]
    },
    {
     "name": "stdout",
     "output_type": "stream",
     "text": [
      "\n",
      "Average td error: 2.4346, STD of STD: 0.008259662226479062, Average ret: 2.19, Average steps: 8.58, Num_states: 507209\n"
     ]
    },
    {
     "name": "stderr",
     "output_type": "stream",
     "text": [
      "  1%|▍                                                                     | 54080/10000000 [01:50<6:14:45, 442.33it/s]"
     ]
    },
    {
     "name": "stdout",
     "output_type": "stream",
     "text": [
      "\n",
      "Average td error: 2.2983, STD of STD: 0.007471189207449068, Average ret: 2.97, Average steps: 8.40, Num_states: 513318\n"
     ]
    },
    {
     "name": "stderr",
     "output_type": "stream",
     "text": [
      "  1%|▍                                                                     | 55094/10000000 [01:52<5:53:06, 469.40it/s]"
     ]
    },
    {
     "name": "stdout",
     "output_type": "stream",
     "text": [
      "\n",
      "Average td error: 2.0880, STD of STD: 0.005143721706086982, Average ret: 1.35, Average steps: 8.79, Num_states: 519812\n"
     ]
    },
    {
     "name": "stderr",
     "output_type": "stream",
     "text": [
      "  1%|▍                                                                     | 56090/10000000 [01:54<5:55:09, 466.65it/s]"
     ]
    },
    {
     "name": "stdout",
     "output_type": "stream",
     "text": [
      "\n",
      "Average td error: 2.3732, STD of STD: 0.0077126253124747005, Average ret: 1.92, Average steps: 8.64, Num_states: 526170\n"
     ]
    },
    {
     "name": "stderr",
     "output_type": "stream",
     "text": [
      "  1%|▍                                                                     | 57064/10000000 [01:55<5:36:32, 492.41it/s]"
     ]
    },
    {
     "name": "stdout",
     "output_type": "stream",
     "text": [
      "\n",
      "Average td error: 2.4497, STD of STD: 0.00679414885712447, Average ret: 5.34, Average steps: 7.80, Num_states: 531592\n"
     ]
    },
    {
     "name": "stderr",
     "output_type": "stream",
     "text": [
      "  1%|▍                                                                     | 58184/10000000 [01:57<3:16:58, 841.18it/s]"
     ]
    },
    {
     "name": "stdout",
     "output_type": "stream",
     "text": [
      "\n",
      "Average td error: 2.7738, STD of STD: 0.009158280036737958, Average ret: 5.81, Average steps: 7.69, Num_states: 536861\n"
     ]
    },
    {
     "name": "stderr",
     "output_type": "stream",
     "text": [
      "  1%|▍                                                                     | 59139/10000000 [01:58<3:18:04, 836.46it/s]"
     ]
    },
    {
     "name": "stdout",
     "output_type": "stream",
     "text": [
      "\n",
      "Average td error: 2.7006, STD of STD: 0.0077236104920200745, Average ret: 5.74, Average steps: 7.70, Num_states: 542174\n"
     ]
    },
    {
     "name": "stderr",
     "output_type": "stream",
     "text": [
      "  1%|▍                                                                     | 60063/10000000 [02:00<5:06:48, 539.96it/s]"
     ]
    },
    {
     "name": "stdout",
     "output_type": "stream",
     "text": [
      "\n",
      "Average td error: 2.7532, STD of STD: 0.008562681266509048, Average ret: 5.83, Average steps: 7.67, Num_states: 547443\n"
     ]
    },
    {
     "name": "stderr",
     "output_type": "stream",
     "text": [
      "  1%|▍                                                                     | 60997/10000000 [02:01<3:43:09, 742.32it/s]"
     ]
    },
    {
     "name": "stdout",
     "output_type": "stream",
     "text": [
      "\n",
      "Average td error: 2.6773, STD of STD: 0.008103668881440013, Average ret: 5.25, Average steps: 7.83, Num_states: 552833\n"
     ]
    },
    {
     "name": "stderr",
     "output_type": "stream",
     "text": [
      "  1%|▍                                                                     | 62069/10000000 [02:04<7:55:09, 348.58it/s]"
     ]
    },
    {
     "name": "stdout",
     "output_type": "stream",
     "text": [
      "\n",
      "Average td error: 2.6442, STD of STD: 0.0074909129428503436, Average ret: 5.90, Average steps: 7.66, Num_states: 558081\n"
     ]
    },
    {
     "name": "stderr",
     "output_type": "stream",
     "text": [
      "  1%|▍                                                                     | 63065/10000000 [02:06<5:12:17, 530.33it/s]"
     ]
    },
    {
     "name": "stdout",
     "output_type": "stream",
     "text": [
      "\n",
      "Average td error: 2.7089, STD of STD: 0.00792160958547615, Average ret: 7.21, Average steps: 7.34, Num_states: 563020\n"
     ]
    },
    {
     "name": "stderr",
     "output_type": "stream",
     "text": [
      "  1%|▍                                                                     | 64074/10000000 [02:08<6:22:52, 432.52it/s]"
     ]
    },
    {
     "name": "stdout",
     "output_type": "stream",
     "text": [
      "\n",
      "Average td error: 2.7374, STD of STD: 0.008126966998619407, Average ret: 9.60, Average steps: 6.75, Num_states: 567355\n"
     ]
    },
    {
     "name": "stderr",
     "output_type": "stream",
     "text": [
      "  1%|▍                                                                     | 65059/10000000 [02:11<4:02:25, 683.03it/s]"
     ]
    },
    {
     "name": "stdout",
     "output_type": "stream",
     "text": [
      "\n",
      "Average td error: 2.8921, STD of STD: 0.008547331354070374, Average ret: 9.51, Average steps: 6.75, Num_states: 571690\n"
     ]
    },
    {
     "name": "stderr",
     "output_type": "stream",
     "text": [
      "  1%|▍                                                                     | 66110/10000000 [02:13<4:03:07, 681.00it/s]"
     ]
    },
    {
     "name": "stdout",
     "output_type": "stream",
     "text": [
      "\n",
      "Average td error: 2.8197, STD of STD: 0.007996212483093736, Average ret: 10.50, Average steps: 6.51, Num_states: 575780\n"
     ]
    },
    {
     "name": "stderr",
     "output_type": "stream",
     "text": [
      "  1%|▍                                                                     | 67139/10000000 [02:14<3:38:06, 759.04it/s]"
     ]
    },
    {
     "name": "stdout",
     "output_type": "stream",
     "text": [
      "\n",
      "Average td error: 2.9228, STD of STD: 0.007902249553883658, Average ret: 8.30, Average steps: 7.06, Num_states: 580454\n"
     ]
    },
    {
     "name": "stderr",
     "output_type": "stream",
     "text": [
      "  1%|▍                                                                     | 68125/10000000 [02:15<3:17:27, 838.31it/s]"
     ]
    },
    {
     "name": "stdout",
     "output_type": "stream",
     "text": [
      "\n",
      "Average td error: 2.8506, STD of STD: 0.007874158624760739, Average ret: 9.14, Average steps: 6.85, Num_states: 584887\n"
     ]
    },
    {
     "name": "stderr",
     "output_type": "stream",
     "text": [
      "  1%|▍                                                                     | 69069/10000000 [02:17<3:34:31, 771.55it/s]"
     ]
    },
    {
     "name": "stdout",
     "output_type": "stream",
     "text": [
      "\n",
      "Average td error: 2.6847, STD of STD: 0.006961235444714092, Average ret: 8.55, Average steps: 6.99, Num_states: 589431\n"
     ]
    },
    {
     "name": "stderr",
     "output_type": "stream",
     "text": [
      "  1%|▍                                                                     | 70101/10000000 [02:18<3:32:42, 778.04it/s]"
     ]
    },
    {
     "name": "stdout",
     "output_type": "stream",
     "text": [
      "\n",
      "Average td error: 2.5320, STD of STD: 0.006301062589224613, Average ret: 8.34, Average steps: 7.05, Num_states: 594012\n"
     ]
    },
    {
     "name": "stderr",
     "output_type": "stream",
     "text": [
      "  1%|▍                                                                     | 71131/10000000 [02:19<3:35:29, 767.91it/s]"
     ]
    },
    {
     "name": "stdout",
     "output_type": "stream",
     "text": [
      "\n",
      "Average td error: 2.7718, STD of STD: 0.006800637225347697, Average ret: 9.02, Average steps: 6.88, Num_states: 598419\n"
     ]
    },
    {
     "name": "stderr",
     "output_type": "stream",
     "text": [
      "  1%|▌                                                                     | 72122/10000000 [02:21<3:42:30, 743.62it/s]"
     ]
    },
    {
     "name": "stdout",
     "output_type": "stream",
     "text": [
      "\n",
      "Average td error: 2.6967, STD of STD: 0.006738033502715758, Average ret: 8.40, Average steps: 7.02, Num_states: 603001\n"
     ]
    },
    {
     "name": "stderr",
     "output_type": "stream",
     "text": [
      "  1%|▌                                                                     | 73079/10000000 [02:22<4:35:07, 601.34it/s]"
     ]
    },
    {
     "name": "stdout",
     "output_type": "stream",
     "text": [
      "\n",
      "Average td error: 2.6753, STD of STD: 0.006436085430417703, Average ret: 8.86, Average steps: 6.92, Num_states: 607435\n"
     ]
    },
    {
     "name": "stderr",
     "output_type": "stream",
     "text": [
      "  1%|▌                                                                     | 74077/10000000 [02:23<3:44:25, 737.11it/s]"
     ]
    },
    {
     "name": "stdout",
     "output_type": "stream",
     "text": [
      "\n",
      "Average td error: 2.8884, STD of STD: 0.007565094766072705, Average ret: 9.66, Average steps: 6.71, Num_states: 611712\n"
     ]
    },
    {
     "name": "stderr",
     "output_type": "stream",
     "text": [
      "  1%|▌                                                                     | 75088/10000000 [02:25<3:42:24, 743.73it/s]"
     ]
    },
    {
     "name": "stdout",
     "output_type": "stream",
     "text": [
      "\n",
      "Average td error: 2.6897, STD of STD: 0.005526603550422643, Average ret: 8.86, Average steps: 6.92, Num_states: 616163\n"
     ]
    },
    {
     "name": "stderr",
     "output_type": "stream",
     "text": [
      "  1%|▌                                                                     | 76087/10000000 [02:26<3:40:28, 750.18it/s]"
     ]
    },
    {
     "name": "stdout",
     "output_type": "stream",
     "text": [
      "\n",
      "Average td error: 2.8333, STD of STD: 0.006805168620265899, Average ret: 8.55, Average steps: 6.99, Num_states: 620674\n"
     ]
    },
    {
     "name": "stderr",
     "output_type": "stream",
     "text": [
      "  1%|▌                                                                     | 77143/10000000 [02:27<3:12:59, 856.91it/s]"
     ]
    },
    {
     "name": "stdout",
     "output_type": "stream",
     "text": [
      "\n",
      "Average td error: 2.8981, STD of STD: 0.007111705363080455, Average ret: 9.74, Average steps: 6.70, Num_states: 624924\n"
     ]
    },
    {
     "name": "stderr",
     "output_type": "stream",
     "text": [
      "  1%|▌                                                                     | 78044/10000000 [02:28<3:46:21, 730.54it/s]"
     ]
    },
    {
     "name": "stdout",
     "output_type": "stream",
     "text": [
      "\n",
      "Average td error: 2.7059, STD of STD: 0.005951312226363485, Average ret: 8.68, Average steps: 6.95, Num_states: 629431\n"
     ]
    },
    {
     "name": "stderr",
     "output_type": "stream",
     "text": [
      "  1%|▌                                                                     | 79101/10000000 [02:30<3:57:20, 696.67it/s]"
     ]
    },
    {
     "name": "stdout",
     "output_type": "stream",
     "text": [
      "\n",
      "Average td error: 2.8653, STD of STD: 0.006701138598888049, Average ret: 8.32, Average steps: 7.07, Num_states: 633999\n"
     ]
    },
    {
     "name": "stderr",
     "output_type": "stream",
     "text": [
      "  1%|▌                                                                     | 80157/10000000 [02:31<3:26:03, 802.38it/s]"
     ]
    },
    {
     "name": "stdout",
     "output_type": "stream",
     "text": [
      "\n",
      "Average td error: 2.6686, STD of STD: 0.005320531383968834, Average ret: 8.68, Average steps: 6.95, Num_states: 638489\n"
     ]
    },
    {
     "name": "stderr",
     "output_type": "stream",
     "text": [
      "  1%|▌                                                                     | 81125/10000000 [02:33<3:38:38, 756.10it/s]"
     ]
    },
    {
     "name": "stdout",
     "output_type": "stream",
     "text": [
      "\n",
      "Average td error: 2.8608, STD of STD: 0.006650341418978971, Average ret: 9.37, Average steps: 6.80, Num_states: 642803\n"
     ]
    },
    {
     "name": "stderr",
     "output_type": "stream",
     "text": [
      "  1%|▌                                                                     | 82104/10000000 [02:34<4:24:27, 625.04it/s]"
     ]
    },
    {
     "name": "stdout",
     "output_type": "stream",
     "text": [
      "\n",
      "Average td error: 2.7270, STD of STD: 0.005503785599972387, Average ret: 8.71, Average steps: 6.95, Num_states: 647272\n"
     ]
    },
    {
     "name": "stderr",
     "output_type": "stream",
     "text": [
      "  1%|▌                                                                     | 83168/10000000 [02:35<3:06:34, 885.83it/s]"
     ]
    },
    {
     "name": "stdout",
     "output_type": "stream",
     "text": [
      "\n",
      "Average td error: 3.2153, STD of STD: 0.006647524392797475, Average ret: 12.37, Average steps: 6.05, Num_states: 650829\n"
     ]
    },
    {
     "name": "stderr",
     "output_type": "stream",
     "text": [
      "  1%|▌                                                                     | 84201/10000000 [02:36<2:54:27, 947.29it/s]"
     ]
    },
    {
     "name": "stdout",
     "output_type": "stream",
     "text": [
      "\n",
      "Average td error: 3.2201, STD of STD: 0.00605034720227324, Average ret: 11.27, Average steps: 6.31, Num_states: 654648\n"
     ]
    },
    {
     "name": "stderr",
     "output_type": "stream",
     "text": [
      "  1%|▌                                                                    | 85209/10000000 [02:37<2:36:14, 1057.58it/s]"
     ]
    },
    {
     "name": "stdout",
     "output_type": "stream",
     "text": [
      "\n",
      "Average td error: 3.3043, STD of STD: 0.0063649722324256195, Average ret: 12.44, Average steps: 6.01, Num_states: 658184\n"
     ]
    },
    {
     "name": "stderr",
     "output_type": "stream",
     "text": [
      "  1%|▌                                                                     | 86129/10000000 [02:39<2:55:28, 941.64it/s]"
     ]
    },
    {
     "name": "stdout",
     "output_type": "stream",
     "text": [
      "\n",
      "Average td error: 3.1053, STD of STD: 0.005109658962478988, Average ret: 11.97, Average steps: 6.12, Num_states: 661846\n"
     ]
    },
    {
     "name": "stderr",
     "output_type": "stream",
     "text": [
      "  1%|▌                                                                     | 87104/10000000 [02:40<2:52:40, 956.78it/s]"
     ]
    },
    {
     "name": "stdout",
     "output_type": "stream",
     "text": [
      "\n",
      "Average td error: 3.0845, STD of STD: 0.0050238269553246, Average ret: 12.79, Average steps: 5.93, Num_states: 665305\n"
     ]
    },
    {
     "name": "stderr",
     "output_type": "stream",
     "text": [
      "  1%|▌                                                                     | 88111/10000000 [02:41<3:45:41, 731.96it/s]"
     ]
    },
    {
     "name": "stdout",
     "output_type": "stream",
     "text": [
      "\n",
      "Average td error: 3.0310, STD of STD: 0.0065664606281837816, Average ret: 8.96, Average steps: 6.88, Num_states: 669663\n"
     ]
    },
    {
     "name": "stderr",
     "output_type": "stream",
     "text": [
      "  1%|▌                                                                     | 89085/10000000 [02:42<4:03:02, 679.65it/s]"
     ]
    },
    {
     "name": "stdout",
     "output_type": "stream",
     "text": [
      "\n",
      "Average td error: 2.9602, STD of STD: 0.005956744572602311, Average ret: 9.62, Average steps: 6.73, Num_states: 673888\n"
     ]
    },
    {
     "name": "stderr",
     "output_type": "stream",
     "text": [
      "  1%|▋                                                                     | 90079/10000000 [02:44<4:01:06, 685.01it/s]"
     ]
    },
    {
     "name": "stdout",
     "output_type": "stream",
     "text": [
      "\n",
      "Average td error: 2.8239, STD of STD: 0.005269063885422028, Average ret: 7.83, Average steps: 7.17, Num_states: 678542\n"
     ]
    },
    {
     "name": "stderr",
     "output_type": "stream",
     "text": [
      "  1%|▋                                                                     | 91126/10000000 [02:45<3:17:18, 837.02it/s]"
     ]
    },
    {
     "name": "stdout",
     "output_type": "stream",
     "text": [
      "\n",
      "Average td error: 3.2890, STD of STD: 0.005620250141318471, Average ret: 9.60, Average steps: 6.72, Num_states: 682763\n"
     ]
    },
    {
     "name": "stderr",
     "output_type": "stream",
     "text": [
      "  1%|▋                                                                     | 92069/10000000 [02:46<4:04:11, 676.26it/s]"
     ]
    },
    {
     "name": "stdout",
     "output_type": "stream",
     "text": [
      "\n",
      "Average td error: 3.0692, STD of STD: 0.004802530600748777, Average ret: 12.81, Average steps: 5.94, Num_states: 686230\n"
     ]
    },
    {
     "name": "stderr",
     "output_type": "stream",
     "text": [
      "  1%|▋                                                                     | 93094/10000000 [02:47<3:13:13, 854.51it/s]"
     ]
    },
    {
     "name": "stdout",
     "output_type": "stream",
     "text": [
      "\n",
      "Average td error: 3.2576, STD of STD: 0.005909626429298927, Average ret: 13.85, Average steps: 5.68, Num_states: 689454\n"
     ]
    },
    {
     "name": "stderr",
     "output_type": "stream",
     "text": [
      "  1%|▋                                                                     | 94120/10000000 [02:48<3:20:39, 822.76it/s]"
     ]
    },
    {
     "name": "stdout",
     "output_type": "stream",
     "text": [
      "\n",
      "Average td error: 3.2926, STD of STD: 0.005661736912697647, Average ret: 12.94, Average steps: 5.90, Num_states: 692901\n"
     ]
    },
    {
     "name": "stderr",
     "output_type": "stream",
     "text": [
      "  1%|▋                                                                     | 95147/10000000 [02:50<2:48:07, 981.89it/s]"
     ]
    },
    {
     "name": "stdout",
     "output_type": "stream",
     "text": [
      "\n",
      "Average td error: 3.3447, STD of STD: 0.005917325712699129, Average ret: 12.90, Average steps: 5.91, Num_states: 696343\n"
     ]
    },
    {
     "name": "stderr",
     "output_type": "stream",
     "text": [
      "  1%|▋                                                                    | 96271/10000000 [02:51<2:42:28, 1015.92it/s]"
     ]
    },
    {
     "name": "stdout",
     "output_type": "stream",
     "text": [
      "\n",
      "Average td error: 2.8649, STD of STD: 0.0038960512960329475, Average ret: 15.88, Average steps: 5.21, Num_states: 699099\n"
     ]
    },
    {
     "name": "stderr",
     "output_type": "stream",
     "text": [
      "  1%|▋                                                                    | 97229/10000000 [02:52<2:17:52, 1197.05it/s]"
     ]
    },
    {
     "name": "stdout",
     "output_type": "stream",
     "text": [
      "\n",
      "Average td error: 2.9711, STD of STD: 0.0038805162788787756, Average ret: 16.19, Average steps: 5.17, Num_states: 701766\n"
     ]
    },
    {
     "name": "stderr",
     "output_type": "stream",
     "text": [
      "  1%|▋                                                                     | 98125/10000000 [02:53<2:45:37, 996.45it/s]"
     ]
    },
    {
     "name": "stdout",
     "output_type": "stream",
     "text": [
      "\n",
      "Average td error: 2.5483, STD of STD: 0.004418250121103356, Average ret: 13.54, Average steps: 5.81, Num_states: 705090\n"
     ]
    },
    {
     "name": "stderr",
     "output_type": "stream",
     "text": [
      "  1%|▋                                                                     | 99064/10000000 [02:54<3:30:44, 783.01it/s]"
     ]
    },
    {
     "name": "stdout",
     "output_type": "stream",
     "text": [
      "\n",
      "Average td error: 2.6415, STD of STD: 0.0042391038080708855, Average ret: 12.72, Average steps: 6.00, Num_states: 708594\n"
     ]
    },
    {
     "name": "stderr",
     "output_type": "stream",
     "text": [
      "  1%|▋                                                                    | 100090/10000000 [02:55<3:11:40, 860.81it/s]"
     ]
    },
    {
     "name": "stdout",
     "output_type": "stream",
     "text": [
      "\n",
      "Average td error: 2.6013, STD of STD: 0.004093143302837886, Average ret: 12.65, Average steps: 6.04, Num_states: 712115\n"
     ]
    },
    {
     "name": "stderr",
     "output_type": "stream",
     "text": [
      "  1%|▋                                                                    | 101058/10000000 [02:56<3:31:38, 779.51it/s]"
     ]
    },
    {
     "name": "stdout",
     "output_type": "stream",
     "text": [
      "\n",
      "Average td error: 2.7305, STD of STD: 0.00482255852890554, Average ret: 12.73, Average steps: 6.02, Num_states: 715642\n"
     ]
    },
    {
     "name": "stderr",
     "output_type": "stream",
     "text": [
      "  1%|▋                                                                    | 102156/10000000 [02:58<3:17:41, 834.49it/s]"
     ]
    },
    {
     "name": "stdout",
     "output_type": "stream",
     "text": [
      "\n",
      "Average td error: 2.5000, STD of STD: 0.0037590256460261384, Average ret: 12.59, Average steps: 6.04, Num_states: 719194\n"
     ]
    },
    {
     "name": "stderr",
     "output_type": "stream",
     "text": [
      "  1%|▋                                                                    | 103137/10000000 [02:59<2:57:26, 929.57it/s]"
     ]
    },
    {
     "name": "stdout",
     "output_type": "stream",
     "text": [
      "\n",
      "Average td error: 2.6338, STD of STD: 0.004231987736679629, Average ret: 12.73, Average steps: 6.02, Num_states: 722701\n"
     ]
    },
    {
     "name": "stderr",
     "output_type": "stream",
     "text": [
      "  1%|▋                                                                   | 104115/10000000 [03:00<2:39:35, 1033.42it/s]"
     ]
    },
    {
     "name": "stdout",
     "output_type": "stream",
     "text": [
      "\n",
      "Average td error: 2.6164, STD of STD: 0.004046883244281159, Average ret: 13.34, Average steps: 5.86, Num_states: 726074\n"
     ]
    },
    {
     "name": "stderr",
     "output_type": "stream",
     "text": [
      "  1%|▋                                                                    | 105152/10000000 [03:01<3:09:28, 870.40it/s]"
     ]
    },
    {
     "name": "stdout",
     "output_type": "stream",
     "text": [
      "\n",
      "Average td error: 2.4754, STD of STD: 0.0032997656418979294, Average ret: 12.58, Average steps: 6.05, Num_states: 729629\n"
     ]
    },
    {
     "name": "stderr",
     "output_type": "stream",
     "text": [
      "  1%|▋                                                                    | 106093/10000000 [03:02<3:04:47, 892.35it/s]"
     ]
    },
    {
     "name": "stdout",
     "output_type": "stream",
     "text": [
      "\n",
      "Average td error: 2.6580, STD of STD: 0.004273111625440919, Average ret: 12.39, Average steps: 6.08, Num_states: 733232\n"
     ]
    },
    {
     "name": "stderr",
     "output_type": "stream",
     "text": [
      "  1%|▋                                                                    | 107097/10000000 [03:03<3:39:55, 749.72it/s]"
     ]
    },
    {
     "name": "stdout",
     "output_type": "stream",
     "text": [
      "\n",
      "Average td error: 2.7023, STD of STD: 0.004102383058521875, Average ret: 12.67, Average steps: 6.02, Num_states: 736757\n"
     ]
    },
    {
     "name": "stderr",
     "output_type": "stream",
     "text": [
      "  1%|▋                                                                    | 108104/10000000 [03:05<3:22:18, 814.94it/s]"
     ]
    },
    {
     "name": "stdout",
     "output_type": "stream",
     "text": [
      "\n",
      "Average td error: 2.6123, STD of STD: 0.004124898237056194, Average ret: 12.49, Average steps: 6.08, Num_states: 740323\n"
     ]
    },
    {
     "name": "stderr",
     "output_type": "stream",
     "text": [
      "  1%|▋                                                                   | 109211/10000000 [03:06<2:38:46, 1038.20it/s]"
     ]
    },
    {
     "name": "stdout",
     "output_type": "stream",
     "text": [
      "\n",
      "Average td error: 2.8196, STD of STD: 0.0051711634795411875, Average ret: 13.10, Average steps: 5.92, Num_states: 743742\n"
     ]
    },
    {
     "name": "stderr",
     "output_type": "stream",
     "text": [
      "  1%|▋                                                                   | 110208/10000000 [03:07<2:42:53, 1011.86it/s]"
     ]
    },
    {
     "name": "stdout",
     "output_type": "stream",
     "text": [
      "\n",
      "Average td error: 2.7241, STD of STD: 0.00429408127583777, Average ret: 14.20, Average steps: 5.66, Num_states: 746894\n"
     ]
    },
    {
     "name": "stderr",
     "output_type": "stream",
     "text": [
      "  1%|▊                                                                    | 111085/10000000 [03:08<2:56:04, 936.03it/s]"
     ]
    },
    {
     "name": "stdout",
     "output_type": "stream",
     "text": [
      "\n",
      "Average td error: 2.6993, STD of STD: 0.004368749344277159, Average ret: 12.38, Average steps: 6.10, Num_states: 750466\n"
     ]
    },
    {
     "name": "stderr",
     "output_type": "stream",
     "text": [
      "  1%|▊                                                                    | 112063/10000000 [03:09<4:54:42, 559.19it/s]"
     ]
    },
    {
     "name": "stdout",
     "output_type": "stream",
     "text": [
      "\n",
      "Average td error: 2.6677, STD of STD: 0.003843279670669453, Average ret: 11.58, Average steps: 6.30, Num_states: 754226\n"
     ]
    },
    {
     "name": "stderr",
     "output_type": "stream",
     "text": [
      "  1%|▊                                                                    | 113207/10000000 [03:11<2:55:10, 940.66it/s]"
     ]
    },
    {
     "name": "stdout",
     "output_type": "stream",
     "text": [
      "\n",
      "Average td error: 2.8504, STD of STD: 0.004692640103168495, Average ret: 12.78, Average steps: 6.00, Num_states: 757675\n"
     ]
    },
    {
     "name": "stderr",
     "output_type": "stream",
     "text": [
      "  1%|▊                                                                    | 114078/10000000 [03:12<2:50:52, 964.21it/s]"
     ]
    },
    {
     "name": "stdout",
     "output_type": "stream",
     "text": [
      "\n",
      "Average td error: 2.5699, STD of STD: 0.003302326170781134, Average ret: 12.45, Average steps: 6.09, Num_states: 761239\n"
     ]
    },
    {
     "name": "stderr",
     "output_type": "stream",
     "text": [
      "  1%|▊                                                                    | 115173/10000000 [03:13<3:19:31, 825.73it/s]"
     ]
    },
    {
     "name": "stdout",
     "output_type": "stream",
     "text": [
      "\n",
      "Average td error: 2.7592, STD of STD: 0.004156772728492964, Average ret: 13.07, Average steps: 5.92, Num_states: 764651\n"
     ]
    },
    {
     "name": "stderr",
     "output_type": "stream",
     "text": [
      "  1%|▊                                                                    | 116085/10000000 [03:14<3:08:55, 871.91it/s]"
     ]
    },
    {
     "name": "stdout",
     "output_type": "stream",
     "text": [
      "\n",
      "Average td error: 2.6356, STD of STD: 0.0035276651529195283, Average ret: 12.04, Average steps: 6.17, Num_states: 768284\n"
     ]
    },
    {
     "name": "stderr",
     "output_type": "stream",
     "text": [
      "  1%|▊                                                                    | 117132/10000000 [03:16<3:18:31, 829.71it/s]"
     ]
    },
    {
     "name": "stdout",
     "output_type": "stream",
     "text": [
      "\n",
      "Average td error: 2.5676, STD of STD: 0.0035761606734508915, Average ret: 13.33, Average steps: 5.87, Num_states: 771654\n"
     ]
    },
    {
     "name": "stderr",
     "output_type": "stream",
     "text": [
      "  1%|▊                                                                    | 118088/10000000 [03:17<3:35:59, 762.53it/s]"
     ]
    },
    {
     "name": "stdout",
     "output_type": "stream",
     "text": [
      "\n",
      "Average td error: 2.4781, STD of STD: 0.0029813061088052426, Average ret: 12.82, Average steps: 6.02, Num_states: 775116\n"
     ]
    },
    {
     "name": "stderr",
     "output_type": "stream",
     "text": [
      "  1%|▊                                                                   | 119130/10000000 [03:18<2:38:01, 1042.17it/s]"
     ]
    },
    {
     "name": "stdout",
     "output_type": "stream",
     "text": [
      "\n",
      "Average td error: 2.6800, STD of STD: 0.003605360434436225, Average ret: 12.39, Average steps: 6.09, Num_states: 778681\n"
     ]
    },
    {
     "name": "stderr",
     "output_type": "stream",
     "text": [
      "  1%|▊                                                                    | 120165/10000000 [03:19<3:14:14, 847.75it/s]"
     ]
    },
    {
     "name": "stdout",
     "output_type": "stream",
     "text": [
      "\n",
      "Average td error: 2.6446, STD of STD: 0.0036860830137246297, Average ret: 12.58, Average steps: 6.05, Num_states: 782178\n"
     ]
    },
    {
     "name": "stderr",
     "output_type": "stream",
     "text": [
      "  1%|▊                                                                    | 121163/10000000 [03:20<3:13:26, 851.16it/s]"
     ]
    },
    {
     "name": "stdout",
     "output_type": "stream",
     "text": [
      "\n",
      "Average td error: 2.6677, STD of STD: 0.003561796140781919, Average ret: 12.30, Average steps: 6.12, Num_states: 785771\n"
     ]
    },
    {
     "name": "stderr",
     "output_type": "stream",
     "text": [
      "  1%|▊                                                                   | 122143/10000000 [03:21<2:34:22, 1066.39it/s]"
     ]
    },
    {
     "name": "stdout",
     "output_type": "stream",
     "text": [
      "\n",
      "Average td error: 2.4312, STD of STD: 0.0025649816514784545, Average ret: 11.30, Average steps: 6.37, Num_states: 789619\n"
     ]
    },
    {
     "name": "stderr",
     "output_type": "stream",
     "text": [
      "  1%|▊                                                                   | 123244/10000000 [03:22<1:48:09, 1521.90it/s]"
     ]
    },
    {
     "name": "stdout",
     "output_type": "stream",
     "text": [
      "\n",
      "Average td error: 1.9990, STD of STD: 0.00034631561992023963, Average ret: 17.34, Average steps: 4.92, Num_states: 792023\n"
     ]
    },
    {
     "name": "stderr",
     "output_type": "stream",
     "text": [
      "  1%|▊                                                                   | 124326/10000000 [03:23<1:46:45, 1541.67it/s]"
     ]
    },
    {
     "name": "stdout",
     "output_type": "stream",
     "text": [
      "\n",
      "Average td error: 2.6491, STD of STD: 0.0012461844823213873, Average ret: 19.46, Average steps: 4.39, Num_states: 793938\n"
     ]
    },
    {
     "name": "stderr",
     "output_type": "stream",
     "text": [
      "  1%|▊                                                                   | 125238/10000000 [03:24<1:59:33, 1376.49it/s]"
     ]
    },
    {
     "name": "stdout",
     "output_type": "stream",
     "text": [
      "\n",
      "Average td error: 2.2402, STD of STD: 0.0004398822323503172, Average ret: 19.02, Average steps: 4.50, Num_states: 795966\n"
     ]
    },
    {
     "name": "stderr",
     "output_type": "stream",
     "text": [
      "  1%|▊                                                                   | 126305/10000000 [03:24<1:57:21, 1402.17it/s]"
     ]
    },
    {
     "name": "stdout",
     "output_type": "stream",
     "text": [
      "\n",
      "Average td error: 2.0812, STD of STD: 0.0005858942005351774, Average ret: 19.51, Average steps: 4.37, Num_states: 797895\n"
     ]
    },
    {
     "name": "stderr",
     "output_type": "stream",
     "text": [
      "  1%|▊                                                                   | 127139/10000000 [03:25<2:14:56, 1219.44it/s]"
     ]
    },
    {
     "name": "stdout",
     "output_type": "stream",
     "text": [
      "\n",
      "Average td error: 2.7163, STD of STD: 0.001637552468669624, Average ret: 19.19, Average steps: 4.45, Num_states: 799884\n"
     ]
    },
    {
     "name": "stderr",
     "output_type": "stream",
     "text": [
      "  1%|▊                                                                   | 128276/10000000 [03:26<1:46:43, 1541.73it/s]"
     ]
    },
    {
     "name": "stdout",
     "output_type": "stream",
     "text": [
      "\n",
      "Average td error: 2.5182, STD of STD: 0.0007757831048373063, Average ret: 20.07, Average steps: 4.23, Num_states: 801680\n"
     ]
    },
    {
     "name": "stderr",
     "output_type": "stream",
     "text": [
      "  1%|▉                                                                   | 129171/10000000 [03:27<2:00:33, 1364.58it/s]"
     ]
    },
    {
     "name": "stdout",
     "output_type": "stream",
     "text": [
      "\n",
      "Average td error: 2.3995, STD of STD: 0.0011259654025461859, Average ret: 19.78, Average steps: 4.31, Num_states: 803523\n"
     ]
    },
    {
     "name": "stderr",
     "output_type": "stream",
     "text": [
      "  1%|▉                                                                   | 130099/10000000 [03:27<1:58:17, 1390.57it/s]"
     ]
    },
    {
     "name": "stdout",
     "output_type": "stream",
     "text": [
      "\n",
      "Average td error: 2.4219, STD of STD: 0.0008809809349246345, Average ret: 19.15, Average steps: 4.46, Num_states: 805518\n"
     ]
    },
    {
     "name": "stderr",
     "output_type": "stream",
     "text": [
      "  1%|▉                                                                   | 131167/10000000 [03:28<1:47:12, 1534.32it/s]"
     ]
    },
    {
     "name": "stdout",
     "output_type": "stream",
     "text": [
      "\n",
      "Average td error: 2.2393, STD of STD: 0.0010418358378213183, Average ret: 19.28, Average steps: 4.42, Num_states: 807466\n"
     ]
    },
    {
     "name": "stderr",
     "output_type": "stream",
     "text": [
      "  1%|▉                                                                   | 132153/10000000 [03:29<1:51:01, 1481.39it/s]"
     ]
    },
    {
     "name": "stdout",
     "output_type": "stream",
     "text": [
      "\n",
      "Average td error: 2.4248, STD of STD: 0.0011772525238542347, Average ret: 20.70, Average steps: 4.11, Num_states: 809096\n"
     ]
    },
    {
     "name": "stderr",
     "output_type": "stream",
     "text": [
      "  1%|▉                                                                   | 133205/10000000 [03:30<2:05:30, 1310.21it/s]"
     ]
    },
    {
     "name": "stdout",
     "output_type": "stream",
     "text": [
      "\n",
      "Average td error: 2.7078, STD of STD: 0.0017272477070207248, Average ret: 18.80, Average steps: 4.54, Num_states: 811184\n"
     ]
    },
    {
     "name": "stderr",
     "output_type": "stream",
     "text": [
      "  1%|▉                                                                   | 134190/10000000 [03:30<1:57:33, 1398.74it/s]"
     ]
    },
    {
     "name": "stdout",
     "output_type": "stream",
     "text": [
      "\n",
      "Average td error: 2.4424, STD of STD: 0.0008162954787770622, Average ret: 19.55, Average steps: 4.36, Num_states: 813080\n"
     ]
    },
    {
     "name": "stderr",
     "output_type": "stream",
     "text": [
      "  1%|▉                                                                   | 135200/10000000 [03:31<1:54:48, 1432.08it/s]"
     ]
    },
    {
     "name": "stdout",
     "output_type": "stream",
     "text": [
      "\n",
      "Average td error: 2.1222, STD of STD: 0.0004758947162824463, Average ret: 19.32, Average steps: 4.41, Num_states: 815034\n"
     ]
    },
    {
     "name": "stderr",
     "output_type": "stream",
     "text": [
      "  1%|▉                                                                   | 136158/10000000 [03:32<2:19:49, 1175.70it/s]"
     ]
    },
    {
     "name": "stdout",
     "output_type": "stream",
     "text": [
      "\n",
      "Average td error: 2.3860, STD of STD: 0.0008139953378496199, Average ret: 18.63, Average steps: 4.59, Num_states: 817138\n"
     ]
    },
    {
     "name": "stderr",
     "output_type": "stream",
     "text": [
      "  1%|▉                                                                   | 137235/10000000 [03:33<2:16:04, 1208.03it/s]"
     ]
    },
    {
     "name": "stdout",
     "output_type": "stream",
     "text": [
      "\n",
      "Average td error: 2.0473, STD of STD: 0.0005994780264470362, Average ret: 19.63, Average steps: 4.34, Num_states: 819018\n"
     ]
    },
    {
     "name": "stderr",
     "output_type": "stream",
     "text": [
      "  1%|▉                                                                   | 138248/10000000 [03:34<2:17:43, 1193.46it/s]"
     ]
    },
    {
     "name": "stdout",
     "output_type": "stream",
     "text": [
      "\n",
      "Average td error: 2.6686, STD of STD: 0.0012877705161871379, Average ret: 19.21, Average steps: 4.46, Num_states: 821004\n"
     ]
    },
    {
     "name": "stderr",
     "output_type": "stream",
     "text": [
      "  1%|▉                                                                   | 139159/10000000 [03:34<2:05:32, 1309.19it/s]"
     ]
    },
    {
     "name": "stdout",
     "output_type": "stream",
     "text": [
      "\n",
      "Average td error: 2.1822, STD of STD: 0.0005152445228059574, Average ret: 19.90, Average steps: 4.28, Num_states: 822809\n"
     ]
    },
    {
     "name": "stderr",
     "output_type": "stream",
     "text": [
      "  1%|▉                                                                   | 140239/10000000 [03:35<1:48:52, 1509.32it/s]"
     ]
    },
    {
     "name": "stdout",
     "output_type": "stream",
     "text": [
      "\n",
      "Average td error: 2.2965, STD of STD: 0.0008930819389297109, Average ret: 19.18, Average steps: 4.46, Num_states: 824786\n"
     ]
    },
    {
     "name": "stderr",
     "output_type": "stream",
     "text": [
      "  1%|▉                                                                   | 141320/10000000 [03:36<1:52:45, 1457.22it/s]"
     ]
    },
    {
     "name": "stdout",
     "output_type": "stream",
     "text": [
      "\n",
      "Average td error: 1.8037, STD of STD: 0.0009574713929603112, Average ret: 19.44, Average steps: 4.41, Num_states: 826696\n"
     ]
    },
    {
     "name": "stderr",
     "output_type": "stream",
     "text": [
      "  1%|▉                                                                   | 142192/10000000 [03:37<1:58:22, 1387.95it/s]"
     ]
    },
    {
     "name": "stdout",
     "output_type": "stream",
     "text": [
      "\n",
      "Average td error: 2.0949, STD of STD: 0.00035716092188608454, Average ret: 19.59, Average steps: 4.35, Num_states: 828597\n"
     ]
    },
    {
     "name": "stderr",
     "output_type": "stream",
     "text": [
      "  1%|▉                                                                   | 143132/10000000 [03:37<2:05:11, 1312.29it/s]"
     ]
    },
    {
     "name": "stdout",
     "output_type": "stream",
     "text": [
      "\n",
      "Average td error: 2.5597, STD of STD: 0.0011796848386395507, Average ret: 19.41, Average steps: 4.41, Num_states: 830517\n"
     ]
    },
    {
     "name": "stderr",
     "output_type": "stream",
     "text": [
      "  1%|▉                                                                   | 144281/10000000 [03:38<1:57:34, 1397.13it/s]"
     ]
    },
    {
     "name": "stdout",
     "output_type": "stream",
     "text": [
      "\n",
      "Average td error: 2.2957, STD of STD: 0.0010248380897357112, Average ret: 18.33, Average steps: 4.68, Num_states: 832702\n"
     ]
    },
    {
     "name": "stderr",
     "output_type": "stream",
     "text": [
      "  1%|▉                                                                   | 145286/10000000 [03:39<2:02:15, 1343.41it/s]"
     ]
    },
    {
     "name": "stdout",
     "output_type": "stream",
     "text": [
      "\n",
      "Average td error: 2.0499, STD of STD: 0.0005461392041806153, Average ret: 19.22, Average steps: 4.45, Num_states: 834680\n"
     ]
    },
    {
     "name": "stderr",
     "output_type": "stream",
     "text": [
      "  1%|▉                                                                   | 146263/10000000 [03:40<1:55:04, 1427.12it/s]"
     ]
    },
    {
     "name": "stdout",
     "output_type": "stream",
     "text": [
      "\n",
      "Average td error: 2.4586, STD of STD: 0.0007121864520786126, Average ret: 19.69, Average steps: 4.34, Num_states: 836548\n"
     ]
    },
    {
     "name": "stderr",
     "output_type": "stream",
     "text": [
      "  1%|█                                                                   | 147090/10000000 [03:40<2:08:01, 1282.68it/s]"
     ]
    },
    {
     "name": "stdout",
     "output_type": "stream",
     "text": [
      "\n",
      "Average td error: 2.1700, STD of STD: 0.00038350161228076104, Average ret: 20.14, Average steps: 4.22, Num_states: 838313\n"
     ]
    },
    {
     "name": "stderr",
     "output_type": "stream",
     "text": [
      "  1%|█                                                                   | 148088/10000000 [03:41<2:03:25, 1330.41it/s]"
     ]
    },
    {
     "name": "stdout",
     "output_type": "stream",
     "text": [
      "\n",
      "Average td error: 1.8151, STD of STD: 0.0008512360436982208, Average ret: 19.56, Average steps: 4.38, Num_states: 840206\n"
     ]
    },
    {
     "name": "stderr",
     "output_type": "stream",
     "text": [
      "  1%|█                                                                   | 149135/10000000 [03:42<2:08:26, 1278.32it/s]"
     ]
    },
    {
     "name": "stdout",
     "output_type": "stream",
     "text": [
      "\n",
      "Average td error: 2.2926, STD of STD: 0.0005823207599807155, Average ret: 19.62, Average steps: 4.34, Num_states: 842075\n"
     ]
    },
    {
     "name": "stderr",
     "output_type": "stream",
     "text": [
      "  2%|█                                                                   | 150182/10000000 [03:43<2:24:49, 1133.57it/s]"
     ]
    },
    {
     "name": "stdout",
     "output_type": "stream",
     "text": [
      "\n",
      "Average td error: 2.0203, STD of STD: 0.0004954996614107679, Average ret: 20.13, Average steps: 4.23, Num_states: 843826\n"
     ]
    },
    {
     "name": "stderr",
     "output_type": "stream",
     "text": [
      "  2%|█                                                                   | 151122/10000000 [03:44<2:16:07, 1205.83it/s]"
     ]
    },
    {
     "name": "stdout",
     "output_type": "stream",
     "text": [
      "\n",
      "Average td error: 2.0988, STD of STD: 0.0003443633191983841, Average ret: 19.00, Average steps: 4.51, Num_states: 845849\n"
     ]
    },
    {
     "name": "stderr",
     "output_type": "stream",
     "text": [
      "  2%|█                                                                   | 152168/10000000 [03:44<1:33:22, 1757.65it/s]"
     ]
    },
    {
     "name": "stdout",
     "output_type": "stream",
     "text": [
      "\n",
      "Average td error: 1.0835, STD of STD: 0.0025570216366801613, Average ret: 20.26, Average steps: 4.22, Num_states: 847574\n"
     ]
    },
    {
     "name": "stderr",
     "output_type": "stream",
     "text": [
      "  2%|█                                                                   | 153127/10000000 [03:45<1:42:14, 1605.26it/s]"
     ]
    },
    {
     "name": "stdout",
     "output_type": "stream",
     "text": [
      "\n",
      "Average td error: 0.5521, STD of STD: 0.002591030304701378, Average ret: 22.31, Average steps: 3.73, Num_states: 848831\n"
     ]
    },
    {
     "name": "stderr",
     "output_type": "stream",
     "text": [
      "  2%|█                                                                   | 154205/10000000 [03:45<1:21:13, 2020.14it/s]"
     ]
    },
    {
     "name": "stdout",
     "output_type": "stream",
     "text": [
      "\n",
      "Average td error: 0.5071, STD of STD: 0.0026952361036927373, Average ret: 22.79, Average steps: 3.62, Num_states: 849993\n"
     ]
    },
    {
     "name": "stderr",
     "output_type": "stream",
     "text": [
      "  2%|█                                                                   | 155227/10000000 [03:46<1:28:49, 1847.28it/s]"
     ]
    },
    {
     "name": "stdout",
     "output_type": "stream",
     "text": [
      "\n",
      "Average td error: 0.5401, STD of STD: 0.002711604466128305, Average ret: 22.64, Average steps: 3.64, Num_states: 851168\n"
     ]
    },
    {
     "name": "stderr",
     "output_type": "stream",
     "text": [
      "  2%|█                                                                   | 156179/10000000 [03:46<1:15:47, 2164.47it/s]"
     ]
    },
    {
     "name": "stdout",
     "output_type": "stream",
     "text": [
      "\n",
      "Average td error: 0.4729, STD of STD: 0.0026663455811490673, Average ret: 23.49, Average steps: 3.45, Num_states: 852151\n"
     ]
    },
    {
     "name": "stderr",
     "output_type": "stream",
     "text": [
      "  2%|█                                                                   | 157343/10000000 [03:47<1:33:27, 1755.19it/s]"
     ]
    },
    {
     "name": "stdout",
     "output_type": "stream",
     "text": [
      "\n",
      "Average td error: 0.5230, STD of STD: 0.002687850174213901, Average ret: 22.78, Average steps: 3.62, Num_states: 853296\n"
     ]
    },
    {
     "name": "stderr",
     "output_type": "stream",
     "text": [
      "  2%|█                                                                   | 158215/10000000 [03:48<1:22:28, 1988.93it/s]"
     ]
    },
    {
     "name": "stdout",
     "output_type": "stream",
     "text": [
      "\n",
      "Average td error: 0.5638, STD of STD: 0.0026873303601588428, Average ret: 22.22, Average steps: 3.76, Num_states: 854575\n"
     ]
    },
    {
     "name": "stderr",
     "output_type": "stream",
     "text": [
      "  2%|█                                                                   | 159331/10000000 [03:48<1:21:52, 2003.02it/s]"
     ]
    },
    {
     "name": "stdout",
     "output_type": "stream",
     "text": [
      "\n",
      "Average td error: 0.5027, STD of STD: 0.0026299346427182484, Average ret: 23.18, Average steps: 3.52, Num_states: 855616\n"
     ]
    },
    {
     "name": "stderr",
     "output_type": "stream",
     "text": [
      "  2%|█                                                                   | 160068/10000000 [03:48<1:21:08, 2021.26it/s]"
     ]
    },
    {
     "name": "stdout",
     "output_type": "stream",
     "text": [
      "\n",
      "Average td error: 0.4817, STD of STD: 0.0026239377213635616, Average ret: 23.66, Average steps: 3.43, Num_states: 856553\n"
     ]
    },
    {
     "name": "stderr",
     "output_type": "stream",
     "text": [
      "  2%|█                                                                   | 161127/10000000 [03:49<1:27:18, 1878.10it/s]"
     ]
    },
    {
     "name": "stdout",
     "output_type": "stream",
     "text": [
      "\n",
      "Average td error: 0.5132, STD of STD: 0.0026203546409425383, Average ret: 22.88, Average steps: 3.58, Num_states: 857672\n"
     ]
    },
    {
     "name": "stderr",
     "output_type": "stream",
     "text": [
      "  2%|█                                                                   | 162347/10000000 [03:50<1:30:24, 1813.42it/s]"
     ]
    },
    {
     "name": "stdout",
     "output_type": "stream",
     "text": [
      "\n",
      "Average td error: 0.5000, STD of STD: 0.0026112180288287044, Average ret: 22.99, Average steps: 3.56, Num_states: 858784\n"
     ]
    },
    {
     "name": "stderr",
     "output_type": "stream",
     "text": [
      "  2%|█                                                                   | 163386/10000000 [03:50<1:26:10, 1902.30it/s]"
     ]
    },
    {
     "name": "stdout",
     "output_type": "stream",
     "text": [
      "\n",
      "Average td error: 0.4796, STD of STD: 0.002572078074188536, Average ret: 23.07, Average steps: 3.57, Num_states: 859842\n"
     ]
    },
    {
     "name": "stderr",
     "output_type": "stream",
     "text": [
      "  2%|█                                                                   | 164223/10000000 [03:51<1:29:56, 1822.78it/s]"
     ]
    },
    {
     "name": "stdout",
     "output_type": "stream",
     "text": [
      "\n",
      "Average td error: 0.4318, STD of STD: 0.002521392881583355, Average ret: 23.18, Average steps: 3.52, Num_states: 860891\n"
     ]
    },
    {
     "name": "stderr",
     "output_type": "stream",
     "text": [
      "  2%|█                                                                   | 165199/10000000 [03:51<1:28:42, 1847.92it/s]"
     ]
    },
    {
     "name": "stdout",
     "output_type": "stream",
     "text": [
      "\n",
      "Average td error: 0.5340, STD of STD: 0.002572652303181482, Average ret: 22.02, Average steps: 3.83, Num_states: 862205\n"
     ]
    },
    {
     "name": "stderr",
     "output_type": "stream",
     "text": [
      "  2%|█▏                                                                  | 166203/10000000 [03:52<1:28:16, 1856.76it/s]"
     ]
    },
    {
     "name": "stdout",
     "output_type": "stream",
     "text": [
      "\n",
      "Average td error: 0.4808, STD of STD: 0.002536248675557299, Average ret: 22.81, Average steps: 3.62, Num_states: 863347\n"
     ]
    },
    {
     "name": "stderr",
     "output_type": "stream",
     "text": [
      "  2%|█▏                                                                  | 167323/10000000 [03:53<1:34:58, 1725.38it/s]"
     ]
    },
    {
     "name": "stdout",
     "output_type": "stream",
     "text": [
      "\n",
      "Average td error: 0.5023, STD of STD: 0.0025318056009411187, Average ret: 23.29, Average steps: 3.50, Num_states: 864370\n"
     ]
    },
    {
     "name": "stderr",
     "output_type": "stream",
     "text": [
      "  2%|█▏                                                                  | 168225/10000000 [03:53<1:53:52, 1438.97it/s]"
     ]
    },
    {
     "name": "stdout",
     "output_type": "stream",
     "text": [
      "\n",
      "Average td error: 0.5385, STD of STD: 0.0025520245836558315, Average ret: 22.69, Average steps: 3.65, Num_states: 865534\n"
     ]
    },
    {
     "name": "stderr",
     "output_type": "stream",
     "text": [
      "  2%|█▏                                                                  | 169286/10000000 [03:54<1:52:44, 1453.20it/s]"
     ]
    },
    {
     "name": "stdout",
     "output_type": "stream",
     "text": [
      "\n",
      "Average td error: 0.5263, STD of STD: 0.0025214634521013423, Average ret: 22.33, Average steps: 3.74, Num_states: 866797\n"
     ]
    },
    {
     "name": "stderr",
     "output_type": "stream",
     "text": [
      "  2%|█▏                                                                  | 170326/10000000 [03:55<1:24:16, 1944.02it/s]"
     ]
    },
    {
     "name": "stdout",
     "output_type": "stream",
     "text": [
      "\n",
      "Average td error: 0.5158, STD of STD: 0.0022319421571281996, Average ret: 22.67, Average steps: 3.64, Num_states: 867980\n"
     ]
    },
    {
     "name": "stderr",
     "output_type": "stream",
     "text": [
      "  2%|█▏                                                                  | 171252/10000000 [03:55<1:41:28, 1614.19it/s]"
     ]
    },
    {
     "name": "stdout",
     "output_type": "stream",
     "text": [
      "\n",
      "Average td error: 0.5884, STD of STD: 0.0025419812288223218, Average ret: 22.17, Average steps: 3.78, Num_states: 869286\n"
     ]
    },
    {
     "name": "stderr",
     "output_type": "stream",
     "text": [
      "  2%|█▏                                                                  | 172273/10000000 [03:56<1:22:31, 1984.83it/s]"
     ]
    },
    {
     "name": "stdout",
     "output_type": "stream",
     "text": [
      "\n",
      "Average td error: 0.5339, STD of STD: 0.0024987340884708906, Average ret: 22.49, Average steps: 3.70, Num_states: 870500\n"
     ]
    },
    {
     "name": "stderr",
     "output_type": "stream",
     "text": [
      "  2%|█▏                                                                  | 173214/10000000 [03:56<1:39:53, 1639.68it/s]"
     ]
    },
    {
     "name": "stdout",
     "output_type": "stream",
     "text": [
      "\n",
      "Average td error: 0.4951, STD of STD: 0.0024497012304574186, Average ret: 23.17, Average steps: 3.53, Num_states: 871554\n"
     ]
    },
    {
     "name": "stderr",
     "output_type": "stream",
     "text": [
      "  2%|█▏                                                                  | 174266/10000000 [03:57<1:22:52, 1976.21it/s]"
     ]
    },
    {
     "name": "stdout",
     "output_type": "stream",
     "text": [
      "\n",
      "Average td error: 0.4891, STD of STD: 0.0024114691035897217, Average ret: 22.93, Average steps: 3.59, Num_states: 872670\n"
     ]
    },
    {
     "name": "stderr",
     "output_type": "stream",
     "text": [
      "  2%|█▏                                                                  | 175242/10000000 [03:57<1:30:02, 1818.68it/s]"
     ]
    },
    {
     "name": "stdout",
     "output_type": "stream",
     "text": [
      "\n",
      "Average td error: 0.5902, STD of STD: 0.002503532034482624, Average ret: 22.72, Average steps: 3.65, Num_states: 873838\n"
     ]
    },
    {
     "name": "stderr",
     "output_type": "stream",
     "text": [
      "  2%|█▏                                                                  | 176326/10000000 [03:58<1:31:09, 1796.11it/s]"
     ]
    },
    {
     "name": "stdout",
     "output_type": "stream",
     "text": [
      "\n",
      "Average td error: 0.5213, STD of STD: 0.0022769308542783624, Average ret: 22.80, Average steps: 3.63, Num_states: 874982\n"
     ]
    },
    {
     "name": "stderr",
     "output_type": "stream",
     "text": [
      "  2%|█▏                                                                  | 177287/10000000 [03:58<1:28:11, 1856.32it/s]"
     ]
    },
    {
     "name": "stdout",
     "output_type": "stream",
     "text": [
      "\n",
      "Average td error: 0.4576, STD of STD: 0.00238226938937551, Average ret: 23.61, Average steps: 3.42, Num_states: 875934\n"
     ]
    },
    {
     "name": "stderr",
     "output_type": "stream",
     "text": [
      "  2%|█▏                                                                  | 178229/10000000 [03:59<1:34:12, 1737.48it/s]"
     ]
    },
    {
     "name": "stdout",
     "output_type": "stream",
     "text": [
      "\n",
      "Average td error: 0.4963, STD of STD: 0.002384811166204972, Average ret: 23.00, Average steps: 3.58, Num_states: 877016\n"
     ]
    },
    {
     "name": "stderr",
     "output_type": "stream",
     "text": [
      "  2%|█▏                                                                  | 179316/10000000 [04:00<1:22:33, 1982.64it/s]"
     ]
    },
    {
     "name": "stdout",
     "output_type": "stream",
     "text": [
      "\n",
      "Average td error: 0.5734, STD of STD: 0.002328139491810046, Average ret: 22.71, Average steps: 3.66, Num_states: 878180\n"
     ]
    },
    {
     "name": "stderr",
     "output_type": "stream",
     "text": [
      "  2%|█▏                                                                  | 180361/10000000 [04:00<1:22:46, 1977.05it/s]"
     ]
    },
    {
     "name": "stdout",
     "output_type": "stream",
     "text": [
      "\n",
      "Average td error: 0.5580, STD of STD: 0.002409138649985928, Average ret: 22.56, Average steps: 3.66, Num_states: 879391\n"
     ]
    },
    {
     "name": "stderr",
     "output_type": "stream",
     "text": [
      "  2%|█▏                                                                   | 180624/10000000 [04:00<3:38:15, 749.84it/s]\n"
     ]
    },
    {
     "ename": "KeyboardInterrupt",
     "evalue": "",
     "output_type": "error",
     "traceback": [
      "\u001b[1;31m---------------------------------------------------------------------------\u001b[0m",
      "\u001b[1;31mKeyboardInterrupt\u001b[0m                         Traceback (most recent call last)",
      "Cell \u001b[1;32mIn[8], line 10\u001b[0m\n\u001b[0;32m      7\u001b[0m env\u001b[38;5;241m.\u001b[39mrender()\n\u001b[0;32m      9\u001b[0m agent \u001b[38;5;241m=\u001b[39m q_agent(env, env\u001b[38;5;241m.\u001b[39mstate_dim, env\u001b[38;5;241m.\u001b[39maction_dim, epsilon\u001b[38;5;241m=\u001b[39m\u001b[38;5;241m0.05\u001b[39m, gamma\u001b[38;5;241m=\u001b[39m\u001b[38;5;241m1\u001b[39m, alpha\u001b[38;5;241m=\u001b[39m\u001b[38;5;241m0.2\u001b[39m, tol\u001b[38;5;241m=\u001b[39m\u001b[38;5;241m1e-7\u001b[39m)\n\u001b[1;32m---> 10\u001b[0m q \u001b[38;5;241m=\u001b[39m \u001b[43magent\u001b[49m\u001b[38;5;241;43m.\u001b[39;49m\u001b[43mtrain\u001b[49m\u001b[43m(\u001b[49m\u001b[38;5;28;43mint\u001b[39;49m\u001b[43m(\u001b[49m\u001b[38;5;241;43m1e7\u001b[39;49m\u001b[43m)\u001b[49m\u001b[43m)\u001b[49m\n",
      "File \u001b[1;32m~\\OneDrive\\Documents\\PhD\\Year 1\\Research\\matermind_wordle\\q_agent.py:86\u001b[0m, in \u001b[0;36mq_agent.train\u001b[1;34m(self, num_episodes, scale)\u001b[0m\n\u001b[0;32m     84\u001b[0m action \u001b[38;5;241m=\u001b[39m \u001b[38;5;28mself\u001b[39m\u001b[38;5;241m.\u001b[39mchoose_action(state)\n\u001b[0;32m     85\u001b[0m new_state, reward, done, _ \u001b[38;5;241m=\u001b[39m \u001b[38;5;28mself\u001b[39m\u001b[38;5;241m.\u001b[39menv\u001b[38;5;241m.\u001b[39mstep(action)\n\u001b[1;32m---> 86\u001b[0m update \u001b[38;5;241m=\u001b[39m \u001b[38;5;28;43mself\u001b[39;49m\u001b[38;5;241;43m.\u001b[39;49m\u001b[43mupdate\u001b[49m\u001b[43m(\u001b[49m\u001b[43mstate\u001b[49m\u001b[43m,\u001b[49m\u001b[43m \u001b[49m\u001b[43maction\u001b[49m\u001b[43m,\u001b[49m\u001b[43m \u001b[49m\u001b[43mnew_state\u001b[49m\u001b[43m,\u001b[49m\u001b[43m \u001b[49m\u001b[43mreward\u001b[49m\u001b[43m,\u001b[49m\u001b[43m \u001b[49m\u001b[43mdone\u001b[49m\u001b[43m)\u001b[49m\n\u001b[0;32m     87\u001b[0m state \u001b[38;5;241m=\u001b[39m new_state\n\u001b[0;32m     89\u001b[0m ret \u001b[38;5;241m+\u001b[39m\u001b[38;5;241m=\u001b[39m reward\n",
      "File \u001b[1;32m~\\OneDrive\\Documents\\PhD\\Year 1\\Research\\matermind_wordle\\q_agent.py:52\u001b[0m, in \u001b[0;36mq_agent.update\u001b[1;34m(self, state, action, new_state, reward, done)\u001b[0m\n\u001b[0;32m     48\u001b[0m \u001b[38;5;28;01mdef\u001b[39;00m \u001b[38;5;21mupdate\u001b[39m(\u001b[38;5;28mself\u001b[39m, state, action, new_state, reward, done):\n\u001b[0;32m     49\u001b[0m \n\u001b[0;32m     50\u001b[0m     \u001b[38;5;66;03m# I don't want terminal state to ever appear in q_table\u001b[39;00m\n\u001b[0;32m     51\u001b[0m     \u001b[38;5;28;01mif\u001b[39;00m done: q_max \u001b[38;5;241m=\u001b[39m \u001b[38;5;241m0\u001b[39m\n\u001b[1;32m---> 52\u001b[0m     \u001b[38;5;28;01melse\u001b[39;00m: q_max \u001b[38;5;241m=\u001b[39m \u001b[38;5;28;43mself\u001b[39;49m\u001b[38;5;241;43m.\u001b[39;49m\u001b[43mQ_table\u001b[49m\u001b[43m[\u001b[49m\u001b[38;5;28;43mtuple\u001b[39;49m\u001b[43m(\u001b[49m\u001b[43mnew_state\u001b[49m\u001b[43m)\u001b[49m\u001b[43m]\u001b[49m\u001b[38;5;241m.\u001b[39mmax()\n\u001b[0;32m     54\u001b[0m     \u001b[38;5;66;03m# Usual update, for only valid \"actions\"\u001b[39;00m\n\u001b[0;32m     55\u001b[0m     td_error \u001b[38;5;241m=\u001b[39m reward \u001b[38;5;241m+\u001b[39m \u001b[38;5;28mself\u001b[39m\u001b[38;5;241m.\u001b[39mgamma \u001b[38;5;241m*\u001b[39m q_max \u001b[38;5;241m-\u001b[39m \u001b[38;5;28mself\u001b[39m\u001b[38;5;241m.\u001b[39mQ_table[\u001b[38;5;28mtuple\u001b[39m(state)][action]\n",
      "File \u001b[1;32m~\\OneDrive\\Documents\\PhD\\Year 1\\Research\\matermind_wordle\\q_agent.py:23\u001b[0m, in \u001b[0;36mq_agent.__init__.<locals>.<lambda>\u001b[1;34m()\u001b[0m\n\u001b[0;32m     20\u001b[0m \u001b[38;5;66;03m# Environment and coalition\u001b[39;00m\n\u001b[0;32m     21\u001b[0m \u001b[38;5;28mself\u001b[39m\u001b[38;5;241m.\u001b[39menv \u001b[38;5;241m=\u001b[39m env\n\u001b[1;32m---> 23\u001b[0m \u001b[38;5;28mself\u001b[39m\u001b[38;5;241m.\u001b[39mQ_table \u001b[38;5;241m=\u001b[39m defaultdict(\u001b[38;5;28;01mlambda\u001b[39;00m: \u001b[43mnp\u001b[49m\u001b[38;5;241;43m.\u001b[39;49m\u001b[43mzeros\u001b[49m\u001b[43m(\u001b[49m\u001b[38;5;28;43mself\u001b[39;49m\u001b[38;5;241;43m.\u001b[39;49m\u001b[43maction_dim\u001b[49m\u001b[43m)\u001b[49m)\n",
      "\u001b[1;31mKeyboardInterrupt\u001b[0m: "
     ]
    }
   ],
   "source": [
    "# # action_type, 'guess': take an entire guess, 'peg': choose the colour of the next peg\n",
    "# # reward_struc, 'basic': -1 a step and +30 for finishing, 'clues': get rewarded for the clues\n",
    "\n",
    "# env = mastermind(action_type='guess', reward_struc='basic', num_goals=10)\n",
    "# env.reset()\n",
    "# env.render()\n",
    "\n",
    "# agent = q_agent(env, env.state_dim, env.action_dim, epsilon=0.05, gamma=1, alpha=0.2, tol=1e-7)\n",
    "# q = agent.train(int(1e7))"
   ]
  },
  {
   "cell_type": "markdown",
   "id": "f42b6cff",
   "metadata": {},
   "source": [
    "# Test episode"
   ]
  },
  {
   "cell_type": "code",
   "execution_count": 4,
   "id": "b66d23eb",
   "metadata": {
    "scrolled": true
   },
   "outputs": [
    {
     "name": "stdout",
     "output_type": "stream",
     "text": [
      "['G' 'G' 'K' 'G'] \n",
      "\n",
      "[['0' ' ' ' ' ' ' ' ' '0']\n",
      " ['0' ' ' ' ' ' ' ' ' '0']\n",
      " ['0' ' ' ' ' ' ' ' ' '0']\n",
      " ['0' ' ' ' ' ' ' ' ' '0']\n",
      " ['0' ' ' ' ' ' ' ' ' '0']\n",
      " ['0' ' ' ' ' ' ' ' ' '0']\n",
      " ['0' ' ' ' ' ' ' ' ' '0']\n",
      " ['0' ' ' ' ' ' ' ' ' '0']\n",
      " ['0' ' ' ' ' ' ' ' ' '0']\n",
      " ['0' 'G' 'G' 'K' 'G' '4']\n",
      " ['0' 'O' 'R' 'Y' 'B' '0']\n",
      " ['0' 'O' 'R' 'Y' 'B' '0']]\n",
      "27\n",
      "\n",
      "\n",
      "\n",
      "['O' 'Y' 'G' 'G'] \n",
      "\n",
      "[['1' 'B' 'B' 'Y' 'R' '0']\n",
      " ['0' 'R' 'R' 'P' 'R' '0']\n",
      " ['0' 'R' 'R' 'P' 'R' '0']\n",
      " ['0' 'B' 'K' 'B' 'G' '1']\n",
      " ['0' 'B' 'K' 'B' 'G' '1']\n",
      " ['0' 'B' 'K' 'B' 'G' '1']\n",
      " ['0' 'R' 'R' 'P' 'R' '0']\n",
      " ['0' 'B' 'K' 'B' 'G' '1']\n",
      " ['0' 'B' 'K' 'B' 'G' '1']\n",
      " ['1' 'G' 'G' 'K' 'G' '1']\n",
      " ['1' 'O' 'R' 'Y' 'B' '1']\n",
      " ['1' 'O' 'R' 'Y' 'B' '1']]\n",
      "-12\n",
      "\n",
      "\n",
      "\n",
      "['P' 'B' 'Y' 'G'] \n",
      "\n",
      "[['0' 'B' 'B' 'Y' 'R' '2']\n",
      " ['1' 'R' 'R' 'P' 'R' '0']\n",
      " ['1' 'R' 'R' 'P' 'R' '0']\n",
      " ['1' 'B' 'K' 'B' 'G' '1']\n",
      " ['1' 'B' 'K' 'B' 'G' '1']\n",
      " ['1' 'B' 'K' 'B' 'G' '1']\n",
      " ['1' 'R' 'R' 'P' 'R' '0']\n",
      " ['1' 'B' 'K' 'B' 'G' '1']\n",
      " ['1' 'B' 'K' 'B' 'G' '1']\n",
      " ['0' 'G' 'G' 'K' 'G' '1']\n",
      " ['1' 'O' 'R' 'Y' 'B' '1']\n",
      " ['1' 'O' 'R' 'Y' 'B' '1']]\n",
      "-12\n",
      "\n",
      "\n",
      "\n",
      "['B' 'B' 'Y' 'R'] \n",
      "\n",
      "[['0' 'R' 'R' 'P' 'R' '1']\n",
      " ['0' 'R' 'R' 'P' 'R' '1']\n",
      " ['0' 'R' 'R' 'P' 'R' '1']\n",
      " ['0' 'R' 'R' 'P' 'R' '1']\n",
      " ['0' 'R' 'R' 'P' 'R' '1']\n",
      " ['1' 'B' 'K' 'B' 'G' '1']\n",
      " ['0' 'R' 'R' 'P' 'R' '1']\n",
      " ['1' 'B' 'K' 'B' 'G' '1']\n",
      " ['0' 'P' 'B' 'Y' 'G' '2']\n",
      " ['0' 'G' 'G' 'K' 'G' '0']\n",
      " ['2' 'O' 'R' 'Y' 'B' '1']\n",
      " ['2' 'O' 'R' 'Y' 'B' '1']]\n",
      "-12\n",
      "\n",
      "\n",
      "\n",
      "['G' 'K' 'O' 'O'] \n",
      "\n",
      "[['0' 'B' 'B' 'Y' 'R' '0']\n",
      " ['0' 'R' 'R' 'P' 'R' '0']\n",
      " ['0' 'R' 'R' 'P' 'R' '0']\n",
      " ['1' 'B' 'K' 'B' 'G' '1']\n",
      " ['1' 'B' 'K' 'B' 'G' '1']\n",
      " ['0' 'R' 'R' 'P' 'R' '0']\n",
      " ['0' 'R' 'R' 'P' 'R' '0']\n",
      " ['1' 'B' 'K' 'B' 'G' '1']\n",
      " ['1' 'B' 'K' 'B' 'G' '1']\n",
      " ['1' 'G' 'G' 'K' 'G' '1']\n",
      " ['1' 'O' 'R' 'Y' 'B' '0']\n",
      " ['1' 'O' 'R' 'Y' 'B' '0']]\n",
      "-12\n",
      "\n",
      "\n",
      "\n",
      "['G' 'G' 'R' 'O'] \n",
      "\n",
      "[['1' 'B' 'B' 'Y' 'R' '0']\n",
      " ['1' 'R' 'R' 'P' 'R' '0']\n",
      " ['1' 'R' 'R' 'P' 'R' '0']\n",
      " ['1' 'B' 'K' 'B' 'G' '0']\n",
      " ['1' 'B' 'K' 'B' 'G' '0']\n",
      " ['1' 'B' 'K' 'B' 'G' '0']\n",
      " ['1' 'R' 'R' 'P' 'R' '0']\n",
      " ['1' 'B' 'K' 'B' 'G' '0']\n",
      " ['1' 'B' 'K' 'B' 'G' '0']\n",
      " ['0' 'G' 'G' 'K' 'G' '2']\n",
      " ['2' 'O' 'R' 'Y' 'B' '0']\n",
      " ['2' 'O' 'R' 'Y' 'B' '0']]\n",
      "-12\n",
      "\n",
      "\n",
      "\n",
      "['P' 'B' 'O' 'B'] \n",
      "\n",
      "[['1' 'R' 'R' 'P' 'R' '0']\n",
      " ['1' 'R' 'R' 'P' 'R' '0']\n",
      " ['1' 'R' 'R' 'P' 'R' '0']\n",
      " ['1' 'R' 'R' 'P' 'R' '0']\n",
      " ['1' 'R' 'R' 'P' 'R' '0']\n",
      " ['2' 'B' 'K' 'B' 'G' '0']\n",
      " ['1' 'R' 'R' 'P' 'R' '0']\n",
      " ['2' 'B' 'K' 'B' 'G' '0']\n",
      " ['0' 'P' 'B' 'Y' 'G' '2']\n",
      " ['0' 'G' 'G' 'K' 'G' '0']\n",
      " ['1' 'O' 'R' 'Y' 'B' '1']\n",
      " ['1' 'O' 'R' 'Y' 'B' '1']]\n",
      "-12\n",
      "\n",
      "\n",
      "\n",
      "['O' 'R' 'Y' 'B'] \n",
      "\n",
      "[['0' ' ' ' ' ' ' ' ' '0']\n",
      " ['0' ' ' ' ' ' ' ' ' '0']\n",
      " ['0' ' ' ' ' ' ' ' ' '0']\n",
      " ['0' ' ' ' ' ' ' ' ' '0']\n",
      " ['0' ' ' ' ' ' ' ' ' '0']\n",
      " ['0' ' ' ' ' ' ' ' ' '0']\n",
      " ['0' ' ' ' ' ' ' ' ' '0']\n",
      " ['0' ' ' ' ' ' ' ' ' '0']\n",
      " ['0' ' ' ' ' ' ' ' ' '0']\n",
      " ['0' ' ' ' ' ' ' ' ' '0']\n",
      " ['0' ' ' ' ' ' ' ' ' '0']\n",
      " ['0' 'O' 'R' 'Y' 'B' '4']]\n",
      "29\n",
      "\n",
      "\n",
      "\n",
      "['B' 'K' 'B' 'G'] \n",
      "\n",
      "[['0' ' ' ' ' ' ' ' ' '0']\n",
      " ['0' ' ' ' ' ' ' ' ' '0']\n",
      " ['0' ' ' ' ' ' ' ' ' '0']\n",
      " ['0' ' ' ' ' ' ' ' ' '0']\n",
      " ['0' ' ' ' ' ' ' ' ' '0']\n",
      " ['0' ' ' ' ' ' ' ' ' '0']\n",
      " ['0' ' ' ' ' ' ' ' ' '0']\n",
      " ['0' ' ' ' ' ' ' ' ' '0']\n",
      " ['0' 'B' 'K' 'B' 'G' '4']\n",
      " ['1' 'G' 'G' 'K' 'G' '1']\n",
      " ['1' 'O' 'R' 'Y' 'B' '0']\n",
      " ['1' 'O' 'R' 'Y' 'B' '0']]\n",
      "26\n",
      "\n",
      "\n",
      "\n",
      "['R' 'R' 'P' 'R'] \n",
      "\n",
      "[['0' ' ' ' ' ' ' ' ' '0']\n",
      " ['0' ' ' ' ' ' ' ' ' '0']\n",
      " ['0' ' ' ' ' ' ' ' ' '0']\n",
      " ['0' ' ' ' ' ' ' ' ' '0']\n",
      " ['0' ' ' ' ' ' ' ' ' '0']\n",
      " ['0' ' ' ' ' ' ' ' ' '0']\n",
      " ['0' 'R' 'R' 'P' 'R' '4']\n",
      " ['0' 'B' 'K' 'B' 'G' '0']\n",
      " ['1' 'P' 'B' 'Y' 'G' '0']\n",
      " ['0' 'G' 'G' 'K' 'G' '0']\n",
      " ['0' 'O' 'R' 'Y' 'B' '1']\n",
      " ['0' 'O' 'R' 'Y' 'B' '1']]\n",
      "24\n",
      "\n",
      "\n",
      "\n"
     ]
    },
    {
     "ename": "IndexError",
     "evalue": "index 10 is out of bounds for axis 0 with size 10",
     "output_type": "error",
     "traceback": [
      "\u001b[1;31m---------------------------------------------------------------------------\u001b[0m",
      "\u001b[1;31mIndexError\u001b[0m                                Traceback (most recent call last)",
      "\u001b[1;32m~\\AppData\\Local\\Temp\\ipykernel_10904\\2487589887.py\u001b[0m in \u001b[0;36m<module>\u001b[1;34m\u001b[0m\n\u001b[0;32m      2\u001b[0m \u001b[1;33m\u001b[0m\u001b[0m\n\u001b[0;32m      3\u001b[0m     \u001b[0mstate\u001b[0m\u001b[1;33m,\u001b[0m \u001b[0m_\u001b[0m \u001b[1;33m=\u001b[0m \u001b[0menv\u001b[0m\u001b[1;33m.\u001b[0m\u001b[0mreset\u001b[0m\u001b[1;33m(\u001b[0m\u001b[1;33m)\u001b[0m\u001b[1;33m\u001b[0m\u001b[1;33m\u001b[0m\u001b[0m\n\u001b[1;32m----> 4\u001b[1;33m     \u001b[0menv\u001b[0m\u001b[1;33m.\u001b[0m\u001b[0mgoal\u001b[0m \u001b[1;33m=\u001b[0m \u001b[0menv\u001b[0m\u001b[1;33m.\u001b[0m\u001b[0mgoals\u001b[0m\u001b[1;33m[\u001b[0m\u001b[0mg\u001b[0m\u001b[1;33m]\u001b[0m\u001b[1;33m\u001b[0m\u001b[1;33m\u001b[0m\u001b[0m\n\u001b[0m\u001b[0;32m      5\u001b[0m     \u001b[0menv\u001b[0m\u001b[1;33m.\u001b[0m\u001b[0mgoal_render\u001b[0m \u001b[1;33m=\u001b[0m \u001b[0mnp\u001b[0m\u001b[1;33m.\u001b[0m\u001b[0marray\u001b[0m\u001b[1;33m(\u001b[0m\u001b[1;33m[\u001b[0m\u001b[0menv\u001b[0m\u001b[1;33m.\u001b[0m\u001b[0mcolour_dict\u001b[0m\u001b[1;33m[\u001b[0m\u001b[0mi\u001b[0m\u001b[1;33m]\u001b[0m \u001b[1;32mfor\u001b[0m \u001b[0mi\u001b[0m \u001b[1;32min\u001b[0m \u001b[0menv\u001b[0m\u001b[1;33m.\u001b[0m\u001b[0mgoal\u001b[0m\u001b[1;33m]\u001b[0m\u001b[1;33m)\u001b[0m\u001b[1;33m\u001b[0m\u001b[1;33m\u001b[0m\u001b[0m\n\u001b[0;32m      6\u001b[0m     \u001b[0mprint\u001b[0m\u001b[1;33m(\u001b[0m\u001b[0menv\u001b[0m\u001b[1;33m.\u001b[0m\u001b[0mgoal_render\u001b[0m\u001b[1;33m,\u001b[0m \u001b[1;34m'\\n'\u001b[0m\u001b[1;33m)\u001b[0m\u001b[1;33m\u001b[0m\u001b[1;33m\u001b[0m\u001b[0m\n",
      "\u001b[1;31mIndexError\u001b[0m: index 10 is out of bounds for axis 0 with size 10"
     ]
    }
   ],
   "source": [
    "for g in range(20):\n",
    "\n",
    "    state, _ = env.reset()\n",
    "    env.goal = env.goals[g]\n",
    "    env.goal_render = np.array([env.colour_dict[i] for i in env.goal])\n",
    "    print(env.goal_render, '\\n')\n",
    "    step = 0\n",
    "    ret = 0\n",
    "\n",
    "    while True:\n",
    "\n",
    "        state, reward, done, _, _ = env.step(agent.choose_action(state, exp=False))\n",
    "        step += 1\n",
    "        ret += reward\n",
    "\n",
    "        if done: break\n",
    "\n",
    "    env.render()\n",
    "    print(ret)\n",
    "    print('\\n\\n')"
   ]
  },
  {
   "cell_type": "code",
   "execution_count": 137,
   "id": "ef324c38",
   "metadata": {},
   "outputs": [
    {
     "name": "stdout",
     "output_type": "stream",
     "text": [
      "['R' 'K' 'P' 'O']\n",
      "[['0' ' ' ' ' ' ' ' ' '0']\n",
      " ['0' ' ' ' ' ' ' ' ' '0']\n",
      " ['0' ' ' ' ' ' ' ' ' '0']\n",
      " ['0' ' ' ' ' ' ' ' ' '0']\n",
      " ['0' ' ' ' ' ' ' ' ' '0']\n",
      " ['0' ' ' ' ' ' ' ' ' '0']\n",
      " ['0' ' ' ' ' ' ' ' ' '0']\n",
      " ['0' ' ' ' ' ' ' ' ' '0']\n",
      " ['0' ' ' ' ' ' ' ' ' '0']\n",
      " ['0' 'R' 'K' 'P' 'O' '4']\n",
      " ['0' 'K' 'K' 'P' 'P' '2']\n",
      " ['1' 'G' 'Y' 'B' 'K' '0']]\n"
     ]
    }
   ],
   "source": [
    "state = env.reset()\n",
    "env.goal = env.goals[1]\n",
    "env.goal_render = np.array([env.colour_dict[i] for i in env.goal])\n",
    "print(env.goal_render)\n",
    "step = 0\n",
    "\n",
    "agent.epsilon = 0\n",
    "\n",
    "while True:\n",
    "    \n",
    "    state, _, done, _ = env.step(agent.choose_action(tuple(state)))\n",
    "    step += 1\n",
    "    \n",
    "    if done: break\n",
    "        \n",
    "env.render()"
   ]
  },
  {
   "cell_type": "code",
   "execution_count": 138,
   "id": "a0d77977",
   "metadata": {},
   "outputs": [
    {
     "name": "stdout",
     "output_type": "stream",
     "text": [
      "['K' 'K' 'P' 'P']\n",
      "[['0' ' ' ' ' ' ' ' ' '0']\n",
      " ['0' ' ' ' ' ' ' ' ' '0']\n",
      " ['0' ' ' ' ' ' ' ' ' '0']\n",
      " ['0' ' ' ' ' ' ' ' ' '0']\n",
      " ['0' ' ' ' ' ' ' ' ' '0']\n",
      " ['0' ' ' ' ' ' ' ' ' '0']\n",
      " ['0' ' ' ' ' ' ' ' ' '0']\n",
      " ['0' ' ' ' ' ' ' ' ' '0']\n",
      " ['0' ' ' ' ' ' ' ' ' '0']\n",
      " ['0' ' ' ' ' ' ' ' ' '0']\n",
      " ['0' 'K' 'K' 'P' 'P' '4']\n",
      " ['1' 'G' 'Y' 'B' 'K' '0']]\n"
     ]
    }
   ],
   "source": [
    "state = env.reset()\n",
    "env.goal = env.goals[2]\n",
    "env.goal_render = np.array([env.colour_dict[i] for i in env.goal])\n",
    "print(env.goal_render)\n",
    "step = 0\n",
    "\n",
    "agent.epsilon = 0\n",
    "\n",
    "while True:\n",
    "    \n",
    "    state, _, done, _ = env.step(agent.choose_action(tuple(state)))\n",
    "    step += 1\n",
    "    \n",
    "    if done: break\n",
    "        \n",
    "env.render()"
   ]
  },
  {
   "cell_type": "code",
   "execution_count": 134,
   "id": "dc653c7d",
   "metadata": {},
   "outputs": [
    {
     "ename": "IndexError",
     "evalue": "index 3 is out of bounds for axis 0 with size 3",
     "output_type": "error",
     "traceback": [
      "\u001b[1;31m---------------------------------------------------------------------------\u001b[0m",
      "\u001b[1;31mIndexError\u001b[0m                                Traceback (most recent call last)",
      "Cell \u001b[1;32mIn[134], line 2\u001b[0m\n\u001b[0;32m      1\u001b[0m state \u001b[38;5;241m=\u001b[39m env\u001b[38;5;241m.\u001b[39mreset()\n\u001b[1;32m----> 2\u001b[0m env\u001b[38;5;241m.\u001b[39mgoal \u001b[38;5;241m=\u001b[39m \u001b[43menv\u001b[49m\u001b[38;5;241;43m.\u001b[39;49m\u001b[43mgoals\u001b[49m\u001b[43m[\u001b[49m\u001b[38;5;241;43m3\u001b[39;49m\u001b[43m]\u001b[49m\n\u001b[0;32m      3\u001b[0m env\u001b[38;5;241m.\u001b[39mgoal_render \u001b[38;5;241m=\u001b[39m np\u001b[38;5;241m.\u001b[39marray([env\u001b[38;5;241m.\u001b[39mcolour_dict[i] \u001b[38;5;28;01mfor\u001b[39;00m i \u001b[38;5;129;01min\u001b[39;00m env\u001b[38;5;241m.\u001b[39mgoal])\n\u001b[0;32m      4\u001b[0m \u001b[38;5;28mprint\u001b[39m(env\u001b[38;5;241m.\u001b[39mgoal_render)\n",
      "\u001b[1;31mIndexError\u001b[0m: index 3 is out of bounds for axis 0 with size 3"
     ]
    }
   ],
   "source": [
    "state = env.reset()\n",
    "env.goal = env.goals[3]\n",
    "env.goal_render = np.array([env.colour_dict[i] for i in env.goal])\n",
    "print(env.goal_render)\n",
    "step = 0\n",
    "\n",
    "agent.epsilon = 0\n",
    "\n",
    "while True:\n",
    "    \n",
    "    state, _, done, _ = env.step(agent.choose_action(tuple(state)))\n",
    "    step += 1\n",
    "    \n",
    "    if done: break\n",
    "        \n",
    "env.render()"
   ]
  }
 ],
 "metadata": {
  "kernelspec": {
   "display_name": "Python 3 (ipykernel)",
   "language": "python",
   "name": "python3"
  },
  "language_info": {
   "codemirror_mode": {
    "name": "ipython",
    "version": 3
   },
   "file_extension": ".py",
   "mimetype": "text/x-python",
   "name": "python",
   "nbconvert_exporter": "python",
   "pygments_lexer": "ipython3",
   "version": "3.9.13"
  }
 },
 "nbformat": 4,
 "nbformat_minor": 5
}
