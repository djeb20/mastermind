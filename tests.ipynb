{
 "cells": [
  {
   "cell_type": "code",
   "execution_count": 1,
   "id": "ef5da553",
   "metadata": {},
   "outputs": [],
   "source": [
    "import numpy as np\n",
    "from mastermind import mastermind\n",
    "from q_agent import q_agent\n",
    "from dqn import Agent\n",
    "\n",
    "env = mastermind(action_type='guess', reward_struc='basic', num_goals=50)"
   ]
  },
  {
   "cell_type": "markdown",
   "id": "f08228c6",
   "metadata": {},
   "source": [
    "# DQN"
   ]
  },
  {
   "cell_type": "code",
   "execution_count": 2,
   "id": "dd0da336",
   "metadata": {},
   "outputs": [
    {
     "name": "stderr",
     "output_type": "stream",
     "text": [
      "100%|█████████████████████████████████████████████████████████████████████| 1000000/1000000 [01:00<00:00, 16653.66it/s]\n"
     ]
    }
   ],
   "source": [
    "agent = Agent(env, state_dim=env.state_dim, num_actions=env.action_dim,\n",
    "                 critic_arch=[128, 64], buffer_size=1e6, batch_size=64, decay=0.999,\n",
    "                 gamma=0.99, step_size=1e-4, \n",
    "                 tau=0.001, epsilon_start=1, epsilon_min=0.05)\n",
    "agent.fill_buffer(exp=True, multi=False, prop=1)"
   ]
  },
  {
   "cell_type": "code",
   "execution_count": null,
   "id": "9143616f",
   "metadata": {
    "scrolled": true
   },
   "outputs": [
    {
     "name": "stdout",
     "output_type": "stream",
     "text": [
      "Episode number: 10, Epsilon: 0.99, Average Return: -12.00\n",
      "Episode number: 20, Epsilon: 0.98, Average Return: -12.00\n",
      "Episode number: 30, Epsilon: 0.97, Average Return: -12.00\n",
      "Episode number: 40, Epsilon: 0.96, Average Return: -8.20\n",
      "Episode number: 50, Epsilon: 0.95, Average Return: -8.80\n",
      "Episode number: 60, Epsilon: 0.94, Average Return: -12.00\n",
      "Episode number: 70, Epsilon: 0.93, Average Return: -12.00\n",
      "Episode number: 80, Epsilon: 0.92, Average Return: -12.00\n",
      "Episode number: 90, Epsilon: 0.91, Average Return: -12.00\n",
      "Episode number: 100, Epsilon: 0.90, Average Return: -12.00\n",
      "Episode number: 110, Epsilon: 0.90, Average Return: -12.00\n",
      "Episode number: 120, Epsilon: 0.89, Average Return: -12.00\n",
      "Episode number: 130, Epsilon: 0.88, Average Return: -12.00\n"
     ]
    }
   ],
   "source": [
    "agent.train(1e7)"
   ]
  },
  {
   "cell_type": "markdown",
   "id": "0a0baf2e",
   "metadata": {},
   "source": [
    "# Q Learning"
   ]
  },
  {
   "cell_type": "code",
   "execution_count": 7,
   "id": "6cbf4467",
   "metadata": {
    "scrolled": true
   },
   "outputs": [
    {
     "name": "stdout",
     "output_type": "stream",
     "text": [
      "[['0' ' ' ' ' ' ' ' ' '0']\n",
      " ['0' ' ' ' ' ' ' ' ' '0']\n",
      " ['0' ' ' ' ' ' ' ' ' '0']\n",
      " ['0' ' ' ' ' ' ' ' ' '0']\n",
      " ['0' ' ' ' ' ' ' ' ' '0']\n",
      " ['0' ' ' ' ' ' ' ' ' '0']\n",
      " ['0' ' ' ' ' ' ' ' ' '0']\n",
      " ['0' ' ' ' ' ' ' ' ' '0']\n",
      " ['0' ' ' ' ' ' ' ' ' '0']\n",
      " ['0' ' ' ' ' ' ' ' ' '0']\n",
      " ['0' ' ' ' ' ' ' ' ' '0']\n",
      " ['0' ' ' ' ' ' ' ' ' '0']]\n"
     ]
    },
    {
     "name": "stderr",
     "output_type": "stream",
     "text": [
      "  0%|                                                                                     | 0/10000000 [00:00<?, ?it/s]C:\\Users\\danbe\\anaconda3\\envs\\tf_env\\lib\\site-packages\\numpy\\core\\_methods.py:230: RuntimeWarning: invalid value encountered in subtract\n",
      "  x = asanyarray(arr - arrmean)\n",
      "  0%|                                                                         | 34/10000000 [00:00<9:14:21, 300.65it/s]"
     ]
    },
    {
     "name": "stdout",
     "output_type": "stream",
     "text": [
      "\n",
      "Average td error: 1.0000, STD of STD: nan, Average ret: -12.00, Average steps: 12.00, Num_states: 12\n"
     ]
    },
    {
     "name": "stderr",
     "output_type": "stream",
     "text": [
      "  0%|                                                                       | 1120/10000000 [00:02<4:34:28, 607.16it/s]"
     ]
    },
    {
     "name": "stdout",
     "output_type": "stream",
     "text": [
      "\n",
      "Average td error: 0.9994, STD of STD: 0.006849962434372433, Average ret: -11.87, Average steps: 11.98, Num_states: 10996\n"
     ]
    },
    {
     "name": "stderr",
     "output_type": "stream",
     "text": [
      "  0%|                                                                       | 2060/10000000 [00:03<4:38:07, 599.14it/s]"
     ]
    },
    {
     "name": "stdout",
     "output_type": "stream",
     "text": [
      "\n",
      "Average td error: 0.9994, STD of STD: 0.0020501221551068563, Average ret: -11.96, Average steps: 11.99, Num_states: 21984\n"
     ]
    },
    {
     "name": "stderr",
     "output_type": "stream",
     "text": [
      "  0%|                                                                       | 3093/10000000 [00:05<4:35:46, 604.17it/s]"
     ]
    },
    {
     "name": "stdout",
     "output_type": "stream",
     "text": [
      "\n",
      "Average td error: 0.9998, STD of STD: 0.0016186916052197504, Average ret: -11.86, Average steps: 11.98, Num_states: 32960\n"
     ]
    },
    {
     "name": "stderr",
     "output_type": "stream",
     "text": [
      "  0%|                                                                       | 4113/10000000 [00:07<4:30:04, 616.85it/s]"
     ]
    },
    {
     "name": "stdout",
     "output_type": "stream",
     "text": [
      "\n",
      "Average td error: 0.9990, STD of STD: 0.0013040908721497202, Average ret: -11.87, Average steps: 11.99, Num_states: 43946\n"
     ]
    },
    {
     "name": "stderr",
     "output_type": "stream",
     "text": [
      "  0%|                                                                       | 5061/10000000 [00:08<4:34:14, 607.42it/s]"
     ]
    },
    {
     "name": "stdout",
     "output_type": "stream",
     "text": [
      "\n",
      "Average td error: 0.9834, STD of STD: 0.0012142090544500863, Average ret: -11.77, Average steps: 11.95, Num_states: 54710\n"
     ]
    },
    {
     "name": "stderr",
     "output_type": "stream",
     "text": [
      "  0%|                                                                       | 6058/10000000 [00:10<4:36:21, 602.70it/s]"
     ]
    },
    {
     "name": "stdout",
     "output_type": "stream",
     "text": [
      "\n",
      "Average td error: 0.9831, STD of STD: 0.0009287651248198909, Average ret: -11.94, Average steps: 12.00, Num_states: 65498\n"
     ]
    },
    {
     "name": "stderr",
     "output_type": "stream",
     "text": [
      "  0%|                                                                       | 7079/10000000 [00:11<4:34:28, 606.80it/s]"
     ]
    },
    {
     "name": "stdout",
     "output_type": "stream",
     "text": [
      "\n",
      "Average td error: 0.9828, STD of STD: 0.0007820279176659514, Average ret: -11.88, Average steps: 11.97, Num_states: 76245\n"
     ]
    },
    {
     "name": "stderr",
     "output_type": "stream",
     "text": [
      "  0%|                                                                       | 8073/10000000 [00:13<4:45:55, 582.42it/s]"
     ]
    },
    {
     "name": "stdout",
     "output_type": "stream",
     "text": [
      "\n",
      "Average td error: 0.9829, STD of STD: 0.0007035303995091486, Average ret: -11.84, Average steps: 11.96, Num_states: 86976\n"
     ]
    },
    {
     "name": "stderr",
     "output_type": "stream",
     "text": [
      "  0%|                                                                       | 9049/10000000 [00:15<4:46:47, 580.63it/s]"
     ]
    },
    {
     "name": "stdout",
     "output_type": "stream",
     "text": [
      "\n",
      "Average td error: 0.9701, STD of STD: 0.0005566636434588336, Average ret: -11.97, Average steps: 12.00, Num_states: 97679\n"
     ]
    },
    {
     "name": "stderr",
     "output_type": "stream",
     "text": [
      "  0%|                                                                      | 10110/10000000 [00:17<4:44:38, 584.93it/s]"
     ]
    },
    {
     "name": "stdout",
     "output_type": "stream",
     "text": [
      "\n",
      "Average td error: 0.9699, STD of STD: 0.0004819850531675092, Average ret: -11.93, Average steps: 11.99, Num_states: 108310\n"
     ]
    },
    {
     "name": "stderr",
     "output_type": "stream",
     "text": [
      "  0%|                                                                      | 11081/10000000 [00:18<4:46:23, 581.32it/s]"
     ]
    },
    {
     "name": "stdout",
     "output_type": "stream",
     "text": [
      "\n",
      "Average td error: 0.9974, STD of STD: 0.0021297967533497916, Average ret: -11.89, Average steps: 11.98, Num_states: 118933\n"
     ]
    },
    {
     "name": "stderr",
     "output_type": "stream",
     "text": [
      "  0%|                                                                      | 12121/10000000 [00:20<4:52:25, 569.25it/s]"
     ]
    },
    {
     "name": "stdout",
     "output_type": "stream",
     "text": [
      "\n",
      "Average td error: 0.9694, STD of STD: 0.0004125207859009824, Average ret: -11.84, Average steps: 11.96, Num_states: 129511\n"
     ]
    },
    {
     "name": "stderr",
     "output_type": "stream",
     "text": [
      "  0%|                                                                      | 13095/10000000 [00:22<4:38:17, 598.09it/s]"
     ]
    },
    {
     "name": "stdout",
     "output_type": "stream",
     "text": [
      "\n",
      "Average td error: 0.9594, STD of STD: 0.0003457039271482963, Average ret: -11.96, Average steps: 11.99, Num_states: 140104\n"
     ]
    },
    {
     "name": "stderr",
     "output_type": "stream",
     "text": [
      "  0%|                                                                      | 14075/10000000 [00:23<4:51:20, 571.26it/s]"
     ]
    },
    {
     "name": "stdout",
     "output_type": "stream",
     "text": [
      "\n",
      "Average td error: 0.9593, STD of STD: 0.0003220329569986504, Average ret: -11.90, Average steps: 11.99, Num_states: 150612\n"
     ]
    },
    {
     "name": "stderr",
     "output_type": "stream",
     "text": [
      "  0%|                                                                      | 15092/10000000 [00:25<4:43:03, 587.90it/s]"
     ]
    },
    {
     "name": "stdout",
     "output_type": "stream",
     "text": [
      "\n",
      "Average td error: 0.9592, STD of STD: 0.0002944922730307704, Average ret: -11.93, Average steps: 11.99, Num_states: 161125\n"
     ]
    },
    {
     "name": "stderr",
     "output_type": "stream",
     "text": [
      "  0%|                                                                      | 16081/10000000 [00:27<4:44:51, 584.15it/s]"
     ]
    },
    {
     "name": "stdout",
     "output_type": "stream",
     "text": [
      "\n",
      "Average td error: 0.9591, STD of STD: 0.000278533422982603, Average ret: -11.88, Average steps: 11.97, Num_states: 171627\n"
     ]
    },
    {
     "name": "stderr",
     "output_type": "stream",
     "text": [
      "  0%|                                                                      | 17064/10000000 [00:29<4:39:48, 594.64it/s]"
     ]
    },
    {
     "name": "stdout",
     "output_type": "stream",
     "text": [
      "\n",
      "Average td error: 1.0064, STD of STD: 0.0028916040648466266, Average ret: -11.89, Average steps: 11.98, Num_states: 182075\n"
     ]
    },
    {
     "name": "stderr",
     "output_type": "stream",
     "text": [
      "  0%|▏                                                                     | 18051/10000000 [00:30<4:42:46, 588.35it/s]"
     ]
    },
    {
     "name": "stdout",
     "output_type": "stream",
     "text": [
      "\n",
      "Average td error: 0.9782, STD of STD: 0.0011587139226831745, Average ret: -11.82, Average steps: 11.97, Num_states: 192474\n"
     ]
    },
    {
     "name": "stderr",
     "output_type": "stream",
     "text": [
      "  0%|▏                                                                     | 19057/10000000 [00:32<4:41:38, 590.66it/s]"
     ]
    },
    {
     "name": "stdout",
     "output_type": "stream",
     "text": [
      "\n",
      "Average td error: 0.9508, STD of STD: 0.00024513485774574475, Average ret: -11.82, Average steps: 11.97, Num_states: 202867\n"
     ]
    },
    {
     "name": "stderr",
     "output_type": "stream",
     "text": [
      "  0%|▏                                                                     | 20088/10000000 [00:34<4:41:30, 590.85it/s]"
     ]
    },
    {
     "name": "stdout",
     "output_type": "stream",
     "text": [
      "\n",
      "Average td error: 0.9780, STD of STD: 0.000884834133742304, Average ret: -11.89, Average steps: 11.98, Num_states: 213288\n"
     ]
    },
    {
     "name": "stderr",
     "output_type": "stream",
     "text": [
      "  0%|▏                                                                     | 21108/10000000 [00:35<4:50:48, 571.92it/s]"
     ]
    },
    {
     "name": "stdout",
     "output_type": "stream",
     "text": [
      "\n",
      "Average td error: 0.9722, STD of STD: 0.0003753032177827763, Average ret: -11.86, Average steps: 11.98, Num_states: 223677\n"
     ]
    },
    {
     "name": "stderr",
     "output_type": "stream",
     "text": [
      "  0%|▏                                                                     | 22061/10000000 [00:37<6:05:08, 455.44it/s]"
     ]
    },
    {
     "name": "stdout",
     "output_type": "stream",
     "text": [
      "\n",
      "Average td error: 0.9442, STD of STD: 0.00021154454001915123, Average ret: -11.85, Average steps: 11.96, Num_states: 233974\n"
     ]
    },
    {
     "name": "stderr",
     "output_type": "stream",
     "text": [
      "  0%|▏                                                                     | 23090/10000000 [00:39<5:01:04, 552.31it/s]"
     ]
    },
    {
     "name": "stdout",
     "output_type": "stream",
     "text": [
      "\n",
      "Average td error: 0.9721, STD of STD: 0.0005712932024175899, Average ret: -11.86, Average steps: 11.98, Num_states: 244330\n"
     ]
    },
    {
     "name": "stderr",
     "output_type": "stream",
     "text": [
      "  0%|▏                                                                     | 24093/10000000 [00:41<4:41:53, 589.81it/s]"
     ]
    },
    {
     "name": "stdout",
     "output_type": "stream",
     "text": [
      "\n",
      "Average td error: 0.9713, STD of STD: 0.0011798766116616342, Average ret: -11.73, Average steps: 11.94, Num_states: 254621\n"
     ]
    },
    {
     "name": "stderr",
     "output_type": "stream",
     "text": [
      "  0%|▏                                                                     | 25072/10000000 [00:43<5:42:01, 486.07it/s]"
     ]
    },
    {
     "name": "stdout",
     "output_type": "stream",
     "text": [
      "\n",
      "Average td error: 1.0582, STD of STD: 0.0010468198937235126, Average ret: -11.70, Average steps: 11.94, Num_states: 264891\n"
     ]
    },
    {
     "name": "stderr",
     "output_type": "stream",
     "text": [
      "  0%|▏                                                                     | 26038/10000000 [00:44<5:07:50, 540.00it/s]"
     ]
    },
    {
     "name": "stdout",
     "output_type": "stream",
     "text": [
      "\n",
      "Average td error: 0.9660, STD of STD: 0.0009490533005322957, Average ret: -11.93, Average steps: 11.99, Num_states: 275176\n"
     ]
    },
    {
     "name": "stderr",
     "output_type": "stream",
     "text": [
      "  0%|▏                                                                     | 27055/10000000 [00:47<5:07:03, 541.32it/s]"
     ]
    },
    {
     "name": "stdout",
     "output_type": "stream",
     "text": [
      "\n",
      "Average td error: 1.1480, STD of STD: 0.0041016006491216665, Average ret: -11.70, Average steps: 11.94, Num_states: 285416\n"
     ]
    },
    {
     "name": "stderr",
     "output_type": "stream",
     "text": [
      "  0%|▏                                                                     | 28082/10000000 [00:48<4:54:51, 563.66it/s]"
     ]
    },
    {
     "name": "stdout",
     "output_type": "stream",
     "text": [
      "\n",
      "Average td error: 0.9947, STD of STD: 0.0012208205453755853, Average ret: -11.84, Average steps: 11.99, Num_states: 295691\n"
     ]
    },
    {
     "name": "stderr",
     "output_type": "stream",
     "text": [
      "  0%|▏                                                                     | 29057/10000000 [00:50<5:39:33, 489.40it/s]"
     ]
    },
    {
     "name": "stdout",
     "output_type": "stream",
     "text": [
      "\n",
      "Average td error: 0.9385, STD of STD: 0.00018543445352340676, Average ret: -11.93, Average steps: 11.99, Num_states: 305973\n"
     ]
    },
    {
     "name": "stderr",
     "output_type": "stream",
     "text": [
      "  0%|▏                                                                     | 30063/10000000 [00:52<5:03:18, 547.84it/s]"
     ]
    },
    {
     "name": "stdout",
     "output_type": "stream",
     "text": [
      "\n",
      "Average td error: 0.9342, STD of STD: 0.0001738657663307327, Average ret: -11.89, Average steps: 11.98, Num_states: 316207\n"
     ]
    },
    {
     "name": "stderr",
     "output_type": "stream",
     "text": [
      "  0%|▏                                                                     | 31061/10000000 [00:54<5:45:01, 481.55it/s]"
     ]
    },
    {
     "name": "stdout",
     "output_type": "stream",
     "text": [
      "\n",
      "Average td error: 0.9342, STD of STD: 0.0001677505649932031, Average ret: -11.91, Average steps: 12.00, Num_states: 326488\n"
     ]
    },
    {
     "name": "stderr",
     "output_type": "stream",
     "text": [
      "  0%|▏                                                                     | 32041/10000000 [00:56<5:25:32, 510.32it/s]"
     ]
    },
    {
     "name": "stdout",
     "output_type": "stream",
     "text": [
      "\n",
      "Average td error: 0.9342, STD of STD: 0.00016214395816846946, Average ret: -11.90, Average steps: 11.99, Num_states: 336757\n"
     ]
    },
    {
     "name": "stderr",
     "output_type": "stream",
     "text": [
      "  0%|▏                                                                     | 33067/10000000 [00:59<6:42:30, 412.71it/s]"
     ]
    },
    {
     "name": "stdout",
     "output_type": "stream",
     "text": [
      "\n",
      "Average td error: 0.9343, STD of STD: 0.00015540749439541188, Average ret: -11.93, Average steps: 11.99, Num_states: 346986\n"
     ]
    },
    {
     "name": "stderr",
     "output_type": "stream",
     "text": [
      "  0%|▏                                                                     | 34052/10000000 [01:01<6:16:25, 441.26it/s]"
     ]
    },
    {
     "name": "stdout",
     "output_type": "stream",
     "text": [
      "\n",
      "Average td error: 0.9309, STD of STD: 0.0001525135960906285, Average ret: -11.75, Average steps: 11.96, Num_states: 357161\n"
     ]
    },
    {
     "name": "stderr",
     "output_type": "stream",
     "text": [
      "  0%|▏                                                                     | 35089/10000000 [01:03<5:50:17, 474.12it/s]"
     ]
    },
    {
     "name": "stdout",
     "output_type": "stream",
     "text": [
      "\n",
      "Average td error: 0.9588, STD of STD: 0.0007858967503955187, Average ret: -11.58, Average steps: 11.91, Num_states: 367301\n"
     ]
    },
    {
     "name": "stderr",
     "output_type": "stream",
     "text": [
      "  0%|▎                                                                     | 36090/10000000 [01:05<5:27:41, 506.77it/s]"
     ]
    },
    {
     "name": "stdout",
     "output_type": "stream",
     "text": [
      "\n",
      "Average td error: 0.9309, STD of STD: 0.0001499330134622861, Average ret: -11.96, Average steps: 11.99, Num_states: 377527\n"
     ]
    },
    {
     "name": "stderr",
     "output_type": "stream",
     "text": [
      "  0%|▎                                                                     | 37046/10000000 [01:07<6:02:24, 458.19it/s]"
     ]
    },
    {
     "name": "stdout",
     "output_type": "stream",
     "text": [
      "\n",
      "Average td error: 0.9308, STD of STD: 0.0001453872041713599, Average ret: -11.89, Average steps: 11.98, Num_states: 387728\n"
     ]
    },
    {
     "name": "stderr",
     "output_type": "stream",
     "text": [
      "  0%|▎                                                                     | 38074/10000000 [01:09<6:59:17, 395.98it/s]"
     ]
    },
    {
     "name": "stdout",
     "output_type": "stream",
     "text": [
      "\n",
      "Average td error: 0.9281, STD of STD: 0.000137298374565462, Average ret: -11.93, Average steps: 11.99, Num_states: 397927\n"
     ]
    },
    {
     "name": "stderr",
     "output_type": "stream",
     "text": [
      "  0%|▎                                                                     | 39062/10000000 [01:12<6:52:00, 402.94it/s]"
     ]
    },
    {
     "name": "stdout",
     "output_type": "stream",
     "text": [
      "\n",
      "Average td error: 0.9281, STD of STD: 0.00013710365239042634, Average ret: -11.76, Average steps: 11.94, Num_states: 408042\n"
     ]
    },
    {
     "name": "stderr",
     "output_type": "stream",
     "text": [
      "  0%|▎                                                                     | 40060/10000000 [01:14<6:32:07, 423.34it/s]"
     ]
    },
    {
     "name": "stdout",
     "output_type": "stream",
     "text": [
      "\n",
      "Average td error: 0.9844, STD of STD: 0.0006641934288923102, Average ret: -11.96, Average steps: 11.99, Num_states: 418241\n"
     ]
    },
    {
     "name": "stderr",
     "output_type": "stream",
     "text": [
      "  0%|▎                                                                     | 41044/10000000 [01:16<6:01:00, 459.77it/s]"
     ]
    },
    {
     "name": "stdout",
     "output_type": "stream",
     "text": [
      "\n",
      "Average td error: 0.9281, STD of STD: 0.00012515704467889102, Average ret: -12.00, Average steps: 12.00, Num_states: 428432\n"
     ]
    },
    {
     "name": "stderr",
     "output_type": "stream",
     "text": [
      "  0%|▎                                                                     | 42061/10000000 [01:19<6:40:57, 413.92it/s]"
     ]
    },
    {
     "name": "stdout",
     "output_type": "stream",
     "text": [
      "\n",
      "Average td error: 0.9259, STD of STD: 0.0001209496009706134, Average ret: -11.85, Average steps: 11.97, Num_states: 438609\n"
     ]
    },
    {
     "name": "stderr",
     "output_type": "stream",
     "text": [
      "  0%|▎                                                                     | 43100/10000000 [01:21<6:13:36, 444.18it/s]"
     ]
    },
    {
     "name": "stdout",
     "output_type": "stream",
     "text": [
      "\n",
      "Average td error: 0.9258, STD of STD: 0.00011792709449086427, Average ret: -11.89, Average steps: 11.98, Num_states: 448771\n"
     ]
    },
    {
     "name": "stderr",
     "output_type": "stream",
     "text": [
      "  0%|▎                                                                     | 44056/10000000 [01:24<6:54:09, 400.65it/s]"
     ]
    },
    {
     "name": "stdout",
     "output_type": "stream",
     "text": [
      "\n",
      "Average td error: 0.9809, STD of STD: 0.0008726768002799113, Average ret: -11.86, Average steps: 11.97, Num_states: 458932\n"
     ]
    },
    {
     "name": "stderr",
     "output_type": "stream",
     "text": [
      "  0%|▎                                                                     | 45052/10000000 [01:26<7:04:17, 391.05it/s]"
     ]
    },
    {
     "name": "stdout",
     "output_type": "stream",
     "text": [
      "\n",
      "Average td error: 0.9258, STD of STD: 0.00011158132858313432, Average ret: -11.97, Average steps: 12.00, Num_states: 469098\n"
     ]
    },
    {
     "name": "stderr",
     "output_type": "stream",
     "text": [
      "  0%|▎                                                                     | 46034/10000000 [01:29<6:50:03, 404.57it/s]"
     ]
    },
    {
     "name": "stdout",
     "output_type": "stream",
     "text": [
      "\n",
      "Average td error: 1.1923, STD of STD: 0.001613983644716144, Average ret: -11.04, Average steps: 11.76, Num_states: 478897\n"
     ]
    },
    {
     "name": "stderr",
     "output_type": "stream",
     "text": [
      "  0%|▎                                                                     | 47044/10000000 [01:31<6:31:10, 424.06it/s]"
     ]
    },
    {
     "name": "stdout",
     "output_type": "stream",
     "text": [
      "\n",
      "Average td error: 0.9241, STD of STD: 0.00012232356443550436, Average ret: -11.81, Average steps: 11.96, Num_states: 489014\n"
     ]
    },
    {
     "name": "stderr",
     "output_type": "stream",
     "text": [
      "  0%|▎                                                                     | 48035/10000000 [01:34<7:06:33, 388.85it/s]"
     ]
    },
    {
     "name": "stdout",
     "output_type": "stream",
     "text": [
      "\n",
      "Average td error: 0.9241, STD of STD: 0.00012903203623743353, Average ret: -11.33, Average steps: 11.84, Num_states: 498951\n"
     ]
    },
    {
     "name": "stderr",
     "output_type": "stream",
     "text": [
      "  0%|▎                                                                     | 49059/10000000 [01:36<6:16:55, 440.00it/s]"
     ]
    },
    {
     "name": "stdout",
     "output_type": "stream",
     "text": [
      "\n",
      "Average td error: 0.9241, STD of STD: 0.00012582277082850803, Average ret: -11.90, Average steps: 11.99, Num_states: 509081\n"
     ]
    },
    {
     "name": "stderr",
     "output_type": "stream",
     "text": [
      "  1%|▎                                                                     | 50055/10000000 [01:39<7:41:54, 359.02it/s]"
     ]
    },
    {
     "name": "stdout",
     "output_type": "stream",
     "text": [
      "\n",
      "Average td error: 0.9241, STD of STD: 0.00012084293749543596, Average ret: -12.00, Average steps: 12.00, Num_states: 519230\n"
     ]
    },
    {
     "name": "stderr",
     "output_type": "stream",
     "text": [
      "  1%|▎                                                                     | 51048/10000000 [01:41<6:54:04, 400.46it/s]"
     ]
    },
    {
     "name": "stdout",
     "output_type": "stream",
     "text": [
      "\n",
      "Average td error: 0.9227, STD of STD: 0.00011880745011450334, Average ret: -11.78, Average steps: 11.96, Num_states: 529321\n"
     ]
    },
    {
     "name": "stderr",
     "output_type": "stream",
     "text": [
      "  1%|▎                                                                     | 52043/10000000 [01:44<8:39:05, 319.40it/s]"
     ]
    },
    {
     "name": "stdout",
     "output_type": "stream",
     "text": [
      "\n",
      "Average td error: 0.9227, STD of STD: 0.00011603826248197313, Average ret: -11.90, Average steps: 11.99, Num_states: 539440\n"
     ]
    },
    {
     "name": "stderr",
     "output_type": "stream",
     "text": [
      "  1%|▎                                                                     | 53048/10000000 [01:46<7:04:44, 390.31it/s]"
     ]
    },
    {
     "name": "stdout",
     "output_type": "stream",
     "text": [
      "\n",
      "Average td error: 0.9226, STD of STD: 0.00011451618814787034, Average ret: -11.82, Average steps: 11.97, Num_states: 549531\n"
     ]
    },
    {
     "name": "stderr",
     "output_type": "stream",
     "text": [
      "  1%|▍                                                                     | 54061/10000000 [01:49<6:51:16, 403.05it/s]"
     ]
    },
    {
     "name": "stdout",
     "output_type": "stream",
     "text": [
      "\n",
      "Average td error: 0.9507, STD of STD: 0.00028735062138950085, Average ret: -11.78, Average steps: 11.96, Num_states: 559639\n"
     ]
    },
    {
     "name": "stderr",
     "output_type": "stream",
     "text": [
      "  1%|▍                                                                     | 55029/10000000 [01:52<7:48:52, 353.51it/s]"
     ]
    },
    {
     "name": "stdout",
     "output_type": "stream",
     "text": [
      "\n",
      "Average td error: 0.9486, STD of STD: 0.000365949158828025, Average ret: -11.79, Average steps: 11.97, Num_states: 569737\n"
     ]
    },
    {
     "name": "stderr",
     "output_type": "stream",
     "text": [
      "  1%|▍                                                                     | 56058/10000000 [01:54<6:23:19, 432.35it/s]"
     ]
    },
    {
     "name": "stdout",
     "output_type": "stream",
     "text": [
      "\n",
      "Average td error: 0.9215, STD of STD: 0.00010840557294098235, Average ret: -11.96, Average steps: 11.99, Num_states: 579852\n"
     ]
    },
    {
     "name": "stderr",
     "output_type": "stream",
     "text": [
      "  1%|▍                                                                     | 57040/10000000 [01:57<8:20:41, 330.98it/s]"
     ]
    },
    {
     "name": "stdout",
     "output_type": "stream",
     "text": [
      "\n",
      "Average td error: 0.9215, STD of STD: 0.00010658522074928761, Average ret: -11.87, Average steps: 11.99, Num_states: 589964\n"
     ]
    },
    {
     "name": "stderr",
     "output_type": "stream",
     "text": [
      "  1%|▍                                                                     | 58058/10000000 [01:59<5:25:29, 509.08it/s]"
     ]
    },
    {
     "name": "stdout",
     "output_type": "stream",
     "text": [
      "\n",
      "Average td error: 0.9216, STD of STD: 0.00010298822879749385, Average ret: -12.00, Average steps: 12.00, Num_states: 600095\n"
     ]
    },
    {
     "name": "stderr",
     "output_type": "stream",
     "text": [
      "  1%|▍                                                                     | 59026/10000000 [02:01<6:10:34, 447.10it/s]"
     ]
    },
    {
     "name": "stdout",
     "output_type": "stream",
     "text": [
      "\n",
      "Average td error: 0.9207, STD of STD: 9.976993922305515e-05, Average ret: -11.94, Average steps: 12.00, Num_states: 610196\n"
     ]
    },
    {
     "name": "stderr",
     "output_type": "stream",
     "text": [
      "  1%|▍                                                                     | 60080/10000000 [02:04<7:13:10, 382.44it/s]"
     ]
    },
    {
     "name": "stdout",
     "output_type": "stream",
     "text": [
      "\n",
      "Average td error: 0.9207, STD of STD: 0.00010355090970902424, Average ret: -11.40, Average steps: 11.86, Num_states: 620096\n"
     ]
    },
    {
     "name": "stderr",
     "output_type": "stream",
     "text": [
      "  1%|▍                                                                     | 61061/10000000 [02:07<7:25:26, 371.87it/s]"
     ]
    },
    {
     "name": "stdout",
     "output_type": "stream",
     "text": [
      "\n",
      "Average td error: 0.9486, STD of STD: 0.00043041357288817645, Average ret: -11.90, Average steps: 11.99, Num_states: 630200\n"
     ]
    },
    {
     "name": "stderr",
     "output_type": "stream",
     "text": [
      "  1%|▍                                                                     | 62036/10000000 [02:09<7:15:07, 380.65it/s]"
     ]
    },
    {
     "name": "stdout",
     "output_type": "stream",
     "text": [
      "\n",
      "Average td error: 0.9486, STD of STD: 0.0002126468307474007, Average ret: -11.86, Average steps: 11.98, Num_states: 640306\n"
     ]
    },
    {
     "name": "stderr",
     "output_type": "stream",
     "text": [
      "  1%|▍                                                                     | 63061/10000000 [02:12<7:28:30, 369.26it/s]"
     ]
    },
    {
     "name": "stdout",
     "output_type": "stream",
     "text": [
      "\n",
      "Average td error: 0.9205, STD of STD: 0.0001012385219219879, Average ret: -11.56, Average steps: 11.89, Num_states: 650306\n"
     ]
    },
    {
     "name": "stderr",
     "output_type": "stream",
     "text": [
      "  1%|▍                                                                     | 64047/10000000 [02:15<7:35:24, 363.63it/s]"
     ]
    },
    {
     "name": "stdout",
     "output_type": "stream",
     "text": [
      "\n",
      "Average td error: 0.9199, STD of STD: 9.887710586557314e-05, Average ret: -11.88, Average steps: 11.97, Num_states: 660381\n"
     ]
    },
    {
     "name": "stderr",
     "output_type": "stream",
     "text": [
      "  1%|▍                                                                     | 65034/10000000 [02:17<7:54:54, 348.67it/s]"
     ]
    },
    {
     "name": "stdout",
     "output_type": "stream",
     "text": [
      "\n",
      "Average td error: 0.9199, STD of STD: 9.6609430098966e-05, Average ret: -11.93, Average steps: 11.99, Num_states: 670480\n"
     ]
    },
    {
     "name": "stderr",
     "output_type": "stream",
     "text": [
      "  1%|▍                                                                     | 66034/10000000 [02:20<7:41:14, 358.96it/s]"
     ]
    },
    {
     "name": "stdout",
     "output_type": "stream",
     "text": [
      "\n",
      "Average td error: 0.9469, STD of STD: 0.00010767077098113919, Average ret: -11.53, Average steps: 11.89, Num_states: 680413\n"
     ]
    },
    {
     "name": "stderr",
     "output_type": "stream",
     "text": [
      "  1%|▍                                                                     | 67046/10000000 [02:24<9:02:38, 305.08it/s]"
     ]
    },
    {
     "name": "stdout",
     "output_type": "stream",
     "text": [
      "\n",
      "Average td error: 0.9270, STD of STD: 0.000101437474536829, Average ret: -11.40, Average steps: 11.86, Num_states: 690318\n"
     ]
    },
    {
     "name": "stderr",
     "output_type": "stream",
     "text": [
      "  1%|▍                                                                     | 68055/10000000 [02:27<8:23:14, 328.93it/s]"
     ]
    },
    {
     "name": "stdout",
     "output_type": "stream",
     "text": [
      "\n",
      "Average td error: 0.9193, STD of STD: 0.00010492510021196555, Average ret: -11.06, Average steps: 11.78, Num_states: 700114\n"
     ]
    },
    {
     "name": "stderr",
     "output_type": "stream",
     "text": [
      "  1%|▍                                                                     | 69037/10000000 [02:30<8:14:18, 334.85it/s]"
     ]
    },
    {
     "name": "stdout",
     "output_type": "stream",
     "text": [
      "\n",
      "Average td error: 0.9473, STD of STD: 0.00025830327218703933, Average ret: -11.86, Average steps: 11.98, Num_states: 710204\n"
     ]
    },
    {
     "name": "stderr",
     "output_type": "stream",
     "text": [
      "  1%|▍                                                                    | 70028/10000000 [02:34<10:36:25, 260.04it/s]"
     ]
    },
    {
     "name": "stdout",
     "output_type": "stream",
     "text": [
      "\n",
      "Average td error: 0.9193, STD of STD: 0.00010197965352610204, Average ret: -11.83, Average steps: 11.98, Num_states: 720277\n"
     ]
    },
    {
     "name": "stderr",
     "output_type": "stream",
     "text": [
      "  1%|▍                                                                     | 71047/10000000 [02:37<8:42:32, 316.69it/s]"
     ]
    },
    {
     "name": "stdout",
     "output_type": "stream",
     "text": [
      "\n",
      "Average td error: 0.9193, STD of STD: 9.913581954203405e-05, Average ret: -12.00, Average steps: 12.00, Num_states: 730377\n"
     ]
    },
    {
     "name": "stderr",
     "output_type": "stream",
     "text": [
      "  1%|▍                                                                    | 72047/10000000 [02:40<10:28:36, 263.23it/s]"
     ]
    },
    {
     "name": "stdout",
     "output_type": "stream",
     "text": [
      "\n",
      "Average td error: 0.9471, STD of STD: 0.0002902589692797865, Average ret: -11.94, Average steps: 12.00, Num_states: 740460\n"
     ]
    },
    {
     "name": "stderr",
     "output_type": "stream",
     "text": [
      "  1%|▌                                                                     | 73055/10000000 [02:43<9:11:11, 300.17it/s]"
     ]
    },
    {
     "name": "stdout",
     "output_type": "stream",
     "text": [
      "\n",
      "Average td error: 0.9469, STD of STD: 0.0003485051614974527, Average ret: -11.71, Average steps: 11.95, Num_states: 750494\n"
     ]
    },
    {
     "name": "stderr",
     "output_type": "stream",
     "text": [
      "  1%|▌                                                                     | 74054/10000000 [02:46<8:52:14, 310.82it/s]"
     ]
    },
    {
     "name": "stdout",
     "output_type": "stream",
     "text": [
      "\n",
      "Average td error: 0.9189, STD of STD: 9.476213235697523e-05, Average ret: -11.91, Average steps: 12.00, Num_states: 760570\n"
     ]
    },
    {
     "name": "stderr",
     "output_type": "stream",
     "text": [
      "  1%|▌                                                                     | 75037/10000000 [02:50<8:46:50, 313.98it/s]"
     ]
    },
    {
     "name": "stdout",
     "output_type": "stream",
     "text": [
      "\n",
      "Average td error: 0.9188, STD of STD: 9.496539940293025e-05, Average ret: -11.65, Average steps: 11.93, Num_states: 770518\n"
     ]
    },
    {
     "name": "stderr",
     "output_type": "stream",
     "text": [
      "  1%|▌                                                                     | 76055/10000000 [02:53<9:17:43, 296.56it/s]"
     ]
    },
    {
     "name": "stdout",
     "output_type": "stream",
     "text": [
      "\n",
      "Average td error: 0.9468, STD of STD: 0.00030272374502080196, Average ret: -11.89, Average steps: 11.98, Num_states: 780573\n"
     ]
    },
    {
     "name": "stderr",
     "output_type": "stream",
     "text": [
      "  1%|▌                                                                     | 77037/10000000 [02:56<8:43:31, 315.90it/s]"
     ]
    },
    {
     "name": "stdout",
     "output_type": "stream",
     "text": [
      "\n",
      "Average td error: 0.9185, STD of STD: 9.603559539369086e-05, Average ret: -11.25, Average steps: 11.82, Num_states: 790389\n"
     ]
    },
    {
     "name": "stderr",
     "output_type": "stream",
     "text": [
      "  1%|▌                                                                    | 78034/10000000 [03:00<10:42:11, 257.51it/s]"
     ]
    },
    {
     "name": "stdout",
     "output_type": "stream",
     "text": [
      "\n",
      "Average td error: 0.9185, STD of STD: 9.490045157504274e-05, Average ret: -11.81, Average steps: 11.96, Num_states: 800419\n"
     ]
    },
    {
     "name": "stderr",
     "output_type": "stream",
     "text": [
      "  1%|▌                                                                     | 79033/10000000 [03:03<8:20:11, 330.57it/s]"
     ]
    },
    {
     "name": "stdout",
     "output_type": "stream",
     "text": [
      "\n",
      "Average td error: 0.9465, STD of STD: 0.00015438414802565305, Average ret: -11.81, Average steps: 11.96, Num_states: 810448\n"
     ]
    },
    {
     "name": "stderr",
     "output_type": "stream",
     "text": [
      "  1%|▌                                                                    | 80045/10000000 [03:06<10:17:49, 267.61it/s]"
     ]
    },
    {
     "name": "stdout",
     "output_type": "stream",
     "text": [
      "\n",
      "Average td error: 0.9185, STD of STD: 9.3266614223177e-05, Average ret: -11.74, Average steps: 11.95, Num_states: 820489\n"
     ]
    },
    {
     "name": "stderr",
     "output_type": "stream",
     "text": [
      "  1%|▌                                                                     | 81025/10000000 [03:09<8:01:05, 343.63it/s]"
     ]
    },
    {
     "name": "stdout",
     "output_type": "stream",
     "text": [
      "\n",
      "Average td error: 0.9182, STD of STD: 9.232815139416356e-05, Average ret: -11.77, Average steps: 11.95, Num_states: 830512\n"
     ]
    },
    {
     "name": "stderr",
     "output_type": "stream",
     "text": [
      "  1%|▌                                                                     | 82059/10000000 [03:12<8:04:33, 341.14it/s]"
     ]
    },
    {
     "name": "stdout",
     "output_type": "stream",
     "text": [
      "\n",
      "Average td error: 0.9182, STD of STD: 9.104021042479132e-05, Average ret: -11.87, Average steps: 11.99, Num_states: 840583\n"
     ]
    },
    {
     "name": "stderr",
     "output_type": "stream",
     "text": [
      "  1%|▌                                                                     | 83080/10000000 [03:16<6:46:14, 406.86it/s]"
     ]
    },
    {
     "name": "stdout",
     "output_type": "stream",
     "text": [
      "\n",
      "Average td error: 0.9452, STD of STD: 0.0002711939003933501, Average ret: -11.89, Average steps: 11.98, Num_states: 850651\n"
     ]
    },
    {
     "name": "stderr",
     "output_type": "stream",
     "text": [
      "  1%|▌                                                                     | 84069/10000000 [03:18<8:05:21, 340.50it/s]"
     ]
    },
    {
     "name": "stdout",
     "output_type": "stream",
     "text": [
      "\n",
      "Average td error: 0.9462, STD of STD: 0.00028367640198251554, Average ret: -11.60, Average steps: 11.90, Num_states: 860613\n"
     ]
    },
    {
     "name": "stderr",
     "output_type": "stream",
     "text": [
      "  1%|▌                                                                     | 85069/10000000 [03:21<6:04:48, 452.98it/s]"
     ]
    },
    {
     "name": "stdout",
     "output_type": "stream",
     "text": [
      "\n",
      "Average td error: 1.2508, STD of STD: 0.0007597686667805686, Average ret: -11.36, Average steps: 11.87, Num_states: 870537\n"
     ]
    },
    {
     "name": "stderr",
     "output_type": "stream",
     "text": [
      "  1%|▌                                                                     | 86121/10000000 [03:23<4:31:54, 607.69it/s]"
     ]
    },
    {
     "name": "stdout",
     "output_type": "stream",
     "text": [
      "\n",
      "Average td error: 1.2784, STD of STD: 0.0011961301500704525, Average ret: -9.85, Average steps: 11.47, Num_states: 879907\n"
     ]
    },
    {
     "name": "stderr",
     "output_type": "stream",
     "text": [
      "  1%|▌                                                                     | 87086/10000000 [03:25<5:18:54, 518.05it/s]"
     ]
    },
    {
     "name": "stdout",
     "output_type": "stream",
     "text": [
      "\n",
      "Average td error: 1.5665, STD of STD: 0.001869016680952501, Average ret: -9.76, Average steps: 11.47, Num_states: 889276\n"
     ]
    },
    {
     "name": "stderr",
     "output_type": "stream",
     "text": [
      "  1%|▌                                                                     | 88094/10000000 [03:27<5:30:27, 499.90it/s]"
     ]
    },
    {
     "name": "stdout",
     "output_type": "stream",
     "text": [
      "\n",
      "Average td error: 0.9180, STD of STD: 0.00011529351289496178, Average ret: -10.44, Average steps: 11.61, Num_states: 898907\n"
     ]
    },
    {
     "name": "stderr",
     "output_type": "stream",
     "text": [
      "  1%|▌                                                                     | 89048/10000000 [03:29<4:53:47, 562.23it/s]"
     ]
    },
    {
     "name": "stdout",
     "output_type": "stream",
     "text": [
      "\n",
      "Average td error: 1.2566, STD of STD: 0.0007913893979452708, Average ret: -10.38, Average steps: 11.61, Num_states: 908465\n"
     ]
    },
    {
     "name": "stderr",
     "output_type": "stream",
     "text": [
      "  1%|▋                                                                     | 90062/10000000 [03:31<5:40:59, 484.37it/s]"
     ]
    },
    {
     "name": "stdout",
     "output_type": "stream",
     "text": [
      "\n",
      "Average td error: 0.9179, STD of STD: 0.00011933344580327101, Average ret: -11.85, Average steps: 11.97, Num_states: 918489\n"
     ]
    },
    {
     "name": "stderr",
     "output_type": "stream",
     "text": [
      "  1%|▋                                                                     | 91040/10000000 [03:34<8:38:13, 318.68it/s]"
     ]
    },
    {
     "name": "stdout",
     "output_type": "stream",
     "text": [
      "\n",
      "Average td error: 0.9180, STD of STD: 0.00011730746929248173, Average ret: -11.89, Average steps: 11.98, Num_states: 928522\n"
     ]
    },
    {
     "name": "stderr",
     "output_type": "stream",
     "text": [
      "  1%|▋                                                                     | 92085/10000000 [03:36<6:00:34, 457.98it/s]"
     ]
    },
    {
     "name": "stdout",
     "output_type": "stream",
     "text": [
      "\n",
      "Average td error: 0.9459, STD of STD: 0.00018769190656568038, Average ret: -11.94, Average steps: 12.00, Num_states: 938593\n"
     ]
    },
    {
     "name": "stderr",
     "output_type": "stream",
     "text": [
      "  1%|▋                                                                     | 93042/10000000 [03:42<7:21:30, 373.98it/s]"
     ]
    },
    {
     "name": "stdout",
     "output_type": "stream",
     "text": [
      "\n",
      "Average td error: 0.9458, STD of STD: 0.00021408960313187356, Average ret: -11.69, Average steps: 11.93, Num_states: 948570\n"
     ]
    },
    {
     "name": "stderr",
     "output_type": "stream",
     "text": [
      "  1%|▋                                                                    | 94020/10000000 [03:46<12:28:08, 220.68it/s]"
     ]
    },
    {
     "name": "stdout",
     "output_type": "stream",
     "text": [
      "\n",
      "Average td error: 0.9178, STD of STD: 0.00011168389832454807, Average ret: -12.00, Average steps: 12.00, Num_states: 958623\n"
     ]
    },
    {
     "name": "stderr",
     "output_type": "stream",
     "text": [
      "  1%|▋                                                                    | 95025/10000000 [03:50<10:55:14, 251.94it/s]"
     ]
    },
    {
     "name": "stdout",
     "output_type": "stream",
     "text": [
      "\n",
      "Average td error: 0.9448, STD of STD: 0.00025079082332075736, Average ret: -11.92, Average steps: 11.98, Num_states: 968665\n"
     ]
    },
    {
     "name": "stderr",
     "output_type": "stream",
     "text": [
      "  1%|▋                                                                     | 96039/10000000 [03:53<8:24:14, 327.36it/s]"
     ]
    },
    {
     "name": "stdout",
     "output_type": "stream",
     "text": [
      "\n",
      "Average td error: 0.9178, STD of STD: 0.00010794545225547909, Average ret: -11.89, Average steps: 11.98, Num_states: 978719\n"
     ]
    },
    {
     "name": "stderr",
     "output_type": "stream",
     "text": [
      "  1%|▋                                                                    | 97045/10000000 [03:57<10:26:09, 263.59it/s]"
     ]
    },
    {
     "name": "stdout",
     "output_type": "stream",
     "text": [
      "\n",
      "Average td error: 0.9176, STD of STD: 0.00010730718968087721, Average ret: -11.66, Average steps: 11.93, Num_states: 988700\n"
     ]
    },
    {
     "name": "stderr",
     "output_type": "stream",
     "text": [
      "  1%|▋                                                                     | 98034/10000000 [04:00<8:54:32, 308.74it/s]"
     ]
    },
    {
     "name": "stdout",
     "output_type": "stream",
     "text": [
      "\n",
      "Average td error: 0.9176, STD of STD: 0.00010529567250266394, Average ret: -11.96, Average steps: 11.99, Num_states: 998752\n"
     ]
    },
    {
     "name": "stderr",
     "output_type": "stream",
     "text": [
      "  1%|▋                                                                    | 99019/10000000 [04:04<11:52:49, 231.50it/s]"
     ]
    },
    {
     "name": "stdout",
     "output_type": "stream",
     "text": [
      "\n",
      "Average td error: 0.9176, STD of STD: 0.00010589988401467461, Average ret: -11.38, Average steps: 11.86, Num_states: 1008638\n"
     ]
    },
    {
     "name": "stderr",
     "output_type": "stream",
     "text": [
      "  1%|▋                                                                    | 100081/10000000 [04:09<7:40:55, 357.98it/s]"
     ]
    },
    {
     "name": "stdout",
     "output_type": "stream",
     "text": [
      "\n",
      "Average td error: 0.9176, STD of STD: 0.00010411279119988883, Average ret: -11.93, Average steps: 11.99, Num_states: 1018687\n"
     ]
    },
    {
     "name": "stderr",
     "output_type": "stream",
     "text": [
      "  1%|▋                                                                    | 101085/10000000 [04:12<6:11:53, 443.62it/s]"
     ]
    },
    {
     "name": "stdout",
     "output_type": "stream",
     "text": [
      "\n",
      "Average td error: 1.2738, STD of STD: 0.0010214064189380933, Average ret: -11.62, Average steps: 11.92, Num_states: 1028626\n"
     ]
    },
    {
     "name": "stderr",
     "output_type": "stream",
     "text": [
      "  1%|▋                                                                    | 102053/10000000 [04:15<6:59:49, 392.94it/s]"
     ]
    },
    {
     "name": "stdout",
     "output_type": "stream",
     "text": [
      "\n",
      "Average td error: 0.9995, STD of STD: 0.0005937871176737972, Average ret: -11.77, Average steps: 11.95, Num_states: 1038640\n"
     ]
    },
    {
     "name": "stderr",
     "output_type": "stream",
     "text": [
      "  1%|▋                                                                   | 103046/10000000 [04:19<12:02:16, 228.37it/s]"
     ]
    },
    {
     "name": "stdout",
     "output_type": "stream",
     "text": [
      "\n",
      "Average td error: 0.9188, STD of STD: 0.00010126045831772451, Average ret: -11.84, Average steps: 11.96, Num_states: 1048655\n"
     ]
    },
    {
     "name": "stderr",
     "output_type": "stream",
     "text": [
      "  1%|▋                                                                    | 104048/10000000 [04:23<9:01:43, 304.46it/s]"
     ]
    },
    {
     "name": "stdout",
     "output_type": "stream",
     "text": [
      "\n",
      "Average td error: 0.9175, STD of STD: 9.94870355551727e-05, Average ret: -11.94, Average steps: 11.99, Num_states: 1058703\n"
     ]
    },
    {
     "name": "stderr",
     "output_type": "stream",
     "text": [
      "  1%|▋                                                                    | 105035/10000000 [04:28<9:28:01, 290.33it/s]"
     ]
    },
    {
     "name": "stdout",
     "output_type": "stream",
     "text": [
      "\n",
      "Average td error: 0.9175, STD of STD: 9.774711815323447e-05, Average ret: -11.96, Average steps: 11.99, Num_states: 1068748\n"
     ]
    },
    {
     "name": "stderr",
     "output_type": "stream",
     "text": [
      "  1%|▋                                                                    | 106064/10000000 [04:32<8:18:40, 330.68it/s]"
     ]
    },
    {
     "name": "stdout",
     "output_type": "stream",
     "text": [
      "\n",
      "Average td error: 0.9174, STD of STD: 9.773664497004929e-05, Average ret: -11.51, Average steps: 11.87, Num_states: 1078663\n"
     ]
    },
    {
     "name": "stderr",
     "output_type": "stream",
     "text": [
      "  1%|▋                                                                    | 107020/10000000 [04:35<7:38:05, 359.93it/s]"
     ]
    },
    {
     "name": "stdout",
     "output_type": "stream",
     "text": [
      "\n",
      "Average td error: 0.9444, STD of STD: 0.0001450032813373521, Average ret: -11.82, Average steps: 11.97, Num_states: 1088677\n"
     ]
    },
    {
     "name": "stderr",
     "output_type": "stream",
     "text": [
      "  1%|▋                                                                    | 108044/10000000 [04:38<9:11:31, 298.93it/s]"
     ]
    },
    {
     "name": "stdout",
     "output_type": "stream",
     "text": [
      "\n",
      "Average td error: 0.9174, STD of STD: 9.55180723089334e-05, Average ret: -11.83, Average steps: 11.98, Num_states: 1098699\n"
     ]
    },
    {
     "name": "stderr",
     "output_type": "stream",
     "text": [
      "  1%|▊                                                                    | 109042/10000000 [04:42<8:24:41, 326.63it/s]"
     ]
    },
    {
     "name": "stdout",
     "output_type": "stream",
     "text": [
      "\n",
      "Average td error: 0.9174, STD of STD: 9.390740132827359e-05, Average ret: -11.97, Average steps: 12.00, Num_states: 1108762\n"
     ]
    },
    {
     "name": "stderr",
     "output_type": "stream",
     "text": [
      "  1%|▊                                                                    | 110059/10000000 [04:45<8:37:35, 318.46it/s]"
     ]
    },
    {
     "name": "stdout",
     "output_type": "stream",
     "text": [
      "\n",
      "Average td error: 0.9173, STD of STD: 9.670072322250871e-05, Average ret: -10.78, Average steps: 11.71, Num_states: 1118449\n"
     ]
    },
    {
     "name": "stderr",
     "output_type": "stream",
     "text": [
      "  1%|▊                                                                    | 111021/10000000 [04:49<9:17:04, 295.86it/s]"
     ]
    },
    {
     "name": "stdout",
     "output_type": "stream",
     "text": [
      "\n",
      "Average td error: 0.9173, STD of STD: 9.509544852252046e-05, Average ret: -11.97, Average steps: 12.00, Num_states: 1128490\n"
     ]
    },
    {
     "name": "stderr",
     "output_type": "stream",
     "text": [
      "  1%|▊                                                                   | 112047/10000000 [04:53<10:45:06, 255.46it/s]"
     ]
    },
    {
     "name": "stdout",
     "output_type": "stream",
     "text": [
      "\n",
      "Average td error: 0.9173, STD of STD: 9.353048387315596e-05, Average ret: -11.97, Average steps: 12.00, Num_states: 1138533\n"
     ]
    },
    {
     "name": "stderr",
     "output_type": "stream",
     "text": [
      "  1%|▊                                                                    | 113041/10000000 [04:57<9:53:48, 277.50it/s]"
     ]
    },
    {
     "name": "stdout",
     "output_type": "stream",
     "text": [
      "\n",
      "Average td error: 0.9453, STD of STD: 0.00016258357681472898, Average ret: -11.89, Average steps: 11.98, Num_states: 1148562\n"
     ]
    },
    {
     "name": "stderr",
     "output_type": "stream",
     "text": [
      "  1%|▊                                                                    | 114063/10000000 [05:01<9:20:49, 293.79it/s]"
     ]
    },
    {
     "name": "stdout",
     "output_type": "stream",
     "text": [
      "\n",
      "Average td error: 1.4397, STD of STD: 0.001277967049971062, Average ret: -11.53, Average steps: 11.89, Num_states: 1158486\n"
     ]
    },
    {
     "name": "stderr",
     "output_type": "stream",
     "text": [
      "  1%|▊                                                                    | 115054/10000000 [05:03<7:24:30, 370.63it/s]"
     ]
    },
    {
     "name": "stdout",
     "output_type": "stream",
     "text": [
      "\n",
      "Average td error: 1.3441, STD of STD: 0.0012491619751684839, Average ret: -9.82, Average steps: 11.44, Num_states: 1167903\n"
     ]
    },
    {
     "name": "stderr",
     "output_type": "stream",
     "text": [
      "  1%|▊                                                                   | 116020/10000000 [05:09<12:54:23, 212.73it/s]"
     ]
    },
    {
     "name": "stdout",
     "output_type": "stream",
     "text": [
      "\n",
      "Average td error: 0.9173, STD of STD: 9.603835641491999e-05, Average ret: -11.88, Average steps: 11.97, Num_states: 1177898\n"
     ]
    },
    {
     "name": "stderr",
     "output_type": "stream",
     "text": [
      "  1%|▊                                                                   | 117028/10000000 [05:13<11:39:40, 235.42it/s]"
     ]
    },
    {
     "name": "stdout",
     "output_type": "stream",
     "text": [
      "\n",
      "Average td error: 0.9172, STD of STD: 9.463583873675842e-05, Average ret: -11.93, Average steps: 11.99, Num_states: 1187933\n"
     ]
    },
    {
     "name": "stderr",
     "output_type": "stream",
     "text": [
      "  1%|▊                                                                    | 118057/10000000 [05:17<7:48:25, 351.60it/s]"
     ]
    },
    {
     "name": "stdout",
     "output_type": "stream",
     "text": [
      "\n",
      "Average td error: 0.9172, STD of STD: 9.31526244670778e-05, Average ret: -11.97, Average steps: 12.00, Num_states: 1197979\n"
     ]
    },
    {
     "name": "stderr",
     "output_type": "stream",
     "text": [
      "  1%|▊                                                                    | 119013/10000000 [05:20<9:31:54, 287.95it/s]"
     ]
    },
    {
     "name": "stdout",
     "output_type": "stream",
     "text": [
      "\n",
      "Average td error: 0.9172, STD of STD: 9.181931825893324e-05, Average ret: -11.93, Average steps: 11.99, Num_states: 1208016\n"
     ]
    },
    {
     "name": "stderr",
     "output_type": "stream",
     "text": [
      "  1%|▊                                                                    | 120019/10000000 [05:25<9:25:26, 291.22it/s]"
     ]
    },
    {
     "name": "stdout",
     "output_type": "stream",
     "text": [
      "\n",
      "Average td error: 0.9452, STD of STD: 0.0001998100169542279, Average ret: -11.69, Average steps: 11.93, Num_states: 1217985\n"
     ]
    },
    {
     "name": "stderr",
     "output_type": "stream",
     "text": [
      "  1%|▊                                                                   | 121044/10000000 [05:29<10:11:04, 269.45it/s]"
     ]
    },
    {
     "name": "stdout",
     "output_type": "stream",
     "text": [
      "\n",
      "Average td error: 0.9442, STD of STD: 9.997849986229417e-05, Average ret: -11.86, Average steps: 11.98, Num_states: 1228005\n"
     ]
    },
    {
     "name": "stderr",
     "output_type": "stream",
     "text": [
      "  1%|▊                                                                    | 122056/10000000 [05:32<7:00:06, 391.88it/s]"
     ]
    },
    {
     "name": "stdout",
     "output_type": "stream",
     "text": [
      "\n",
      "Average td error: 0.9172, STD of STD: 8.899393330617248e-05, Average ret: -11.89, Average steps: 11.98, Num_states: 1238022\n"
     ]
    },
    {
     "name": "stderr",
     "output_type": "stream",
     "text": [
      "  1%|▊                                                                    | 123044/10000000 [05:36<8:31:02, 322.12it/s]"
     ]
    },
    {
     "name": "stdout",
     "output_type": "stream",
     "text": [
      "\n",
      "Average td error: 0.9452, STD of STD: 0.00017231998298180114, Average ret: -11.90, Average steps: 11.99, Num_states: 1248044\n"
     ]
    },
    {
     "name": "stderr",
     "output_type": "stream",
     "text": [
      "  1%|▊                                                                    | 124001/10000000 [05:39<7:43:06, 355.43it/s]"
     ]
    },
    {
     "name": "stdout",
     "output_type": "stream",
     "text": [
      "\n",
      "Average td error: 1.1755, STD of STD: 0.0004241328178228238, Average ret: -11.01, Average steps: 11.76, Num_states: 1257750\n"
     ]
    },
    {
     "name": "stderr",
     "output_type": "stream",
     "text": [
      "  1%|▊                                                                   | 125043/10000000 [05:43<11:06:13, 247.04it/s]"
     ]
    },
    {
     "name": "stdout",
     "output_type": "stream",
     "text": [
      "\n",
      "Average td error: 0.9172, STD of STD: 8.954876320979555e-05, Average ret: -11.34, Average steps: 11.85, Num_states: 1267561\n"
     ]
    },
    {
     "name": "stderr",
     "output_type": "stream",
     "text": [
      "  1%|▊                                                                    | 126039/10000000 [05:47<9:06:41, 301.02it/s]"
     ]
    },
    {
     "name": "stdout",
     "output_type": "stream",
     "text": [
      "\n",
      "Average td error: 0.9452, STD of STD: 0.00017482547606772496, Average ret: -11.87, Average steps: 11.99, Num_states: 1277583\n"
     ]
    },
    {
     "name": "stderr",
     "output_type": "stream",
     "text": [
      "  1%|▊                                                                   | 127016/10000000 [05:51<12:57:15, 211.70it/s]"
     ]
    },
    {
     "name": "stdout",
     "output_type": "stream",
     "text": [
      "\n",
      "Average td error: 0.9172, STD of STD: 8.734272902709778e-05, Average ret: -11.93, Average steps: 11.99, Num_states: 1287613\n"
     ]
    },
    {
     "name": "stderr",
     "output_type": "stream",
     "text": [
      "  1%|▊                                                                   | 128060/10000000 [05:56<10:57:23, 250.28it/s]"
     ]
    },
    {
     "name": "stdout",
     "output_type": "stream",
     "text": [
      "\n",
      "Average td error: 0.9172, STD of STD: 8.61892388688464e-05, Average ret: -11.92, Average steps: 11.98, Num_states: 1297626\n"
     ]
    },
    {
     "name": "stderr",
     "output_type": "stream",
     "text": [
      "  1%|▉                                                                   | 129041/10000000 [06:00<10:03:50, 272.45it/s]"
     ]
    },
    {
     "name": "stdout",
     "output_type": "stream",
     "text": [
      "\n",
      "Average td error: 1.4556, STD of STD: 0.0010041087679190494, Average ret: -10.93, Average steps: 11.74, Num_states: 1307344\n"
     ]
    },
    {
     "name": "stderr",
     "output_type": "stream",
     "text": [
      "  1%|▉                                                                    | 130034/10000000 [06:04<9:57:38, 275.25it/s]"
     ]
    },
    {
     "name": "stdout",
     "output_type": "stream",
     "text": [
      "\n",
      "Average td error: 0.9171, STD of STD: 8.655963703228393e-05, Average ret: -11.80, Average steps: 11.95, Num_states: 1317325\n"
     ]
    },
    {
     "name": "stderr",
     "output_type": "stream",
     "text": [
      "  1%|▉                                                                    | 131056/10000000 [06:09<9:50:49, 278.40it/s]"
     ]
    },
    {
     "name": "stdout",
     "output_type": "stream",
     "text": [
      "\n",
      "Average td error: 0.9451, STD of STD: 0.00015058999020479567, Average ret: -11.87, Average steps: 11.99, Num_states: 1327355\n"
     ]
    },
    {
     "name": "stderr",
     "output_type": "stream",
     "text": [
      "  1%|▉                                                                   | 132052/10000000 [06:13<12:27:26, 220.04it/s]"
     ]
    },
    {
     "name": "stdout",
     "output_type": "stream",
     "text": [
      "\n",
      "Average td error: 0.9755, STD of STD: 6.382561411236948e-05, Average ret: -11.41, Average steps: 11.86, Num_states: 1337195\n"
     ]
    },
    {
     "name": "stderr",
     "output_type": "stream",
     "text": [
      "  1%|▉                                                                   | 133043/10000000 [06:18<10:34:48, 259.06it/s]"
     ]
    },
    {
     "name": "stdout",
     "output_type": "stream",
     "text": [
      "\n",
      "Average td error: 0.9171, STD of STD: 8.540121140091964e-05, Average ret: -11.57, Average steps: 11.90, Num_states: 1347084\n"
     ]
    },
    {
     "name": "stderr",
     "output_type": "stream",
     "text": [
      "  1%|▉                                                                    | 134061/10000000 [06:22<7:42:50, 355.26it/s]"
     ]
    },
    {
     "name": "stdout",
     "output_type": "stream",
     "text": [
      "\n",
      "Average td error: 0.9171, STD of STD: 8.485826162834599e-05, Average ret: -11.72, Average steps: 11.96, Num_states: 1357044\n"
     ]
    },
    {
     "name": "stderr",
     "output_type": "stream",
     "text": [
      "  1%|▉                                                                    | 135068/10000000 [06:26<8:14:16, 332.64it/s]"
     ]
    },
    {
     "name": "stdout",
     "output_type": "stream",
     "text": [
      "\n",
      "Average td error: 0.9171, STD of STD: 8.37806383670672e-05, Average ret: -11.93, Average steps: 11.99, Num_states: 1367057\n"
     ]
    },
    {
     "name": "stderr",
     "output_type": "stream",
     "text": [
      "  1%|▉                                                                   | 136013/10000000 [06:30<14:23:31, 190.38it/s]"
     ]
    },
    {
     "name": "stdout",
     "output_type": "stream",
     "text": [
      "\n",
      "Average td error: 0.9171, STD of STD: 8.281250867893398e-05, Average ret: -11.89, Average steps: 11.98, Num_states: 1377070\n"
     ]
    },
    {
     "name": "stderr",
     "output_type": "stream",
     "text": [
      "  1%|▉                                                                   | 137037/10000000 [06:37<10:44:28, 255.06it/s]"
     ]
    },
    {
     "name": "stdout",
     "output_type": "stream",
     "text": [
      "\n",
      "Average td error: 1.5110, STD of STD: 0.0008945022900370693, Average ret: -11.09, Average steps: 11.78, Num_states: 1386838\n"
     ]
    },
    {
     "name": "stderr",
     "output_type": "stream",
     "text": [
      "  1%|▉                                                                   | 138051/10000000 [06:41<11:16:12, 243.07it/s]"
     ]
    },
    {
     "name": "stdout",
     "output_type": "stream",
     "text": [
      "\n",
      "Average td error: 0.9171, STD of STD: 8.283878432876603e-05, Average ret: -11.82, Average steps: 11.97, Num_states: 1396818\n"
     ]
    },
    {
     "name": "stderr",
     "output_type": "stream",
     "text": [
      "  1%|▉                                                                   | 139015/10000000 [06:45<18:23:25, 148.95it/s]"
     ]
    },
    {
     "name": "stdout",
     "output_type": "stream",
     "text": [
      "\n",
      "Average td error: 0.9171, STD of STD: 8.245169754967931e-05, Average ret: -11.65, Average steps: 11.92, Num_states: 1406738\n"
     ]
    },
    {
     "name": "stderr",
     "output_type": "stream",
     "text": [
      "  1%|▉                                                                   | 140042/10000000 [06:50<12:12:17, 224.41it/s]"
     ]
    },
    {
     "name": "stdout",
     "output_type": "stream",
     "text": [
      "\n",
      "Average td error: 0.9171, STD of STD: 8.14399929793082e-05, Average ret: -11.94, Average steps: 11.99, Num_states: 1416764\n"
     ]
    },
    {
     "name": "stderr",
     "output_type": "stream",
     "text": [
      "  1%|▉                                                                    | 141081/10000000 [06:55<7:43:55, 354.19it/s]"
     ]
    },
    {
     "name": "stdout",
     "output_type": "stream",
     "text": [
      "\n",
      "Average td error: 0.9171, STD of STD: 8.052907966409367e-05, Average ret: -11.90, Average steps: 11.99, Num_states: 1426783\n"
     ]
    },
    {
     "name": "stderr",
     "output_type": "stream",
     "text": [
      "  1%|▉                                                                    | 142022/10000000 [07:00<8:04:48, 338.89it/s]"
     ]
    },
    {
     "name": "stdout",
     "output_type": "stream",
     "text": [
      "\n",
      "Average td error: 0.9171, STD of STD: 7.971590570101009e-05, Average ret: -11.85, Average steps: 11.97, Num_states: 1436785\n"
     ]
    },
    {
     "name": "stderr",
     "output_type": "stream",
     "text": [
      "  1%|▉                                                                    | 143010/10000000 [07:06<9:08:55, 299.28it/s]"
     ]
    },
    {
     "name": "stdout",
     "output_type": "stream",
     "text": [
      "\n",
      "Average td error: 1.4092, STD of STD: 0.0009521173745019805, Average ret: -11.53, Average steps: 11.89, Num_states: 1446685\n"
     ]
    },
    {
     "name": "stderr",
     "output_type": "stream",
     "text": [
      "  1%|▉                                                                    | 144053/10000000 [07:10<6:57:49, 393.14it/s]"
     ]
    },
    {
     "name": "stdout",
     "output_type": "stream",
     "text": [
      "\n",
      "Average td error: 1.6290, STD of STD: 0.0009642358148457208, Average ret: -8.78, Average steps: 11.24, Num_states: 1455724\n"
     ]
    },
    {
     "name": "stderr",
     "output_type": "stream",
     "text": [
      "  1%|▉                                                                   | 145035/10000000 [07:14<10:51:55, 251.95it/s]"
     ]
    },
    {
     "name": "stdout",
     "output_type": "stream",
     "text": [
      "\n",
      "Average td error: 1.7438, STD of STD: 0.0013382602778177746, Average ret: -8.46, Average steps: 11.16, Num_states: 1464723\n"
     ]
    },
    {
     "name": "stderr",
     "output_type": "stream",
     "text": [
      "  1%|█                                                                    | 146072/10000000 [07:18<8:09:21, 335.61it/s]"
     ]
    },
    {
     "name": "stdout",
     "output_type": "stream",
     "text": [
      "\n",
      "Average td error: 1.5037, STD of STD: 0.0009915960886252248, Average ret: -8.50, Average steps: 11.17, Num_states: 1473738\n"
     ]
    },
    {
     "name": "stderr",
     "output_type": "stream",
     "text": [
      "  1%|█                                                                    | 147008/10000000 [07:21<8:08:23, 336.24it/s]"
     ]
    },
    {
     "name": "stdout",
     "output_type": "stream",
     "text": [
      "\n",
      "Average td error: 1.5185, STD of STD: 0.0009963784875519895, Average ret: -8.70, Average steps: 11.21, Num_states: 1482763\n"
     ]
    },
    {
     "name": "stderr",
     "output_type": "stream",
     "text": [
      "  1%|█                                                                    | 148029/10000000 [07:25<8:50:17, 309.64it/s]"
     ]
    },
    {
     "name": "stdout",
     "output_type": "stream",
     "text": [
      "\n",
      "Average td error: 1.5241, STD of STD: 0.0007658962007671974, Average ret: -8.72, Average steps: 11.21, Num_states: 1491783\n"
     ]
    },
    {
     "name": "stderr",
     "output_type": "stream",
     "text": [
      "  1%|█                                                                    | 149045/10000000 [07:29<9:05:11, 301.15it/s]"
     ]
    },
    {
     "name": "stdout",
     "output_type": "stream",
     "text": [
      "\n",
      "Average td error: 1.8024, STD of STD: 0.0017407145622540224, Average ret: -8.15, Average steps: 11.09, Num_states: 1500716\n"
     ]
    },
    {
     "name": "stderr",
     "output_type": "stream",
     "text": [
      "  2%|█                                                                    | 150079/10000000 [07:33<7:15:12, 377.22it/s]"
     ]
    },
    {
     "name": "stdout",
     "output_type": "stream",
     "text": [
      "\n",
      "Average td error: 1.7483, STD of STD: 0.0013248168076065974, Average ret: -6.82, Average steps: 10.75, Num_states: 1509233\n"
     ]
    },
    {
     "name": "stderr",
     "output_type": "stream",
     "text": [
      "  2%|█                                                                    | 151034/10000000 [07:37<8:08:40, 335.91it/s]"
     ]
    },
    {
     "name": "stdout",
     "output_type": "stream",
     "text": [
      "\n",
      "Average td error: 1.7199, STD of STD: 0.001473128705801908, Average ret: -6.93, Average steps: 10.77, Num_states: 1517746\n"
     ]
    },
    {
     "name": "stderr",
     "output_type": "stream",
     "text": [
      "  2%|█                                                                   | 151973/10000000 [07:41<17:07:04, 159.81it/s]"
     ]
    },
    {
     "name": "stdout",
     "output_type": "stream",
     "text": [
      "\n",
      "Average td error: 2.0288, STD of STD: 0.0017156240929303071, Average ret: -6.40, Average steps: 10.63, Num_states: 1526133\n"
     ]
    },
    {
     "name": "stderr",
     "output_type": "stream",
     "text": [
      "  2%|█                                                                    | 153060/10000000 [07:46<7:10:43, 381.03it/s]"
     ]
    },
    {
     "name": "stdout",
     "output_type": "stream",
     "text": [
      "\n",
      "Average td error: 1.7876, STD of STD: 0.0015127788076311098, Average ret: -6.25, Average steps: 10.60, Num_states: 1534464\n"
     ]
    },
    {
     "name": "stderr",
     "output_type": "stream",
     "text": [
      "  2%|█                                                                    | 154059/10000000 [07:48<8:30:34, 321.40it/s]"
     ]
    },
    {
     "name": "stdout",
     "output_type": "stream",
     "text": [
      "\n",
      "Average td error: 1.1567, STD of STD: 0.0005037991701549217, Average ret: -7.46, Average steps: 10.88, Num_states: 1543131\n"
     ]
    },
    {
     "name": "stderr",
     "output_type": "stream",
     "text": [
      "  2%|█                                                                    | 155055/10000000 [07:52<8:24:04, 325.51it/s]"
     ]
    },
    {
     "name": "stdout",
     "output_type": "stream",
     "text": [
      "\n",
      "Average td error: 0.9171, STD of STD: 0.00014261114655390988, Average ret: -11.73, Average steps: 11.94, Num_states: 1553097\n"
     ]
    },
    {
     "name": "stderr",
     "output_type": "stream",
     "text": [
      "  2%|█                                                                   | 156032/10000000 [07:57<11:44:30, 232.88it/s]"
     ]
    },
    {
     "name": "stdout",
     "output_type": "stream",
     "text": [
      "\n",
      "Average td error: 0.9171, STD of STD: 0.00014111703558737784, Average ret: -11.82, Average steps: 11.97, Num_states: 1563098\n"
     ]
    },
    {
     "name": "stderr",
     "output_type": "stream",
     "text": [
      "  2%|█                                                                   | 157013/10000000 [08:01<15:15:05, 179.27it/s]"
     ]
    },
    {
     "name": "stdout",
     "output_type": "stream",
     "text": [
      "\n",
      "Average td error: 0.9171, STD of STD: 0.00013964735684707496, Average ret: -11.84, Average steps: 11.99, Num_states: 1573105\n"
     ]
    },
    {
     "name": "stderr",
     "output_type": "stream",
     "text": [
      "  2%|█                                                                   | 158027/10000000 [08:06<15:43:27, 173.86it/s]"
     ]
    },
    {
     "name": "stdout",
     "output_type": "stream",
     "text": [
      "\n",
      "Average td error: 1.2552, STD of STD: 0.00021541314996381547, Average ret: -11.10, Average steps: 11.79, Num_states: 1582863\n"
     ]
    },
    {
     "name": "stderr",
     "output_type": "stream",
     "text": [
      "  2%|█                                                                   | 159016/10000000 [08:10<15:45:32, 173.46it/s]"
     ]
    },
    {
     "name": "stdout",
     "output_type": "stream",
     "text": [
      "\n",
      "Average td error: 0.9171, STD of STD: 0.0001393103051926756, Average ret: -10.92, Average steps: 11.73, Num_states: 1592577\n"
     ]
    },
    {
     "name": "stderr",
     "output_type": "stream",
     "text": [
      "  2%|█                                                                   | 160028/10000000 [08:15<12:03:50, 226.57it/s]"
     ]
    },
    {
     "name": "stdout",
     "output_type": "stream",
     "text": [
      "\n",
      "Average td error: 0.9171, STD of STD: 0.0001376337869420064, Average ret: -11.97, Average steps: 12.00, Num_states: 1602599\n"
     ]
    },
    {
     "name": "stderr",
     "output_type": "stream",
     "text": [
      "  2%|█                                                                   | 161025/10000000 [08:20<16:36:36, 164.54it/s]"
     ]
    },
    {
     "name": "stdout",
     "output_type": "stream",
     "text": [
      "\n",
      "Average td error: 1.3659, STD of STD: 0.00048422199863508165, Average ret: -10.09, Average steps: 11.53, Num_states: 1612102\n"
     ]
    },
    {
     "name": "stderr",
     "output_type": "stream",
     "text": [
      "  2%|█                                                                    | 162061/10000000 [08:23<7:16:18, 375.80it/s]"
     ]
    },
    {
     "name": "stdout",
     "output_type": "stream",
     "text": [
      "\n",
      "Average td error: 1.2108, STD of STD: 0.00019191123045467017, Average ret: -11.00, Average steps: 11.78, Num_states: 1621871\n"
     ]
    },
    {
     "name": "stderr",
     "output_type": "stream",
     "text": [
      "  2%|█                                                                    | 163030/10000000 [08:26<8:22:52, 326.02it/s]"
     ]
    },
    {
     "name": "stdout",
     "output_type": "stream",
     "text": [
      "\n",
      "Average td error: 0.9172, STD of STD: 0.00013993006095317775, Average ret: -10.22, Average steps: 11.57, Num_states: 1631307\n"
     ]
    },
    {
     "name": "stderr",
     "output_type": "stream",
     "text": [
      "  2%|█▏                                                                   | 163745/10000000 [08:31<8:31:52, 320.27it/s]\n"
     ]
    },
    {
     "ename": "MemoryError",
     "evalue": "Unable to allocate 32.0 KiB for an array with shape (4096,) and data type float64",
     "output_type": "error",
     "traceback": [
      "\u001b[1;31m---------------------------------------------------------------------------\u001b[0m",
      "\u001b[1;31mMemoryError\u001b[0m                               Traceback (most recent call last)",
      "\u001b[1;32m~\\AppData\\Local\\Temp\\ipykernel_10904\\2389984022.py\u001b[0m in \u001b[0;36m<module>\u001b[1;34m\u001b[0m\n\u001b[0;32m      7\u001b[0m \u001b[1;33m\u001b[0m\u001b[0m\n\u001b[0;32m      8\u001b[0m \u001b[0magent\u001b[0m \u001b[1;33m=\u001b[0m \u001b[0mq_agent\u001b[0m\u001b[1;33m(\u001b[0m\u001b[0menv\u001b[0m\u001b[1;33m,\u001b[0m \u001b[0menv\u001b[0m\u001b[1;33m.\u001b[0m\u001b[0mstate_dim\u001b[0m\u001b[1;33m,\u001b[0m \u001b[0menv\u001b[0m\u001b[1;33m.\u001b[0m\u001b[0maction_dim\u001b[0m\u001b[1;33m,\u001b[0m \u001b[0mepsilon\u001b[0m\u001b[1;33m=\u001b[0m\u001b[1;36m0.05\u001b[0m\u001b[1;33m,\u001b[0m \u001b[0mgamma\u001b[0m\u001b[1;33m=\u001b[0m\u001b[1;36m1\u001b[0m\u001b[1;33m,\u001b[0m \u001b[0malpha\u001b[0m\u001b[1;33m=\u001b[0m\u001b[1;36m0.2\u001b[0m\u001b[1;33m,\u001b[0m \u001b[0mtol\u001b[0m\u001b[1;33m=\u001b[0m\u001b[1;36m1e-7\u001b[0m\u001b[1;33m)\u001b[0m\u001b[1;33m\u001b[0m\u001b[1;33m\u001b[0m\u001b[0m\n\u001b[1;32m----> 9\u001b[1;33m \u001b[0mq\u001b[0m \u001b[1;33m=\u001b[0m \u001b[0magent\u001b[0m\u001b[1;33m.\u001b[0m\u001b[0mtrain\u001b[0m\u001b[1;33m(\u001b[0m\u001b[0mint\u001b[0m\u001b[1;33m(\u001b[0m\u001b[1;36m1e7\u001b[0m\u001b[1;33m)\u001b[0m\u001b[1;33m)\u001b[0m\u001b[1;33m\u001b[0m\u001b[1;33m\u001b[0m\u001b[0m\n\u001b[0m",
      "\u001b[1;32m~\\OneDrive\\Documents\\PhD\\Year 1\\Research\\matermind_wordle\\q_agent.py\u001b[0m in \u001b[0;36mtrain\u001b[1;34m(self, num_episodes, scale)\u001b[0m\n\u001b[0;32m     84\u001b[0m                 \u001b[0maction\u001b[0m \u001b[1;33m=\u001b[0m \u001b[0mself\u001b[0m\u001b[1;33m.\u001b[0m\u001b[0mchoose_action\u001b[0m\u001b[1;33m(\u001b[0m\u001b[0mstate\u001b[0m\u001b[1;33m)\u001b[0m\u001b[1;33m\u001b[0m\u001b[1;33m\u001b[0m\u001b[0m\n\u001b[0;32m     85\u001b[0m                 \u001b[0mnew_state\u001b[0m\u001b[1;33m,\u001b[0m \u001b[0mreward\u001b[0m\u001b[1;33m,\u001b[0m \u001b[0mdone\u001b[0m\u001b[1;33m,\u001b[0m \u001b[0m_\u001b[0m\u001b[1;33m,\u001b[0m \u001b[0m_\u001b[0m \u001b[1;33m=\u001b[0m \u001b[0mself\u001b[0m\u001b[1;33m.\u001b[0m\u001b[0menv\u001b[0m\u001b[1;33m.\u001b[0m\u001b[0mstep\u001b[0m\u001b[1;33m(\u001b[0m\u001b[0maction\u001b[0m\u001b[1;33m)\u001b[0m\u001b[1;33m\u001b[0m\u001b[1;33m\u001b[0m\u001b[0m\n\u001b[1;32m---> 86\u001b[1;33m                 \u001b[0mupdate\u001b[0m \u001b[1;33m=\u001b[0m \u001b[0mself\u001b[0m\u001b[1;33m.\u001b[0m\u001b[0mupdate\u001b[0m\u001b[1;33m(\u001b[0m\u001b[0mstate\u001b[0m\u001b[1;33m,\u001b[0m \u001b[0maction\u001b[0m\u001b[1;33m,\u001b[0m \u001b[0mnew_state\u001b[0m\u001b[1;33m,\u001b[0m \u001b[0mreward\u001b[0m\u001b[1;33m,\u001b[0m \u001b[0mdone\u001b[0m\u001b[1;33m)\u001b[0m\u001b[1;33m\u001b[0m\u001b[1;33m\u001b[0m\u001b[0m\n\u001b[0m\u001b[0;32m     87\u001b[0m                 \u001b[0mstate\u001b[0m \u001b[1;33m=\u001b[0m \u001b[0mnew_state\u001b[0m\u001b[1;33m\u001b[0m\u001b[1;33m\u001b[0m\u001b[0m\n\u001b[0;32m     88\u001b[0m \u001b[1;33m\u001b[0m\u001b[0m\n",
      "\u001b[1;32m~\\OneDrive\\Documents\\PhD\\Year 1\\Research\\matermind_wordle\\q_agent.py\u001b[0m in \u001b[0;36mupdate\u001b[1;34m(self, state, action, new_state, reward, done)\u001b[0m\n\u001b[0;32m     50\u001b[0m         \u001b[1;31m# I don't want terminal state to ever appear in q_table\u001b[0m\u001b[1;33m\u001b[0m\u001b[1;33m\u001b[0m\u001b[0m\n\u001b[0;32m     51\u001b[0m         \u001b[1;32mif\u001b[0m \u001b[0mdone\u001b[0m\u001b[1;33m:\u001b[0m \u001b[0mq_max\u001b[0m \u001b[1;33m=\u001b[0m \u001b[1;36m0\u001b[0m\u001b[1;33m\u001b[0m\u001b[1;33m\u001b[0m\u001b[0m\n\u001b[1;32m---> 52\u001b[1;33m         \u001b[1;32melse\u001b[0m\u001b[1;33m:\u001b[0m \u001b[0mq_max\u001b[0m \u001b[1;33m=\u001b[0m \u001b[0mself\u001b[0m\u001b[1;33m.\u001b[0m\u001b[0mQ_table\u001b[0m\u001b[1;33m[\u001b[0m\u001b[0mtuple\u001b[0m\u001b[1;33m(\u001b[0m\u001b[0mnew_state\u001b[0m\u001b[1;33m)\u001b[0m\u001b[1;33m]\u001b[0m\u001b[1;33m.\u001b[0m\u001b[0mmax\u001b[0m\u001b[1;33m(\u001b[0m\u001b[1;33m)\u001b[0m\u001b[1;33m\u001b[0m\u001b[1;33m\u001b[0m\u001b[0m\n\u001b[0m\u001b[0;32m     53\u001b[0m \u001b[1;33m\u001b[0m\u001b[0m\n\u001b[0;32m     54\u001b[0m         \u001b[1;31m# Usual update, for only valid \"actions\"\u001b[0m\u001b[1;33m\u001b[0m\u001b[1;33m\u001b[0m\u001b[0m\n",
      "\u001b[1;32m~\\OneDrive\\Documents\\PhD\\Year 1\\Research\\matermind_wordle\\q_agent.py\u001b[0m in \u001b[0;36m<lambda>\u001b[1;34m()\u001b[0m\n\u001b[0;32m     21\u001b[0m         \u001b[0mself\u001b[0m\u001b[1;33m.\u001b[0m\u001b[0menv\u001b[0m \u001b[1;33m=\u001b[0m \u001b[0menv\u001b[0m\u001b[1;33m\u001b[0m\u001b[1;33m\u001b[0m\u001b[0m\n\u001b[0;32m     22\u001b[0m \u001b[1;33m\u001b[0m\u001b[0m\n\u001b[1;32m---> 23\u001b[1;33m         \u001b[0mself\u001b[0m\u001b[1;33m.\u001b[0m\u001b[0mQ_table\u001b[0m \u001b[1;33m=\u001b[0m \u001b[0mdefaultdict\u001b[0m\u001b[1;33m(\u001b[0m\u001b[1;32mlambda\u001b[0m\u001b[1;33m:\u001b[0m \u001b[0mnp\u001b[0m\u001b[1;33m.\u001b[0m\u001b[0mzeros\u001b[0m\u001b[1;33m(\u001b[0m\u001b[0mself\u001b[0m\u001b[1;33m.\u001b[0m\u001b[0maction_dim\u001b[0m\u001b[1;33m)\u001b[0m\u001b[1;33m)\u001b[0m\u001b[1;33m\u001b[0m\u001b[1;33m\u001b[0m\u001b[0m\n\u001b[0m\u001b[0;32m     24\u001b[0m \u001b[1;33m\u001b[0m\u001b[0m\n\u001b[0;32m     25\u001b[0m     \u001b[1;32mdef\u001b[0m \u001b[0mchoose_action\u001b[0m\u001b[1;33m(\u001b[0m\u001b[0mself\u001b[0m\u001b[1;33m,\u001b[0m \u001b[0mstate\u001b[0m\u001b[1;33m)\u001b[0m\u001b[1;33m:\u001b[0m\u001b[1;33m\u001b[0m\u001b[1;33m\u001b[0m\u001b[0m\n",
      "\u001b[1;31mMemoryError\u001b[0m: Unable to allocate 32.0 KiB for an array with shape (4096,) and data type float64"
     ]
    }
   ],
   "source": [
    "agent = q_agent(env, env.state_dim, env.action_dim, epsilon=0.05, gamma=1, alpha=0.2, tol=1e-7)\n",
    "q = agent.train(int(1e7))"
   ]
  },
  {
   "cell_type": "markdown",
   "id": "f42b6cff",
   "metadata": {},
   "source": [
    "# Test episode"
   ]
  },
  {
   "cell_type": "code",
   "execution_count": 9,
   "id": "b66d23eb",
   "metadata": {
    "scrolled": true
   },
   "outputs": [
    {
     "name": "stdout",
     "output_type": "stream",
     "text": [
      "['Y' 'W' 'G' 'R'] \n",
      "\n",
      "[['3' 'R' 'K' 'Y' 'W' '0']\n",
      " ['2' 'R' 'O' 'O' 'W' '0']\n",
      " ['2' 'O' 'R' 'B' 'Y' '0']\n",
      " ['2' 'W' 'Y' 'K' 'W' '0']\n",
      " ['1' 'O' 'K' 'Y' 'P' '0']\n",
      " ['1' 'Y' 'G' 'P' 'G' '1']\n",
      " ['0' 'O' 'W' 'O' 'B' '1']\n",
      " ['1' 'O' 'B' 'O' 'W' '0']\n",
      " ['1' 'B' 'P' 'Y' 'K' '0']\n",
      " ['3' 'G' 'K' 'R' 'W' '0']\n",
      " ['1' 'W' 'O' 'W' 'P' '0']\n",
      " ['2' 'Y' 'G' 'W' 'K' '1']]\n",
      "-12\n",
      "\n",
      "\n",
      "\n",
      "['B' 'P' 'W' 'R'] \n",
      "\n",
      "[['1' 'O' 'O' 'P' 'O' '0']\n",
      " ['2' 'O' 'R' 'G' 'W' '0']\n",
      " ['0' 'Y' 'G' 'O' 'K' '0']\n",
      " ['2' 'P' 'Y' 'Y' 'W' '0']\n",
      " ['3' 'O' 'R' 'B' 'W' '0']\n",
      " ['0' 'Y' 'P' 'W' 'P' '2']\n",
      " ['1' 'G' 'O' 'O' 'B' '0']\n",
      " ['0' 'R' 'P' 'W' 'R' '3']\n",
      " ['0' 'W' 'G' 'W' 'R' '2']\n",
      " ['1' 'R' 'Y' 'G' 'K' '0']\n",
      " ['0' 'G' 'P' 'K' 'Y' '1']\n",
      " ['1' 'P' 'G' 'W' 'Y' '1']]\n",
      "-12\n",
      "\n",
      "\n",
      "\n",
      "['P' 'Y' 'R' 'G'] \n",
      "\n",
      "[['3' 'G' 'R' 'P' 'K' '0']\n",
      " ['0' 'K' 'B' 'O' 'O' '0']\n",
      " ['2' 'R' 'P' 'O' 'G' '1']\n",
      " ['0' 'P' 'W' 'P' 'P' '1']\n",
      " ['0' 'B' 'K' 'W' 'G' '1']\n",
      " ['0' 'B' 'O' 'B' 'B' '0']\n",
      " ['1' 'K' 'O' 'Y' 'O' '0']\n",
      " ['1' 'O' 'Y' 'K' 'P' '1']\n",
      " ['2' 'W' 'K' 'P' 'R' '0']\n",
      " ['1' 'W' 'O' 'Y' 'K' '0']\n",
      " ['3' 'Y' 'P' 'B' 'R' '0']\n",
      " ['2' 'Y' 'G' 'O' 'W' '0']]\n",
      "-12\n",
      "\n",
      "\n",
      "\n",
      "['Y' 'R' 'K' 'B'] \n",
      "\n",
      "[['1' 'B' 'R' 'K' 'P' '2']\n",
      " ['1' 'R' 'R' 'B' 'W' '1']\n",
      " ['1' 'O' 'P' 'B' 'G' '0']\n",
      " ['1' 'W' 'O' 'B' 'P' '0']\n",
      " ['0' 'G' 'R' 'W' 'R' '1']\n",
      " ['1' 'P' 'Y' 'Y' 'G' '0']\n",
      " ['1' 'R' 'G' 'P' 'R' '0']\n",
      " ['1' 'W' 'O' 'B' 'P' '0']\n",
      " ['2' 'G' 'Y' 'K' 'R' '1']\n",
      " ['2' 'P' 'Y' 'Y' 'K' '0']\n",
      " ['0' 'W' 'O' 'W' 'W' '0']\n",
      " ['0' 'P' 'O' 'P' 'B' '1']]\n",
      "-12\n",
      "\n",
      "\n",
      "\n",
      "['Y' 'W' 'P' 'O'] \n",
      "\n",
      "[['1' 'O' 'G' 'B' 'R' '0']\n",
      " ['1' 'K' 'Y' 'B' 'Y' '0']\n",
      " ['3' 'P' 'Y' 'W' 'P' '0']\n",
      " ['3' 'W' 'O' 'R' 'P' '0']\n",
      " ['1' 'O' 'R' 'O' 'K' '0']\n",
      " ['0' 'B' 'K' 'O' 'O' '1']\n",
      " ['1' 'B' 'W' 'R' 'Y' '1']\n",
      " ['2' 'P' 'B' 'W' 'O' '1']\n",
      " ['1' 'Y' 'K' 'Y' 'W' '1']\n",
      " ['2' 'P' 'R' 'W' 'B' '0']\n",
      " ['1' 'P' 'G' 'K' 'O' '1']\n",
      " ['2' 'R' 'O' 'W' 'K' '0']]\n",
      "-12\n",
      "\n",
      "\n",
      "\n",
      "['O' 'Y' 'W' 'R'] \n",
      "\n",
      "[['1' 'G' 'Y' 'W' 'O' '2']\n",
      " ['2' 'R' 'P' 'O' 'G' '0']\n",
      " ['1' 'W' 'B' 'P' 'G' '0']\n",
      " ['2' 'B' 'R' 'W' 'Y' '1']\n",
      " ['2' 'K' 'R' 'Y' 'G' '0']\n",
      " ['1' 'K' 'O' 'R' 'R' '1']\n",
      " ['0' 'G' 'K' 'G' 'R' '1']\n",
      " ['1' 'Y' 'P' 'W' 'B' '1']\n",
      " ['2' 'W' 'G' 'K' 'O' '0']\n",
      " ['0' 'K' 'B' 'K' 'B' '0']\n",
      " ['2' 'R' 'R' 'W' 'Y' '1']\n",
      " ['0' 'K' 'K' 'W' 'R' '2']]\n",
      "-12\n",
      "\n",
      "\n",
      "\n",
      "['B' 'W' 'B' 'O'] \n",
      "\n",
      "[['1' 'P' 'O' 'P' 'R' '0']\n",
      " ['1' 'G' 'K' 'G' 'B' '0']\n",
      " ['1' 'K' 'R' 'R' 'B' '0']\n",
      " ['0' 'G' 'W' 'W' 'P' '1']\n",
      " ['1' 'O' 'Y' 'Y' 'G' '0']\n",
      " ['1' 'R' 'O' 'Y' 'K' '0']\n",
      " ['1' 'P' 'P' 'W' 'P' '0']\n",
      " ['0' 'K' 'W' 'G' 'W' '1']\n",
      " ['1' 'R' 'P' 'W' 'G' '0']\n",
      " ['1' 'W' 'G' 'R' 'K' '0']\n",
      " ['1' 'G' 'Y' 'Y' 'B' '0']\n",
      " ['0' 'B' 'G' 'B' 'P' '2']]\n",
      "-12\n",
      "\n",
      "\n",
      "\n",
      "['G' 'Y' 'K' 'P'] \n",
      "\n",
      "[['0' 'O' 'Y' 'W' 'R' '1']\n",
      " ['0' 'P' 'P' 'B' 'P' '1']\n",
      " ['0' 'R' 'R' 'K' 'R' '1']\n",
      " ['1' 'B' 'O' 'P' 'W' '0']\n",
      " ['2' 'K' 'O' 'Y' 'O' '0']\n",
      " ['2' 'B' 'R' 'G' 'K' '0']\n",
      " ['1' 'W' 'K' 'P' 'P' '1']\n",
      " ['1' 'P' 'P' 'K' 'O' '1']\n",
      " ['1' 'R' 'Y' 'G' 'G' '1']\n",
      " ['1' 'O' 'K' 'R' 'O' '0']\n",
      " ['1' 'P' 'G' 'G' 'P' '1']\n",
      " ['0' 'B' 'Y' 'W' 'B' '1']]\n",
      "-12\n",
      "\n",
      "\n",
      "\n",
      "['O' 'G' 'O' 'R'] \n",
      "\n",
      "[['1' 'G' 'B' 'W' 'P' '0']\n",
      " ['0' 'O' 'B' 'Y' 'W' '1']\n",
      " ['0' 'W' 'G' 'O' 'P' '2']\n",
      " ['0' 'W' 'G' 'K' 'W' '1']\n",
      " ['2' 'B' 'O' 'G' 'B' '0']\n",
      " ['1' 'P' 'K' 'Y' 'O' '0']\n",
      " ['0' 'W' 'K' 'W' 'P' '0']\n",
      " ['2' 'O' 'R' 'B' 'O' '1']\n",
      " ['1' 'Y' 'W' 'R' 'K' '0']\n",
      " ['2' 'Y' 'O' 'P' 'O' '0']\n",
      " ['1' 'K' 'R' 'P' 'Y' '0']\n",
      " ['0' 'O' 'Y' 'O' 'B' '2']]\n",
      "-12\n",
      "\n",
      "\n",
      "\n",
      "['R' 'W' 'P' 'W'] \n",
      "\n",
      "[['0' 'K' 'Y' 'Y' 'O' '0']\n",
      " ['0' 'G' 'Y' 'G' 'Y' '0']\n",
      " ['1' 'P' 'K' 'K' 'G' '0']\n",
      " ['1' 'O' 'G' 'K' 'R' '0']\n",
      " ['1' 'B' 'G' 'R' 'G' '0']\n",
      " ['1' 'R' 'P' 'Y' 'R' '1']\n",
      " ['2' 'P' 'W' 'W' 'B' '1']\n",
      " ['1' 'Y' 'P' 'B' 'G' '0']\n",
      " ['0' 'R' 'W' 'K' 'B' '2']\n",
      " ['1' 'W' 'K' 'K' 'G' '0']\n",
      " ['1' 'B' 'K' 'R' 'G' '0']\n",
      " ['0' 'Y' 'G' 'G' 'K' '0']]\n",
      "-12\n",
      "\n",
      "\n",
      "\n",
      "['K' 'W' 'B' 'P'] \n",
      "\n",
      "[['0' 'O' 'R' 'O' 'R' '0']\n",
      " ['3' 'P' 'O' 'W' 'K' '0']\n",
      " ['0' 'P' 'P' 'Y' 'P' '1']\n",
      " ['2' 'B' 'K' 'R' 'B' '0']\n",
      " ['1' 'R' 'G' 'B' 'K' '1']\n",
      " ['0' 'G' 'W' 'G' 'Y' '1']\n",
      " ['3' 'P' 'B' 'W' 'B' '0']\n",
      " ['3' 'W' 'P' 'K' 'W' '0']\n",
      " ['2' 'K' 'P' 'B' 'W' '2']\n",
      " ['1' 'Y' 'R' 'Y' 'K' '0']\n",
      " ['0' 'R' 'W' 'B' 'P' '3']\n",
      " ['1' 'O' 'K' 'R' 'G' '0']]\n",
      "-12\n",
      "\n",
      "\n",
      "\n",
      "['R' 'P' 'O' 'R'] \n",
      "\n",
      "[['1' 'K' 'O' 'K' 'O' '0']\n",
      " ['0' 'W' 'G' 'B' 'W' '0']\n",
      " ['0' 'B' 'Y' 'G' 'G' '0']\n",
      " ['2' 'O' 'P' 'R' 'W' '1']\n",
      " ['1' 'K' 'K' 'Y' 'P' '0']\n",
      " ['0' 'B' 'B' 'B' 'Y' '0']\n",
      " ['2' 'O' 'G' 'R' 'R' '1']\n",
      " ['1' 'B' 'Y' 'Y' 'P' '0']\n",
      " ['0' 'Y' 'W' 'K' 'W' '0']\n",
      " ['0' 'K' 'G' 'W' 'B' '0']\n",
      " ['0' 'R' 'W' 'Y' 'R' '2']\n",
      " ['1' 'K' 'W' 'P' 'P' '0']]\n",
      "-12\n",
      "\n",
      "\n",
      "\n",
      "['W' 'K' 'O' 'K'] \n",
      "\n",
      "[['1' 'B' 'R' 'K' 'B' '0']\n",
      " ['1' 'K' 'B' 'O' 'R' '1']\n",
      " ['1' 'O' 'R' 'B' 'B' '0']\n",
      " ['0' 'P' 'K' 'G' 'K' '2']\n",
      " ['1' 'W' 'O' 'P' 'O' '1']\n",
      " ['3' 'K' 'O' 'B' 'W' '0']\n",
      " ['0' 'R' 'R' 'G' 'G' '0']\n",
      " ['1' 'W' 'R' 'K' 'R' '1']\n",
      " ['0' 'B' 'K' 'G' 'G' '1']\n",
      " ['2' 'K' 'R' 'O' 'W' '1']\n",
      " ['2' 'K' 'W' 'G' 'B' '0']\n",
      " ['1' 'G' 'Y' 'W' 'K' '1']]\n",
      "-12\n",
      "\n",
      "\n",
      "\n",
      "['B' 'R' 'G' 'Y'] \n",
      "\n",
      "[['1' 'G' 'W' 'K' 'P' '0']\n",
      " ['0' 'B' 'B' 'K' 'P' '1']\n",
      " ['0' 'K' 'O' 'W' 'W' '0']\n",
      " ['3' 'G' 'B' 'R' 'R' '0']\n",
      " ['3' 'R' 'Y' 'W' 'B' '0']\n",
      " ['1' 'B' 'P' 'W' 'R' '1']\n",
      " ['1' 'P' 'O' 'Y' 'W' '0']\n",
      " ['2' 'R' 'P' 'B' 'Y' '1']\n",
      " ['2' 'W' 'Y' 'P' 'B' '0']\n",
      " ['0' 'W' 'Y' 'P' 'Y' '1']\n",
      " ['1' 'P' 'G' 'W' 'Y' '1']\n",
      " ['2' 'O' 'P' 'Y' 'G' '0']]\n",
      "-12\n",
      "\n",
      "\n",
      "\n",
      "['K' 'R' 'W' 'B'] \n",
      "\n",
      "[['1' 'R' 'P' 'W' 'W' '1']\n",
      " ['1' 'B' 'P' 'P' 'G' '0']\n",
      " ['1' 'W' 'W' 'O' 'G' '0']\n",
      " ['0' 'K' 'B' 'O' 'B' '2']\n",
      " ['0' 'Y' 'G' 'G' 'Y' '0']\n",
      " ['3' 'W' 'B' 'P' 'R' '0']\n",
      " ['0' 'P' 'B' 'B' 'B' '1']\n",
      " ['1' 'W' 'W' 'O' 'Y' '0']\n",
      " ['2' 'R' 'K' 'R' 'R' '0']\n",
      " ['0' 'K' 'K' 'Y' 'Y' '1']\n",
      " ['1' 'O' 'W' 'W' 'K' '1']\n",
      " ['2' 'Y' 'K' 'R' 'B' '1']]\n",
      "-12\n",
      "\n",
      "\n",
      "\n",
      "['P' 'Y' 'O' 'G'] \n",
      "\n",
      "[['2' 'O' 'W' 'Y' 'Y' '0']\n",
      " ['1' 'O' 'W' 'O' 'P' '1']\n",
      " ['1' 'Y' 'O' 'O' 'G' '2']\n",
      " ['3' 'R' 'P' 'G' 'Y' '0']\n",
      " ['0' 'O' 'K' 'O' 'B' '1']\n",
      " ['2' 'Y' 'G' 'B' 'R' '0']\n",
      " ['1' 'R' 'P' 'B' 'B' '0']\n",
      " ['2' 'Y' 'W' 'O' 'P' '1']\n",
      " ['1' 'W' 'W' 'B' 'Y' '0']\n",
      " ['1' 'W' 'Y' 'R' 'P' '1']\n",
      " ['2' 'Y' 'P' 'R' 'Y' '0']\n",
      " ['0' 'P' 'G' 'G' 'G' '2']]\n",
      "-12\n",
      "\n",
      "\n",
      "\n",
      "['B' 'G' 'Y' 'W'] \n",
      "\n",
      "[['2' 'O' 'P' 'W' 'G' '0']\n",
      " ['0' 'P' 'G' 'G' 'R' '1']\n",
      " ['3' 'P' 'W' 'G' 'Y' '0']\n",
      " ['0' 'P' 'G' 'Y' 'W' '3']\n",
      " ['0' 'G' 'G' 'K' 'W' '2']\n",
      " ['0' 'R' 'K' 'R' 'O' '0']\n",
      " ['0' 'W' 'R' 'R' 'W' '1']\n",
      " ['1' 'W' 'W' 'Y' 'O' '1']\n",
      " ['1' 'Y' 'R' 'Y' 'B' '1']\n",
      " ['2' 'Y' 'K' 'O' 'G' '0']\n",
      " ['0' 'P' 'P' 'W' 'W' '1']\n",
      " ['1' 'P' 'R' 'W' 'R' '0']]\n",
      "-12\n",
      "\n",
      "\n",
      "\n",
      "['G' 'K' 'G' 'R'] \n",
      "\n",
      "[['1' 'Y' 'R' 'W' 'P' '0']\n",
      " ['1' 'O' 'O' 'W' 'K' '0']\n",
      " ['0' 'O' 'K' 'B' 'R' '2']\n",
      " ['0' 'B' 'K' 'Y' 'O' '1']\n",
      " ['2' 'W' 'B' 'K' 'G' '0']\n",
      " ['2' 'R' 'G' 'G' 'W' '1']\n",
      " ['0' 'O' 'P' 'Y' 'W' '0']\n",
      " ['2' 'K' 'R' 'Y' 'W' '0']\n",
      " ['1' 'P' 'G' 'W' 'O' '0']\n",
      " ['1' 'W' 'G' 'R' 'R' '1']\n",
      " ['0' 'Y' 'K' 'W' 'K' '1']\n",
      " ['0' 'B' 'W' 'P' 'B' '0']]\n",
      "-12\n",
      "\n",
      "\n",
      "\n",
      "['G' 'G' 'Y' 'O'] \n",
      "\n",
      "[['1' 'R' 'G' 'O' 'R' '1']\n",
      " ['1' 'O' 'K' 'O' 'P' '0']\n",
      " ['1' 'P' 'O' 'B' 'P' '0']\n",
      " ['0' 'G' 'B' 'Y' 'R' '2']\n",
      " ['1' 'Y' 'G' 'B' 'P' '1']\n",
      " ['0' 'P' 'B' 'P' 'K' '0']\n",
      " ['2' 'W' 'O' 'W' 'Y' '0']\n",
      " ['0' 'B' 'W' 'Y' 'W' '1']\n",
      " ['2' 'P' 'Y' 'O' 'K' '0']\n",
      " ['0' 'B' 'P' 'K' 'B' '0']\n",
      " ['1' 'K' 'W' 'R' 'Y' '0']\n",
      " ['1' 'G' 'G' 'G' 'Y' '2']]\n",
      "-12\n",
      "\n",
      "\n",
      "\n",
      "['W' 'Y' 'K' 'O'] \n",
      "\n",
      "[['2' 'G' 'O' 'W' 'B' '0']\n",
      " ['1' 'Y' 'B' 'B' 'G' '0']\n",
      " ['1' 'P' 'K' 'P' 'K' '0']\n",
      " ['1' 'W' 'O' 'K' 'G' '2']\n",
      " ['0' 'R' 'G' 'R' 'P' '0']\n",
      " ['2' 'R' 'O' 'W' 'B' '0']\n",
      " ['0' 'W' 'G' 'P' 'O' '2']\n",
      " ['1' 'O' 'P' 'B' 'B' '0']\n",
      " ['1' 'P' 'W' 'K' 'O' '2']\n",
      " ['2' 'O' 'B' 'W' 'R' '0']\n",
      " ['1' 'G' 'K' 'G' 'O' '1']\n",
      " ['1' 'O' 'B' 'K' 'K' '1']]\n",
      "-12\n",
      "\n",
      "\n",
      "\n"
     ]
    }
   ],
   "source": [
    "for g in range(20):\n",
    "\n",
    "    state, _ = env.reset()\n",
    "    env.goal = env.goals[g]\n",
    "    env.goal_render = np.array([env.colour_dict[i] for i in env.goal])\n",
    "    print(env.goal_render, '\\n')\n",
    "    step = 0\n",
    "    ret = 0\n",
    "\n",
    "    while True:\n",
    "\n",
    "        state, reward, done, _, _ = env.step(agent.choose_action(state, exp=False))\n",
    "        step += 1\n",
    "        ret += reward\n",
    "\n",
    "        if done: break\n",
    "\n",
    "    env.render()\n",
    "    print(ret)\n",
    "    print('\\n\\n')"
   ]
  }
 ],
 "metadata": {
  "kernelspec": {
   "display_name": "Python 3 (ipykernel)",
   "language": "python",
   "name": "python3"
  },
  "language_info": {
   "codemirror_mode": {
    "name": "ipython",
    "version": 3
   },
   "file_extension": ".py",
   "mimetype": "text/x-python",
   "name": "python",
   "nbconvert_exporter": "python",
   "pygments_lexer": "ipython3",
   "version": "3.9.13"
  }
 },
 "nbformat": 4,
 "nbformat_minor": 5
}
