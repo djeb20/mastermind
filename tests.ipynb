{
 "cells": [
  {
   "cell_type": "code",
   "execution_count": 1,
   "id": "ef5da553",
   "metadata": {},
   "outputs": [],
   "source": [
    "import numpy as np\n",
    "from mastermind import mastermind\n",
    "from q_agent import q_agent\n",
    "\n",
    "env = mastermind()"
   ]
  },
  {
   "cell_type": "code",
   "execution_count": 2,
   "id": "32ea337e",
   "metadata": {},
   "outputs": [
    {
     "name": "stdout",
     "output_type": "stream",
     "text": [
      "[[' ' ' ' ' ' ' ' ' ' ' ']\n",
      " [' ' ' ' ' ' ' ' ' ' ' ']\n",
      " [' ' ' ' ' ' ' ' ' ' ' ']\n",
      " [' ' ' ' ' ' ' ' ' ' ' ']\n",
      " [' ' ' ' ' ' ' ' ' ' ' ']\n",
      " [' ' ' ' ' ' ' ' ' ' ' ']\n",
      " [' ' ' ' ' ' ' ' ' ' ' ']\n",
      " [' ' ' ' ' ' ' ' ' ' ' ']\n",
      " [' ' ' ' ' ' ' ' ' ' ' ']\n",
      " [' ' ' ' ' ' ' ' ' ' ' ']\n",
      " [' ' ' ' ' ' ' ' ' ' ' ']\n",
      " [' ' ' ' ' ' ' ' ' ' ' ']]\n"
     ]
    }
   ],
   "source": [
    "env.reset()\n",
    "env.render()"
   ]
  },
  {
   "cell_type": "code",
   "execution_count": 3,
   "id": "c4cc4614",
   "metadata": {},
   "outputs": [
    {
     "name": "stdout",
     "output_type": "stream",
     "text": [
      "['R' 'P' 'B' 'O']\n"
     ]
    }
   ],
   "source": [
    "print(env.goal_render)"
   ]
  },
  {
   "cell_type": "code",
   "execution_count": 4,
   "id": "919bc53a",
   "metadata": {},
   "outputs": [
    {
     "name": "stdout",
     "output_type": "stream",
     "text": [
      "(array([0., 1., 0., 0., 0., 0., 0., 0., 0., 0., 0., 0., 0., 0., 0., 0., 0.,\n",
      "       0., 0., 0., 0., 0., 0., 0., 0., 0., 0., 0., 0., 0., 0., 0., 0., 0.,\n",
      "       0., 0., 0., 0., 0., 0., 0., 0., 0., 0., 0., 0., 0., 0., 0., 0., 0.,\n",
      "       0., 0., 0., 0., 0., 0., 0., 0., 0., 0., 0., 0., 0., 0., 0., 0., 0.,\n",
      "       0., 0., 0., 0.]), -1, False, False)\n",
      "\n",
      "(array([0., 1., 2., 0., 0., 0., 0., 0., 0., 0., 0., 0., 0., 0., 0., 0., 0.,\n",
      "       0., 0., 0., 0., 0., 0., 0., 0., 0., 0., 0., 0., 0., 0., 0., 0., 0.,\n",
      "       0., 0., 0., 0., 0., 0., 0., 0., 0., 0., 0., 0., 0., 0., 0., 0., 0.,\n",
      "       0., 0., 0., 0., 0., 0., 0., 0., 0., 0., 0., 0., 0., 0., 0., 0., 0.,\n",
      "       0., 0., 0., 0.]), -1, False, False)\n",
      "\n",
      "(array([0., 1., 2., 3., 0., 0., 0., 0., 0., 0., 0., 0., 0., 0., 0., 0., 0.,\n",
      "       0., 0., 0., 0., 0., 0., 0., 0., 0., 0., 0., 0., 0., 0., 0., 0., 0.,\n",
      "       0., 0., 0., 0., 0., 0., 0., 0., 0., 0., 0., 0., 0., 0., 0., 0., 0.,\n",
      "       0., 0., 0., 0., 0., 0., 0., 0., 0., 0., 0., 0., 0., 0., 0., 0., 0.,\n",
      "       0., 0., 0., 0.]), -1, False, False)\n",
      "\n",
      "(array([0., 1., 2., 3., 4., 4., 0., 0., 0., 0., 0., 0., 0., 0., 0., 0., 0.,\n",
      "       0., 0., 0., 0., 0., 0., 0., 0., 0., 0., 0., 0., 0., 0., 0., 0., 0.,\n",
      "       0., 0., 0., 0., 0., 0., 0., 0., 0., 0., 0., 0., 0., 0., 0., 0., 0.,\n",
      "       0., 0., 0., 0., 0., 0., 0., 0., 0., 0., 0., 0., 0., 0., 0., 0., 0.,\n",
      "       0., 0., 0., 0.]), 29, True, False)\n",
      "\n",
      "[[' ' ' ' ' ' ' ' ' ' ' ']\n",
      " [' ' ' ' ' ' ' ' ' ' ' ']\n",
      " [' ' ' ' ' ' ' ' ' ' ' ']\n",
      " [' ' ' ' ' ' ' ' ' ' ' ']\n",
      " [' ' ' ' ' ' ' ' ' ' ' ']\n",
      " [' ' ' ' ' ' ' ' ' ' ' ']\n",
      " [' ' ' ' ' ' ' ' ' ' ' ']\n",
      " [' ' ' ' ' ' ' ' ' ' ' ']\n",
      " [' ' ' ' ' ' ' ' ' ' ' ']\n",
      " [' ' ' ' ' ' ' ' ' ' ' ']\n",
      " [' ' ' ' ' ' ' ' ' ' ' ']\n",
      " [0 'R' 'P' 'B' 'O' 4]]\n",
      "1\n"
     ]
    }
   ],
   "source": [
    "for i in env.goal - 1:\n",
    "\n",
    "    print(env.step(i))\n",
    "    print()\n",
    "    \n",
    "env.render()\n",
    "print(env.count // 4)"
   ]
  },
  {
   "cell_type": "markdown",
   "id": "0a0baf2e",
   "metadata": {},
   "source": [
    "# Training"
   ]
  },
  {
   "cell_type": "code",
   "execution_count": 5,
   "id": "6cbf4467",
   "metadata": {},
   "outputs": [
    {
     "name": "stderr",
     "output_type": "stream",
     "text": [
      "\r",
      "  0%|                                                                                     | 0/10000000 [00:00<?, ?it/s]"
     ]
    },
    {
     "name": "stdout",
     "output_type": "stream",
     "text": [
      "\n",
      "Average td error: 1.0000, STD of STD: nan, Average ret: -48.00, Average steps: 12.00, Num_states: 48\n"
     ]
    },
    {
     "name": "stderr",
     "output_type": "stream",
     "text": [
      "C:\\Users\\Dan\\anaconda3\\lib\\site-packages\\numpy\\core\\_methods.py:229: RuntimeWarning: invalid value encountered in subtract\n",
      "  x = asanyarray(arr - arrmean)\n",
      "  0%|                                                                      | 1019/10000000 [00:08<23:53:15, 116.27it/s]"
     ]
    },
    {
     "name": "stdout",
     "output_type": "stream",
     "text": [
      "\n",
      "Average td error: 0.9575, STD of STD: 0.00014023325282865604, Average ret: -47.86, Average steps: 11.98, Num_states: 44542\n"
     ]
    },
    {
     "name": "stderr",
     "output_type": "stream",
     "text": [
      "  0%|                                                                       | 2063/10000000 [00:11<5:54:14, 470.38it/s]"
     ]
    },
    {
     "name": "stdout",
     "output_type": "stream",
     "text": [
      "\n",
      "Average td error: 0.7116, STD of STD: 0.00043717985374690254, Average ret: 0.62, Average steps: 4.78, Num_states: 59626\n"
     ]
    },
    {
     "name": "stderr",
     "output_type": "stream",
     "text": [
      "  0%|                                                                       | 3052/10000000 [00:13<5:20:02, 520.62it/s]"
     ]
    },
    {
     "name": "stdout",
     "output_type": "stream",
     "text": [
      "\n",
      "Average td error: 0.6261, STD of STD: 0.0004779427798889302, Average ret: 12.52, Average steps: 3.01, Num_states: 67569\n"
     ]
    },
    {
     "name": "stderr",
     "output_type": "stream",
     "text": [
      "  0%|                                                                       | 4090/10000000 [00:15<5:07:11, 542.32it/s]"
     ]
    },
    {
     "name": "stdout",
     "output_type": "stream",
     "text": [
      "\n",
      "Average td error: 0.6090, STD of STD: 0.00041015177423264315, Average ret: 15.64, Average steps: 2.54, Num_states: 73635\n"
     ]
    },
    {
     "name": "stderr",
     "output_type": "stream",
     "text": [
      "  0%|                                                                       | 5074/10000000 [00:17<4:48:52, 576.64it/s]"
     ]
    },
    {
     "name": "stdout",
     "output_type": "stream",
     "text": [
      "\n",
      "Average td error: 0.6459, STD of STD: 0.00021282860352745235, Average ret: 13.64, Average steps: 2.84, Num_states: 80858\n"
     ]
    },
    {
     "name": "stderr",
     "output_type": "stream",
     "text": [
      "  0%|                                                                       | 6124/10000000 [00:19<4:50:34, 573.24it/s]"
     ]
    },
    {
     "name": "stdout",
     "output_type": "stream",
     "text": [
      "\n",
      "Average td error: 0.7179, STD of STD: 7.577982178478999e-05, Average ret: 14.97, Average steps: 2.64, Num_states: 87322\n"
     ]
    },
    {
     "name": "stderr",
     "output_type": "stream",
     "text": [
      "  0%|                                                                       | 7056/10000000 [00:21<6:25:34, 431.96it/s]"
     ]
    },
    {
     "name": "stdout",
     "output_type": "stream",
     "text": [
      "\n",
      "Average td error: 0.7308, STD of STD: 6.378780963231161e-05, Average ret: 13.49, Average steps: 2.86, Num_states: 94621\n"
     ]
    },
    {
     "name": "stderr",
     "output_type": "stream",
     "text": [
      "  0%|                                                                       | 8074/10000000 [00:23<7:33:18, 367.37it/s]"
     ]
    },
    {
     "name": "stdout",
     "output_type": "stream",
     "text": [
      "\n",
      "Average td error: 0.7529, STD of STD: 9.902646871365721e-05, Average ret: 12.83, Average steps: 2.96, Num_states: 102298\n"
     ]
    },
    {
     "name": "stderr",
     "output_type": "stream",
     "text": [
      "  0%|                                                                       | 9071/10000000 [00:25<6:10:18, 449.66it/s]"
     ]
    },
    {
     "name": "stdout",
     "output_type": "stream",
     "text": [
      "\n",
      "Average td error: 0.6427, STD of STD: 8.254135623052715e-05, Average ret: 13.96, Average steps: 2.79, Num_states: 109343\n"
     ]
    },
    {
     "name": "stderr",
     "output_type": "stream",
     "text": [
      "  0%|                                                                      | 10067/10000000 [00:28<6:49:51, 406.24it/s]"
     ]
    },
    {
     "name": "stdout",
     "output_type": "stream",
     "text": [
      "\n",
      "Average td error: 0.6247, STD of STD: 4.664161694356213e-05, Average ret: 14.05, Average steps: 2.78, Num_states: 116315\n"
     ]
    },
    {
     "name": "stderr",
     "output_type": "stream",
     "text": [
      "  0%|                                                                      | 11078/10000000 [00:30<6:35:05, 421.38it/s]"
     ]
    },
    {
     "name": "stdout",
     "output_type": "stream",
     "text": [
      "\n",
      "Average td error: 0.7046, STD of STD: 5.032022026167483e-05, Average ret: 13.86, Average steps: 2.80, Num_states: 123368\n"
     ]
    },
    {
     "name": "stderr",
     "output_type": "stream",
     "text": [
      "  0%|                                                                      | 12044/10000000 [00:33<9:39:03, 287.48it/s]"
     ]
    },
    {
     "name": "stdout",
     "output_type": "stream",
     "text": [
      "\n",
      "Average td error: 0.6341, STD of STD: 7.634628236844414e-05, Average ret: 14.90, Average steps: 2.65, Num_states: 129815\n"
     ]
    },
    {
     "name": "stderr",
     "output_type": "stream",
     "text": [
      "  0%|                                                                      | 13064/10000000 [00:36<8:44:32, 317.32it/s]"
     ]
    },
    {
     "name": "stdout",
     "output_type": "stream",
     "text": [
      "\n",
      "Average td error: 0.7151, STD of STD: 7.357933298396966e-05, Average ret: 13.82, Average steps: 2.81, Num_states: 136863\n"
     ]
    },
    {
     "name": "stderr",
     "output_type": "stream",
     "text": [
      "  0%|                                                                      | 14052/10000000 [00:38<5:26:07, 510.34it/s]"
     ]
    },
    {
     "name": "stdout",
     "output_type": "stream",
     "text": [
      "\n",
      "Average td error: 0.6656, STD of STD: 4.158404699405233e-05, Average ret: 14.60, Average steps: 2.69, Num_states: 143441\n"
     ]
    },
    {
     "name": "stderr",
     "output_type": "stream",
     "text": [
      "  0%|                                                                      | 15126/10000000 [00:40<4:19:31, 641.21it/s]"
     ]
    },
    {
     "name": "stdout",
     "output_type": "stream",
     "text": [
      "\n",
      "Average td error: 0.6284, STD of STD: 2.0753986158685365e-05, Average ret: 12.51, Average steps: 3.01, Num_states: 151222\n"
     ]
    },
    {
     "name": "stderr",
     "output_type": "stream",
     "text": [
      "  0%|                                                                      | 16077/10000000 [00:42<5:21:19, 517.86it/s]"
     ]
    },
    {
     "name": "stdout",
     "output_type": "stream",
     "text": [
      "\n",
      "Average td error: 0.6704, STD of STD: 5.25821054596718e-05, Average ret: 12.24, Average steps: 3.05, Num_states: 159139\n"
     ]
    },
    {
     "name": "stderr",
     "output_type": "stream",
     "text": [
      "  0%|                                                                      | 17097/10000000 [00:44<4:50:11, 573.34it/s]"
     ]
    },
    {
     "name": "stdout",
     "output_type": "stream",
     "text": [
      "\n",
      "Average td error: 0.6407, STD of STD: 3.972768181123904e-05, Average ret: 13.47, Average steps: 2.87, Num_states: 166350\n"
     ]
    },
    {
     "name": "stderr",
     "output_type": "stream",
     "text": [
      "  0%|▏                                                                     | 18095/10000000 [00:45<4:45:32, 582.62it/s]"
     ]
    },
    {
     "name": "stdout",
     "output_type": "stream",
     "text": [
      "\n",
      "Average td error: 0.6272, STD of STD: 3.063292647223867e-05, Average ret: 13.71, Average steps: 2.83, Num_states: 173413\n"
     ]
    },
    {
     "name": "stderr",
     "output_type": "stream",
     "text": [
      "  0%|▏                                                                     | 19109/10000000 [00:47<5:11:55, 533.29it/s]"
     ]
    },
    {
     "name": "stdout",
     "output_type": "stream",
     "text": [
      "\n",
      "Average td error: 0.7079, STD of STD: 4.828556739198805e-05, Average ret: 13.56, Average steps: 2.85, Num_states: 180580\n"
     ]
    },
    {
     "name": "stderr",
     "output_type": "stream",
     "text": [
      "  0%|▏                                                                     | 20107/10000000 [00:49<4:53:17, 567.13it/s]"
     ]
    },
    {
     "name": "stdout",
     "output_type": "stream",
     "text": [
      "\n",
      "Average td error: 0.6347, STD of STD: 2.4922299338054428e-05, Average ret: 13.06, Average steps: 2.93, Num_states: 188057\n"
     ]
    },
    {
     "name": "stderr",
     "output_type": "stream",
     "text": [
      "  0%|▏                                                                     | 21094/10000000 [00:51<4:19:45, 640.25it/s]"
     ]
    },
    {
     "name": "stdout",
     "output_type": "stream",
     "text": [
      "\n",
      "Average td error: 0.6449, STD of STD: 0.0017757830026307135, Average ret: 13.45, Average steps: 2.87, Num_states: 195289\n"
     ]
    },
    {
     "name": "stderr",
     "output_type": "stream",
     "text": [
      "  0%|▏                                                                     | 22049/10000000 [00:52<5:01:11, 552.13it/s]"
     ]
    },
    {
     "name": "stdout",
     "output_type": "stream",
     "text": [
      "\n",
      "Average td error: 0.6818, STD of STD: 5.077417434940384e-05, Average ret: 13.19, Average steps: 2.91, Num_states: 202672\n"
     ]
    },
    {
     "name": "stderr",
     "output_type": "stream",
     "text": [
      "  0%|▏                                                                     | 23088/10000000 [00:54<4:40:18, 593.21it/s]"
     ]
    },
    {
     "name": "stdout",
     "output_type": "stream",
     "text": [
      "\n",
      "Average td error: 0.5685, STD of STD: 2.9416933816377046e-05, Average ret: 15.20, Average steps: 2.61, Num_states: 208869\n"
     ]
    },
    {
     "name": "stderr",
     "output_type": "stream",
     "text": [
      "  0%|▏                                                                     | 24099/10000000 [00:56<5:06:42, 542.10it/s]"
     ]
    },
    {
     "name": "stdout",
     "output_type": "stream",
     "text": [
      "\n",
      "Average td error: 0.6594, STD of STD: 4.175598649099857e-05, Average ret: 13.31, Average steps: 2.89, Num_states: 216182\n"
     ]
    },
    {
     "name": "stderr",
     "output_type": "stream",
     "text": [
      "  0%|▏                                                                     | 25143/10000000 [00:58<4:29:48, 616.16it/s]"
     ]
    },
    {
     "name": "stdout",
     "output_type": "stream",
     "text": [
      "\n",
      "Average td error: 0.6467, STD of STD: 3.748940851026952e-05, Average ret: 14.45, Average steps: 2.72, Num_states: 222800\n"
     ]
    },
    {
     "name": "stderr",
     "output_type": "stream",
     "text": [
      "  0%|▏                                                                     | 26116/10000000 [00:59<4:39:45, 594.21it/s]"
     ]
    },
    {
     "name": "stdout",
     "output_type": "stream",
     "text": [
      "\n",
      "Average td error: 0.7106, STD of STD: 5.134543436917693e-05, Average ret: 14.38, Average steps: 2.73, Num_states: 229487\n"
     ]
    },
    {
     "name": "stderr",
     "output_type": "stream",
     "text": [
      "  0%|▏                                                                     | 27106/10000000 [01:01<4:32:29, 610.00it/s]"
     ]
    },
    {
     "name": "stdout",
     "output_type": "stream",
     "text": [
      "\n",
      "Average td error: 0.6478, STD of STD: 3.266206374215168e-05, Average ret: 14.43, Average steps: 2.72, Num_states: 236156\n"
     ]
    },
    {
     "name": "stderr",
     "output_type": "stream",
     "text": [
      "  0%|▏                                                                     | 28099/10000000 [01:03<4:37:36, 598.69it/s]"
     ]
    },
    {
     "name": "stdout",
     "output_type": "stream",
     "text": [
      "\n",
      "Average td error: 0.6512, STD of STD: 4.5911581195241654e-05, Average ret: 14.34, Average steps: 2.74, Num_states: 242877\n"
     ]
    },
    {
     "name": "stderr",
     "output_type": "stream",
     "text": [
      "  0%|▏                                                                     | 29094/10000000 [01:04<4:53:16, 566.63it/s]"
     ]
    },
    {
     "name": "stdout",
     "output_type": "stream",
     "text": [
      "\n",
      "Average td error: 0.7134, STD of STD: 5.7363913261464506e-05, Average ret: 13.93, Average steps: 2.79, Num_states: 249819\n"
     ]
    },
    {
     "name": "stderr",
     "output_type": "stream",
     "text": [
      "  0%|▏                                                                     | 30070/10000000 [01:06<6:07:17, 452.41it/s]"
     ]
    },
    {
     "name": "stdout",
     "output_type": "stream",
     "text": [
      "\n",
      "Average td error: 0.6172, STD of STD: 2.890669539334305e-05, Average ret: 14.63, Average steps: 2.69, Num_states: 256366\n",
      "\n",
      "Average td error: 0.5320, STD of STD: 9.941284391067436e-06, Average ret: 14.93, Average steps: 2.65\n"
     ]
    },
    {
     "name": "stderr",
     "output_type": "stream",
     "text": [
      "\n"
     ]
    }
   ],
   "source": [
    "agent = q_agent(env, env.state_dim, env.action_dim, epsilon=0.05, gamma=1, alpha=0.2, tol=1e-5)\n",
    "q = agent.train(int(1e7))"
   ]
  },
  {
   "cell_type": "markdown",
   "id": "f42b6cff",
   "metadata": {},
   "source": [
    "# Test episode"
   ]
  },
  {
   "cell_type": "code",
   "execution_count": 26,
   "id": "b66d23eb",
   "metadata": {},
   "outputs": [
    {
     "name": "stdout",
     "output_type": "stream",
     "text": [
      "4\n"
     ]
    }
   ],
   "source": [
    "state = env.reset()\n",
    "step = 0\n",
    "\n",
    "agent.epsilon = 0\n",
    "\n",
    "while True:\n",
    "    \n",
    "    state, _, done, _ = env.step(agent.choose_action(tuple(state)))\n",
    "    step += 1\n",
    "    \n",
    "    if done: break\n",
    "        \n",
    "print(step)"
   ]
  }
 ],
 "metadata": {
  "kernelspec": {
   "display_name": "Python 3 (ipykernel)",
   "language": "python",
   "name": "python3"
  },
  "language_info": {
   "codemirror_mode": {
    "name": "ipython",
    "version": 3
   },
   "file_extension": ".py",
   "mimetype": "text/x-python",
   "name": "python",
   "nbconvert_exporter": "python",
   "pygments_lexer": "ipython3",
   "version": "3.9.7"
  }
 },
 "nbformat": 4,
 "nbformat_minor": 5
}
