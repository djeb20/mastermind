{
 "cells": [
  {
   "cell_type": "code",
   "execution_count": 1,
   "id": "ef5da553",
   "metadata": {},
   "outputs": [],
   "source": [
    "import numpy as np\n",
    "from mastermind import mastermind\n",
    "from q_agent import q_agent\n",
    "\n",
    "env = mastermind()"
   ]
  },
  {
   "cell_type": "code",
   "execution_count": 2,
   "id": "32ea337e",
   "metadata": {},
   "outputs": [
    {
     "name": "stdout",
     "output_type": "stream",
     "text": [
      "[['0' ' ' ' ' ' ' ' ' '0']\n",
      " ['0' ' ' ' ' ' ' ' ' '0']\n",
      " ['0' ' ' ' ' ' ' ' ' '0']\n",
      " ['0' ' ' ' ' ' ' ' ' '0']\n",
      " ['0' ' ' ' ' ' ' ' ' '0']\n",
      " ['0' ' ' ' ' ' ' ' ' '0']\n",
      " ['0' ' ' ' ' ' ' ' ' '0']\n",
      " ['0' ' ' ' ' ' ' ' ' '0']\n",
      " ['0' ' ' ' ' ' ' ' ' '0']\n",
      " ['0' ' ' ' ' ' ' ' ' '0']\n",
      " ['0' ' ' ' ' ' ' ' ' '0']\n",
      " ['0' ' ' ' ' ' ' ' ' '0']]\n"
     ]
    }
   ],
   "source": [
    "env.reset()\n",
    "env.render()"
   ]
  },
  {
   "cell_type": "code",
   "execution_count": 3,
   "id": "919bc53a",
   "metadata": {},
   "outputs": [
    {
     "name": "stdout",
     "output_type": "stream",
     "text": [
      "['B' 'O' 'B' 'K']\n",
      "\n",
      "(array([0, 5, 0, 0, 0, 0, 0, 0, 0, 0, 0, 0, 0, 0, 0, 0, 0, 0, 0, 0, 0, 0,\n",
      "       0, 0, 0, 0, 0, 0, 0, 0, 0, 0, 0, 0, 0, 0, 0, 0, 0, 0, 0, 0, 0, 0,\n",
      "       0, 0, 0, 0, 0, 0, 0, 0, 0, 0, 0, 0, 0, 0, 0, 0, 0, 0, 0, 0, 0, 0,\n",
      "       0, 0, 0, 0, 0, 0]), -1, False, False)\n",
      "\n",
      "(array([0, 5, 2, 0, 0, 0, 0, 0, 0, 0, 0, 0, 0, 0, 0, 0, 0, 0, 0, 0, 0, 0,\n",
      "       0, 0, 0, 0, 0, 0, 0, 0, 0, 0, 0, 0, 0, 0, 0, 0, 0, 0, 0, 0, 0, 0,\n",
      "       0, 0, 0, 0, 0, 0, 0, 0, 0, 0, 0, 0, 0, 0, 0, 0, 0, 0, 0, 0, 0, 0,\n",
      "       0, 0, 0, 0, 0, 0]), -1, False, False)\n",
      "\n",
      "(array([0, 5, 2, 2, 0, 0, 0, 0, 0, 0, 0, 0, 0, 0, 0, 0, 0, 0, 0, 0, 0, 0,\n",
      "       0, 0, 0, 0, 0, 0, 0, 0, 0, 0, 0, 0, 0, 0, 0, 0, 0, 0, 0, 0, 0, 0,\n",
      "       0, 0, 0, 0, 0, 0, 0, 0, 0, 0, 0, 0, 0, 0, 0, 0, 0, 0, 0, 0, 0, 0,\n",
      "       0, 0, 0, 0, 0, 0]), -1, False, False)\n",
      "\n",
      "(array([1, 5, 2, 2, 8, 0, 0, 0, 0, 0, 0, 0, 0, 0, 0, 0, 0, 0, 0, 0, 0, 0,\n",
      "       0, 0, 0, 0, 0, 0, 0, 0, 0, 0, 0, 0, 0, 0, 0, 0, 0, 0, 0, 0, 0, 0,\n",
      "       0, 0, 0, 0, 0, 0, 0, 0, 0, 0, 0, 0, 0, 0, 0, 0, 0, 0, 0, 0, 0, 0,\n",
      "       0, 0, 0, 0, 0, 0]), -1, False, False)\n",
      "\n",
      "[['0' ' ' ' ' ' ' ' ' '0']\n",
      " ['0' ' ' ' ' ' ' ' ' '0']\n",
      " ['0' ' ' ' ' ' ' ' ' '0']\n",
      " ['0' ' ' ' ' ' ' ' ' '0']\n",
      " ['0' ' ' ' ' ' ' ' ' '0']\n",
      " ['0' ' ' ' ' ' ' ' ' '0']\n",
      " ['0' ' ' ' ' ' ' ' ' '0']\n",
      " ['0' ' ' ' ' ' ' ' ' '0']\n",
      " ['0' ' ' ' ' ' ' ' ' '0']\n",
      " ['0' ' ' ' ' ' ' ' ' '0']\n",
      " ['0' ' ' ' ' ' ' ' ' '0']\n",
      " ['1' 'W' 'P' 'P' 'Y' '0']]\n",
      "\n"
     ]
    }
   ],
   "source": [
    "env = mastermind()\n",
    "env.reset()\n",
    "\n",
    "print(env.goal_render)\n",
    "print()\n",
    "\n",
    "for i in np.random.randint(0, 8, 4):\n",
    "\n",
    "    print(env.step(i))\n",
    "    print()\n",
    "\n",
    "env.render()\n",
    "print()"
   ]
  },
  {
   "cell_type": "markdown",
   "id": "0a0baf2e",
   "metadata": {},
   "source": [
    "# Training"
   ]
  },
  {
   "cell_type": "code",
   "execution_count": 4,
   "id": "6cbf4467",
   "metadata": {},
   "outputs": [
    {
     "name": "stderr",
     "output_type": "stream",
     "text": [
      "  0%|                                                                                     | 0/10000000 [00:00<?, ?it/s]C:\\Users\\Dan\\anaconda3\\lib\\site-packages\\numpy\\core\\_methods.py:229: RuntimeWarning: invalid value encountered in subtract\n",
      "  x = asanyarray(arr - arrmean)\n",
      "  0%|                                                                        | 14/10000000 [00:00<22:05:16, 125.76it/s]"
     ]
    },
    {
     "name": "stdout",
     "output_type": "stream",
     "text": [
      "\n",
      "Average td error: 1.0000, STD of STD: nan, Average ret: -48.00, Average steps: 12.00, Num_states: 48\n"
     ]
    },
    {
     "name": "stderr",
     "output_type": "stream",
     "text": [
      "  0%|                                                                      | 1020/10000000 [00:09<24:57:57, 111.25it/s]"
     ]
    },
    {
     "name": "stdout",
     "output_type": "stream",
     "text": [
      "\n",
      "Average td error: 0.9577, STD of STD: 4.05249402691488e-05, Average ret: -47.93, Average steps: 11.99, Num_states: 44585\n"
     ]
    },
    {
     "name": "stderr",
     "output_type": "stream",
     "text": [
      "  0%|                                                                      | 2027/10000000 [00:15<16:36:27, 167.22it/s]"
     ]
    },
    {
     "name": "stdout",
     "output_type": "stream",
     "text": [
      "\n",
      "Average td error: 0.9510, STD of STD: 2.1168582323758686e-05, Average ret: -47.95, Average steps: 11.99, Num_states: 88543\n"
     ]
    },
    {
     "name": "stderr",
     "output_type": "stream",
     "text": [
      "  0%|                                                                      | 2468/10000000 [00:18<20:28:16, 135.66it/s]\n"
     ]
    },
    {
     "name": "stdout",
     "output_type": "stream",
     "text": [
      "\n",
      "Average td error: 0.9490, STD of STD: 9.997109009096306e-06, Average ret: -48.00, Average steps: 12.00\n"
     ]
    }
   ],
   "source": [
    "agent = q_agent(env, env.state_dim, env.action_dim, epsilon=0.05, gamma=1, alpha=0.2, tol=1e-5)\n",
    "q = agent.train(int(1e7))"
   ]
  },
  {
   "cell_type": "code",
   "execution_count": 5,
   "id": "54fbf686",
   "metadata": {},
   "outputs": [
    {
     "data": {
      "text/plain": [
       "array(['B', 'O', 'B', 'K'], dtype='<U1')"
      ]
     },
     "execution_count": 5,
     "metadata": {},
     "output_type": "execute_result"
    }
   ],
   "source": [
    "env.goal_render"
   ]
  },
  {
   "cell_type": "markdown",
   "id": "f42b6cff",
   "metadata": {},
   "source": [
    "# Test episode"
   ]
  },
  {
   "cell_type": "code",
   "execution_count": 6,
   "id": "b66d23eb",
   "metadata": {},
   "outputs": [
    {
     "name": "stdout",
     "output_type": "stream",
     "text": [
      "[['0' 'R' 'P' 'G' 'G' '1']\n",
      " ['1' 'R' 'K' 'W' 'K' '0']\n",
      " ['1' 'O' 'B' 'W' 'R' '1']\n",
      " ['0' 'K' 'K' 'P' 'R' '0']\n",
      " ['1' 'B' 'W' 'B' 'O' '1']\n",
      " ['1' 'Y' 'W' 'G' 'R' '1']\n",
      " ['0' 'W' 'W' 'Y' 'W' '1']\n",
      " ['0' 'B' 'Y' 'K' 'P' '0']\n",
      " ['0' 'B' 'B' 'O' 'R' '1']\n",
      " ['2' 'K' 'O' 'B' 'O' '0']\n",
      " ['0' 'K' 'P' 'K' 'P' '0']\n",
      " ['0' 'P' 'B' 'B' 'Y' '0']]\n"
     ]
    }
   ],
   "source": [
    "state = env.reset()\n",
    "step = 0\n",
    "\n",
    "agent.epsilon = 0\n",
    "\n",
    "while True:\n",
    "    \n",
    "    state, _, done, _ = env.step(agent.choose_action(tuple(state)))\n",
    "    step += 1\n",
    "    \n",
    "    if done: break\n",
    "        \n",
    "env.render()"
   ]
  }
 ],
 "metadata": {
  "kernelspec": {
   "display_name": "Python 3 (ipykernel)",
   "language": "python",
   "name": "python3"
  },
  "language_info": {
   "codemirror_mode": {
    "name": "ipython",
    "version": 3
   },
   "file_extension": ".py",
   "mimetype": "text/x-python",
   "name": "python",
   "nbconvert_exporter": "python",
   "pygments_lexer": "ipython3",
   "version": "3.9.7"
  }
 },
 "nbformat": 4,
 "nbformat_minor": 5
}
