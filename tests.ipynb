{
 "cells": [
  {
   "cell_type": "code",
   "execution_count": null,
   "id": "ef5da553",
   "metadata": {},
   "outputs": [],
   "source": [
    "import numpy as np\n",
    "from mastermind import mastermind\n",
    "from q_agent import q_agent"
   ]
  },
  {
   "cell_type": "code",
   "execution_count": null,
   "id": "32ea337e",
   "metadata": {},
   "outputs": [],
   "source": [
    "env = mastermind('guess')\n",
    "env.reset()\n",
    "env.render()"
   ]
  },
  {
   "cell_type": "code",
   "execution_count": null,
   "id": "919bc53a",
   "metadata": {
    "scrolled": true
   },
   "outputs": [],
   "source": [
    "print(env.goal_render)\n",
    "print()\n",
    "\n",
    "guess = np.random.randint(0, 8, 4)\n",
    "\n",
    "env.step(800)\n",
    "\n",
    "# for i in guess:\n",
    "\n",
    "#     env.step(i)\n",
    "    \n",
    "env.render()\n",
    "print()"
   ]
  },
  {
   "cell_type": "markdown",
   "id": "0a0baf2e",
   "metadata": {},
   "source": [
    "# Training"
   ]
  },
  {
   "cell_type": "code",
   "execution_count": null,
   "id": "6cbf4467",
   "metadata": {},
   "outputs": [],
   "source": [
    "# action_type, 'guess': take an entire guess, 'peg': choose the colour of the next peg\n",
    "# goal_type, 'fixed': keep the same goal each episode, 'change': change the goal each episode\n",
    "# reward_struc, 'basic': -1 a step and +30 for finishing, 'clues': get rewarded for the clues\n",
    "\n",
    "env = mastermind(action_type='peg', goal_type='change', reward_struc='basic')\n",
    "env.reset()\n",
    "env.render()\n",
    "\n",
    "agent = q_agent(env, env.state_dim, env.action_dim, epsilon=0.05, gamma=1, alpha=0.2, tol=1e-7)\n",
    "q = agent.train(int(1e7))"
   ]
  },
  {
   "cell_type": "code",
   "execution_count": null,
   "id": "54fbf686",
   "metadata": {},
   "outputs": [],
   "source": [
    "env.goal_render"
   ]
  },
  {
   "cell_type": "markdown",
   "id": "f42b6cff",
   "metadata": {},
   "source": [
    "# Test episode"
   ]
  },
  {
   "cell_type": "code",
   "execution_count": null,
   "id": "b66d23eb",
   "metadata": {},
   "outputs": [],
   "source": [
    "state = env.reset()\n",
    "step = 0\n",
    "\n",
    "agent.epsilon = 0\n",
    "\n",
    "while True:\n",
    "    \n",
    "    state, _, done, _ = env.step(agent.choose_action(tuple(state)))\n",
    "    step += 1\n",
    "    \n",
    "    if done: break\n",
    "        \n",
    "env.render()"
   ]
  }
 ],
 "metadata": {
  "kernelspec": {
   "display_name": "Python 3 (ipykernel)",
   "language": "python",
   "name": "python3"
  },
  "language_info": {
   "codemirror_mode": {
    "name": "ipython",
    "version": 3
   },
   "file_extension": ".py",
   "mimetype": "text/x-python",
   "name": "python",
   "nbconvert_exporter": "python",
   "pygments_lexer": "ipython3",
   "version": "3.9.12"
  }
 },
 "nbformat": 4,
 "nbformat_minor": 5
}
